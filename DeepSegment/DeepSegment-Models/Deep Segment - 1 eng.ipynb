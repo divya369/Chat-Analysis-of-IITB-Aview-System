{
 "cells": [
  {
   "cell_type": "code",
   "execution_count": 1,
   "metadata": {},
   "outputs": [
    {
     "name": "stdout",
     "output_type": "stream",
     "text": [
      "/bin/sh: myenv/bin/activate: No such file or directory\r\n"
     ]
    }
   ],
   "source": [
    "!source myenv/bin/activate"
   ]
  },
  {
   "cell_type": "code",
   "execution_count": 2,
   "metadata": {},
   "outputs": [
    {
     "name": "stdout",
     "output_type": "stream",
     "text": [
      "Requirement already satisfied: deepsegment in /Library/Frameworks/Python.framework/Versions/3.7/lib/python3.7/site-packages (1.0.2)\r\n",
      "Requirement already satisfied: seqtag in /Library/Frameworks/Python.framework/Versions/3.7/lib/python3.7/site-packages (from deepsegment) (1.0.8)\r\n",
      "Requirement already satisfied: numpy in /Library/Frameworks/Python.framework/Versions/3.7/lib/python3.7/site-packages (from seqtag->deepsegment) (1.16.4)\r\n"
     ]
    }
   ],
   "source": [
    "!pip3 install deepsegment"
   ]
  },
  {
   "cell_type": "code",
   "execution_count": 3,
   "metadata": {},
   "outputs": [
    {
     "name": "stdout",
     "output_type": "stream",
     "text": [
      "Requirement already satisfied: tensorflow in /Library/Frameworks/Python.framework/Versions/3.7/lib/python3.7/site-packages (1.13.1)\n",
      "Requirement already satisfied: six>=1.10.0 in /Library/Frameworks/Python.framework/Versions/3.7/lib/python3.7/site-packages (from tensorflow) (1.12.0)\n",
      "Requirement already satisfied: absl-py>=0.1.6 in /Library/Frameworks/Python.framework/Versions/3.7/lib/python3.7/site-packages (from tensorflow) (0.7.1)\n",
      "Requirement already satisfied: astor>=0.6.0 in /Library/Frameworks/Python.framework/Versions/3.7/lib/python3.7/site-packages (from tensorflow) (0.8.0)\n",
      "Requirement already satisfied: wheel>=0.26 in /Library/Frameworks/Python.framework/Versions/3.7/lib/python3.7/site-packages (from tensorflow) (0.33.4)\n",
      "Requirement already satisfied: numpy>=1.13.3 in /Library/Frameworks/Python.framework/Versions/3.7/lib/python3.7/site-packages (from tensorflow) (1.16.4)\n",
      "Requirement already satisfied: termcolor>=1.1.0 in /Library/Frameworks/Python.framework/Versions/3.7/lib/python3.7/site-packages (from tensorflow) (1.1.0)\n",
      "Requirement already satisfied: keras-applications>=1.0.6 in /Library/Frameworks/Python.framework/Versions/3.7/lib/python3.7/site-packages (from tensorflow) (1.0.8)\n",
      "Requirement already satisfied: tensorboard<1.14.0,>=1.13.0 in /Library/Frameworks/Python.framework/Versions/3.7/lib/python3.7/site-packages (from tensorflow) (1.13.1)\n",
      "Requirement already satisfied: grpcio>=1.8.6 in /Library/Frameworks/Python.framework/Versions/3.7/lib/python3.7/site-packages (from tensorflow) (1.21.1)\n",
      "Requirement already satisfied: protobuf>=3.6.1 in /Library/Frameworks/Python.framework/Versions/3.7/lib/python3.7/site-packages (from tensorflow) (3.8.0)\n",
      "Requirement already satisfied: keras-preprocessing>=1.0.5 in /Library/Frameworks/Python.framework/Versions/3.7/lib/python3.7/site-packages (from tensorflow) (1.1.0)\n",
      "Requirement already satisfied: gast>=0.2.0 in /Library/Frameworks/Python.framework/Versions/3.7/lib/python3.7/site-packages (from tensorflow) (0.2.2)\n",
      "Requirement already satisfied: tensorflow-estimator<1.14.0rc0,>=1.13.0 in /Library/Frameworks/Python.framework/Versions/3.7/lib/python3.7/site-packages (from tensorflow) (1.13.0)\n",
      "Requirement already satisfied: h5py in /Library/Frameworks/Python.framework/Versions/3.7/lib/python3.7/site-packages (from keras-applications>=1.0.6->tensorflow) (2.9.0)\n",
      "Requirement already satisfied: markdown>=2.6.8 in /Library/Frameworks/Python.framework/Versions/3.7/lib/python3.7/site-packages (from tensorboard<1.14.0,>=1.13.0->tensorflow) (3.1.1)\n",
      "Requirement already satisfied: werkzeug>=0.11.15 in /Library/Frameworks/Python.framework/Versions/3.7/lib/python3.7/site-packages (from tensorboard<1.14.0,>=1.13.0->tensorflow) (0.15.4)\n",
      "Requirement already satisfied: setuptools in /Library/Frameworks/Python.framework/Versions/3.7/lib/python3.7/site-packages (from protobuf>=3.6.1->tensorflow) (40.8.0)\n",
      "Requirement already satisfied: mock>=2.0.0 in /Library/Frameworks/Python.framework/Versions/3.7/lib/python3.7/site-packages (from tensorflow-estimator<1.14.0rc0,>=1.13.0->tensorflow) (3.0.5)\n"
     ]
    }
   ],
   "source": [
    "!pip3 install tensorflow"
   ]
  },
  {
   "cell_type": "code",
   "execution_count": 4,
   "metadata": {},
   "outputs": [],
   "source": [
    "from deepsegment import DeepSegment"
   ]
  },
  {
   "cell_type": "code",
   "execution_count": 5,
   "metadata": {},
   "outputs": [],
   "source": [
    "with open('1 FDP101x - Face-to-face Session 1 - 2018-03-24.txt') as fhand:\n",
    "    string = fhand.read()"
   ]
  },
  {
   "cell_type": "code",
   "execution_count": 6,
   "metadata": {},
   "outputs": [
    {
     "name": "stdout",
     "output_type": "stream",
     "text": [
      "WARNING:tensorflow:From /Library/Frameworks/Python.framework/Versions/3.7/lib/python3.7/site-packages/tensorflow/python/framework/op_def_library.py:263: colocate_with (from tensorflow.python.framework.ops) is deprecated and will be removed in a future version.\n",
      "Instructions for updating:\n",
      "Colocations handled automatically by placer.\n"
     ]
    },
    {
     "name": "stderr",
     "output_type": "stream",
     "text": [
      "From /Library/Frameworks/Python.framework/Versions/3.7/lib/python3.7/site-packages/tensorflow/python/framework/op_def_library.py:263: colocate_with (from tensorflow.python.framework.ops) is deprecated and will be removed in a future version.\n",
      "Instructions for updating:\n",
      "Colocations handled automatically by placer.\n"
     ]
    },
    {
     "name": "stdout",
     "output_type": "stream",
     "text": [
      "Using char embeddings\n",
      "\n",
      "WARNING: The TensorFlow contrib module will not be included in TensorFlow 2.0.\n",
      "For more information, please see:\n",
      "  * https://github.com/tensorflow/community/blob/master/rfcs/20180907-contrib-sunset.md\n",
      "  * https://github.com/tensorflow/addons\n",
      "If you depend on functionality not listed there, please file an issue.\n",
      "\n",
      "WARNING:tensorflow:From /Library/Frameworks/Python.framework/Versions/3.7/lib/python3.7/site-packages/seqtag/ner_model.py:140: LSTMCell.__init__ (from tensorflow.python.ops.rnn_cell_impl) is deprecated and will be removed in a future version.\n",
      "Instructions for updating:\n",
      "This class is equivalent as tf.keras.layers.LSTMCell, and will be replaced by that in Tensorflow 2.0.\n"
     ]
    },
    {
     "name": "stderr",
     "output_type": "stream",
     "text": [
      "From /Library/Frameworks/Python.framework/Versions/3.7/lib/python3.7/site-packages/seqtag/ner_model.py:140: LSTMCell.__init__ (from tensorflow.python.ops.rnn_cell_impl) is deprecated and will be removed in a future version.\n",
      "Instructions for updating:\n",
      "This class is equivalent as tf.keras.layers.LSTMCell, and will be replaced by that in Tensorflow 2.0.\n"
     ]
    },
    {
     "name": "stdout",
     "output_type": "stream",
     "text": [
      "WARNING:tensorflow:From /Library/Frameworks/Python.framework/Versions/3.7/lib/python3.7/site-packages/seqtag/ner_model.py:145: bidirectional_dynamic_rnn (from tensorflow.python.ops.rnn) is deprecated and will be removed in a future version.\n",
      "Instructions for updating:\n",
      "Please use `keras.layers.Bidirectional(keras.layers.RNN(cell))`, which is equivalent to this API\n"
     ]
    },
    {
     "name": "stderr",
     "output_type": "stream",
     "text": [
      "From /Library/Frameworks/Python.framework/Versions/3.7/lib/python3.7/site-packages/seqtag/ner_model.py:145: bidirectional_dynamic_rnn (from tensorflow.python.ops.rnn) is deprecated and will be removed in a future version.\n",
      "Instructions for updating:\n",
      "Please use `keras.layers.Bidirectional(keras.layers.RNN(cell))`, which is equivalent to this API\n"
     ]
    },
    {
     "name": "stdout",
     "output_type": "stream",
     "text": [
      "WARNING:tensorflow:From /Library/Frameworks/Python.framework/Versions/3.7/lib/python3.7/site-packages/tensorflow/python/ops/rnn.py:443: dynamic_rnn (from tensorflow.python.ops.rnn) is deprecated and will be removed in a future version.\n",
      "Instructions for updating:\n",
      "Please use `keras.layers.RNN(cell)`, which is equivalent to this API\n"
     ]
    },
    {
     "name": "stderr",
     "output_type": "stream",
     "text": [
      "From /Library/Frameworks/Python.framework/Versions/3.7/lib/python3.7/site-packages/tensorflow/python/ops/rnn.py:443: dynamic_rnn (from tensorflow.python.ops.rnn) is deprecated and will be removed in a future version.\n",
      "Instructions for updating:\n",
      "Please use `keras.layers.RNN(cell)`, which is equivalent to this API\n"
     ]
    },
    {
     "name": "stdout",
     "output_type": "stream",
     "text": [
      "WARNING:tensorflow:From /Library/Frameworks/Python.framework/Versions/3.7/lib/python3.7/site-packages/tensorflow/python/ops/rnn.py:626: to_int32 (from tensorflow.python.ops.math_ops) is deprecated and will be removed in a future version.\n",
      "Instructions for updating:\n",
      "Use tf.cast instead.\n"
     ]
    },
    {
     "name": "stderr",
     "output_type": "stream",
     "text": [
      "From /Library/Frameworks/Python.framework/Versions/3.7/lib/python3.7/site-packages/tensorflow/python/ops/rnn.py:626: to_int32 (from tensorflow.python.ops.math_ops) is deprecated and will be removed in a future version.\n",
      "Instructions for updating:\n",
      "Use tf.cast instead.\n"
     ]
    },
    {
     "name": "stdout",
     "output_type": "stream",
     "text": [
      "WARNING:tensorflow:From /Library/Frameworks/Python.framework/Versions/3.7/lib/python3.7/site-packages/seqtag/ner_model.py:156: calling dropout (from tensorflow.python.ops.nn_ops) with keep_prob is deprecated and will be removed in a future version.\n",
      "Instructions for updating:\n",
      "Please use `rate` instead of `keep_prob`. Rate should be set to `rate = 1 - keep_prob`.\n"
     ]
    },
    {
     "name": "stderr",
     "output_type": "stream",
     "text": [
      "From /Library/Frameworks/Python.framework/Versions/3.7/lib/python3.7/site-packages/seqtag/ner_model.py:156: calling dropout (from tensorflow.python.ops.nn_ops) with keep_prob is deprecated and will be removed in a future version.\n",
      "Instructions for updating:\n",
      "Please use `rate` instead of `keep_prob`. Rate should be set to `rate = 1 - keep_prob`.\n",
      "/Library/Frameworks/Python.framework/Versions/3.7/lib/python3.7/site-packages/tensorflow/python/ops/gradients_impl.py:110: UserWarning: Converting sparse IndexedSlices to a dense Tensor of unknown shape. This may consume a large amount of memory.\n",
      "  \"Converting sparse IndexedSlices to a dense Tensor of unknown shape. \"\n",
      "Initializing tf session\n",
      "Reloading the latest trained model...\n"
     ]
    },
    {
     "name": "stdout",
     "output_type": "stream",
     "text": [
      "WARNING:tensorflow:From /Library/Frameworks/Python.framework/Versions/3.7/lib/python3.7/site-packages/tensorflow/python/training/saver.py:1266: checkpoint_exists (from tensorflow.python.training.checkpoint_management) is deprecated and will be removed in a future version.\n",
      "Instructions for updating:\n",
      "Use standard file APIs to check for files with this prefix.\n"
     ]
    },
    {
     "name": "stderr",
     "output_type": "stream",
     "text": [
      "From /Library/Frameworks/Python.framework/Versions/3.7/lib/python3.7/site-packages/tensorflow/python/training/saver.py:1266: checkpoint_exists (from tensorflow.python.training.checkpoint_management) is deprecated and will be removed in a future version.\n",
      "Instructions for updating:\n",
      "Use standard file APIs to check for files with this prefix.\n"
     ]
    },
    {
     "name": "stdout",
     "output_type": "stream",
     "text": [
      "INFO:tensorflow:Restoring parameters from deepsegment_eng_v1/deepsegment_eng_v1/model.weights/\n"
     ]
    },
    {
     "name": "stderr",
     "output_type": "stream",
     "text": [
      "Restoring parameters from deepsegment_eng_v1/deepsegment_eng_v1/model.weights/\n"
     ]
    },
    {
     "name": "stdout",
     "output_type": "stream",
     "text": [
      "Completed loading the model\n"
     ]
    }
   ],
   "source": [
    "segmenter = DeepSegment('deepsegment_eng_v1/config.json')"
   ]
  },
  {
   "cell_type": "code",
   "execution_count": 7,
   "metadata": {},
   "outputs": [
    {
     "data": {
      "text/plain": [
       "['and therefore we could afford to conduct a two day orientation workshop workshop for web in addition they were all felicitated by none other than the chairman necessity who personally flew down from delhi',\n",
       " 'we dress them',\n",
       " 'most of them have contributed to further improvement of the safety by being associate faculty by mentoring a group of teachers will continue this and we will seek assistance from those of you who actually do very well and show an inclination to contribute further by becoming mentors in the future a stupid needless to add i to bombay has decided that these to every piece namely the foundation program in use of high city for effective education and the pedagogy for online and blended teaching learning processes',\n",
       " 'we believe these two factors development programs are very critical for all teachers to imbibe not just the professional college teaches i would say not just the higher education sector teachers trump science arts commerce but in fact teachers of any kind enju including teachers who essentially dole out vocational training even those people need to understand how to more effectively use technology so it is in this endeavour that we seek the cooperation and collaboration of all teachers across the country',\n",
       " 'i am very happy that this time again when we have no funding although we have managed to find funds for the itee bombay part of the activities and therefore there is no fee that is being charged participants are still required to pay a sum to the remote centers which facilitate their face to face sessions as such as the one today in these face to face sessions apart from interacting with the faculty members at eighty bombay',\n",
       " 'you will have an extremely important opportunity to interact with thirty forty fifty colleagues viewers coming from different institutions who will assemble at each remote said as you may be aware we are plan specific activities that need to be undertaken by such groups in the respective remote centers where they assemble and those activities will contribute significantly not only to your learning but also towards the assessment of how you achieve your fitness certification so please take these activities very seriously my colleague jackie o sorry i should say jack christian who is the spirit behind the conduct of the series of these every piece in fact the design is personally spending a lot of time in ensuring that maximum benefits will accrue to you but please remember such benefits will accrue only if you yourself work hard working hard is required in two dimensions number one the online activities which are required to complete every week they need to be completed is remember that the online activities will rig demand about four to six to eight hours of work per week the advantage of online activities',\n",
       " 'you can choose these six eight hours at any point and tie as per your convenience',\n",
       " 'you can do it on sunday night',\n",
       " 'you can do it monday',\n",
       " 'during lunch',\n",
       " 'time can do it on friday evening',\n",
       " 'absolutely any time that is convenient to you you can choose and complete those online but remember that every online activity for a week ends with an assessment and when we are all learning something new where all students and therefore like good students but rather to the last dates please note that eighty bombay is a stickler for the processes and rules the dates of the submission once and now we generally do not change at all and please note that your overall performance towards certification will require counting of the scores of individual assessments that are carried out during the week in addition to submissions that will be required to meet all of these are announced as part of the grading policy and there may be further elaboration interaction when you interact with the oppressed jacked so to conclude the first part of my address i would say welcome to this exciting part and welcome to a fraternity of those few who are now better empowered to use technology more effective having said this now let me address one of the major issues which we had not emphasize to a very large extent earlier on the face of it is an extremely simple issue',\n",
       " 'issue is about deep what we mean by me if people see what is there in a name each one of us has a name given by our parents',\n",
       " 'each field of study is a name chemical enjoy electrical engineering computer science commerce accounte',\n",
       " 'what do these themes can wait for us',\n",
       " 'all these names have a special meaning which is understood because the standardization and vigour agreement between different people that this is what will be met by a name when it comes to technology there are many places where we have to choose any i will begin with an example of a file name',\n",
       " 'all of your familiar with computer fights',\n",
       " 'fights are given different name for example a file which contains instructions for you to do different activities might be given a name instructions',\n",
       " 'dot we deaf alof your familiar with the dot convention',\n",
       " 'write a name then you write a dot and then you write what is called an extension',\n",
       " 'a pedia is a format which is almost a standard worldwide studied in which documents are said youd be familiar with several standard extensions which are typically used in the terminology of technology',\n",
       " 'it is very important to understand the significance because when you are required to upload content or when you are trying to weave any connected the software that you will use will have to correspond to the file type and that type is almost always determined by what we call the extension',\n",
       " 'many of you be familiar with standard exchanges for example dot',\n",
       " 'da is the extension for a file containing text in what is known as the microsoft word format',\n",
       " 'are you sure you know all possible standardized extensions',\n",
       " 'perhaps not even i dont do',\n",
       " 'we know where to find the list of standard extensions',\n",
       " 'those of you have not tried that may try this',\n",
       " 'the simple answer is yes',\n",
       " 'wikipedia wikipedia is a source of immense amount of information and to become knowledgeable in these aspects you to constantly search and read the relevant articles from wikipedia so please go and search on standardized extensions are just file extensions',\n",
       " 'you may choose any terminology for searching but you will eventually get on to an article which describes more than six hundreds standard exchange not all of them are required and were most certainly not expected to remember all of them but the major file formats which are typically used for educational purposes must be understood by us like that its time for a rest email five dot jpg for an image file dot pedi',\n",
       " 'if as i already mentioned not dock as already mentioned some of these formats and some of the nomenclature for the extinction determining the format of data in that file must be easily remembered by most of us whenever we are trying to use icity for effective education i spoke about the extension but there is a name of a file which were to choose and give whenever we create a file we send files as attachments this could be text files or dirty ext extinction as is the standard nomenclature or this could be image files',\n",
       " 'this could be photographed',\n",
       " 'i this could be video file',\n",
       " 'they remember the video file extension',\n",
       " 'those of you played videos will know that typically the videos will end with dot ebefore okay which is one of the standard formats for video file but anyway i digress',\n",
       " 'i come back the first part of the name',\n",
       " 'which is the actual name that is given to the far',\n",
       " 'do we choose an arbitrary name',\n",
       " 'it is not uncommon to find names like one to three faa dot da',\n",
       " 'what does that team can beat was absolutely nothing',\n",
       " 'would we lie our own names to be like that',\n",
       " 'judges judged for that',\n",
       " 'what would it mean to you',\n",
       " 'deepak fatigue is a better name because deepak the worthy pack has a meaning in indian in the land armor at hiland similarly',\n",
       " 'whenever we decide to choose a filename we shall apply your mind to say that the file name that we choose reflects at least some information or some indication of what that file contains unfortunately this is not done this appears to be very simple thing and that is because most of us do not create many flies in general and those of us who do create files occasionally often use tools which automatically gives some default theme to the fight and we forget that this name will not can be anything to people who actually are going to use this form',\n",
       " 'i give a simple example',\n",
       " 'we are all familiar with scanning of documents so you do you scan documents using a scanner',\n",
       " 'there is usually a scanning utility which comes along with every scanner these days printers their laser printers offer burke scanners as well and it is common to scan a handwritten pages or site pages or signed documents or any document and create a scant five but what happens in very evaluate many of you who have actually done some scanning will know that these scanning utilities will automatically give a default name to the file so scared they will surely ask you in what format you want to save the information typical information saving can be done either in bitmap files are in jpg files or in one of the standard other formats jpg or jpeg is a very well known standard for storing scanned images just as it is a well known standard for storing digital photographs',\n",
       " 'i came back to scanning whenever you scan a document',\n",
       " 'the utility will automatically ask you whether you want to save that file of course you want to save that file so it will say',\n",
       " 'where do you want to save you will save it in something called a folder or a directory on the computer',\n",
       " 'i came back to the folders and directories later but jones finally there is a default directory or a default folder which is associated with the utility that you do what is more important is when you want to say where the scanning utility will automatically give a default name to the fire so for example if users save my file as jpg jpeg file so it will create a name called scan zero zero one dot jpg is good enough',\n",
       " 'please note that no computer can save a file without a name in extinction and therefore the name and extension is to be given buyers but if we dont give utilities will create their own default where often in a hurry we want to scan that page attach that file to a message to an email and send it to someone you are somebody in delhi or calcutta somewhere is waiting for the dog soldiers save that a scan zerozero watchdog jpg attached to email and send data unfortunately the receiver in kolkata will be receiving many such message imagine that that receiver has us above five hundred people to scan a specific kind of document giving information about themselves',\n",
       " 'they say there are five wounded candidates and all these candidates are uploading their assigned biodata by scaring',\n",
       " 'you are the one sitting in kolkata',\n",
       " 'how would you lie if you get five hundred emails each one containing a file called scan zero zero one dog jpg it would make any sense and your life would become miserable',\n",
       " 'what is the solution',\n",
       " 'the solution is for example',\n",
       " 'if i am scanning my signed bio data and trying to send that file to summer i should at least then that file as debbie phatak underscore biodata dot jpg the that this name convey or more to any reader',\n",
       " 'this is why i say what is there a name as the right answer everything is there in the name has to be chosen very carefully for every file that you store whether you will remember such odd combination of names like can zero zero one and what do they represent is a different thing but others with whom you share that information with whom you share that i will not be able to understand automatic',\n",
       " 'it is not always that you can put every relevant information about the content of a file in a single day as i said if i am scanning my biodata i can say debbie fortin underscore bio data now that convey some information but does it convey',\n",
       " 'this bio data refers to which date in time for example',\n",
       " 'if i submit a bio dita today ten years later again i have to submit my biodata and that file is again name debi further underscore by rita dot have jetpack or dot pedia whatever would people who have both these five sbe able to distinguish between which is an earlier file which is a later',\n",
       " 'perhaps we could put a date or a year for example debbie fatigue fatigue underscore by rita underscore march two thousand deity will probably convey that the file was created in march two thousand native so most likely the bioreactor that the file contains in turn is up to date that unfortunately there are too many pieces of information which have to be associated with any content whether is a document whether it is a picture whether its a movie clip or whatever and whatever you do you can never write her thing our name which contains all relevant information about so far we have therefore a serious pub or do we do to ensure that the relevant information about the content which are there inside that file is available in some form preferably in a standardized form',\n",
       " 'unfortunately there is no mechanism there is no standardization for the names that you use for the fire',\n",
       " 'although the extension may be standard we need to you all therefore some standardization of names that we use at least in our local animal so if i am going to ask my students to submit some assignment online then i must invariably give a nomenclature pattern to be used by all students so that not only the filename conveys that this is a site meant to be submitted in april to thousand team but it also tells me about the roll number or name of that student if they stood belongs to a particular laboratory batch in the batch number etc you will find that in most of the submissions that you have to make in this course such nomenclature standardization will be given time will tell you please prepare a figh appeared a file or whatever file and ensure that the name of that file is like this these days it should contain this',\n",
       " 'it should contain this',\n",
       " 'it should can tell you now understand why we insist on such a thing because we have more than three thousand participants in this course and if all three thousand participants upload a file called assignment one dot pda you can see the problems that our teaching assistants would have and you can see the problem that you will have if you get exactly such submissions from your stools late so please not only spend some time in understanding how such nomenclature can be given but ensure that in all your assignments where you ask your students in future to summit anything online such instructions are clearly given',\n",
       " 'i was telling you about the fact that independent how cleverly we decide on the name of a file it is impossible to reflect every relevant information about the content of that file in that name',\n",
       " 'let me give an example last year',\n",
       " 'we were creating a site for eminent personalities',\n",
       " 'this was part of a project under the national virtual library of india mission that we are engaged them jointly with scidac enigma',\n",
       " 'we are creating a very very large cloud in which all the digital assets representing the knowledge and cultural heritage information about the country will be accumulated over the coming years',\n",
       " 'we have created a cloud with a storage capacity usable storage capacity of greater than three petabytes',\n",
       " 'petabyte is another thing i do not know how many of your familiar with the terminology used to describe the storage you prolly all know that the files have a size associated with them and typically wherever you look at a directory you will see the file names you see other information like when the file was created',\n",
       " 'whatever but you also see the size of the five typically it is given in kilobytes or megabyte for example a digital photograph is typically two to fe four megabytes large in contain a high quality high resolution photograph of course when you want to send such photographs as attach better your file you would like to have a slightly reduced pill pillow so you like to have the size of your image file in kilobytes',\n",
       " 'there are tools which will do that',\n",
       " 'the point is that the size of a file determines',\n",
       " 'what is the payload that gets attached for emails and what is the amount of storage that will require so let us imagine that you have a four megabyte a typical size of an image file',\n",
       " 'if you want to store such thousand images in your desk youll require how much four thousand megabytes a thousand megabytes is known as a gigabyte thousand gigabytes known as a terror by these terms are important because typically the dish size that is available with normal desktops',\n",
       " 'today is one terabyte class when i started working with the artist for the first type the main frame computer nineteen seventy four',\n",
       " 'we had a russian machine garlicy ten thirty when a very large days it was a removable district could take the disc out and put another days',\n",
       " 'the cost of the disk drive was five lakh rupees',\n",
       " 'the cost of the hard disk was fifty thousand rupees at do you know the capacity of that hard disk',\n",
       " 'it was seven point two five megabytes image a seven point to five megabytes that this could not contain even two digital photographs of today when clicked from your mobile or any camera we have traveled so much in the technology advancement and in its affordability that what used to cost fifty thousand rupees or it is with seven one to five megabytes capacity you can get multiple multi terabyte disks in that amount today and they all can be connected with your laptop or with your standard ever you call the web desktop and you therefore feel that youre not sort of story',\n",
       " 'the unfortunate property of any story days is that it fills up eventually it is just like work expands to fill up available type data expands to fill up available space so even terabytes is perhaps not good enough thousand terabytes make one petaybee and the cloud that were created is of three petabytes storage capacity',\n",
       " 'we believe that when we use it for putting all the digital assets we will have enough storage to at least capture the essential critically important and useful cultural information and knowledge information',\n",
       " 'let me come back to the point that i was making that even though i chose the name of a file very carefully it is impossible to indicate all the relevant information about what is there inside that she was telling you about this example when we created the eminent personalities and as an example we were asked to create a site for sardar patel all of us know sardar patel we needed data when we designed the site we needed data so we decided that we will include every available information about sardar from various sources',\n",
       " 'we got photograph',\n",
       " 'we got images',\n",
       " 'we got video clips record audio clips',\n",
       " 'we got newspaper clippings but as i was telling you when we saw the newspaper clippings that were given to us by a southern museum which hosts all these data which had all these data and somebody when they gave us the days we suddenly discovered that in different directories that file files called scared three hundred and fourteen every dog jpg scan three hundred and forty four door jpg some joker serially scared all the newspaper clippings and put those names as can refer three scan therefore we could not even understand whether the what the contents were a newspaper clipping whether content was a photograph whether content was something else and where no clue whether sardar patel appeared in any one of those documents and if dead if he indeed did then in what capacity was there a document containing sardar patel one handwritten letter or was there a document which mentions sardar patel attending a meeting with some maharaj of some state we had no clue what we are to do where to open each file',\n",
       " 'i had large tea which actually read the entire document or saw the image or photograph that was given and deciphered from that photograph or deciphered from the write up that was there the newspaper clipping as to what it was all about and how did it connect to the great serpent such information that you need to extract to tell anybody about what other contents in a file is called meta data for that form the method it off that i could have a large number of weeks fortunetly',\n",
       " 'there is a standardization about such meta data that must be included the best standardization that you may be partly familiar with because it was there even before i city came into be is the bibliographic standards you could see library library as a book',\n",
       " 'you will see that book in a rack and that book will you will notice does eyes be a number',\n",
       " 'it has an accession number which is given by the local library and we are very happy because that accession number is used wherever the book is issued to you you take that book after you read you give it back at the same accession number will be used to return the book you believe therefore that the accession number is probably the only information that is relevant and perhaps the digital record that this book is there is based on that accession number dot something well that is not sufficient because associated with the book is one or more authors associated the book his publisher associated with both the book is year of publication associated with the bow is a set of keywords which describe what that book is all about associated with the book is the edition first edition seventh edition',\n",
       " 'it said it is all this information gap and how is this information organize this information as i mentioned will be called the meta data about that book in particular the bibliographic metadata if you go to any library a beat with the library or beat with anyone at the library staff and ask them',\n",
       " 'please show me how is the information about the book is melted then they will tell you various fields which are actually listed in the old type they would write them in the register',\n",
       " 'nowadays there are metadata repositories at meta data utilities which can be used on computer to feed all this information whenever library purchases a book much before it is made available for circulation the library staff without your knowledge will be doing this thing',\n",
       " 'theyll be writing down all the metadata in the standardized format he against various field there are several well known international standard for metadata related to such information dublin core is one standard for example',\n",
       " 'mark treadwell is another stud',\n",
       " 'these are the standards which are extensible stand he casually to have standards on how to describe coins for example',\n",
       " 'now you take a photograph of a coin or a physical coin with you',\n",
       " 'the coin has two sides',\n",
       " 'you might have to photograph but the coin also as inscription',\n",
       " 'the coin has a date that coin is associated with a period of a king or someone who circulated that coin all of this can never be captured in the name of a file which is a something dot jpg',\n",
       " 'he says is a photograph of a crime',\n",
       " 'this metadata needs to be made part and parcel of the information that you store as i mentioned the library staff in all our institutions is probably the only set of qualified people who understand the importance of such material to appreciate what we lose when we dont have the relevant meta data consider this if you see this review session is being recorded after it is irritate it will be made available as a dot a before five when that file is uploaded with some name but a link is given to you on your i the bombay ics platform you will know from the context because it will appear as its a first interaction twenty fifth march',\n",
       " 'you will know first interaction print when you click',\n",
       " 'if you want to review some of the discussion that does happen',\n",
       " 'you will see the entire video file there',\n",
       " 'it is good as far as your kids',\n",
       " 'what about somebody else who is not attending this course but wants to know what was said in an interaction who said it when it was said',\n",
       " 'should you not think that there should be submitted if the debt should be created for a digital asset which is a video file',\n",
       " 'do you not think that there should be submitted are created for even a quiz that you conduct',\n",
       " 'you not think that there should be a meta data that should be created for a pdf document that is circulated as background reading material is understand that while giving meaningful name is absolutely essential it is not adequate',\n",
       " 'we are creating an open educational resource repository in this cloud',\n",
       " 'this repository lodge will happen as sometime in may this repository will contain all digital assets that we have created over the years for these and other faculty development programs including the online courses that we given songs hope you will immediately sense that by storing these assets even though these assets might have good filenames you will not be able to relate one acid vinegar acid when they were used in conjunction as a part of some course a whole lot of meta data standardization is happening as we speak',\n",
       " 'i say allow this to you',\n",
       " 'i say all of this to you because as teachers not necessarily involved in this kind of large collection and classification of information but as teachers you will be in hold always into thing number one interacting with your students giving them assignments collecting online assignments organizing those online assignments and have other tools which will permit you to give marks etc',\n",
       " 'they may be spreadsheets',\n",
       " 'you may be using google but you will invariably have a large amount of information contributed to by your students either as a part of assignments or submissions and unless youre very careful not only about the filenames used by your students you have also to be careful about the organisation of that information at least some metadata about every asset that is created and submitted',\n",
       " 'this is an opportunity friends to learn more about how such things are done elsewhere and how we ought to do this one of the exercises that i will create a write up and give it to you is to indicate these aspects in brief that have discussed and give you an exercise to choose proper filenames and extensions or some simple documents and photographs that i will indicate and each one of you will have to choose a name in the group activity',\n",
       " 'it would be nice if all of you can do this by tomorrow morning because i will compose this submitted her put it up tonight',\n",
       " 'it will be nice if they just spent five minutes discussing with some of your colleague as to what are the names chosen by him or her other name chosen by me and enhance your understanding on how better names can be chewed',\n",
       " 'i conclude this session on what is there in a name and say that there will be certain exercise that all of you will have to do jail compose tonight',\n",
       " 'i would like to use now this opportunity to interact with some of the remote centers on students or a jayakrishnan tells me that the every year as you know we keep making modifications to the style of our every ppi to bring in the better practices',\n",
       " 'i already told you about how several mentors have emerged out of top performing participants of the previous every piece this year we started something new one of our remote centers which participated in the last evthe',\n",
       " 'i believe it is a cokehead its sorry its a new remote center and in that remote center they realize that there would be technical issues that they will have to solve concerning these aview interaction as you know your institute that remote center must have a internet bandwidth which is adequate in addition it must have a prk which loads the software which is on the client side of eve then there are so many settings to be done to connect it to speaker microphone etc and finally there has to be a link established between the eave you serve and their place in most of our remote centers by the way they are competent technical staff who handle this thing we teachers often do not understand the tremendous value of such technical staff and the technical support that they bring to bear on us in fact if all of you are able to see me and listen to me it is primarily because the technical staff members in all these remote centers are doing their job perfectly',\n",
       " 'we depend so much on them',\n",
       " 'i would also add that because we do',\n",
       " 'we should also learn to humbly respect them for what they do and to acknowledge it at least once in awhile traditionally in academic institutions it is not a common practice for the faculty members to acknowledge the work that is done by the technical staff men although all of us understand that our lives depend on them so this is an opportunity i would like to take to thank all the technical staff members in various remote centers who facilitate this interaction',\n",
       " 'i come back to the point in the report centre in kochi',\n",
       " 'they took a novel decision',\n",
       " 'they said they will train their students to support the ebu technical activities that are required to connect and i believe that there are some students were likely to be present in that a remote center today shall request my colleagues to a move over to that remote center and request the the coordinator to say a few words and i would like even if they stood participants her they were helping us',\n",
       " 'i would also like them to say few words over to kochi',\n",
       " 'hello everybody i can see you well',\n",
       " 'can you hear me yes sir',\n",
       " 'yes we can hear you so overdue very big and remotes have demulcent coordinator at the weekend and from queens university of science and technology festival',\n",
       " 'i big salute you sir for all these ideas and would make your life and success we bonnet from you the idea of using students in remote and receiver',\n",
       " 'maybe we see that what youre doing',\n",
       " 'we are doing this for by basically for two reasons once even if some of our sometime some techniques of his arms in our study should be trained to handle things secondly',\n",
       " 'these students are the teachers in the future there will be the nearly free candy once they are here to do things then are',\n",
       " 'we are safe as why we are doing this once again',\n",
       " 'i salute you for all this',\n",
       " 'thank you so much as sense',\n",
       " 'they are more than three thousands teaches watching i would love to have our student members briefly introduce themselves so they also have the pleasure of briefly talking to three thousand teachers and i hope most of your students will join the teaching community later over to you',\n",
       " 'i am cedega apn question european science and technology',\n",
       " 'i am doing my post graduation',\n",
       " 'in an incomplete design very good',\n",
       " 'my name is enjoyment and doing my embassy community tension and and is a wonderful experience for me an incident during my recent graduation interchangeability and it was a wonderful experience to be part of the one thing i saw until she adding emcee ambiguous and amnesty random gnome what ended on a volunteer of the great experience so i am so happy that the you are contributing to this work',\n",
       " 'i would suggest that please spread this message to others in your college',\n",
       " 'i would also suggest that all other remote centers may want to experiment like this er sub interested students may be trained in providing additional support to your technical staff in addition the students themselves will benefit tremendously if theyll be doing some hands on thing with real life tools which they will become more confident about using such tools in future similarly the participants from various institutions',\n",
       " 'weve assembled in our remote center when they go back to their own colleges',\n",
       " 'please remember one thing your college or youre history',\n",
       " 'this may not be a remote center today but what is the remote center remote center is nothing but an institution which is connected using a view to some other hub today itee bob is a hub but there is no reason why one institution in kerala cannot be connected to five other institutions in kerala in tamil nadu or wherever they wish to soak you set for example',\n",
       " 'i hope that they will use this to become a hub in the state of kerala where they could connect with maybe twenty by other institutions and actually conduct not just these training programs but even seminars workshops on various thing where instead of people having to travel to a single place they can actually participate creating this audio visual large virtual classroom so once again thank you so much coaching i offer this initiative and thank you all the students i notice that all of them a girl students so you are also representing the great women power of the nation',\n",
       " 'i am also happy for that',\n",
       " 'thank you so much',\n",
       " 'can we now we can now interact with people we have still about half an hour so i thought i would request the remote centers',\n",
       " 'if people have any question to ask on whatever were discussed today are in general about this',\n",
       " 'please do a hand race',\n",
       " 'i can see henrys coming there',\n",
       " 'we go to another institution sent with said',\n",
       " 'where is it located saint vincent college nagpur over to you',\n",
       " 'yes yes your horrible your visible perfectly clear',\n",
       " 'please go ahead',\n",
       " 'is this a month or so',\n",
       " 'i am hopeful that these small problems easily solved have shortly but i am happy that they are so many teachers participating from this college understand that you are a new remote center rail tell you theres over the last eight years that my colleague gave as southern dikshit has been establishing such reward centers with the help of his spread cheer his colleagues in the teammates it is often we find that first time in a center start interacting there are a large number of problems',\n",
       " 'i notice that with your center as also with the cusat we did not have any hassles in reaching out to each other for example your perfectly visible your perfectly edible and understand that you can also see me and hear me i do not know whether i should attribute this to the better technology better bandwidth that is available or i should attribute this to more sincere technical efforts by your staff and thorough testing that is done by my team jointly with your team',\n",
       " 'perhaps it is a combination of both any final comment that youd like to make over to you',\n",
       " 'everyone was okay for one year or the servicer',\n",
       " 'sorry let us follow one protocol',\n",
       " 'everybody who speaks must identify oneself is understand that you are not only speaking to me',\n",
       " 'there are three thousand teachers',\n",
       " 'were watching you so although you should be brief but you should also always start with your name and then see what at the edge seawater used to say or to you a security method return security data is a very larger topic',\n",
       " 'i dont think i will be able to answer in a short while but we know this question email request acquisitions team or to comment on this i would request one more thing',\n",
       " 'please do raise this question in the discussion forum a nighty bombays arctic this supposedly tell you that in india people do not use discussion forum very effectively and that is there is a reason to it',\n",
       " 'its a societal problem',\n",
       " 'we generally do not like to write',\n",
       " 'we generally like to speak and therefore whenever an occasion like this comes good questions come out this was a good question for example but i would request you to jot down this question in the discussion forum and i would request all other participants to do this definitely in fact i would suggest to jackie there as part of the evaluation process should also make it obligatory for people to at least ask one question and at least answer or comment on one answer',\n",
       " 'is there the paravars zipper not this one i said okay okay however i would like to add that it should not be done because it is compulsorily mandated by the process of assessment and what it should be done to develop a good habit so cutting short this further elaboration i would request our lady first was thank you for asking a good question but please raise this question',\n",
       " 'in the discussion forum there will be an answer eventually from my cold steam here but please also all other participants',\n",
       " 'please remember to look at the discussion forum regularly and whenever you come across a question which you believe you can answer should go ahead and post your us if there is somebody was posted in answer including her answer posted by my team any who find that either there is something wrong with the dancer or you can give further elaboration that others do not hesitate in coming to the discussion forum in writing that we give an example some of the courses that we run here',\n",
       " 'we also run on idiots',\n",
       " 'which is the global platform like this every ppi we run our schilling courses which are made for students typically fifteen twenty thousand students participate when we run the courses globally there fifteen twenty thousand students from all over the world from united states from europe from australia from japan from korea from china from mexico wherever there is one trait which i see which is so different whenever we run a course of a global platform the global students who participate are extensively busy in contributing to an in benefiting from the discussion forum the discussion forum activities in the courses taken by international students and international lovers have a very large participation in india the other hand we hesitate to write time emphasising this',\n",
       " 'i would like people to come up with their good questions but also remember to post them in the decision for his go to another remote',\n",
       " 'center is another new remote center',\n",
       " 'are we as a good morning good morning overview',\n",
       " 'we are from pre cherry',\n",
       " 'please go ahead',\n",
       " 'we can hear you',\n",
       " 'everybody can hear you a serbian very much more to be as a remote center for anxiety be i think we are the only college as in politically cllege level',\n",
       " 'we have entered as a remote center for your programs and forever all the training sessions',\n",
       " 'thank you very much for selecting the womans polytechnique as one of the training center of ide ibiza',\n",
       " 'it is very interesting that yours is a womens polytechnic and i see a lot of men here in the indie crowd so perhaps you do not have enough heavy met teachers',\n",
       " 'you still have to depend on men teachers',\n",
       " 'it is good or is there any participant would like to make a brief comment over to you good morning good morning',\n",
       " 'i am tamil shall we',\n",
       " 'i am sure your presentation is really very very nice',\n",
       " 'even i used to give a name for me',\n",
       " 'document a scan zero zero one and today i learnt from today onwards definitely i would commit such mistakes and today i faced many problems because of giving names add to my documents like this',\n",
       " 'thanks a lot for giving information and we need more informations or explanations are to create wordpress if you are if your explanation is more and deeper we learn a lot',\n",
       " 'thank you tell im a very nice point that you make',\n",
       " 'i am happy that you appreciate the nomenclature',\n",
       " 'as far as word press is concerned',\n",
       " 'i will tell you one thing any tool that you take weathers wordpress or drupal or other complex to learn simple tour any amount of information given will never be adequate just when you actually start using it',\n",
       " 'ill always be something it is not there in the document',\n",
       " 'this is not true just about a ten page documentation',\n",
       " 'this is true about thousand page',\n",
       " 'documentation is also another problem',\n",
       " 'if the document itself becomes too big',\n",
       " 'nobody actually reads so tell me whether whatever document businesses given how you read each and every word of it',\n",
       " 'he said theres at least twice generally know what happens is at the airport finding fork type xing is a natural trait we human beings because we are intelligent will skim through any document at noting points in our mind and we believe that weve understood when you start working',\n",
       " 'i think that is when the problems start now',\n",
       " 'here is one clarification that i would like to issue',\n",
       " 'please understand that the objective of this exercise is for you to try out things to try out bees making mistakes',\n",
       " 'dont at all be worried and afraid of big mistake',\n",
       " 'that is how we learn when you make mistakes',\n",
       " 'there are two ways of correcting it',\n",
       " 'you will understand of course that something is not working',\n",
       " 'one is of course to go back to the documentation and say this as i should do',\n",
       " 'the second is to try out different thing',\n",
       " 'the third is to talk to your own colleagues that is precise diddy purposed objective of a group activity the people in the group for you might have to do a final submission of some assignment on your own but when your learning please utilize the availability of the group to find out if some problem still remains posted on the discussion for maybe the documentation that is given as explanation will improve next time based on the feedback that is given so rather than saying please provide more explanation',\n",
       " 'my suggestion would be use whatever explosives available and simply roll up your sleeves or sorry your self or whatever and start working you will make mistakes',\n",
       " 'something will not work out absolutely no problem',\n",
       " 'i assure you that that is exactly what will avila do that and whenever you still have persistent difficulty which is not solved either by your tires or by a group discussion posted in the decision for and insist that an answer to that we circulated to wider pipe that is how we empower ourselves by trial and error by efforts attempts and by making mistakes',\n",
       " 'thank you so much we go to another remote centerpiece a this is it dawg is it we lie and course coordinator urbina will from villag institute of technology to chhattisgarh aseity one one six six very good morning very good morning',\n",
       " 'we are all happy to see you again in the next season of epc',\n",
       " 'thank you my question',\n",
       " 'its a question i am from are full participants group',\n",
       " 'it is and you have just added you know started coloring one jumping ocean hatsoff to you congratulations many many congratulations sir in this mission',\n",
       " 'my question is what do you perceive till what time you will see the whole nation using this isapi a facility for advanced pedagogies',\n",
       " 'what is what is that perception time span so i will have very good question and thank you very much a when i started the distance education program i still remember we used visas',\n",
       " 'we had some four or five remote centers only some enthusiastic institutions it subsequently grew to hate and then to time and we could never reach out to more than three ended for dead people which itself was a large number given that typical faculty development program newspaper testified that impact demand the trend tenthousand teachers program as you all know was to try and see whether we can address up to ten thousand participants at a time when i believed that unless we reach such scales will never be able to cover the days your very right this every be for example three thousand participants are participating but even if you keep doing three thousand tree thousand three thousand three thousands we have more than two hundred thousand teachers just in our profile additional colleges',\n",
       " 'we would have almost a million teachers if you take the entire higher education and i shudder to think of the number of teachers which are involved in school education',\n",
       " 'the problem indeed is large and the only solution is not to scale up like this but also scale up horizontal i had in my dream when i decided to set up these remote centers that someday these remote centres will become local hubs',\n",
       " 'you are in dirk for example how many higher secondary schools to have it though how many other colleges to have indoor what prevents you from saying that you will assist the teachers and even students of all those schools and colleges by establishing an ave you linkage between your own institute and all these colleges and by conducting such training programs for which you need not create content from scratch all the content that are available',\n",
       " 'they are part of these hefty fee as i told you will be releasing them in the wee are repository',\n",
       " 'we are also releasing a distribution of iety bombay exe which can be configured and installed in your local server switzler whitey bombay exe the open adex distribution that were planning can download it',\n",
       " 'this will be ready by month end by may end and you can configure it it could become the billy billy institute books and you can offer those books courses to everybody is into that but particularly for your own people you can conduct such training program for other teachers',\n",
       " 'please remember one thing all these years',\n",
       " 'a majority of our teachers participate in such programs because there is a certain recognition by city',\n",
       " 'there is a certain recognition by their college if i am a teacher in one of the colleges if i attend and successfully completed every pee i get some brownie points which add to my career advancement surely thats an important reason but it is absolutely essential to convince all the fraternity of the teachers in schools high schools colleges etc that sir or madam',\n",
       " 'please dont learn these things just because somebody recognizes this and give you some points for career advancement but please adopt these things',\n",
       " 'please let this thing because to this georgia very basic duty as a teacher you will be helped immensely by using these technologies so forget others',\n",
       " 'please let this thing for your own sake',\n",
       " 'the who will send this message all the participants who benefit from this course have to set this message who will execute the action on this message',\n",
       " 'i expect i te bombay will continue conducting these programs but i expect many of our remote center to become local hubs',\n",
       " 'i would like to point out that one of our new remote centers',\n",
       " 'the crusading kuchen is trying to do exactly the same thing they will be creating other remote center',\n",
       " 'they may not necessarily the report centers whitey bombay the conventional sense although i dont see any reason why any college which is using a view cannot be connected to it after all the nomenclature remote center was given because there were certain responsibilities that were allocated to a remote center and when the remote center carried out those responsibilities there was some funding available under a maturity in those days to a recognized by paying honorarium to the coordinators technical staff its a tragedy but since the government funding is not their such funding support has to be obtained by doing local activity here is a simple arithmetic we have now four hundred sixty report said one fourth of these undead in pretty remote centers decide to become local hubs and connect to hundred institutions realize how many institutions you will reach out to and if you can use the ready made content that will be made available in open source by us by others you can use open source contents available from any source and plus',\n",
       " 'you can actually create your own additional educational content',\n",
       " 'please understand that creating a video lecture snippet is not as difficult that used to be in old days',\n",
       " 'you can sit in front of your laptop or desktop have a webcam',\n",
       " 'i have a good microphone and believe me you can record a very good five minute seven minute session in your own domain in your own language for example if you are in chhattisgarh in door and if you are trying to address the higher secondary teachers majority of these higher secondary teachers or temporal standard teachers might be teaching their suits in hindi and they might have studied only in hindi whatever material that you pick up from mighty bombay which is in english may not be directly useful what prevents you from actually because all of these are open source resources what prevents you from taking this creating it in there and actually conducting training programs for teachers in hindi we can all do that',\n",
       " 'that is what i would encourage you',\n",
       " 'ha ha he saying that in last year safety ppi the participating teachers had created webpages in their own language for example manipuri and sworn a video video',\n",
       " 'theyve created a video on how to create a wordpress web pages',\n",
       " 'so is that video available but why is it not made park',\n",
       " 'that link is not made part of the iriver makes ice so that link is available',\n",
       " 'you may perhaps use it right any closing comments over to you we also foresee to fulfill your dream of becoming one of the local hubs where you send thank you very much',\n",
       " 'thank you very much',\n",
       " 'have we still have about seven minutes',\n",
       " 'we can go to couple of other remote centers published this week which governing said good morning america good morning happy to see you yes amps with a remote center chordata agility workshop connie it is a hobby and even participants wow i am active in pads and even less reliable than one participant wants to communicate with users',\n",
       " 'she has done a very good morning you are my name is pallavi mahagun am from a mighty college first of all i would like to thank all your team members and efforts what you are taking for taking this if deepy and developing some ai see te a teaching learning process so am very much excited with this course and whatever activities we i have done in this two weeks',\n",
       " 'i learn a mini things answer',\n",
       " 'thank you very much one incident',\n",
       " 'i would like to share with you',\n",
       " 'a one day',\n",
       " 'i was giving question to myself so wouldnt that find the value of register and he has to do that manually but ter that student gave me one application where he was just given me the things that a madam instead of for doing it manually you can use this application for finding the value of register and that day i realize the students are motivating and using the technology very much so am little bit behind a that i was not knowing the application for that and by doing discourse',\n",
       " 'i am excited that i will learn many things related to recordings developing website and many other things a so for that',\n",
       " 'i would like to thank you and for morning station',\n",
       " 'i got the solution for my problem or from many years',\n",
       " 'i used to give the name as assignment one assignment to assignment three and if i want to find out anyone assignment i have to search fifteen or twenty files so for that i got today',\n",
       " 'i got the solution so thank you for this',\n",
       " 'thank you very much',\n",
       " 'thank you for allowing for your observations',\n",
       " 'other will correct observations a hope that all our republican colleagues are participating in this session would understand one very important thing which was obliquely that pallavi said that one of her students was able to point out an easier way of doing certain things and she commented that students seem to be ahead of her number one',\n",
       " 'there is nothing to be ashamed of it',\n",
       " 'any time period',\n",
       " 'the students have always been smarter than teachers so all the teachers were participating and request you to go back in time when you were students',\n",
       " 'did you not genuinely believe that was part of that',\n",
       " 'your teachers are not talk about wisdom and intelligence but at our stores also believe the simple adspath retro',\n",
       " 'the part which is true is that students of every generation get more earlier exposure to technology when theyre older so paloway',\n",
       " 'youre speaking of your student',\n",
       " 'let me tell you my own story',\n",
       " 'i have a grandson who studies in its standard',\n",
       " 'he lives in pune his team from millennium school',\n",
       " 'got surprise in a competition and i was very surprised to know that youre actually doing arduino programming order',\n",
       " 'programming is something which our embedded sources people do here and he asked me abba',\n",
       " 'how do i connect this particular sensor',\n",
       " 'what see plusplus statement do i use an eye to tell',\n",
       " 'im sorry i dont know but when i studied i found out so you see the point is our source will know better which is okay just like the problem can be solved by someone else than me',\n",
       " 'our fruits can also solve the problem',\n",
       " 'i was again emphasize',\n",
       " 'the importance of discussion forum please post such relevant information on discussion forum is acknowledge the person from whom you got the solution because i think that is a cutsy other trademarks and please keep your eyes and ears open because your students in all likelihood are more exposed to the technology at the current state of solutions that are available and as teachers at lucidity bombay',\n",
       " 'we are absolutely absolutely no problem in learning perpetually from our phones after all what is the difference between stone said teacher both are learners teachers merely have more experience and probably bore qualification on paper but as far as learning is concerned as far as problem solving culture whether student or whether teacher or all of us can solve that problem some may solve it fast',\n",
       " 'thank you so much',\n",
       " 'we have time for just one or two more sessions',\n",
       " 'lets go one more remote center explicitly cagebird university assam over to you therefore allow the hurricane i agree money can i municipal has regained a tabby white neck to complete the item within the technology being dead on and there are many participants what benefit it would not let in more complete and yard then this time an italian academy at our reluctant and we hate the participant basically from awarding it would help if we had was a participant to nearby it youths as well however participants are growing concerned pampady while we fucking he put it money loser good morning good morning',\n",
       " 'please go ahead and say thank you sorry sir',\n",
       " 'you have to tell us your name',\n",
       " 'madam that is obligatory',\n",
       " 'we was now time top nba',\n",
       " 'i sisnt rocket from the university',\n",
       " 'i am a are some of my friend we have and only the last moment it is that picking up the mall o week not to compete with one key activity that we have seen that the dvd is over so can you complete this activity a gay or can you get unstuck in a so subpar',\n",
       " 'let me ask you a counter question',\n",
       " 'suppose where some students who joined the college late and who made the same requires that madam i could not complete this assignment',\n",
       " 'will you give me extension',\n",
       " 'how would you react if it is a genuine vision',\n",
       " 'i will give the mahican correct so or do you believe that we will not work',\n",
       " 'after all',\n",
       " 'we are also teachers',\n",
       " 'you are also a teacher and we think exactly like that and therefore wherever they are genuine reasons appropriate exchanges should be given however the deadlines are met to be respected so i will ask you another question',\n",
       " 'why is it that you waited till late',\n",
       " 'and why did you not register earlier',\n",
       " 'you need not answer this question but product telling you is that whenever there is any synchronized activity to be done such as registration registration completion it puts a date and it creates hashes',\n",
       " 'if i miss that date this is true about everything grows activity we actually had in mind to create an empty page will be a completely online course only add which is the self paced course that people can enroll at a time people can complete at any time we do run such courses in our books elsewhere in headaches and even on the active objects unfortunately the faculty development program a we had to put stardom the generated such thing but it was a good point that you made and i assure you that just like you are considerate to your students if they are genuine results in difficulties so are we because both you and we are teachers',\n",
       " 'only and all teachers are considered by nature and by training so dont worry about thank you so much is rationing college nagpur over to you now allow we can you please guide me for several years now undergraduates in holiday here in ireland many conventional teaching the blackboard then we went on my progress as a teacher now what links the agents related they delivered my generation the old guy at reception and thumping thumping on a wipe or rub the opportunity to revive the gadget and a ton more happy',\n",
       " 'i am very happy lectures in audio and are very very new so grateful to your feedback on a one point was very rightly that i who encourage re good asian motherhood audio ahh it oh yes a a very good point but she pointed out is that when there is an interaction that is happening with some remote center and if i met some other remote center while i can hear what the professor in altea bobby speaking i am often unable to hear what the reward center person easy while we in the hub can listen to the reports in the person when it is communicated further to other reports it thus they are unable to list so one suggestion that']"
      ]
     },
     "execution_count": 7,
     "metadata": {},
     "output_type": "execute_result"
    }
   ],
   "source": [
    "var = segmenter.segment(string)\n",
    "var"
   ]
  },
  {
   "cell_type": "code",
   "execution_count": 8,
   "metadata": {},
   "outputs": [
    {
     "data": {
      "text/plain": [
       "list"
      ]
     },
     "execution_count": 8,
     "metadata": {},
     "output_type": "execute_result"
    }
   ],
   "source": [
    "type(var)"
   ]
  },
  {
   "cell_type": "code",
   "execution_count": 9,
   "metadata": {},
   "outputs": [
    {
     "data": {
      "text/plain": [
       "322"
      ]
     },
     "execution_count": 9,
     "metadata": {},
     "output_type": "execute_result"
    }
   ],
   "source": [
    "len(var)"
   ]
  },
  {
   "cell_type": "code",
   "execution_count": 10,
   "metadata": {},
   "outputs": [],
   "source": [
    "with open('1 FDP101x - Face-to-face Session 1 - 2018-03-24.txt','w') as fhand:\n",
    "    for line in var:\n",
    "        fhand.write(f\"{line}, \")"
   ]
  },
  {
   "cell_type": "code",
   "execution_count": 11,
   "metadata": {},
   "outputs": [
    {
     "name": "stdout",
     "output_type": "stream",
     "text": [
      "and therefore we could afford to conduct a two day orientation workshop workshop for web in addition they were all felicitated by none other than the chairman necessity who personally flew down from delhi, we dress them, most of them have contributed to further improvement of the safety by being associate faculty by mentoring a group of teachers will continue this and we will seek assistance from those of you who actually do very well and show an inclination to contribute further by becoming mentors in the future a stupid needless to add i to bombay has decided that these to every piece namely the foundation program in use of high city for effective education and the pedagogy for online and blended teaching learning processes, we believe these two factors development programs are very critical for all teachers to imbibe not just the professional college teaches i would say not just the higher education sector teachers trump science arts commerce but in fact teachers of any kind enju including teachers who essentially dole out vocational training even those people need to understand how to more effectively use technology so it is in this endeavour that we seek the cooperation and collaboration of all teachers across the country, i am very happy that this time again when we have no funding although we have managed to find funds for the itee bombay part of the activities and therefore there is no fee that is being charged participants are still required to pay a sum to the remote centers which facilitate their face to face sessions as such as the one today in these face to face sessions apart from interacting with the faculty members at eighty bombay, you will have an extremely important opportunity to interact with thirty forty fifty colleagues viewers coming from different institutions who will assemble at each remote said as you may be aware we are plan specific activities that need to be undertaken by such groups in the respective remote centers where they assemble and those activities will contribute significantly not only to your learning but also towards the assessment of how you achieve your fitness certification so please take these activities very seriously my colleague jackie o sorry i should say jack christian who is the spirit behind the conduct of the series of these every piece in fact the design is personally spending a lot of time in ensuring that maximum benefits will accrue to you but please remember such benefits will accrue only if you yourself work hard working hard is required in two dimensions number one the online activities which are required to complete every week they need to be completed is remember that the online activities will rig demand about four to six to eight hours of work per week the advantage of online activities, you can choose these six eight hours at any point and tie as per your convenience, you can do it on sunday night, you can do it monday, during lunch, time can do it on friday evening, absolutely any time that is convenient to you you can choose and complete those online but remember that every online activity for a week ends with an assessment and when we are all learning something new where all students and therefore like good students but rather to the last dates please note that eighty bombay is a stickler for the processes and rules the dates of the submission once and now we generally do not change at all and please note that your overall performance towards certification will require counting of the scores of individual assessments that are carried out during the week in addition to submissions that will be required to meet all of these are announced as part of the grading policy and there may be further elaboration interaction when you interact with the oppressed jacked so to conclude the first part of my address i would say welcome to this exciting part and welcome to a fraternity of those few who are now better empowered to use technology more effective having said this now let me address one of the major issues which we had not emphasize to a very large extent earlier on the face of it is an extremely simple issue, issue is about deep what we mean by me if people see what is there in a name each one of us has a name given by our parents, each field of study is a name chemical enjoy electrical engineering computer science commerce accounte, what do these themes can wait for us, all these names have a special meaning which is understood because the standardization and vigour agreement between different people that this is what will be met by a name when it comes to technology there are many places where we have to choose any i will begin with an example of a file name, all of your familiar with computer fights, fights are given different name for example a file which contains instructions for you to do different activities might be given a name instructions, dot we deaf alof your familiar with the dot convention, write a name then you write a dot and then you write what is called an extension, a pedia is a format which is almost a standard worldwide studied in which documents are said youd be familiar with several standard extensions which are typically used in the terminology of technology, it is very important to understand the significance because when you are required to upload content or when you are trying to weave any connected the software that you will use will have to correspond to the file type and that type is almost always determined by what we call the extension, many of you be familiar with standard exchanges for example dot, da is the extension for a file containing text in what is known as the microsoft word format, are you sure you know all possible standardized extensions, perhaps not even i dont do, we know where to find the list of standard extensions, those of you have not tried that may try this, the simple answer is yes, wikipedia wikipedia is a source of immense amount of information and to become knowledgeable in these aspects you to constantly search and read the relevant articles from wikipedia so please go and search on standardized extensions are just file extensions, you may choose any terminology for searching but you will eventually get on to an article which describes more than six hundreds standard exchange not all of them are required and were most certainly not expected to remember all of them but the major file formats which are typically used for educational purposes must be understood by us like that its time for a rest email five dot jpg for an image file dot pedi, if as i already mentioned not dock as already mentioned some of these formats and some of the nomenclature for the extinction determining the format of data in that file must be easily remembered by most of us whenever we are trying to use icity for effective education i spoke about the extension but there is a name of a file which were to choose and give whenever we create a file we send files as attachments this could be text files or dirty ext extinction as is the standard nomenclature or this could be image files, this could be photographed, i this could be video file, they remember the video file extension, those of you played videos will know that typically the videos will end with dot ebefore okay which is one of the standard formats for video file but anyway i digress, i come back the first part of the name, which is the actual name that is given to the far, do we choose an arbitrary name, it is not uncommon to find names like one to three faa dot da, what does that team can beat was absolutely nothing, would we lie our own names to be like that, judges judged for that, what would it mean to you, deepak fatigue is a better name because deepak the worthy pack has a meaning in indian in the land armor at hiland similarly, whenever we decide to choose a filename we shall apply your mind to say that the file name that we choose reflects at least some information or some indication of what that file contains unfortunately this is not done this appears to be very simple thing and that is because most of us do not create many flies in general and those of us who do create files occasionally often use tools which automatically gives some default theme to the fight and we forget that this name will not can be anything to people who actually are going to use this form, i give a simple example, we are all familiar with scanning of documents so you do you scan documents using a scanner, there is usually a scanning utility which comes along with every scanner these days printers their laser printers offer burke scanners as well and it is common to scan a handwritten pages or site pages or signed documents or any document and create a scant five but what happens in very evaluate many of you who have actually done some scanning will know that these scanning utilities will automatically give a default name to the file so scared they will surely ask you in what format you want to save the information typical information saving can be done either in bitmap files are in jpg files or in one of the standard other formats jpg or jpeg is a very well known standard for storing scanned images just as it is a well known standard for storing digital photographs, i came back to scanning whenever you scan a document, the utility will automatically ask you whether you want to save that file of course you want to save that file so it will say, where do you want to save you will save it in something called a folder or a directory on the computer, i came back to the folders and directories later but jones finally there is a default directory or a default folder which is associated with the utility that you do what is more important is when you want to say where the scanning utility will automatically give a default name to the fire so for example if users save my file as jpg jpeg file so it will create a name called scan zero zero one dot jpg is good enough, please note that no computer can save a file without a name in extinction and therefore the name and extension is to be given buyers but if we dont give utilities will create their own default where often in a hurry we want to scan that page attach that file to a message to an email and send it to someone you are somebody in delhi or calcutta somewhere is waiting for the dog soldiers save that a scan zerozero watchdog jpg attached to email and send data unfortunately the receiver in kolkata will be receiving many such message imagine that that receiver has us above five hundred people to scan a specific kind of document giving information about themselves, they say there are five wounded candidates and all these candidates are uploading their assigned biodata by scaring, you are the one sitting in kolkata, how would you lie if you get five hundred emails each one containing a file called scan zero zero one dog jpg it would make any sense and your life would become miserable, what is the solution, the solution is for example, if i am scanning my signed bio data and trying to send that file to summer i should at least then that file as debbie phatak underscore biodata dot jpg the that this name convey or more to any reader, this is why i say what is there a name as the right answer everything is there in the name has to be chosen very carefully for every file that you store whether you will remember such odd combination of names like can zero zero one and what do they represent is a different thing but others with whom you share that information with whom you share that i will not be able to understand automatic, it is not always that you can put every relevant information about the content of a file in a single day as i said if i am scanning my biodata i can say debbie fortin underscore bio data now that convey some information but does it convey, this bio data refers to which date in time for example, if i submit a bio dita today ten years later again i have to submit my biodata and that file is again name debi further underscore by rita dot have jetpack or dot pedia whatever would people who have both these five sbe able to distinguish between which is an earlier file which is a later, perhaps we could put a date or a year for example debbie fatigue fatigue underscore by rita underscore march two thousand deity will probably convey that the file was created in march two thousand native so most likely the bioreactor that the file contains in turn is up to date that unfortunately there are too many pieces of information which have to be associated with any content whether is a document whether it is a picture whether its a movie clip or whatever and whatever you do you can never write her thing our name which contains all relevant information about so far we have therefore a serious pub or do we do to ensure that the relevant information about the content which are there inside that file is available in some form preferably in a standardized form, unfortunately there is no mechanism there is no standardization for the names that you use for the fire, although the extension may be standard we need to you all therefore some standardization of names that we use at least in our local animal so if i am going to ask my students to submit some assignment online then i must invariably give a nomenclature pattern to be used by all students so that not only the filename conveys that this is a site meant to be submitted in april to thousand team but it also tells me about the roll number or name of that student if they stood belongs to a particular laboratory batch in the batch number etc you will find that in most of the submissions that you have to make in this course such nomenclature standardization will be given time will tell you please prepare a figh appeared a file or whatever file and ensure that the name of that file is like this these days it should contain this, it should contain this, it should can tell you now understand why we insist on such a thing because we have more than three thousand participants in this course and if all three thousand participants upload a file called assignment one dot pda you can see the problems that our teaching assistants would have and you can see the problem that you will have if you get exactly such submissions from your stools late so please not only spend some time in understanding how such nomenclature can be given but ensure that in all your assignments where you ask your students in future to summit anything online such instructions are clearly given, i was telling you about the fact that independent how cleverly we decide on the name of a file it is impossible to reflect every relevant information about the content of that file in that name, let me give an example last year, we were creating a site for eminent personalities, this was part of a project under the national virtual library of india mission that we are engaged them jointly with scidac enigma, we are creating a very very large cloud in which all the digital assets representing the knowledge and cultural heritage information about the country will be accumulated over the coming years, we have created a cloud with a storage capacity usable storage capacity of greater than three petabytes, petabyte is another thing i do not know how many of your familiar with the terminology used to describe the storage you prolly all know that the files have a size associated with them and typically wherever you look at a directory you will see the file names you see other information like when the file was created, whatever but you also see the size of the five typically it is given in kilobytes or megabyte for example a digital photograph is typically two to fe four megabytes large in contain a high quality high resolution photograph of course when you want to send such photographs as attach better your file you would like to have a slightly reduced pill pillow so you like to have the size of your image file in kilobytes, there are tools which will do that, the point is that the size of a file determines, what is the payload that gets attached for emails and what is the amount of storage that will require so let us imagine that you have a four megabyte a typical size of an image file, if you want to store such thousand images in your desk youll require how much four thousand megabytes a thousand megabytes is known as a gigabyte thousand gigabytes known as a terror by these terms are important because typically the dish size that is available with normal desktops, today is one terabyte class when i started working with the artist for the first type the main frame computer nineteen seventy four, we had a russian machine garlicy ten thirty when a very large days it was a removable district could take the disc out and put another days, the cost of the disk drive was five lakh rupees, the cost of the hard disk was fifty thousand rupees at do you know the capacity of that hard disk, it was seven point two five megabytes image a seven point to five megabytes that this could not contain even two digital photographs of today when clicked from your mobile or any camera we have traveled so much in the technology advancement and in its affordability that what used to cost fifty thousand rupees or it is with seven one to five megabytes capacity you can get multiple multi terabyte disks in that amount today and they all can be connected with your laptop or with your standard ever you call the web desktop and you therefore feel that youre not sort of story, the unfortunate property of any story days is that it fills up eventually it is just like work expands to fill up available type data expands to fill up available space so even terabytes is perhaps not good enough thousand terabytes make one petaybee and the cloud that were created is of three petabytes storage capacity, we believe that when we use it for putting all the digital assets we will have enough storage to at least capture the essential critically important and useful cultural information and knowledge information, let me come back to the point that i was making that even though i chose the name of a file very carefully it is impossible to indicate all the relevant information about what is there inside that she was telling you about this example when we created the eminent personalities and as an example we were asked to create a site for sardar patel all of us know sardar patel we needed data when we designed the site we needed data so we decided that we will include every available information about sardar from various sources, we got photograph, we got images, we got video clips record audio clips, we got newspaper clippings but as i was telling you when we saw the newspaper clippings that were given to us by a southern museum which hosts all these data which had all these data and somebody when they gave us the days we suddenly discovered that in different directories that file files called scared three hundred and fourteen every dog jpg scan three hundred and forty four door jpg some joker serially scared all the newspaper clippings and put those names as can refer three scan therefore we could not even understand whether the what the contents were a newspaper clipping whether content was a photograph whether content was something else and where no clue whether sardar patel appeared in any one of those documents and if dead if he indeed did then in what capacity was there a document containing sardar patel one handwritten letter or was there a document which mentions sardar patel attending a meeting with some maharaj of some state we had no clue what we are to do where to open each file, i had large tea which actually read the entire document or saw the image or photograph that was given and deciphered from that photograph or deciphered from the write up that was there the newspaper clipping as to what it was all about and how did it connect to the great serpent such information that you need to extract to tell anybody about what other contents in a file is called meta data for that form the method it off that i could have a large number of weeks fortunetly, there is a standardization about such meta data that must be included the best standardization that you may be partly familiar with because it was there even before i city came into be is the bibliographic standards you could see library library as a book, you will see that book in a rack and that book will you will notice does eyes be a number, it has an accession number which is given by the local library and we are very happy because that accession number is used wherever the book is issued to you you take that book after you read you give it back at the same accession number will be used to return the book you believe therefore that the accession number is probably the only information that is relevant and perhaps the digital record that this book is there is based on that accession number dot something well that is not sufficient because associated with the book is one or more authors associated the book his publisher associated with both the book is year of publication associated with the bow is a set of keywords which describe what that book is all about associated with the book is the edition first edition seventh edition, it said it is all this information gap and how is this information organize this information as i mentioned will be called the meta data about that book in particular the bibliographic metadata if you go to any library a beat with the library or beat with anyone at the library staff and ask them, please show me how is the information about the book is melted then they will tell you various fields which are actually listed in the old type they would write them in the register, nowadays there are metadata repositories at meta data utilities which can be used on computer to feed all this information whenever library purchases a book much before it is made available for circulation the library staff without your knowledge will be doing this thing, theyll be writing down all the metadata in the standardized format he against various field there are several well known international standard for metadata related to such information dublin core is one standard for example, mark treadwell is another stud, these are the standards which are extensible stand he casually to have standards on how to describe coins for example, now you take a photograph of a coin or a physical coin with you, the coin has two sides, you might have to photograph but the coin also as inscription, the coin has a date that coin is associated with a period of a king or someone who circulated that coin all of this can never be captured in the name of a file which is a something dot jpg, he says is a photograph of a crime, this metadata needs to be made part and parcel of the information that you store as i mentioned the library staff in all our institutions is probably the only set of qualified people who understand the importance of such material to appreciate what we lose when we dont have the relevant meta data consider this if you see this review session is being recorded after it is irritate it will be made available as a dot a before five when that file is uploaded with some name but a link is given to you on your i the bombay ics platform you will know from the context because it will appear as its a first interaction twenty fifth march, you will know first interaction print when you click, if you want to review some of the discussion that does happen, you will see the entire video file there, it is good as far as your kids, what about somebody else who is not attending this course but wants to know what was said in an interaction who said it when it was said, should you not think that there should be submitted if the debt should be created for a digital asset which is a video file, do you not think that there should be submitted are created for even a quiz that you conduct, you not think that there should be a meta data that should be created for a pdf document that is circulated as background reading material is understand that while giving meaningful name is absolutely essential it is not adequate, we are creating an open educational resource repository in this cloud, this repository lodge will happen as sometime in may this repository will contain all digital assets that we have created over the years for these and other faculty development programs including the online courses that we given songs hope you will immediately sense that by storing these assets even though these assets might have good filenames you will not be able to relate one acid vinegar acid when they were used in conjunction as a part of some course a whole lot of meta data standardization is happening as we speak, i say allow this to you, i say all of this to you because as teachers not necessarily involved in this kind of large collection and classification of information but as teachers you will be in hold always into thing number one interacting with your students giving them assignments collecting online assignments organizing those online assignments and have other tools which will permit you to give marks etc, they may be spreadsheets, you may be using google but you will invariably have a large amount of information contributed to by your students either as a part of assignments or submissions and unless youre very careful not only about the filenames used by your students you have also to be careful about the organisation of that information at least some metadata about every asset that is created and submitted, this is an opportunity friends to learn more about how such things are done elsewhere and how we ought to do this one of the exercises that i will create a write up and give it to you is to indicate these aspects in brief that have discussed and give you an exercise to choose proper filenames and extensions or some simple documents and photographs that i will indicate and each one of you will have to choose a name in the group activity, it would be nice if all of you can do this by tomorrow morning because i will compose this submitted her put it up tonight, it will be nice if they just spent five minutes discussing with some of your colleague as to what are the names chosen by him or her other name chosen by me and enhance your understanding on how better names can be chewed, i conclude this session on what is there in a name and say that there will be certain exercise that all of you will have to do jail compose tonight, i would like to use now this opportunity to interact with some of the remote centers on students or a jayakrishnan tells me that the every year as you know we keep making modifications to the style of our every ppi to bring in the better practices, i already told you about how several mentors have emerged out of top performing participants of the previous every piece this year we started something new one of our remote centers which participated in the last evthe, i believe it is a cokehead its sorry its a new remote center and in that remote center they realize that there would be technical issues that they will have to solve concerning these aview interaction as you know your institute that remote center must have a internet bandwidth which is adequate in addition it must have a prk which loads the software which is on the client side of eve then there are so many settings to be done to connect it to speaker microphone etc and finally there has to be a link established between the eave you serve and their place in most of our remote centers by the way they are competent technical staff who handle this thing we teachers often do not understand the tremendous value of such technical staff and the technical support that they bring to bear on us in fact if all of you are able to see me and listen to me it is primarily because the technical staff members in all these remote centers are doing their job perfectly, we depend so much on them, i would also add that because we do, we should also learn to humbly respect them for what they do and to acknowledge it at least once in awhile traditionally in academic institutions it is not a common practice for the faculty members to acknowledge the work that is done by the technical staff men although all of us understand that our lives depend on them so this is an opportunity i would like to take to thank all the technical staff members in various remote centers who facilitate this interaction, i come back to the point in the report centre in kochi, they took a novel decision, they said they will train their students to support the ebu technical activities that are required to connect and i believe that there are some students were likely to be present in that a remote center today shall request my colleagues to a move over to that remote center and request the the coordinator to say a few words and i would like even if they stood participants her they were helping us, i would also like them to say few words over to kochi, hello everybody i can see you well, can you hear me yes sir, yes we can hear you so overdue very big and remotes have demulcent coordinator at the weekend and from queens university of science and technology festival, i big salute you sir for all these ideas and would make your life and success we bonnet from you the idea of using students in remote and receiver, maybe we see that what youre doing, we are doing this for by basically for two reasons once even if some of our sometime some techniques of his arms in our study should be trained to handle things secondly, these students are the teachers in the future there will be the nearly free candy once they are here to do things then are, we are safe as why we are doing this once again, i salute you for all this, thank you so much as sense, they are more than three thousands teaches watching i would love to have our student members briefly introduce themselves so they also have the pleasure of briefly talking to three thousand teachers and i hope most of your students will join the teaching community later over to you, i am cedega apn question european science and technology, i am doing my post graduation, in an incomplete design very good, my name is enjoyment and doing my embassy community tension and and is a wonderful experience for me an incident during my recent graduation interchangeability and it was a wonderful experience to be part of the one thing i saw until she adding emcee ambiguous and amnesty random gnome what ended on a volunteer of the great experience so i am so happy that the you are contributing to this work, i would suggest that please spread this message to others in your college, i would also suggest that all other remote centers may want to experiment like this er sub interested students may be trained in providing additional support to your technical staff in addition the students themselves will benefit tremendously if theyll be doing some hands on thing with real life tools which they will become more confident about using such tools in future similarly the participants from various institutions, weve assembled in our remote center when they go back to their own colleges, please remember one thing your college or youre history, this may not be a remote center today but what is the remote center remote center is nothing but an institution which is connected using a view to some other hub today itee bob is a hub but there is no reason why one institution in kerala cannot be connected to five other institutions in kerala in tamil nadu or wherever they wish to soak you set for example, i hope that they will use this to become a hub in the state of kerala where they could connect with maybe twenty by other institutions and actually conduct not just these training programs but even seminars workshops on various thing where instead of people having to travel to a single place they can actually participate creating this audio visual large virtual classroom so once again thank you so much coaching i offer this initiative and thank you all the students i notice that all of them a girl students so you are also representing the great women power of the nation, i am also happy for that, thank you so much, can we now we can now interact with people we have still about half an hour so i thought i would request the remote centers, if people have any question to ask on whatever were discussed today are in general about this, please do a hand race, i can see henrys coming there, we go to another institution sent with said, where is it located saint vincent college nagpur over to you, yes yes your horrible your visible perfectly clear, please go ahead, is this a month or so, i am hopeful that these small problems easily solved have shortly but i am happy that they are so many teachers participating from this college understand that you are a new remote center rail tell you theres over the last eight years that my colleague gave as southern dikshit has been establishing such reward centers with the help of his spread cheer his colleagues in the teammates it is often we find that first time in a center start interacting there are a large number of problems, i notice that with your center as also with the cusat we did not have any hassles in reaching out to each other for example your perfectly visible your perfectly edible and understand that you can also see me and hear me i do not know whether i should attribute this to the better technology better bandwidth that is available or i should attribute this to more sincere technical efforts by your staff and thorough testing that is done by my team jointly with your team, perhaps it is a combination of both any final comment that youd like to make over to you, everyone was okay for one year or the servicer, sorry let us follow one protocol, everybody who speaks must identify oneself is understand that you are not only speaking to me, there are three thousand teachers, were watching you so although you should be brief but you should also always start with your name and then see what at the edge seawater used to say or to you a security method return security data is a very larger topic, i dont think i will be able to answer in a short while but we know this question email request acquisitions team or to comment on this i would request one more thing, please do raise this question in the discussion forum a nighty bombays arctic this supposedly tell you that in india people do not use discussion forum very effectively and that is there is a reason to it, its a societal problem, we generally do not like to write, we generally like to speak and therefore whenever an occasion like this comes good questions come out this was a good question for example but i would request you to jot down this question in the discussion forum and i would request all other participants to do this definitely in fact i would suggest to jackie there as part of the evaluation process should also make it obligatory for people to at least ask one question and at least answer or comment on one answer, is there the paravars zipper not this one i said okay okay however i would like to add that it should not be done because it is compulsorily mandated by the process of assessment and what it should be done to develop a good habit so cutting short this further elaboration i would request our lady first was thank you for asking a good question but please raise this question, in the discussion forum there will be an answer eventually from my cold steam here but please also all other participants, please remember to look at the discussion forum regularly and whenever you come across a question which you believe you can answer should go ahead and post your us if there is somebody was posted in answer including her answer posted by my team any who find that either there is something wrong with the dancer or you can give further elaboration that others do not hesitate in coming to the discussion forum in writing that we give an example some of the courses that we run here, we also run on idiots, which is the global platform like this every ppi we run our schilling courses which are made for students typically fifteen twenty thousand students participate when we run the courses globally there fifteen twenty thousand students from all over the world from united states from europe from australia from japan from korea from china from mexico wherever there is one trait which i see which is so different whenever we run a course of a global platform the global students who participate are extensively busy in contributing to an in benefiting from the discussion forum the discussion forum activities in the courses taken by international students and international lovers have a very large participation in india the other hand we hesitate to write time emphasising this, i would like people to come up with their good questions but also remember to post them in the decision for his go to another remote, center is another new remote center, are we as a good morning good morning overview, we are from pre cherry, please go ahead, we can hear you, everybody can hear you a serbian very much more to be as a remote center for anxiety be i think we are the only college as in politically cllege level, we have entered as a remote center for your programs and forever all the training sessions, thank you very much for selecting the womans polytechnique as one of the training center of ide ibiza, it is very interesting that yours is a womens polytechnic and i see a lot of men here in the indie crowd so perhaps you do not have enough heavy met teachers, you still have to depend on men teachers, it is good or is there any participant would like to make a brief comment over to you good morning good morning, i am tamil shall we, i am sure your presentation is really very very nice, even i used to give a name for me, document a scan zero zero one and today i learnt from today onwards definitely i would commit such mistakes and today i faced many problems because of giving names add to my documents like this, thanks a lot for giving information and we need more informations or explanations are to create wordpress if you are if your explanation is more and deeper we learn a lot, thank you tell im a very nice point that you make, i am happy that you appreciate the nomenclature, as far as word press is concerned, i will tell you one thing any tool that you take weathers wordpress or drupal or other complex to learn simple tour any amount of information given will never be adequate just when you actually start using it, ill always be something it is not there in the document, this is not true just about a ten page documentation, this is true about thousand page, documentation is also another problem, if the document itself becomes too big, nobody actually reads so tell me whether whatever document businesses given how you read each and every word of it, he said theres at least twice generally know what happens is at the airport finding fork type xing is a natural trait we human beings because we are intelligent will skim through any document at noting points in our mind and we believe that weve understood when you start working, i think that is when the problems start now, here is one clarification that i would like to issue, please understand that the objective of this exercise is for you to try out things to try out bees making mistakes, dont at all be worried and afraid of big mistake, that is how we learn when you make mistakes, there are two ways of correcting it, you will understand of course that something is not working, one is of course to go back to the documentation and say this as i should do, the second is to try out different thing, the third is to talk to your own colleagues that is precise diddy purposed objective of a group activity the people in the group for you might have to do a final submission of some assignment on your own but when your learning please utilize the availability of the group to find out if some problem still remains posted on the discussion for maybe the documentation that is given as explanation will improve next time based on the feedback that is given so rather than saying please provide more explanation, my suggestion would be use whatever explosives available and simply roll up your sleeves or sorry your self or whatever and start working you will make mistakes, something will not work out absolutely no problem, i assure you that that is exactly what will avila do that and whenever you still have persistent difficulty which is not solved either by your tires or by a group discussion posted in the decision for and insist that an answer to that we circulated to wider pipe that is how we empower ourselves by trial and error by efforts attempts and by making mistakes, thank you so much we go to another remote centerpiece a this is it dawg is it we lie and course coordinator urbina will from villag institute of technology to chhattisgarh aseity one one six six very good morning very good morning, we are all happy to see you again in the next season of epc, thank you my question, its a question i am from are full participants group, it is and you have just added you know started coloring one jumping ocean hatsoff to you congratulations many many congratulations sir in this mission, my question is what do you perceive till what time you will see the whole nation using this isapi a facility for advanced pedagogies, what is what is that perception time span so i will have very good question and thank you very much a when i started the distance education program i still remember we used visas, we had some four or five remote centers only some enthusiastic institutions it subsequently grew to hate and then to time and we could never reach out to more than three ended for dead people which itself was a large number given that typical faculty development program newspaper testified that impact demand the trend tenthousand teachers program as you all know was to try and see whether we can address up to ten thousand participants at a time when i believed that unless we reach such scales will never be able to cover the days your very right this every be for example three thousand participants are participating but even if you keep doing three thousand tree thousand three thousand three thousands we have more than two hundred thousand teachers just in our profile additional colleges, we would have almost a million teachers if you take the entire higher education and i shudder to think of the number of teachers which are involved in school education, the problem indeed is large and the only solution is not to scale up like this but also scale up horizontal i had in my dream when i decided to set up these remote centers that someday these remote centres will become local hubs, you are in dirk for example how many higher secondary schools to have it though how many other colleges to have indoor what prevents you from saying that you will assist the teachers and even students of all those schools and colleges by establishing an ave you linkage between your own institute and all these colleges and by conducting such training programs for which you need not create content from scratch all the content that are available, they are part of these hefty fee as i told you will be releasing them in the wee are repository, we are also releasing a distribution of iety bombay exe which can be configured and installed in your local server switzler whitey bombay exe the open adex distribution that were planning can download it, this will be ready by month end by may end and you can configure it it could become the billy billy institute books and you can offer those books courses to everybody is into that but particularly for your own people you can conduct such training program for other teachers, please remember one thing all these years, a majority of our teachers participate in such programs because there is a certain recognition by city, there is a certain recognition by their college if i am a teacher in one of the colleges if i attend and successfully completed every pee i get some brownie points which add to my career advancement surely thats an important reason but it is absolutely essential to convince all the fraternity of the teachers in schools high schools colleges etc that sir or madam, please dont learn these things just because somebody recognizes this and give you some points for career advancement but please adopt these things, please let this thing because to this georgia very basic duty as a teacher you will be helped immensely by using these technologies so forget others, please let this thing for your own sake, the who will send this message all the participants who benefit from this course have to set this message who will execute the action on this message, i expect i te bombay will continue conducting these programs but i expect many of our remote center to become local hubs, i would like to point out that one of our new remote centers, the crusading kuchen is trying to do exactly the same thing they will be creating other remote center, they may not necessarily the report centers whitey bombay the conventional sense although i dont see any reason why any college which is using a view cannot be connected to it after all the nomenclature remote center was given because there were certain responsibilities that were allocated to a remote center and when the remote center carried out those responsibilities there was some funding available under a maturity in those days to a recognized by paying honorarium to the coordinators technical staff its a tragedy but since the government funding is not their such funding support has to be obtained by doing local activity here is a simple arithmetic we have now four hundred sixty report said one fourth of these undead in pretty remote centers decide to become local hubs and connect to hundred institutions realize how many institutions you will reach out to and if you can use the ready made content that will be made available in open source by us by others you can use open source contents available from any source and plus, you can actually create your own additional educational content, please understand that creating a video lecture snippet is not as difficult that used to be in old days, you can sit in front of your laptop or desktop have a webcam, i have a good microphone and believe me you can record a very good five minute seven minute session in your own domain in your own language for example if you are in chhattisgarh in door and if you are trying to address the higher secondary teachers majority of these higher secondary teachers or temporal standard teachers might be teaching their suits in hindi and they might have studied only in hindi whatever material that you pick up from mighty bombay which is in english may not be directly useful what prevents you from actually because all of these are open source resources what prevents you from taking this creating it in there and actually conducting training programs for teachers in hindi we can all do that, that is what i would encourage you, ha ha he saying that in last year safety ppi the participating teachers had created webpages in their own language for example manipuri and sworn a video video, theyve created a video on how to create a wordpress web pages, so is that video available but why is it not made park, that link is not made part of the iriver makes ice so that link is available, you may perhaps use it right any closing comments over to you we also foresee to fulfill your dream of becoming one of the local hubs where you send thank you very much, thank you very much, have we still have about seven minutes, we can go to couple of other remote centers published this week which governing said good morning america good morning happy to see you yes amps with a remote center chordata agility workshop connie it is a hobby and even participants wow i am active in pads and even less reliable than one participant wants to communicate with users, she has done a very good morning you are my name is pallavi mahagun am from a mighty college first of all i would like to thank all your team members and efforts what you are taking for taking this if deepy and developing some ai see te a teaching learning process so am very much excited with this course and whatever activities we i have done in this two weeks, i learn a mini things answer, thank you very much one incident, i would like to share with you, a one day, i was giving question to myself so wouldnt that find the value of register and he has to do that manually but ter that student gave me one application where he was just given me the things that a madam instead of for doing it manually you can use this application for finding the value of register and that day i realize the students are motivating and using the technology very much so am little bit behind a that i was not knowing the application for that and by doing discourse, i am excited that i will learn many things related to recordings developing website and many other things a so for that, i would like to thank you and for morning station, i got the solution for my problem or from many years, i used to give the name as assignment one assignment to assignment three and if i want to find out anyone assignment i have to search fifteen or twenty files so for that i got today, i got the solution so thank you for this, thank you very much, thank you for allowing for your observations, other will correct observations a hope that all our republican colleagues are participating in this session would understand one very important thing which was obliquely that pallavi said that one of her students was able to point out an easier way of doing certain things and she commented that students seem to be ahead of her number one, there is nothing to be ashamed of it, any time period, the students have always been smarter than teachers so all the teachers were participating and request you to go back in time when you were students, did you not genuinely believe that was part of that, your teachers are not talk about wisdom and intelligence but at our stores also believe the simple adspath retro, the part which is true is that students of every generation get more earlier exposure to technology when theyre older so paloway, youre speaking of your student, let me tell you my own story, i have a grandson who studies in its standard, he lives in pune his team from millennium school, got surprise in a competition and i was very surprised to know that youre actually doing arduino programming order, programming is something which our embedded sources people do here and he asked me abba, how do i connect this particular sensor, what see plusplus statement do i use an eye to tell, im sorry i dont know but when i studied i found out so you see the point is our source will know better which is okay just like the problem can be solved by someone else than me, our fruits can also solve the problem, i was again emphasize, the importance of discussion forum please post such relevant information on discussion forum is acknowledge the person from whom you got the solution because i think that is a cutsy other trademarks and please keep your eyes and ears open because your students in all likelihood are more exposed to the technology at the current state of solutions that are available and as teachers at lucidity bombay, we are absolutely absolutely no problem in learning perpetually from our phones after all what is the difference between stone said teacher both are learners teachers merely have more experience and probably bore qualification on paper but as far as learning is concerned as far as problem solving culture whether student or whether teacher or all of us can solve that problem some may solve it fast, thank you so much, we have time for just one or two more sessions, lets go one more remote center explicitly cagebird university assam over to you therefore allow the hurricane i agree money can i municipal has regained a tabby white neck to complete the item within the technology being dead on and there are many participants what benefit it would not let in more complete and yard then this time an italian academy at our reluctant and we hate the participant basically from awarding it would help if we had was a participant to nearby it youths as well however participants are growing concerned pampady while we fucking he put it money loser good morning good morning, please go ahead and say thank you sorry sir, you have to tell us your name, madam that is obligatory, we was now time top nba, i sisnt rocket from the university, i am a are some of my friend we have and only the last moment it is that picking up the mall o week not to compete with one key activity that we have seen that the dvd is over so can you complete this activity a gay or can you get unstuck in a so subpar, let me ask you a counter question, suppose where some students who joined the college late and who made the same requires that madam i could not complete this assignment, will you give me extension, how would you react if it is a genuine vision, i will give the mahican correct so or do you believe that we will not work, after all, we are also teachers, you are also a teacher and we think exactly like that and therefore wherever they are genuine reasons appropriate exchanges should be given however the deadlines are met to be respected so i will ask you another question, why is it that you waited till late, and why did you not register earlier, you need not answer this question but product telling you is that whenever there is any synchronized activity to be done such as registration registration completion it puts a date and it creates hashes, if i miss that date this is true about everything grows activity we actually had in mind to create an empty page will be a completely online course only add which is the self paced course that people can enroll at a time people can complete at any time we do run such courses in our books elsewhere in headaches and even on the active objects unfortunately the faculty development program a we had to put stardom the generated such thing but it was a good point that you made and i assure you that just like you are considerate to your students if they are genuine results in difficulties so are we because both you and we are teachers, only and all teachers are considered by nature and by training so dont worry about thank you so much is rationing college nagpur over to you now allow we can you please guide me for several years now undergraduates in holiday here in ireland many conventional teaching the blackboard then we went on my progress as a teacher now what links the agents related they delivered my generation the old guy at reception and thumping thumping on a wipe or rub the opportunity to revive the gadget and a ton more happy, i am very happy lectures in audio and are very very new so grateful to your feedback on a one point was very rightly that i who encourage re good asian motherhood audio ahh it oh yes a a very good point but she pointed out is that when there is an interaction that is happening with some remote center and if i met some other remote center while i can hear what the professor in altea bobby speaking i am often unable to hear what the reward center person easy while we in the hub can listen to the reports in the person when it is communicated further to other reports it thus they are unable to list so one suggestion that, \n"
     ]
    }
   ],
   "source": [
    "with open('1 FDP101x - Face-to-face Session 1 - 2018-03-24.txt') as fhand:\n",
    "    text = fhand.read()\n",
    "text."
   ]
  },
  {
   "cell_type": "code",
   "execution_count": null,
   "metadata": {},
   "outputs": [],
   "source": []
  }
 ],
 "metadata": {
  "kernelspec": {
   "display_name": "Python 3",
   "language": "python",
   "name": "python3"
  },
  "language_info": {
   "codemirror_mode": {
    "name": "ipython",
    "version": 3
   },
   "file_extension": ".py",
   "mimetype": "text/x-python",
   "name": "python",
   "nbconvert_exporter": "python",
   "pygments_lexer": "ipython3",
   "version": "3.7.3"
  }
 },
 "nbformat": 4,
 "nbformat_minor": 2
}
