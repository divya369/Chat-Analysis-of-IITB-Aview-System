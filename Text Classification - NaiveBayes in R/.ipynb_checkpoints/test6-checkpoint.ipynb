{
 "cells": [
  {
   "cell_type": "code",
   "execution_count": 2,
   "metadata": {},
   "outputs": [
    {
     "name": "stdout",
     "output_type": "stream",
     "text": [
      "package 'e1071' successfully unpacked and MD5 sums checked\n",
      "\n",
      "The downloaded binary packages are in\n",
      "\tC:\\Users\\Deepak\\AppData\\Local\\Temp\\RtmpgBT2Nz\\downloaded_packages\n",
      "package 'tm' successfully unpacked and MD5 sums checked\n",
      "\n",
      "The downloaded binary packages are in\n",
      "\tC:\\Users\\Deepak\\AppData\\Local\\Temp\\RtmpgBT2Nz\\downloaded_packages\n"
     ]
    },
    {
     "name": "stderr",
     "output_type": "stream",
     "text": [
      "Loading required package: NLP\n"
     ]
    }
   ],
   "source": [
    "install.packages(\"e1071\")\n",
    "install.packages(\"tm\")\n",
    "library(e1071)\n",
    "library(tm)"
   ]
  },
  {
   "cell_type": "code",
   "execution_count": 3,
   "metadata": {},
   "outputs": [
    {
     "name": "stderr",
     "output_type": "stream",
     "text": [
      "Warning message:\n",
      "\"package 'RTextTools' is not available (for R version 3.6.0)\""
     ]
    },
    {
     "name": "stdout",
     "output_type": "stream",
     "text": [
      "package 'dplyr' successfully unpacked and MD5 sums checked\n",
      "\n",
      "The downloaded binary packages are in\n",
      "\tC:\\Users\\Deepak\\AppData\\Local\\Temp\\RtmpgBT2Nz\\downloaded_packages\n",
      "package 'caret' successfully unpacked and MD5 sums checked\n",
      "\n",
      "The downloaded binary packages are in\n",
      "\tC:\\Users\\Deepak\\AppData\\Local\\Temp\\RtmpgBT2Nz\\downloaded_packages\n"
     ]
    },
    {
     "name": "stderr",
     "output_type": "stream",
     "text": [
      "Warning message:\n",
      "\"package 'doMC' is not available (for R version 3.6.0)\""
     ]
    },
    {
     "ename": "ERROR",
     "evalue": "Error in ibrary(RTextTools): could not find function \"ibrary\"\n",
     "output_type": "error",
     "traceback": [
      "Error in ibrary(RTextTools): could not find function \"ibrary\"\nTraceback:\n"
     ]
    }
   ],
   "source": [
    "install.packages(\"RTextTools\")\n",
    "install.packages(\"dplyr\")\n",
    "install.packages(\"caret\")\n",
    "install.packages(\"doMC\")\n",
    "ibrary(RTextTools)\n",
    "library(dplyr)\n",
    "library(caret)\n",
    "# Library for parallel processing\n",
    "library(doMC)\n",
    "registerDoMC(cores=detectCores()) "
   ]
  },
  {
   "cell_type": "code",
   "execution_count": 4,
   "metadata": {},
   "outputs": [
    {
     "name": "stdout",
     "output_type": "stream",
     "text": [
      "package 'magrittr' successfully unpacked and MD5 sums checked\n",
      "\n",
      "The downloaded binary packages are in\n",
      "\tC:\\Users\\Deepak\\AppData\\Local\\Temp\\RtmpgBT2Nz\\downloaded_packages\n"
     ]
    }
   ],
   "source": [
    "install.packages(\"magrittr\")\n",
    "library(magrittr)"
   ]
  },
  {
   "cell_type": "code",
   "execution_count": 32,
   "metadata": {},
   "outputs": [
    {
     "name": "stdout",
     "output_type": "stream",
     "text": [
      "package 'Rcpp' successfully unpacked and MD5 sums checked\n"
     ]
    },
    {
     "name": "stderr",
     "output_type": "stream",
     "text": [
      "Warning message:\n",
      "\"cannot remove prior installation of package 'Rcpp'\""
     ]
    },
    {
     "name": "stdout",
     "output_type": "stream",
     "text": [
      "\n",
      "The downloaded binary packages are in\n",
      "\tC:\\Users\\Deepak\\AppData\\Local\\Temp\\RtmpgBT2Nz\\downloaded_packages\n"
     ]
    },
    {
     "ename": "ERROR",
     "evalue": "Error in library(Rcpp): there is no package called 'Rcpp'\n",
     "output_type": "error",
     "traceback": [
      "Error in library(Rcpp): there is no package called 'Rcpp'\nTraceback:\n",
      "1. library(Rcpp)"
     ]
    }
   ],
   "source": [
    "install.packages(\"Rcpp\")\n",
    "library(Rcpp)"
   ]
  },
  {
   "cell_type": "markdown",
   "metadata": {},
   "source": [
    "# Data"
   ]
  },
  {
   "cell_type": "code",
   "execution_count": 5,
   "metadata": {},
   "outputs": [],
   "source": [
    "dat <- read.csv(file=\"chat.csv\",head=FALSE,sep=\",\",stringsAsFactors=F)\n",
    "dat<-dat[,c(\"V2\",\"V3\")]\n",
    "colnames(dat)<-c(\"sentence\",\"label\")\n",
    "dat$label<-sub(\"^$\",\"N\",dat$label)"
   ]
  },
  {
   "cell_type": "code",
   "execution_count": 6,
   "metadata": {},
   "outputs": [],
   "source": [
    "set.seed(100)\n",
    "rows<-sample(nrow(dat))\n",
    "dat1<-dat[rows,]\n",
    "dat1$label<-as.factor(dat1$label)"
   ]
  },
  {
   "cell_type": "markdown",
   "metadata": {},
   "source": [
    "# Tokenization"
   ]
  },
  {
   "cell_type": "code",
   "execution_count": 7,
   "metadata": {},
   "outputs": [],
   "source": [
    "corpus<-Corpus(VectorSource(dat1$sentence))"
   ]
  },
  {
   "cell_type": "code",
   "execution_count": 8,
   "metadata": {},
   "outputs": [
    {
     "data": {
      "text/plain": [
       "<<SimpleCorpus>>\n",
       "Metadata:  corpus specific: 1, document level (indexed): 0\n",
       "Content:  documents: 3310"
      ]
     },
     "metadata": {},
     "output_type": "display_data"
    }
   ],
   "source": [
    "corpus"
   ]
  },
  {
   "cell_type": "code",
   "execution_count": 9,
   "metadata": {},
   "outputs": [
    {
     "name": "stdout",
     "output_type": "stream",
     "text": [
      "<<SimpleCorpus>>\n",
      "Metadata:  corpus specific: 1, document level (indexed): 0\n",
      "Content:  documents: 3\n",
      "\n",
      "[1] if you cant hear us please check your settings                                                               \n",
      "[2] https://www.youtube.com/watch?v=_K0IgSOOwVs                                                                  \n",
      "[3] there is problem in your bandwidth, your audio and video freezes every 30 secs. Please improve your bandwidth\n"
     ]
    }
   ],
   "source": [
    "inspect(corpus[1:3])"
   ]
  },
  {
   "cell_type": "markdown",
   "metadata": {},
   "source": [
    "#   Data Cleaning"
   ]
  },
  {
   "cell_type": "code",
   "execution_count": 10,
   "metadata": {},
   "outputs": [
    {
     "name": "stderr",
     "output_type": "stream",
     "text": [
      "Warning message in tm_map.SimpleCorpus(., content_transformer(tolower)):\n",
      "\"transformation drops documents\"Warning message in tm_map.SimpleCorpus(., removePunctuation):\n",
      "\"transformation drops documents\"Warning message in tm_map.SimpleCorpus(., removeNumbers):\n",
      "\"transformation drops documents\"Warning message in tm_map.SimpleCorpus(., removeWords, stopwords(kind = \"en\")):\n",
      "\"transformation drops documents\"Warning message in tm_map.SimpleCorpus(., stripWhitespace):\n",
      "\"transformation drops documents\""
     ]
    }
   ],
   "source": [
    "corpus.clean <- corpus %>%\n",
    "  tm_map(content_transformer(tolower)) %>% \n",
    "  tm_map(removePunctuation) %>%\n",
    "  tm_map(removeNumbers) %>%\n",
    "  tm_map(removeWords, stopwords(kind=\"en\")) %>%\n",
    "  tm_map(stripWhitespace)\n"
   ]
  },
  {
   "cell_type": "code",
   "execution_count": 42,
   "metadata": {},
   "outputs": [
    {
     "data": {
      "text/plain": [
       "<<SimpleCorpus>>\n",
       "Metadata:  corpus specific: 1, document level (indexed): 0\n",
       "Content:  documents: 1"
      ]
     },
     "metadata": {},
     "output_type": "display_data"
    }
   ],
   "source": [
    "corpus.clean[2]"
   ]
  },
  {
   "cell_type": "markdown",
   "metadata": {},
   "source": [
    "# Document Term Matrix"
   ]
  },
  {
   "cell_type": "code",
   "execution_count": 11,
   "metadata": {},
   "outputs": [],
   "source": [
    "dtm<-DocumentTermMatrix(corpus.clean)"
   ]
  },
  {
   "cell_type": "code",
   "execution_count": 12,
   "metadata": {},
   "outputs": [
    {
     "name": "stdout",
     "output_type": "stream",
     "text": [
      "<<DocumentTermMatrix (documents: 11, terms: 6)>>\n",
      "Non-/sparse entries: 4/62\n",
      "Sparsity           : 94%\n",
      "Maximal term length: 7\n",
      "Weighting          : term frequency (tf)\n",
      "Sample             :\n",
      "    Terms\n",
      "Docs freezes improve problem secs sir video\n",
      "  40       0       0       0    0   1     0\n",
      "  41       0       0       0    0   0     1\n",
      "  42       0       0       0    0   1     0\n",
      "  43       0       0       0    0   0     0\n",
      "  44       0       0       0    0   1     0\n",
      "  45       0       0       0    0   0     0\n",
      "  46       0       0       0    0   0     0\n",
      "  47       0       0       0    0   0     0\n",
      "  48       0       0       0    0   0     0\n",
      "  49       0       0       0    0   0     0\n"
     ]
    }
   ],
   "source": [
    "inspect(dtm[40:50,10:15])"
   ]
  },
  {
   "cell_type": "markdown",
   "metadata": {},
   "source": [
    "# Partitioning the Data"
   ]
  },
  {
   "cell_type": "code",
   "execution_count": 16,
   "metadata": {},
   "outputs": [],
   "source": [
    "split<-round(nrow(dat1)*.75)\n",
    "\n",
    "dat1.train<-dat1[1:split,]\n",
    "dat1.test<-dat1[(split+1):nrow(dat1),]\n",
    "\n",
    "dtm.train<-dtm[1:split,]\n",
    "dtm.test<-dtm[(split+1):nrow(dat1),]\n",
    "\n",
    "corpus.clean.train<-corpus.clean[1:split]\n",
    "corpus.clean.test<-corpus.clean[(split+1):nrow(dat1)]"
   ]
  },
  {
   "cell_type": "code",
   "execution_count": 17,
   "metadata": {},
   "outputs": [
    {
     "data": {
      "text/html": [
       "<ol class=list-inline>\n",
       "\t<li>2482</li>\n",
       "\t<li>1905</li>\n",
       "</ol>\n"
      ],
      "text/latex": [
       "\\begin{enumerate*}\n",
       "\\item 2482\n",
       "\\item 1905\n",
       "\\end{enumerate*}\n"
      ],
      "text/markdown": [
       "1. 2482\n",
       "2. 1905\n",
       "\n",
       "\n"
      ],
      "text/plain": [
       "[1] 2482 1905"
      ]
     },
     "metadata": {},
     "output_type": "display_data"
    }
   ],
   "source": [
    "dim(dtm.train)"
   ]
  },
  {
   "cell_type": "markdown",
   "metadata": {},
   "source": [
    "# Frequency Selection"
   ]
  },
  {
   "cell_type": "code",
   "execution_count": 18,
   "metadata": {},
   "outputs": [],
   "source": [
    "fivefreq<-findFreqTerms(dtm.train,5)"
   ]
  },
  {
   "cell_type": "code",
   "execution_count": 19,
   "metadata": {},
   "outputs": [
    {
     "data": {
      "text/html": [
       "296"
      ],
      "text/latex": [
       "296"
      ],
      "text/markdown": [
       "296"
      ],
      "text/plain": [
       "[1] 296"
      ]
     },
     "metadata": {},
     "output_type": "display_data"
    }
   ],
   "source": [
    "length((fivefreq))"
   ]
  },
  {
   "cell_type": "code",
   "execution_count": 20,
   "metadata": {},
   "outputs": [],
   "source": [
    "dtm.train.nb<-DocumentTermMatrix(corpus.clean.train,control=list(dictionary=fivefreq))"
   ]
  },
  {
   "cell_type": "code",
   "execution_count": 21,
   "metadata": {},
   "outputs": [
    {
     "data": {
      "text/html": [
       "<ol class=list-inline>\n",
       "\t<li>2482</li>\n",
       "\t<li>296</li>\n",
       "</ol>\n"
      ],
      "text/latex": [
       "\\begin{enumerate*}\n",
       "\\item 2482\n",
       "\\item 296\n",
       "\\end{enumerate*}\n"
      ],
      "text/markdown": [
       "1. 2482\n",
       "2. 296\n",
       "\n",
       "\n"
      ],
      "text/plain": [
       "[1] 2482  296"
      ]
     },
     "metadata": {},
     "output_type": "display_data"
    }
   ],
   "source": [
    "dim(dtm.train.nb)"
   ]
  },
  {
   "cell_type": "code",
   "execution_count": 24,
   "metadata": {},
   "outputs": [],
   "source": [
    "dtm.test.nb<-DocumentTermMatrix(corpus.clean.test,control=list(dictionary=fivefreq))"
   ]
  },
  {
   "cell_type": "code",
   "execution_count": 25,
   "metadata": {},
   "outputs": [
    {
     "data": {
      "text/html": [
       "<ol class=list-inline>\n",
       "\t<li>828</li>\n",
       "\t<li>296</li>\n",
       "</ol>\n"
      ],
      "text/latex": [
       "\\begin{enumerate*}\n",
       "\\item 828\n",
       "\\item 296\n",
       "\\end{enumerate*}\n"
      ],
      "text/markdown": [
       "1. 828\n",
       "2. 296\n",
       "\n",
       "\n"
      ],
      "text/plain": [
       "[1] 828 296"
      ]
     },
     "metadata": {},
     "output_type": "display_data"
    }
   ],
   "source": [
    "dim(dtm.test.nb)"
   ]
  },
  {
   "cell_type": "markdown",
   "metadata": {},
   "source": [
    "# Naive Bayes Algorithm - Model"
   ]
  },
  {
   "cell_type": "code",
   "execution_count": 22,
   "metadata": {},
   "outputs": [],
   "source": [
    "convert_count <- function(x) {\n",
    "  y <- ifelse(x > 0, 1,0)\n",
    "  y <- factor(y, levels=c(0,1), labels=c(\"No\", \"Yes\"))\n",
    "  y\n",
    "}"
   ]
  },
  {
   "cell_type": "code",
   "execution_count": 26,
   "metadata": {},
   "outputs": [],
   "source": [
    "trainNB <- apply(dtm.train.nb, 2, convert_count)\n",
    "testNB <- apply(dtm.test.nb, 2, convert_count)"
   ]
  },
  {
   "cell_type": "code",
   "execution_count": 27,
   "metadata": {},
   "outputs": [
    {
     "data": {
      "text/plain": [
       "   user  system elapsed \n",
       "   0.88    0.02    0.92 "
      ]
     },
     "metadata": {},
     "output_type": "display_data"
    }
   ],
   "source": [
    "system.time( classifier <- naiveBayes(trainNB, dat1.train$label, laplace = 1) )"
   ]
  },
  {
   "cell_type": "code",
   "execution_count": 28,
   "metadata": {},
   "outputs": [
    {
     "data": {
      "text/plain": [
       "   user  system elapsed \n",
       "  17.86    0.00   17.94 "
      ]
     },
     "metadata": {},
     "output_type": "display_data"
    }
   ],
   "source": [
    "system.time( pred <- predict(classifier, newdata=testNB) )"
   ]
  },
  {
   "cell_type": "code",
   "execution_count": 29,
   "metadata": {},
   "outputs": [
    {
     "data": {
      "text/plain": [
       "           Actual\n",
       "Predictions   N   O  O-\n",
       "         N  448  84   0\n",
       "         O   35 260   1\n",
       "         O-   0   0   0"
      ]
     },
     "metadata": {},
     "output_type": "display_data"
    }
   ],
   "source": [
    "table(\"Predictions\"= pred,  \"Actual\" = dat1.test$label )"
   ]
  },
  {
   "cell_type": "code",
   "execution_count": 35,
   "metadata": {},
   "outputs": [],
   "source": [
    "conf.mat <- caret::confusionMatrix(pred, dat1.test$label)"
   ]
  },
  {
   "cell_type": "code",
   "execution_count": 36,
   "metadata": {},
   "outputs": [
    {
     "data": {
      "text/plain": [
       "Confusion Matrix and Statistics\n",
       "\n",
       "          Reference\n",
       "Prediction   N   O  O-\n",
       "        N  448  84   0\n",
       "        O   35 260   1\n",
       "        O-   0   0   0\n",
       "\n",
       "Overall Statistics\n",
       "                                          \n",
       "               Accuracy : 0.8551          \n",
       "                 95% CI : (0.8292, 0.8784)\n",
       "    No Information Rate : 0.5833          \n",
       "    P-Value [Acc > NIR] : < 2.2e-16       \n",
       "                                          \n",
       "                  Kappa : 0.696           \n",
       "                                          \n",
       " Mcnemar's Test P-Value : NA              \n",
       "\n",
       "Statistics by Class:\n",
       "\n",
       "                     Class: N Class: O Class: O-\n",
       "Sensitivity            0.9275   0.7558  0.000000\n",
       "Specificity            0.7565   0.9256  1.000000\n",
       "Pos Pred Value         0.8421   0.8784       NaN\n",
       "Neg Pred Value         0.8818   0.8421  0.998792\n",
       "Prevalence             0.5833   0.4155  0.001208\n",
       "Detection Rate         0.5411   0.3140  0.000000\n",
       "Detection Prevalence   0.6425   0.3575  0.000000\n",
       "Balanced Accuracy      0.8420   0.8407  0.500000"
      ]
     },
     "metadata": {},
     "output_type": "display_data"
    }
   ],
   "source": [
    "conf.mat"
   ]
  },
  {
   "cell_type": "markdown",
   "metadata": {},
   "source": [
    "# Accuracy"
   ]
  },
  {
   "cell_type": "code",
   "execution_count": 37,
   "metadata": {},
   "outputs": [
    {
     "data": {
      "text/html": [
       "<strong>Accuracy:</strong> 0.855072463768116"
      ],
      "text/latex": [
       "\\textbf{Accuracy:} 0.855072463768116"
      ],
      "text/markdown": [
       "**Accuracy:** 0.855072463768116"
      ],
      "text/plain": [
       " Accuracy \n",
       "0.8550725 "
      ]
     },
     "metadata": {},
     "output_type": "display_data"
    }
   ],
   "source": [
    "conf.mat$overall['Accuracy']"
   ]
  },
  {
   "cell_type": "markdown",
   "metadata": {},
   "source": [
    "# Testing"
   ]
  },
  {
   "cell_type": "code",
   "execution_count": 41,
   "metadata": {},
   "outputs": [
    {
     "name": "stderr",
     "output_type": "stream",
     "text": [
      "Warning message in tm_map.SimpleCorpus(., content_transformer(tolower)):\n",
      "\"transformation drops documents\"Warning message in tm_map.SimpleCorpus(., removePunctuation):\n",
      "\"transformation drops documents\"Warning message in tm_map.SimpleCorpus(., removeNumbers):\n",
      "\"transformation drops documents\"Warning message in tm_map.SimpleCorpus(., removeWords, stopwords(kind = \"en\")):\n",
      "\"transformation drops documents\"Warning message in tm_map.SimpleCorpus(., stripWhitespace):\n",
      "\"transformation drops documents\""
     ]
    },
    {
     "data": {
      "text/html": [
       "<ol class=list-inline>\n",
       "\t<li>O</li>\n",
       "\t<li>O</li>\n",
       "\t<li>N</li>\n",
       "\t<li>O</li>\n",
       "\t<li>O</li>\n",
       "\t<li>N</li>\n",
       "</ol>\n",
       "\n",
       "<details>\n",
       "\t<summary style=display:list-item;cursor:pointer>\n",
       "\t\t<strong>Levels</strong>:\n",
       "\t</summary>\n",
       "\t<ol class=list-inline>\n",
       "\t\t<li>'N'</li>\n",
       "\t\t<li>'O'</li>\n",
       "\t\t<li>'O-'</li>\n",
       "\t</ol>\n",
       "</details>"
      ],
      "text/latex": [
       "\\begin{enumerate*}\n",
       "\\item O\n",
       "\\item O\n",
       "\\item N\n",
       "\\item O\n",
       "\\item O\n",
       "\\item N\n",
       "\\end{enumerate*}\n",
       "\n",
       "\\emph{Levels}: \\begin{enumerate*}\n",
       "\\item 'N'\n",
       "\\item 'O'\n",
       "\\item 'O-'\n",
       "\\end{enumerate*}\n"
      ],
      "text/markdown": [
       "1. O\n",
       "2. O\n",
       "3. N\n",
       "4. O\n",
       "5. O\n",
       "6. N\n",
       "\n",
       "\n",
       "\n",
       "**Levels**: 1. 'N'\n",
       "2. 'O'\n",
       "3. 'O-'\n",
       "\n",
       "\n"
      ],
      "text/plain": [
       "[1] O O N O O N\n",
       "Levels: N O O-"
      ]
     },
     "metadata": {},
     "output_type": "display_data"
    }
   ],
   "source": [
    "array<-c(\"can you hear\",\"video audible\",\"you stupid\",\"i am not able to hear you\",\"window is not visible\",\"my name is sanskriti\")\n",
    "c<-Corpus(VectorSource(array))\n",
    "c.clean <- c %>%\n",
    "  tm_map(content_transformer(tolower)) %>% \n",
    "  tm_map(removePunctuation) %>%\n",
    "  tm_map(removeNumbers) %>%\n",
    "  tm_map(removeWords, stopwords(kind=\"en\")) %>%\n",
    "  tm_map(stripWhitespace)\n",
    "d<-DocumentTermMatrix(c.clean,control=list(dictionary=fivefreq))\n",
    "t <- apply(d, 2, convert_count)\n",
    "predict(classifier, newdata=t)"
   ]
  },
  {
   "cell_type": "code",
   "execution_count": null,
   "metadata": {},
   "outputs": [],
   "source": []
  },
  {
   "cell_type": "code",
   "execution_count": null,
   "metadata": {},
   "outputs": [],
   "source": []
  }
 ],
 "metadata": {
  "kernelspec": {
   "display_name": "R",
   "language": "R",
   "name": "ir"
  },
  "language_info": {
   "codemirror_mode": "r",
   "file_extension": ".r",
   "mimetype": "text/x-r-source",
   "name": "R",
   "pygments_lexer": "r",
   "version": "3.6.0"
  }
 },
 "nbformat": 4,
 "nbformat_minor": 2
}
