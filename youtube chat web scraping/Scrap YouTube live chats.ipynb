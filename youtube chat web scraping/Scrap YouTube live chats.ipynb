{
 "cells": [
  {
   "cell_type": "code",
   "execution_count": 1,
   "metadata": {},
   "outputs": [],
   "source": [
    "# importing libraries\n",
    "\n",
    "from selenium import webdriver\n",
    "from selenium.webdriver.common.keys import Keys\n",
    "from selenium.webdriver.chrome.options import Options\n",
    "from selenium.webdriver.support.ui import WebDriverWait\n",
    "from selenium.webdriver.support import expected_conditions as EC\n",
    "from selenium.webdriver.common.by import By\n",
    "import time\n",
    "import pandas as pd\n",
    "import glob\n",
    "from bs4 import BeautifulSoup"
   ]
  },
  {
   "cell_type": "code",
   "execution_count": 2,
   "metadata": {},
   "outputs": [],
   "source": [
    "# adding options to chrome\n",
    "\n",
    "chromeOptions = Options()\n",
    "chromeOptions.add_argument(\"--ignore-certificate-errors\")\n",
    "chromeOptions.add_argument(\"--incognito\")\n",
    "# chromeOptions.add_argument(\"--headless\")"
   ]
  },
  {
   "cell_type": "code",
   "execution_count": 3,
   "metadata": {},
   "outputs": [],
   "source": [
    "# urls = ['https://www.youtube.com/watch?v=M8BpS0wEmUo','https://www.youtube.com/watch?v=ihSoD4sXX1o','https://www.youtube.com/watch?v=9JmpegI1Wvc&t=1s','https://www.youtube.com/watch?v=b69rVwlxgT4']\n",
    "\n",
    "driver = webdriver.Chrome(\"/Users/divyapatel/Documents/IITB project/youtube chat web scraping/chromedriver\", options=chromeOptions)"
   ]
  },
  {
   "cell_type": "code",
   "execution_count": 4,
   "metadata": {},
   "outputs": [
    {
     "name": "stdout",
     "output_type": "stream",
     "text": [
      "This video does not contain live chats\n"
     ]
    },
    {
     "ename": "KeyboardInterrupt",
     "evalue": "",
     "output_type": "error",
     "traceback": [
      "\u001b[0;31m---------------------------------------------------------------------------\u001b[0m",
      "\u001b[0;31mKeyboardInterrupt\u001b[0m                         Traceback (most recent call last)",
      "\u001b[0;32m<ipython-input-4-710ef41bf80b>\u001b[0m in \u001b[0;36m<module>\u001b[0;34m\u001b[0m\n\u001b[1;32m     15\u001b[0m     \u001b[0mtime\u001b[0m\u001b[0;34m.\u001b[0m\u001b[0msleep\u001b[0m\u001b[0;34m(\u001b[0m\u001b[0;36m3\u001b[0m\u001b[0;34m)\u001b[0m\u001b[0;34m\u001b[0m\u001b[0;34m\u001b[0m\u001b[0m\n\u001b[1;32m     16\u001b[0m     \u001b[0mdriver\u001b[0m\u001b[0;34m.\u001b[0m\u001b[0mfind_element_by_tag_name\u001b[0m\u001b[0;34m(\u001b[0m\u001b[0;34m'body'\u001b[0m\u001b[0;34m)\u001b[0m\u001b[0;34m.\u001b[0m\u001b[0msend_keys\u001b[0m\u001b[0;34m(\u001b[0m\u001b[0;34m'k'\u001b[0m\u001b[0;34m)\u001b[0m    \u001b[0;31m# for video pause\u001b[0m\u001b[0;34m\u001b[0m\u001b[0;34m\u001b[0m\u001b[0m\n\u001b[0;32m---> 17\u001b[0;31m     \u001b[0mtime\u001b[0m\u001b[0;34m.\u001b[0m\u001b[0msleep\u001b[0m\u001b[0;34m(\u001b[0m\u001b[0;36m3\u001b[0m\u001b[0;34m)\u001b[0m\u001b[0;34m\u001b[0m\u001b[0;34m\u001b[0m\u001b[0m\n\u001b[0m\u001b[1;32m     18\u001b[0m     \u001b[0mpage_source_overview\u001b[0m \u001b[0;34m=\u001b[0m \u001b[0mdriver\u001b[0m\u001b[0;34m.\u001b[0m\u001b[0mpage_source\u001b[0m\u001b[0;34m\u001b[0m\u001b[0;34m\u001b[0m\u001b[0m\n\u001b[1;32m     19\u001b[0m     \u001b[0;32mtry\u001b[0m \u001b[0;34m:\u001b[0m\u001b[0;34m\u001b[0m\u001b[0;34m\u001b[0m\u001b[0m\n",
      "\u001b[0;31mKeyboardInterrupt\u001b[0m: "
     ]
    }
   ],
   "source": [
    "# all in one\n",
    "urls = []\n",
    "with open(\"urls.txt\",'r') as links:\n",
    "    for url in links:\n",
    "        url = url.rstrip('\\n')\n",
    "        urls.append(url)\n",
    "\n",
    "done = 1\n",
    "not_done = 1\n",
    "        \n",
    "for url in urls:\n",
    "    flag = 0\n",
    "    driver.get(str(url))\n",
    "    time.sleep(25)\n",
    "    driver.find_element_by_tag_name('body').send_keys(Keys.NUMPAD9)\n",
    "    time.sleep(3)\n",
    "    driver.find_element_by_tag_name('body').send_keys('k')    # for video pause\n",
    "    time.sleep(3)\n",
    "    page_source_overview = driver.page_source\n",
    "    try :\n",
    "        iframe = driver.find_element_by_xpath(\"//iframe[@id='chatframe']\")\n",
    "        driver.switch_to.frame(iframe)\n",
    "        chats = []\n",
    "        innerHTML = driver.execute_script(\"return document.body.innerHTML\")\n",
    "        soup = BeautifulSoup(page_source_overview, 'lxml')\n",
    "        title = soup.title.get_text()\n",
    "        title = title[:-10]\n",
    "        files = [f for f in glob.glob(\"*.txt\")]\n",
    "    \n",
    "        for file in files:\n",
    "            if file == title:\n",
    "                flag = 1\n",
    "                break\n",
    "        \n",
    "        if flag == 0:\n",
    "            with open(f\"{title}.txt\",'w') as fhand:\n",
    "                for chat in driver.find_elements_by_css_selector('yt-live-chat-text-message-renderer'):\n",
    "                    author_name = list(chat.find_element_by_css_selector(\"#author-name\").get_attribute('innerHTML').split('<'))\n",
    "                    message = chat.find_element_by_css_selector(\"#message\").get_attribute('innerHTML')\n",
    "                    write_string = f\"{author_name},{message}\\n\"\n",
    "                    fhand.write(write_string)\n",
    "        print(count)\n",
    "        done += 1\n",
    "    except:\n",
    "        print(\"This video does not contain live chats\")\n",
    "        not_done += 1\n",
    "        continue\n",
    "                #     author_name_encoded = author_name.encode('utf-8').strip()\n",
    "                #     message_encoded = message.encode('utf-8').strip()\n",
    "print(\"Done : {0}\".format(done))\n",
    "print(\"Not Done : {0}\".format(not_done))\n",
    "#     driver.switch_to.default_content()\n",
    "#     driver.quit()"
   ]
  },
  {
   "cell_type": "code",
   "execution_count": null,
   "metadata": {},
   "outputs": [],
   "source": [
    "# # Visit the URL\n",
    "\n",
    "# driver = webdriver.Chrome(\"/Users/divyapatel/Documents/IITB project/youtube chat web scraping/chromedriver\", options=chromeOptions)\n",
    "# driver.get('https://www.youtube.com/watch?v=M8BpS0wEmUo')\n",
    "# # driver.get('https://www.youtube.com/watch?v=zDuadNBVDho')\n",
    "\n",
    "\n",
    "# # skipping AD's\n",
    "\n",
    "# # skipAd = driver.find_element_by_xpath(\"xpath for next /html/body/div[2]/div[4]/div/div[4]/div[2]/div[2]/div/div[4]/div/div/div[5]/button\")\n",
    "\n",
    "# # def skipAdFunction():\n",
    "# #     threading.Timer(3,skipAdFunction).start()\n",
    "# #     if(skipAd.is_enabled() or skipAd.is_displayed()):\n",
    "# #         skipAd.click()\n",
    "\n",
    "# # skipAdFunction()"
   ]
  },
  {
   "cell_type": "code",
   "execution_count": null,
   "metadata": {},
   "outputs": [],
   "source": [
    "# # for letting Ad's to play and actual video to start\n",
    "\n",
    "# time.sleep(40)"
   ]
  },
  {
   "cell_type": "code",
   "execution_count": null,
   "metadata": {},
   "outputs": [],
   "source": [
    "# # move the youtube progress slide bar to the end and pause the video\n",
    "\n",
    "# driver.find_element_by_tag_name('body').send_keys(Keys.NUMPAD9)\n",
    "# time.sleep(10)\n",
    "# driver.find_element_by_tag_name('body').send_keys('k')    # for video pause\n",
    "# time.sleep(5)"
   ]
  },
  {
   "cell_type": "code",
   "execution_count": null,
   "metadata": {},
   "outputs": [],
   "source": [
    "# page_source_overview = driver.page_source"
   ]
  },
  {
   "cell_type": "code",
   "execution_count": null,
   "metadata": {},
   "outputs": [],
   "source": [
    "# iframe = driver.find_element_by_xpath(\"//iframe[@id='chatframe']\")"
   ]
  },
  {
   "cell_type": "code",
   "execution_count": null,
   "metadata": {},
   "outputs": [],
   "source": [
    "# driver.switch_to.frame(iframe)"
   ]
  },
  {
   "cell_type": "code",
   "execution_count": null,
   "metadata": {},
   "outputs": [],
   "source": [
    "# chats = []"
   ]
  },
  {
   "cell_type": "code",
   "execution_count": null,
   "metadata": {},
   "outputs": [],
   "source": [
    "# innerHTML = driver.execute_script(\"return document.body.innerHTML\")"
   ]
  },
  {
   "cell_type": "code",
   "execution_count": null,
   "metadata": {},
   "outputs": [],
   "source": [
    "# from bs4 import BeautifulSoup\n",
    "# soup = BeautifulSoup(page_source_overview, 'lxml')"
   ]
  },
  {
   "cell_type": "code",
   "execution_count": null,
   "metadata": {},
   "outputs": [],
   "source": [
    "# title = soup.title.get_text()\n",
    "# title = title[:-10]"
   ]
  },
  {
   "cell_type": "code",
   "execution_count": null,
   "metadata": {},
   "outputs": [],
   "source": [
    "# files = [f for f in glob.glob(\"*.txt\")]\n",
    "# for file in files:\n",
    "#     if file == title:\n",
    "#         continue\n",
    "#     else:\n",
    "#         with open(f\"{title}.txt\",'w') as fhand:\n",
    "#             for chat in driver.find_elements_by_css_selector('yt-live-chat-text-message-renderer'):\n",
    "#             #     author_name = list(chat.find_element_by_css_selector(\"#author-name\").get_attribute('innerHTML').split('<'))\n",
    "#                 message = chat.find_element_by_css_selector(\"#message\").get_attribute('innerHTML')\n",
    "#                 write_string = f\"{message}\\n\"\n",
    "#                 fhand.write(write_string)\n",
    "#             #     author_name_encoded = author_name.encode('utf-8').strip()\n",
    "#             #     message_encoded = message.encode('utf-8').strip()"
   ]
  },
  {
   "cell_type": "code",
   "execution_count": null,
   "metadata": {},
   "outputs": [],
   "source": [
    "# handle = open(f\"{title}.txt\", \"r\")\n",
    "# print(handle.read().split(\"\\n\"))\n",
    "# handle.seek(0)\n",
    "# handle.close()"
   ]
  },
  {
   "cell_type": "code",
   "execution_count": null,
   "metadata": {},
   "outputs": [],
   "source": [
    "# driver.switch_to.default_content()"
   ]
  },
  {
   "cell_type": "code",
   "execution_count": 5,
   "metadata": {},
   "outputs": [],
   "source": [
    "# driver.quit()"
   ]
  },
  {
   "cell_type": "code",
   "execution_count": null,
   "metadata": {},
   "outputs": [],
   "source": [
    "# Moving the youtube progress bar to the end\n",
    "\n",
    "# type(soup.find_all(\"div\", class_= \"ytp-progress-bar\")[0])\n",
    "\n",
    "# locating the youtube progress bar\n",
    "\n",
    "# youtube_progress_bar = soup.find(\"div\", class_= \"ytp-progress-bar\")\n",
    "# youtube_progress_bar\n",
    "\n",
    "# print(youtube_progress_bar.prettify())\n",
    "\n",
    "# video_length_details = youtube_progress_bar.get('aria-valuetext')\n",
    "# lst = video_length_details.split()\n",
    "\n",
    "# new_video_length = str(f\"{lst[2]} of {lst[2]}\")\n",
    "# new_video_length\n",
    "\n",
    "# element = driver.find_elements(By.CLASS_NAME, \"ytp-progress-bar\")\n",
    "# element = driver.find_element_by_css_selector(\"div.ytp-progress-bar[aria-valuetext]\")\n",
    "# driver.execute_script(\"arguments[0].setAttribute('aria-valuetext', '{0}')\".format(new_video_length), element)"
   ]
  }
 ],
 "metadata": {
  "kernelspec": {
   "display_name": "myenv",
   "language": "python",
   "name": "myenv"
  },
  "language_info": {
   "codemirror_mode": {
    "name": "ipython",
    "version": 3
   },
   "file_extension": ".py",
   "mimetype": "text/x-python",
   "name": "python",
   "nbconvert_exporter": "python",
   "pygments_lexer": "ipython3",
   "version": "3.7.3"
  }
 },
 "nbformat": 4,
 "nbformat_minor": 2
}
