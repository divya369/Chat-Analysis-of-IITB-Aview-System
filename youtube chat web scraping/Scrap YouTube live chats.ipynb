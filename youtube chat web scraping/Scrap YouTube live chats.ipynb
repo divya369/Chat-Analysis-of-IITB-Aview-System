{
 "cells": [
  {
   "cell_type": "code",
   "execution_count": 52,
   "metadata": {},
   "outputs": [],
   "source": [
    "# importing libraries\n",
    "\n",
    "from selenium import webdriver\n",
    "from selenium.webdriver.common.keys import Keys\n",
    "from selenium.webdriver.chrome.options import Options\n",
    "from selenium.webdriver.support.ui import WebDriverWait\n",
    "from selenium.webdriver.support import expected_conditions as EC\n",
    "from selenium.webdriver.common.by import By\n",
    "import time\n",
    "import pandas as pd"
   ]
  },
  {
   "cell_type": "code",
   "execution_count": 2,
   "metadata": {},
   "outputs": [],
   "source": [
    "# adding options to chrome\n",
    "\n",
    "chromeOptions = Options()"
   ]
  },
  {
   "cell_type": "code",
   "execution_count": 3,
   "metadata": {},
   "outputs": [],
   "source": [
    "# Visit the URL\n",
    "\n",
    "driver = webdriver.Chrome(\"/Users/divyapatel/Documents/IITB project/youtube chat web scraping/chromedriver\", options=chromeOptions)\n",
    "driver.get('https://www.youtube.com/watch?v=M8BpS0wEmUo')\n",
    "# driver.get('https://www.youtube.com/watch?v=zDuadNBVDho')\n",
    "\n",
    "\n",
    "# skipping AD's\n",
    "\n",
    "# skipAd = driver.find_element_by_xpath(\"xpath for next /html/body/div[2]/div[4]/div/div[4]/div[2]/div[2]/div/div[4]/div/div/div[5]/button\")\n",
    "\n",
    "# def skipAdFunction():\n",
    "#     threading.Timer(3,skipAdFunction).start()\n",
    "#     if(skipAd.is_enabled() or skipAd.is_displayed()):\n",
    "#         skipAd.click()\n",
    "\n",
    "# skipAdFunction()"
   ]
  },
  {
   "cell_type": "code",
   "execution_count": 4,
   "metadata": {},
   "outputs": [],
   "source": [
    "# for letting Ad's to play and actual video to start\n",
    "\n",
    "time.sleep(45)"
   ]
  },
  {
   "cell_type": "code",
   "execution_count": 5,
   "metadata": {},
   "outputs": [],
   "source": [
    "# move the youtube progress slide bar to the end and pause the video\n",
    "\n",
    "driver.find_element_by_tag_name('body').send_keys(Keys.NUMPAD9)\n",
    "time.sleep(15)\n",
    "driver.find_element_by_tag_name('body').send_keys('k')    # for video pause\n",
    "time.sleep(5)"
   ]
  },
  {
   "cell_type": "code",
   "execution_count": 6,
   "metadata": {},
   "outputs": [],
   "source": [
    "iframe = driver.find_element_by_xpath(\"//iframe[@id='chatframe']\")"
   ]
  },
  {
   "cell_type": "code",
   "execution_count": 7,
   "metadata": {},
   "outputs": [],
   "source": [
    "driver.switch_to.frame(iframe)"
   ]
  },
  {
   "cell_type": "code",
   "execution_count": 8,
   "metadata": {},
   "outputs": [],
   "source": [
    "chats = []"
   ]
  },
  {
   "cell_type": "code",
   "execution_count": 9,
   "metadata": {},
   "outputs": [],
   "source": [
    "innerHTML = driver.execute_script(\"return document.body.innerHTML\")"
   ]
  },
  {
   "cell_type": "code",
   "execution_count": 84,
   "metadata": {},
   "outputs": [],
   "source": [
    "fhand = open('chat.txt','w')"
   ]
  },
  {
   "cell_type": "code",
   "execution_count": 85,
   "metadata": {},
   "outputs": [
    {
     "name": "stdout",
     "output_type": "stream",
     "text": [
      "Nupur Prajapati:sir will you plz explain..what should be the monopoly criteria that one can have in order to set up any type of business?\n",
      "\n",
      "NIKITA DWIVEDI:what is current market cenerio ,?\n",
      "\n",
      "Favz Y K:So pure monopoly will bring high profit right?\n",
      "\n",
      "Bishnu Prasad Nayak:if repo rates are completely influenced by central bank then is it not very unfair situation for normal banks(in case a reverse repo takes place)????\n",
      "\n",
      "ks srinath:​how the current market structure influence Automobile Industry ?\n",
      "\n",
      "Sandeep Kaur:what is oligopoly?\n",
      "\n",
      "Divyanshu Gupta:how degree of elasticity affect the market structure\n",
      "\n",
      "Awnish maurya:Sir, Internet warm first major worldwide computer. or software malicious.\n",
      "\n",
      "sunny suman:define financial system.\n",
      "\n",
      "atul gupta:why the corporate bond do not pay coupons?\n",
      "\n",
      "Naved Hasan:sir Comparing opportunity costs of production is called what?\n",
      "\n",
      "Sachi Sahu:How macroeconomics deals with fiscal and Monterey policy?\n",
      "\n",
      "MEWAR UNIVERSITY TECHNICAL UNIVERSITY:how can I improve my financial literacy?\n",
      "\n",
      "ks srinath:​​how the current market structure influence Automobile Industry ?\n",
      "\n",
      "raj mankar:Sir, There is request ,Regarding financial literacy, what are the pre-requsites to be completed, so that i can understand lectures easily?\n",
      "\n",
      "Md Noorruddin:Why do we need Competition Commission?\n",
      "\n",
      "【Rajmaha sangram official】:what is the advantages of this type of certificate.........\n",
      "\n",
      "Favz Y K:Companies like KFC produce there own unique item.so we can say it as pure monopoly?\n",
      "\n",
      "Mercy T Panmei:What are the effects of Economies of Scale in the long run\n",
      "\n",
      "GEO JACOB:can you explain expansionary monitary policy.\n",
      "\n",
      "Md Noorruddin:what is the difference between US model and UK model?\n",
      "\n",
      "sunny suman:How is the financial instruments are integral parts of the financial system?\n",
      "\n",
      "NIKITA DWIVEDI:what are the instruments of money market\n",
      "\n",
      "Halash Yadav:what is the levered institutions\n",
      "\n",
      "Awnish maurya:what is pure monopoly?\n",
      "\n",
      "Md Noorruddin:why do we need regulated industries?\n",
      "\n",
      "smrati singh:what are the effect of economies of scale in short run?\n",
      "\n",
      "Aman Tripathi:what are the basis of deciding repo rate ????\n",
      "\n",
      "Arushi manikpuri:what is imperfect competition\n",
      "\n",
      "Awnish maurya:Sir, pure monopoly who firm's profits will be highest under?\n",
      "\n",
      "Sandeep Kaur:how GDP can be increased by lowering tax?\n",
      "\n",
      "GEO JACOB:sir, can you explain expansionary monitary policy...\n",
      "\n",
      "Anjali Maheshwari:what are the basic principles of microeconomics..??\n",
      "\n",
      "Md Noorruddin:How to break the cartel?\n",
      "\n",
      "Ankur Jain:what is monospony???????\n",
      "\n",
      "Shamama Athar:what is coupon and what is ts significance?\n",
      "\n",
      "Md Noorruddin:why do we need regulated industries?\n",
      "\n",
      "Ankur Jain:explain fiscal policy??\n",
      "\n",
      "Aman Tripathi:what are the basis of deciding repo rate\n",
      "\n",
      "Shamama Athar:what is the need to make cartel?\n",
      "\n",
      "Md Noorruddin:How can we regulate any industry?\n",
      "\n",
      "souravyadav1:sir, how cartel can be broken in the sectors like telecome bz we cannot apply the lowering of import duty concept ?\n",
      "\n",
      "Bishnu Prasad Nayak:in some text books on microeconomics there is graph of demand and supply that are based on producer and consumer theory. how do these graphs are interpreted-because they are all over the book.\n",
      "\n",
      "smrati singh:who pay the coupons?\n",
      "\n",
      "samishtha thakur:sir u told in the beggening that ...we need to understand economy coz decision making will be easier then.....but which type of decision do we common people make....\n",
      "\n",
      "NIKITA DWIVEDI:describe about telecom industry\n",
      "\n",
      "Shivam Dwivedi:how elasticity of demand affect market structure\n",
      "\n",
      "Bittu Shukla:sir will u please ellaborate the angle of incidence under marginal cost???\n",
      "\n",
      "KISHWER JAHAN:how banks are levered institution?\n",
      "\n",
      "ENGINEER VIRAT:sir please explain about stock exchange\n",
      "\n"
     ]
    }
   ],
   "source": [
    "for chat in driver.find_elements_by_css_selector('yt-live-chat-text-message-renderer'):\n",
    "    author_name = list(chat.find_element_by_css_selector(\"#author-name\").get_attribute('innerHTML').split('<'))\n",
    "    message = chat.find_element_by_css_selector(\"#message\").get_attribute('innerHTML')\n",
    "    write_string = f\"{author_name[0]}:{message}\\n\"\n",
    "    print(write_string)\n",
    "    fhand.write(write_string)\n",
    "#     author_name_encoded = author_name.encode('utf-8').strip()\n",
    "#     message_encoded = message.encode('utf-8').strip()\n",
    "#     print(author_name_encoded)\n",
    "#     print(message_encoded)\n",
    "#     print()"
   ]
  },
  {
   "cell_type": "code",
   "execution_count": 86,
   "metadata": {},
   "outputs": [],
   "source": [
    "fhand.close()"
   ]
  },
  {
   "cell_type": "code",
   "execution_count": 87,
   "metadata": {},
   "outputs": [],
   "source": [
    "handle = open(\"chat.txt\", \"r\")"
   ]
  },
  {
   "cell_type": "code",
   "execution_count": 91,
   "metadata": {},
   "outputs": [
    {
     "name": "stdout",
     "output_type": "stream",
     "text": [
      "['Nupur Prajapati:sir will you plz explain..what should be the monopoly criteria that one can have in order to set up any type of business?', 'NIKITA DWIVEDI:what is current market cenerio ,?', 'Favz Y K:So pure monopoly will bring high profit right?', 'Bishnu Prasad Nayak:if repo rates are completely influenced by central bank then is it not very unfair situation for normal banks(in case a reverse repo takes place)????', 'ks srinath:\\u200bhow the current market structure influence Automobile Industry ?', 'Sandeep Kaur:what is oligopoly?', 'Divyanshu Gupta:how degree of elasticity affect the market structure', 'Awnish maurya:Sir, Internet warm first major worldwide computer. or software malicious.', 'sunny suman:define financial system.', 'atul gupta:why the corporate bond do not pay coupons?', 'Naved Hasan:sir Comparing opportunity costs of production is called what?', 'Sachi Sahu:How macroeconomics deals with fiscal and Monterey policy?', 'MEWAR UNIVERSITY TECHNICAL UNIVERSITY:how can I improve my financial literacy?', 'ks srinath:\\u200b\\u200bhow the current market structure influence Automobile Industry ?', 'raj mankar:Sir, There is request ,Regarding financial literacy, what are the pre-requsites to be completed, so that i can understand lectures easily?', 'Md Noorruddin:Why do we need Competition Commission?', '【Rajmaha sangram official】:what is the advantages of this type of certificate.........', 'Favz Y K:Companies like KFC produce there own unique item.so we can say it as pure monopoly?', 'Mercy T Panmei:What are the effects of Economies of Scale in the long run', 'GEO JACOB:can you explain expansionary monitary policy.', 'Md Noorruddin:what is the difference between US model and UK model?', 'sunny suman:How is the financial instruments are integral parts of the financial system?', 'NIKITA DWIVEDI:what are the instruments of money market', 'Halash Yadav:what is the levered institutions', 'Awnish maurya:what is pure monopoly?', 'Md Noorruddin:why do we need regulated industries?', 'smrati singh:what are the effect of economies of scale in short run?', 'Aman Tripathi:what are the basis of deciding repo rate ????', 'Arushi manikpuri:what is imperfect competition', \"Awnish maurya:Sir, pure monopoly who firm's profits will be highest under?\", 'Sandeep Kaur:how GDP can be increased by lowering tax?', 'GEO JACOB:sir, can you explain expansionary monitary policy...', 'Anjali Maheshwari:what are the basic principles of microeconomics..??', 'Md Noorruddin:How to break the cartel?', 'Ankur Jain:what is monospony???????', 'Shamama Athar:what is coupon and what is ts significance?', 'Md Noorruddin:why do we need regulated industries?', 'Ankur Jain:explain fiscal policy??', 'Aman Tripathi:what are the basis of deciding repo rate', 'Shamama Athar:what is the need to make cartel?', 'Md Noorruddin:How can we regulate any industry?', 'souravyadav1:sir, how cartel can be broken in the sectors like telecome bz we cannot apply the lowering of import duty concept ?', 'Bishnu Prasad Nayak:in some text books on microeconomics there is graph of demand and supply that are based on producer and consumer theory. how do these graphs are interpreted-because they are all over the book.', 'smrati singh:who pay the coupons?', 'samishtha thakur:sir u told in the beggening that ...we need to understand economy coz decision making will be easier then.....but which type of decision do we common people make....', 'NIKITA DWIVEDI:describe about telecom industry', 'Shivam Dwivedi:how elasticity of demand affect market structure', 'Bittu Shukla:sir will u please ellaborate the angle of incidence under marginal cost???', 'KISHWER JAHAN:how banks are levered institution?', 'ENGINEER VIRAT:sir please explain about stock exchange', '']\n"
     ]
    }
   ],
   "source": [
    "print(handle.read().split(\"\\n\"))"
   ]
  },
  {
   "cell_type": "code",
   "execution_count": 90,
   "metadata": {},
   "outputs": [
    {
     "data": {
      "text/plain": [
       "0"
      ]
     },
     "execution_count": 90,
     "metadata": {},
     "output_type": "execute_result"
    }
   ],
   "source": [
    "handle.seek(0)"
   ]
  },
  {
   "cell_type": "code",
   "execution_count": null,
   "metadata": {},
   "outputs": [],
   "source": []
  },
  {
   "cell_type": "code",
   "execution_count": null,
   "metadata": {},
   "outputs": [],
   "source": []
  },
  {
   "cell_type": "code",
   "execution_count": 12,
   "metadata": {},
   "outputs": [],
   "source": [
    "page_source_overview = driver.page_source"
   ]
  },
  {
   "cell_type": "markdown",
   "metadata": {},
   "source": [
    "## Using BeautifulSoup to parse the data from youtube"
   ]
  },
  {
   "cell_type": "code",
   "execution_count": 13,
   "metadata": {},
   "outputs": [],
   "source": [
    "from bs4 import BeautifulSoup"
   ]
  },
  {
   "cell_type": "code",
   "execution_count": 14,
   "metadata": {},
   "outputs": [],
   "source": [
    "# loading page source info\n",
    "\n",
    "soup = BeautifulSoup(page_source_overview, 'lxml')"
   ]
  },
  {
   "cell_type": "code",
   "execution_count": 15,
   "metadata": {},
   "outputs": [],
   "source": [
    "# title = soup.title.get_text()\n",
    "# title[:-10]"
   ]
  },
  {
   "cell_type": "code",
   "execution_count": null,
   "metadata": {},
   "outputs": [],
   "source": []
  },
  {
   "cell_type": "code",
   "execution_count": null,
   "metadata": {},
   "outputs": [],
   "source": []
  },
  {
   "cell_type": "code",
   "execution_count": null,
   "metadata": {},
   "outputs": [],
   "source": []
  },
  {
   "cell_type": "code",
   "execution_count": null,
   "metadata": {},
   "outputs": [],
   "source": []
  },
  {
   "cell_type": "code",
   "execution_count": null,
   "metadata": {},
   "outputs": [],
   "source": [
    "# driver.switch_to.default_content()"
   ]
  },
  {
   "cell_type": "code",
   "execution_count": null,
   "metadata": {},
   "outputs": [],
   "source": [
    "# driver.quit()"
   ]
  },
  {
   "cell_type": "code",
   "execution_count": null,
   "metadata": {},
   "outputs": [],
   "source": [
    "# driver.find_element_by_tag_name('body').send_keys(Keys.ARROW_DOWN + 'j') "
   ]
  },
  {
   "cell_type": "code",
   "execution_count": null,
   "metadata": {},
   "outputs": [],
   "source": [
    "# Moving the youtube progress bar to the end\n",
    "\n",
    "# type(soup.find_all(\"div\", class_= \"ytp-progress-bar\")[0])\n",
    "\n",
    "# locating the youtube progress bar\n",
    "\n",
    "# youtube_progress_bar = soup.find(\"div\", class_= \"ytp-progress-bar\")\n",
    "# youtube_progress_bar\n",
    "\n",
    "# print(youtube_progress_bar.prettify())\n",
    "\n",
    "# video_length_details = youtube_progress_bar.get('aria-valuetext')\n",
    "# lst = video_length_details.split()\n",
    "\n",
    "# new_video_length = str(f\"{lst[2]} of {lst[2]}\")\n",
    "# new_video_length\n",
    "\n",
    "# element = driver.find_elements(By.CLASS_NAME, \"ytp-progress-bar\")\n",
    "# element = driver.find_element_by_css_selector(\"div.ytp-progress-bar[aria-valuetext]\")\n",
    "# driver.execute_script(\"arguments[0].setAttribute('aria-valuetext', '{0}')\".format(new_video_length), element)"
   ]
  }
 ],
 "metadata": {
  "kernelspec": {
   "display_name": "myenv",
   "language": "python",
   "name": "myenv"
  },
  "language_info": {
   "codemirror_mode": {
    "name": "ipython",
    "version": 3
   },
   "file_extension": ".py",
   "mimetype": "text/x-python",
   "name": "python",
   "nbconvert_exporter": "python",
   "pygments_lexer": "ipython3",
   "version": "3.7.3"
  }
 },
 "nbformat": 4,
 "nbformat_minor": 2
}
