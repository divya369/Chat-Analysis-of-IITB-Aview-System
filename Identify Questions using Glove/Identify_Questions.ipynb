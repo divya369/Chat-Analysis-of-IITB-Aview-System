{
 "cells": [
  {
   "cell_type": "code",
   "execution_count": 138,
   "metadata": {},
   "outputs": [],
   "source": [
    "import matplotlib.pyplot as plt\n",
    "from pathlib import Path\n",
    "\n",
    "import pandas as pd\n",
    "import random\n",
    "import numpy as np\n",
    "from sklearn.utils import shuffle\n",
    "from nltk.corpus import stopwords\n",
    "from sklearn.model_selection import train_test_split\n",
    "from keras.preprocessing.text import Tokenizer\n",
    "from keras.preprocessing.sequence import pad_sequences\n",
    "from sklearn.preprocessing import LabelEncoder\n",
    "from keras.utils.np_utils import to_categorical\n",
    "\n",
    "# Packages for modeling\n",
    "from keras import models\n",
    "from keras import layers\n",
    "from keras import regularizers"
   ]
  },
  {
   "cell_type": "code",
   "execution_count": 139,
   "metadata": {},
   "outputs": [],
   "source": [
    "NB_WORDS = 10000  # Parameter indicating the number of words we'll put in the dictionary\n",
    "VAL_SIZE = 1000  # Size of the validation set\n",
    "NB_START_EPOCHS = 10  # Number of epochs we usually start to train with\n",
    "BATCH_SIZE = 512  # Size of the batches used in the mini-batch gradient descent\n",
    "MAX_LEN = 44  # Maximum number of words in a sequence\n",
    "GLOVE_DIM = 100  # Number of dimensions of the GloVe word embeddings"
   ]
  },
  {
   "cell_type": "code",
   "execution_count": 140,
   "metadata": {},
   "outputs": [],
   "source": [
    "questions_df = pd.read_csv('question-pairs-dataset/questions.csv')"
   ]
  },
  {
   "cell_type": "code",
   "execution_count": 141,
   "metadata": {},
   "outputs": [],
   "source": [
    "questions_data = list(questions_df['question1'])"
   ]
  },
  {
   "cell_type": "code",
   "execution_count": 142,
   "metadata": {},
   "outputs": [],
   "source": [
    "questions_data = questions_data[:10664]"
   ]
  },
  {
   "cell_type": "code",
   "execution_count": 143,
   "metadata": {},
   "outputs": [
    {
     "name": "stdout",
     "output_type": "stream",
     "text": [
      "10664\n"
     ]
    }
   ],
   "source": [
    "print(len(questions_data))"
   ]
  },
  {
   "cell_type": "code",
   "execution_count": 144,
   "metadata": {},
   "outputs": [],
   "source": [
    "with open('positive-and-negative-sentences/positive.txt','rb') as file:\n",
    "    data_pos = file.read().decode(errors='replace')\n",
    "data_pos = data_pos.split('\\n')\n",
    "with open('positive-and-negative-sentences/negative.txt','rb') as file:\n",
    "    data_neg = file.read().decode(errors='replace')\n",
    "data_neg = data_neg.split('\\n')"
   ]
  },
  {
   "cell_type": "code",
   "execution_count": 145,
   "metadata": {},
   "outputs": [
    {
     "data": {
      "text/plain": [
       "[\"for all the writhing and wailing , tears , rage and opium overdoses , there's no sense of actual passion being washed away in love's dissolution . \",\n",
       " 'the parts are better than the whole ( bizarre , funny , tragic - like love in new york ) . ',\n",
       " \"gambling and throwing a basketball game for money isn't a new plot    in fact toback himself used it in black and white . but toback's deranged immediacy makes it seem fresh again . \",\n",
       " 'is not so much a work of entertainment as it is a unique , well crafted psychological study of grief . ',\n",
       " \"not only is undercover brother as funny , if not more so , than both austin powers films , but it's also one of the smarter , savvier spoofs to come along in some time . \",\n",
       " 'wilco fans will have a great time , and the movie should win the band a few new converts , too . ',\n",
       " 'the heightened symmetry of this new/old cinema paradiso makes the film a fuller experience , like an old friend haunted by the exigencies of time . ',\n",
       " \"it's funny , touching , dramatically forceful , and beautifully shot . \",\n",
       " 'a drama of great power , yet some members of the audience will leave the theater believing they have seen a comedy . ',\n",
       " 'the movie is too amateurishly square to make the most of its own ironic implications . ',\n",
       " 'somehow both wildly implausible and strangely conventional . ',\n",
       " \"this time kaufman's imagination has failed him . \",\n",
       " 'one of the most slyly exquisite anti adult movies ever made . ',\n",
       " 'this is an ungainly movie , ill-fitting , with its elbows sticking out where the knees should be . ',\n",
       " 'ryan gosling is , in a word , brilliant as the conflicted daniel . ',\n",
       " \"ice cube isn't quite out of ripe screwball ideas , but friday after next spreads them pretty thin . \",\n",
       " 'devos and cassel have tremendous chemistry    their sexual and romantic tension , while never really vocalized , is palpable . ',\n",
       " 'seagal , who looks more like danny aiello these days , mumbles his way through the movie . ',\n",
       " 'a bodice ripper for intellectuals . ',\n",
       " 'guillen rarely gets beneath the surface of things . she lists ingredients , but never mixes and stirs . ',\n",
       " 'by getting myself wrapped up in the visuals and eccentricities of many of the characters , i found myself confused when it came time to get to the heart of the movie . ',\n",
       " \"if you collected all the moments of coherent dialogue , they still wouldn't add up to the time required to boil a four- minute egg . \",\n",
       " 'familiar but utterly delightful . ',\n",
       " \"bond-inspired ? certainly . likely to have decades of life as a classic movie franchise ? let's hope not . \",\n",
       " \"what more can be expected from a college comedy that's target audience hasn't graduated from junior high school ? \",\n",
       " \"asks what truth can be discerned from non firsthand experience , and specifically questions cinema's capability for recording truth . \",\n",
       " 'wallace directs with such patronising reverence , it turns the stomach . ',\n",
       " 'borrows a bit from the classics \" wait until dark \" and \" extremities \" . . . but in terms of its style , the movie is in a class by itself . ',\n",
       " \"nonchalantly freaky and uncommonly pleasurable , warm water may well be the year's best and most unpredictable comedy . \",\n",
       " 'those who managed to avoid the deconstructionist theorizing of french philosopher jacques derrida in college can now take an 85-minute brush-up course with the documentary derrida . or , you can do something fun tonight . ',\n",
       " 'criminal conspiracies and true romances move so easily across racial and cultural lines in the film that it makes my big fat greek wedding look like an apartheid drama . ',\n",
       " \"you wouldn't call the good girl a date movie ( an anti date movie is more like it ) , but when it's good , it's good and horrid . \",\n",
       " \"they're just a couple of cops in copmovieland , these two , but in narc , they find new routes through a familiar neighborhood . \",\n",
       " ' . . . the first 2/3 of the film are incredibly captivating and insanely funny , thanks in part to interesting cinematic devices ( cool visual backmasking ) , a solid cast , and some wickedly sick and twisted humor . . . ',\n",
       " \"there's something not entirely convincing about the quiet american . and that holds true for both the movie and the title character played by brendan fraser . \",\n",
       " 'the movie wavers between hallmark card sentimentality and goofy , life-affirming moments straight out of a cellular phone commercial . ',\n",
       " \"even if the enticing prospect of a lot of nubile young actors in a film about campus depravity didn't fade amid the deliberate , tiresome ugliness , it would be rendered tedious by avary's failure to construct a story with even a trace of dramatic interest . \",\n",
       " 'considering the harsh locations and demanding stunts , this must have been a difficult shoot , but the movie proves rough going for the audience as well . ',\n",
       " \"as it abruptly crosscuts among the five friends , it fails to lend the characters' individual stories enough dramatic resonance to make us care about them . \",\n",
       " \"a mature , deeply felt fantasy of a director's travel through 300 years of russian history . \",\n",
       " \"there's plenty to impress about e . t . \",\n",
       " 'you see robin williams and psycho killer , and you think , hmmmmm . you see the movie and you think , zzzzzzzzz . ',\n",
       " 'amid the shock and curiosity factors , the film is just a corny examination of a young actress trying to find her way . ',\n",
       " 'in its best moments , resembles a bad high school production of grease , without benefit of song . ',\n",
       " 'reggio falls victim to relying on the very digital technology that he fervently scorns , creating a meandering , inarticulate and ultimately disappointing film . ',\n",
       " \"naipaul fans may be disappointed . those who are not acquainted with the author's work , on the other hand , may fall fast asleep . \",\n",
       " 'has all the scenic appeal of a cesspool . ',\n",
       " 'the date movie that franz kafka would have made . ',\n",
       " 'this re-do is so dumb and so exploitative in its violence that , ironically , it becomes everything that the rather clumsy original was railing against . ',\n",
       " 'must be seen to be believed . ',\n",
       " \"by the final whistle you're convinced that this mean machine was a decent tv outing that just doesn't have big screen magic . \",\n",
       " 'although frailty fits into a classic genre , in its script and execution it is a remarkably original work . ',\n",
       " 'the whole affair , true story or not , feels incredibly hokey . . . [it] comes off like a hallmark commercial . ',\n",
       " 'to the civilized mind , a movie like ballistic : ecks vs . sever is more of an ordeal than an amusement . ',\n",
       " '[garbus] discards the potential for pathological study , exhuming instead , the skewed melodrama of the circumstantial situation . ',\n",
       " 'the film is quiet , threatening and unforgettable . ',\n",
       " 'mr . spielberg and his company just want you to enjoy yourselves without feeling conned . and they succeed merrily at their noble endeavor . ',\n",
       " \"'punch-drunk love is so convinced of its own brilliance that , if it were a person , you'd want to smash its face in . '\",\n",
       " \"here's a case of two actors who do everything humanly possible to create characters who are sweet and believable , and are defeated by a screenplay that forces them into bizarre , implausible behavior . \",\n",
       " \"imagine o . henry's <b>the gift of the magi</b> relocated to the scuzzy underbelly of nyc's drug scene . merry friggin' christmas ! \",\n",
       " \"director peter kosminsky gives these women a forum to demonstrate their acting 'chops' and they take full advantage . \",\n",
       " 'there is no psychology here , and no real narrative logic -- just a series of carefully choreographed atrocities , which become strangely impersonal and abstract . ',\n",
       " \"the actresses may have worked up a back story for the women they portray so convincingly , but viewers don't get enough of that background for the characters to be involving as individuals rather than types . \",\n",
       " 'a much better documentary    more revealing , more emotional and more surprising    than its pedestrian english title would have you believe . ',\n",
       " 'the threat implied in the title pok�mon 4ever is terrifying � like locusts in a horde these things will keep coming . ',\n",
       " \" . . . does such a fine job of engulfing you in its world and allying you with its characters' choices , good and ill , that its shortcomings are remembered only as an afterthought . \",\n",
       " 'es una de esas peli culas de las que uno sale reconfortado , agradecido , genuinamente sorprendido . ',\n",
       " ' . . . breathes surprising new life into the familiar by amalgamating genres and adding true human complexity to its not so stock characters . ',\n",
       " \"we just don't really care too much about this love story . in that setting , their struggle is simply too ludicrous and borderline insulting . \",\n",
       " \"a baffling subplot involving smuggling drugs inside danish cows falls flat , and if you're going to alter the bard's ending , you'd better have a good alternative . \",\n",
       " 'its vision of that awkward age when sex threatens to overwhelm everything else is acute enough to make everyone who has been there squirm with recognition . ',\n",
       " \"you can sip your vintage wines and watch your merchant ivory productions ; i'll settle for a nice cool glass of iced tea and a jerry bruckheimer flick any day of the week . \",\n",
       " 'the diversity of the artists represented , both in terms of style and ethnicity , prevents the proceedings from feeling repetitious , as does the appropriately brief 40 minute running time . ',\n",
       " \"it's got some pretentious eye rolling moments and it didn't entirely grab me , but there's stuff here to like . \",\n",
       " 'a well-acted , but one-note film . ',\n",
       " 'very well written and directed with brutal honesty and respect for its audience . ',\n",
       " 'funny and touching . ',\n",
       " \"schnieder bounces around with limp wrists , wearing tight tummy tops and hip huggers , twirling his hair on his finger and assuming that's enough to sustain laughs . . . \",\n",
       " 'a rich tale of our times , very well told with an appropriate minimum of means . ',\n",
       " 'it has all the excitement of eating oatmeal . ',\n",
       " 'damon brings the proper conviction to his role as jason bourne . ',\n",
       " 'subversive , meditative , clinical and poetic , the piano teacher is a daring work of genius . ',\n",
       " 'this off-putting french romantic comedy is sure to test severely the indulgence of fans of am�lie . ',\n",
       " \"impostor has a handful of thrilling moments and a couple of good performances , but the movie doesn't quite fly . for starters , the story is just too slim . \",\n",
       " \"if reno is to the left of liberal on the political spectrum , her tough , funny , rather chaotic show isn't subversive so much as it is nit picky about the hypocrisies of our time . \",\n",
       " \"according to wendigo , 'nature' loves the members of the upper class almost as much as they love themselves . \",\n",
       " 'i highly recommend irwin , but not in the way this film showcases him . ',\n",
       " 'it appears to have been made by people to whom the idea of narrative logic or cohesion is an entirely foreign concept . ',\n",
       " ' . . . a good film that must have baffled the folks in the marketing department . ',\n",
       " \"majidi's poetic love story is a ravishing consciousness raiser , if a bit draggy at times . \",\n",
       " 'the movie has an avalanche of eye popping visual effects . ',\n",
       " 'a film that presents an interesting , even sexy premise then ruins itself with too many contrivances and goofy situations . ',\n",
       " \"leigh isn't breaking new ground , but he knows how a daily grind can kill love . \",\n",
       " \"smith's point is simple and obvious    people's homes are extensions of themselves , and particularly eccentric people have particularly eccentric living spaces    but his subjects are charmers . \",\n",
       " 'manages to show life in all of its banality when the intention is quite the opposite . ',\n",
       " \"what's infuriating about full frontal is that it's too close to real life to make sense . what's invigorating about it is that it doesn't give a damn . \",\n",
       " 'this ill-conceived and expensive project winds up looking like a bunch of talented thesps slumming it . ',\n",
       " \"despite bearing the paramount imprint , it's a bargain-basement european pickup . what's hard to understand is why anybody picked it up . wiser souls would have tactfully pretended not to see it and left it lying there\",\n",
       " 'that jack nicholson makes this man so watchable is a tribute not only to his craft , but to his legend . ',\n",
       " \"while it's nothing we haven't seen before from murphy , i spy is still fun and enjoyable and so aggressively silly that it's more than a worthwhile effort . \",\n",
       " 'a charming yet poignant tale of the irrevocable ties that bind . ',\n",
       " \" . . . its stupidities wind up sticking in one's mind a lot more than the cool bits . \",\n",
       " 'mckay seems embarrassed by his own invention and tries to rush through the intermediary passages , apparently hoping that the audience will not notice the glaring triteness of the plot device he has put in service . ',\n",
       " \"an unintentionally surreal kid's picture . . . in which actors in bad bear suits enact a sort of inter-species parody of a vh1 behind the music episode . \",\n",
       " \"every so often a movie comes along that confirms one's worse fears about civilization as we know it . the new guy is one of them . \",\n",
       " 'my oh my , is this an invigorating , electric movie . ',\n",
       " \"rifkin no doubt fancies himself something of a hubert selby jr . , but there isn't an ounce of honest poetry in his entire script ; it's simply crude and unrelentingly exploitative . \",\n",
       " 'witty and often surprising , a dark little morality tale disguised as a romantic comedy . ',\n",
       " 'a low-rent retread of the alien pictures . ',\n",
       " 'the only upside to all of this unpleasantness is , given its labor day weekend upload , feardotcom should log a minimal number of hits . ',\n",
       " \"rubbo's humorously tendentious intervention into the who wrote shakespeare controversy . \",\n",
       " 'it never fails to engage us . ',\n",
       " 'looks and feels like a project better suited for the small screen . ',\n",
       " 'this concoction , so bizarre to the adult mind , is actually a charming triumph where its intended under 12 audience is concerned . ',\n",
       " 'one of the most important and exhilarating forms of animated filmmaking since old walt doodled steamboat willie . ',\n",
       " 'gorgeous to look at but insufferably tedious and turgid . . . a curiously constricted epic . ',\n",
       " 'this flat run at a hip-hop tootsie is so poorly paced you could fit all of pootie tang in between its punchlines . ',\n",
       " 'a noble failure . ',\n",
       " 'the unceasing sadism is so graphically excessive , the director just ends up exposing his own obsession . ',\n",
       " 'liman , of swingers and go , makes his big-budget action film debut something of a clunker as he delivers a long , low-heat chase , interrupted by a middling car chase . ',\n",
       " 'quitting offers piercing domestic drama with spikes of sly humor . ',\n",
       " \"it's a frankenstein-monster of a film that doesn't know what it wants to be . \",\n",
       " \"writer director david jacobson and his star , jeremy renner , have made a remarkable film that explores the monster's psychology not in order to excuse him but rather to demonstrate that his pathology evolved from human impulses that grew hideously twisted . \",\n",
       " 'disappointingly , the characters are too strange and dysfunctional , tom included , to ever get under the skin , but this is compensated in large part by the off the wall dialogue , visual playfulness and the outlandishness of the idea itself . ',\n",
       " \" . . . a low rate annie featuring some kid who can't act , only echoes of jordan , and weirdo actor crispin glover screwing things up old school . \",\n",
       " 'this is cruel , misanthropic stuff with only weak claims to surrealism and black comedy . ',\n",
       " \"feardotcom's thrills are all cheap , but they mostly work . \",\n",
       " \"it's a trifle of a movie , with a few laughs surrounding an unremarkable soft center . \",\n",
       " \"grant isn't cary and bullock isn't katherine . \",\n",
       " \"ferrara directs the entire film with the kind of detachment that makes any given frame look like a family's custom made christmas card . \",\n",
       " 'newcomer helmer kevin donovan is hamstrung by a badly handled screenplay of what is really an amusing concept � a high-tech tux that transforms its wearer into a superman . ',\n",
       " \"like mike doesn't win any points for originality . it does succeed by following a feel good formula with a winning style , and by offering its target audience of urban kids some welcome role models and optimism . \",\n",
       " 'it could change america , not only because it is full of necessary discussion points , but because it is so accessible that it makes complex politics understandable to viewers looking for nothing but energetic entertainment . ',\n",
       " \"as his circle of friends keeps getting smaller one of the characters in long time dead says 'i'm telling you , this is f * * * ed' . maybe he was reading the minds of the audience . \",\n",
       " 'in a movie full of surprises , the biggest is that secret ballot is a comedy , both gentle and biting . ',\n",
       " 'a gentle , compassionate drama about grief and healing . ',\n",
       " 'the inspirational screenplay by mike rich covers a lot of ground , perhaps too much , but ties things together , neatly , by the end . ',\n",
       " 'a highly watchable , giggly little story with a sweet edge to it . ',\n",
       " \"it's still adam sandler , and it's not little nicky . and for many of us , that's good enough . \",\n",
       " 'a compelling story of musical passion against governmental odds . ',\n",
       " 'this beautifully animated epic is never dull . ',\n",
       " 'at times , the movie looks genuinely pretty . your nightmares , on the other hand , will be anything but . not even felinni would know what to make of this italian freakshow . ',\n",
       " 'this is a great subject for a movie , but hollywood has squandered the opportunity , using it as a prop for warmed-over melodrama and the kind of choreographed mayhem that director john woo has built his career on . ',\n",
       " \"visually breathtaking , viscerally exciting , and dramatically moving , it's the very definition of epic adventure . \",\n",
       " \"chai's structure and pacing are disconcertingly slack . \",\n",
       " 'the result is something quite fresh and delightful . ',\n",
       " 'preposterous and tedious , sonny is spiked with unintentional laughter that , unfortunately , occurs too infrequently to make the film even a guilty pleasure . ',\n",
       " \"the unique niche of self critical , behind the scenes navel gazing kaufman has carved from orleans' story and his own infinite insecurity is a work of outstanding originality . \",\n",
       " 'an engrossing story that combines psychological drama , sociological reflection , and high octane thriller . ',\n",
       " 'a swashbuckling tale of love , betrayal , revenge and above all , faith . ',\n",
       " 'it proves quite compelling as an intense , brooding character study . ',\n",
       " 'uneasy mishmash of styles and genres . ',\n",
       " \"hits one out of the park for the 'they don't make 'em like that anymore' department . \",\n",
       " \"its inescapable absurdities are tantamount to insulting the intelligence of anyone who hasn't been living under a rock ( since sept . 11 ) . \",\n",
       " 'no such thing breaks no new ground and treads old turf like a hippopotamus ballerina . ',\n",
       " \"before it takes a sudden turn and devolves into a bizarre sort of romantic comedy , steven shainberg's adaptation of mary gaitskill's harrowing short story . . . is a brilliantly played , deeply unsettling experience . \",\n",
       " 'so young , so smart , such talent , such a wise * * * . ',\n",
       " \"the sequel plays out like a flimsy excuse to give blade fans another look at wesley snipes' iconic hero doing battle with dozens of bad guys -- at once . \",\n",
       " \"miyazaki is one of world cinema's most wondrously gifted artists and storytellers . \",\n",
       " 'an unremarkable , modern action/comedy buddy movie whose only nod to nostalgia is in the title . ',\n",
       " 'the film benefits greatly from a less manic tone than its predecessor , as cho appears to have settled comfortably into her skin . ',\n",
       " \"at times , the suspense is palpable , but by the end there's a sense that the crux of the mystery hinges on a technicality that strains credulity and leaves the viewer haunted by the waste of potential . \",\n",
       " 'another wholly unnecessary addition to the growing , moldering pile of , well , extreme stunt pictures . ',\n",
       " 'stands as a document of what it felt like to be a new yorker    or , really , to be a human being    in the weeks after 9/11 . ',\n",
       " \"it will probably prove interesting to ram dass fans , but to others it may feel like a parody of the mellow , peace-and-love side of the '60s counterculture . \",\n",
       " 'full frontal had no effect and elicited no sympathies for any of the characters . by that measure , it is a failure . ',\n",
       " 'it is hard not to be especially grateful for freedom after a film like this . ',\n",
       " 'as it turns out , you can go home again . ',\n",
       " 'where janice beard falters in its recycled aspects , implausibility , and sags in pace , it rises in its courageousness , and comedic employment . ',\n",
       " 'it would be great to see this turd squashed under a truck , preferably a semi . ',\n",
       " 'the film has a kind of hard , cold effect . ',\n",
       " 'not only unfunny , but downright repellent . ',\n",
       " 'the stories here suffer from the chosen format . ',\n",
       " \"disney's live action division has a history of releasing cinematic flotsam , but this is one occasion when they have unearthed a rare gem . \",\n",
       " 'a low-budget affair , tadpole was shot on digital video , and the images often look smeary and blurry , to the point of distraction . then again , in a better movie , you might not have noticed . ',\n",
       " 'kwan makes the mix-and- match metaphors intriguing , while lulling us into torpor with his cultivated allergy to action . ',\n",
       " 'it follows the basic plot trajectory of nearly every schwarzenegger film : someone crosses arnie . arnie blows things up . ',\n",
       " 'droll caper comedy remake of \" big deal on madonna street \" that\\'s a sly , amusing , laugh filled little gem in which the ultimate \" bellini \" begins to look like a \" real kaputschnik . \" ',\n",
       " 'renner carries much of the film with a creepy and dead on performance . ',\n",
       " 'beware the quirky brit-com . they can and will turn on a dime from oddly humorous to tediously sentimental . ',\n",
       " \"tsai ming liang's witty , wistful new film , what time is it there ? , is a temporal inquiry that shoulders its philosophical burden lightly . \",\n",
       " \"most of the problems with the film don't derive from the screenplay , but rather the mediocre performances by most of the actors involved\",\n",
       " 'here polanski looks back on those places he saw at childhood , and captures them by freeing them from artefact , and by showing them heartbreakingly drably . ',\n",
       " \"[seagal's] strenuous attempt at a change in expression could very well clinch him this year's razzie . \",\n",
       " \"the vintage is pure '87 , with a halfhearted twist on its cautionary message : fatal attraction = don't have an affair with a nutjob ; unfaithful = don't if you're married to one . \",\n",
       " 'elegant and eloquent meditation on death and that most elusive of passions , love . ',\n",
       " 'little more than a super-sized infomercial for the cable-sports channel and its summer x games . ',\n",
       " 'captures that perverse element of the kafkaesque where identity , overnight , is robbed and replaced with a persecuted \" other . \" ',\n",
       " \"red dragon is less baroque and showy than hannibal , and less emotionally affecting than silence . but , like silence , it's a movie that gets under your skin . \",\n",
       " \"unlike most surf movies , blue crush thrillingly uses modern technology to take the viewer inside the wave . by the end you can't help but feel 'stoked . '\",\n",
       " 'escaping the studio , piccoli is warmly affecting and so is this adroitly minimalist movie . ',\n",
       " 'a triumph of art direction over narrative , but what art direction ! ',\n",
       " 'it\\'s the chemistry between the women and the droll scene stealing wit and wolfish pessimism of anna chancellor that makes this \" two weddings and a funeral \" fun . ',\n",
       " 'fuller would surely have called this gutsy and at times exhilarating movie a great yarn . ',\n",
       " 'it establishes its ominous mood and tension swiftly , and if the suspense never rises to a higher level , it is nevertheless maintained throughout . ',\n",
       " \"if there's no art here , it's still a good yarn    which is nothing to sneeze at these days . \",\n",
       " \"if deuces wild had been tweaked up a notch it would have become a camp adventure , one of those movies that's so bad it starts to become good . but it wasn't . \",\n",
       " 'the journey toward redemption feels more like a cinematic experiment than a full-blown movie . ',\n",
       " 'the script is a dim-witted pairing of teen-speak and animal gibberish . ',\n",
       " \" . . . the picture's cleverness is ironically muted by the very people who are intended to make it shine . \",\n",
       " 'why would anyone cast the magnificent jackie chan in a movie full of stunt doubles and special effects ? ',\n",
       " 'odd and weird . ',\n",
       " 'the footage of the rappers at play and the prison interview with suge knight are just two of the elements that will grab you . ',\n",
       " 'much-anticipated and ultimately lackluster movie . ',\n",
       " \"a very pretty after school special . it's an effort to watch this movie , but it eventually pays off and is effective if you stick with it . \",\n",
       " \"yes , spirited away is a triumph of imagination , but it's also a failure of storytelling . \",\n",
       " 'a live wire film that never loses its ability to shock and amaze . ',\n",
       " 'if the idea of the white man arriving on foreign shores to show wary natives the true light is abhorrent to you , the simplistic heaven will quite likely be more like hell . ',\n",
       " 'an enjoyable feel good family comedy regardless of race . ',\n",
       " 'femme fatale offers nothing more than a bait-and-switch that is beyond playing fair with the audience . are we dealing with dreams , visions or being told what actually happened as if it were the third ending of clue ? ',\n",
       " \"it's a setup so easy it borders on facile , but keeping the film from cheap shot mediocrity is its crack cast . \",\n",
       " 'rarely has skin looked as beautiful , desirable , even delectable , as it does in trouble every day . ',\n",
       " 'a crisply made movie that is no more than mildly amusing . ',\n",
       " \"time out is as serious as a pink slip . and more than that , it's an observant , unfussily poetic meditation about identity and alienation . \",\n",
       " 'neither funny nor suspenseful nor particularly well-drawn . ',\n",
       " \"it's refreshing to see a girl power movie that doesn't feel it has to prove anything . \",\n",
       " 'dissing a bond movie is quite like calling a dog stupid , but when it has the temerity to run over two hours , you feel like winding up with a kick . ',\n",
       " 'little more than a well-mounted history lesson . ',\n",
       " 'impeccably filmed , sexually charged , but ultimately lacking in substance , not to mention dragged down by a leaden closing act . ',\n",
       " 'the actors must indeed be good to recite some of this laughable dialogue with a straight face . ',\n",
       " 'all in all , the film is an enjoyable and frankly told tale of a people who live among us , but not necessarily with us . ',\n",
       " \"a delightful stimulus for the optic nerves , so much that it's forgivable that the plot feels like every other tale of a totalitarian tomorrow . \",\n",
       " \"like most of jaglom's films , some of it is honestly affecting , but more of it seems contrived and secondhand . \",\n",
       " \"director uwe boll and the actors provide scant reason to care in this crude '70s throwback . \",\n",
       " 'you could easily mistake it for a sketchy work-in-progress that was inexplicably rushed to the megaplexes before its time . ',\n",
       " 'a pointed , often tender , examination of the pros and cons of unconditional love and familial duties . ',\n",
       " \"like its two predecessors , 1983's koyaanisqatsi and 1988's powaqqatsi , the cinematic collage naqoyqatsi could be the most navel gazing film ever . \",\n",
       " \"a mess , but it's a sincere mess . \",\n",
       " \"aside from rohmer's bold choices regarding point of view , the lady and the duke represents the filmmaker's lifelong concern with formalist experimentation in cinematic art . \",\n",
       " 'far-fetched premise , convoluted plot , and thematic mumbo jumbo about destiny and redemptive love . ',\n",
       " 'oversexed , at times overwrought comedy/drama that offers little insight into the experience of being forty , female and single . ',\n",
       " \"you don't have to be an especially tough grader to give a charitable b minus to the emperor's club . \",\n",
       " 'so exaggerated and broad that it comes off as annoying rather than charming . ',\n",
       " 'that neither protagonist has a distinguishable condition hardly matters because both are just actory concoctions , defined by childlike dimness and a handful of quirks . ',\n",
       " \"if somebody was bored and . . . decided to make a dull , pretentious version of jesus' son , they'd come up with something like bart freundlich's world traveler . \",\n",
       " 'the two leads are almost good enough to camouflage the dopey plot , but so much naturalistic small talk , delivered in almost muffled exchanges , eventually has a lulling effect . ',\n",
       " 'broomfield reminds us that beneath the hype , the celebrity , the high life , the conspiracies and the mystery there were once a couple of bright young men    promising , talented , charismatic and tragically doomed . ',\n",
       " 'it turns out to be a cut above the norm , thanks to some clever writing and sprightly acting . ',\n",
       " 'it is intensely personal and yet    unlike quills    deftly shows us the temper of the times . ',\n",
       " \"would've been nice if the screenwriters had trusted audiences to understand a complex story , and left off the film's predictable denouement . then nadia's birthday might not have been such a bad day after all . \",\n",
       " \"while it is interesting to witness the conflict from the palestinian side , longley's film lacks balance . . . and fails to put the struggle into meaningful historical context . \",\n",
       " \" . . . there's a choppy , surface-effect feeling to the whole enterprise . \",\n",
       " \"it doesn't do the original any particular dishonor , but neither does it exude any charm or personality . \",\n",
       " 'it all starts to smack of a hallmark hall of fame , with a few four letter words thrown in that are generally not heard on television . ',\n",
       " 'family togetherness takes a back seat to inter-family rivalry and workplace ambition&#133 ; whole subplots have no explanation or even plot relevance . ',\n",
       " 'a thriller whose style , structure and rhythms are so integrated with the story , you cannot separate them . ',\n",
       " 'if you go into the theater expecting a scary , action-packed chiller , you might soon be looking for a sign . an exit sign , that is . ',\n",
       " \"the sort of film that makes me miss hitchcock , but also feel optimistic that there's hope for popular cinema yet . \",\n",
       " 'occasionally amateurishly made but a winsome cast and nice dialogue keeps it going . ',\n",
       " 'sorvino is delightful in the central role . she nearly glows with enthusiasm , sensuality and a conniving wit . ',\n",
       " \"it's one of the saddest films i have ever seen that still manages to be uplifting but not overly sentimental . \",\n",
       " 'a riveting profile of law enforcement , and a visceral , nasty journey into an urban hades . ',\n",
       " \"demme gets a lot of flavor and spice into his charade remake , but he can't disguise that he's spiffing up leftovers that aren't so substantial or fresh . \",\n",
       " 'demonstrates a vivid imagination and an impressive style that result in some terrific setpieces . ',\n",
       " \"director elie chouraqui , who co-wrote the script , catches the chaotic horror of war , but why bother if you're going to subjugate truth to the tear-jerking demands of soap opera ? \",\n",
       " 'generic thriller junk . teens only . ',\n",
       " \" . . . while dark water isn't a complete wash ( no pun intended ) , watched side by side with ringu , it ultimately comes off as a pale successor . \",\n",
       " 'usually when i get this much syrup , i like pancakes to go with it . ',\n",
       " 'this is the sort of low-grade dreck that usually goes straight to video --with a lousy script , inept direction , pathetic acting , poorly dubbed dialogue and murky cinematography , complete with visible boom mikes . ',\n",
       " \"there's no doubting that this is a highly ambitious and personal project for egoyan , but it's also one that , next to his best work , feels clumsy and convoluted . \",\n",
       " \"what's missing is what we call the 'wow' factor . \",\n",
       " \"far from heaven is a dazzling conceptual feat , but more than that , it's a work of enthralling drama . \",\n",
       " 'twohy knows how to inflate the mundane into the scarifying , and gets full mileage out of the rolling of a stray barrel or the unexpected blast of a phonograph record . ',\n",
       " 'star wars is back in a major way . ',\n",
       " 'worthless , from its pseudo-rock-video opening to the idiocy of its last frames . ',\n",
       " \"there's a disreputable air about the whole thing , and that's what makes it irresistible . \",\n",
       " \"if it's possible for a sequel to outshine the original , then sl2 does just that . \",\n",
       " 'a party hearty teen flick that scalds like acid . ',\n",
       " 'though jones and snipes are enthralling , the movie bogs down in rhetoric and clich� . ',\n",
       " \"doug liman , the director of bourne , directs the traffic well , gets a nice wintry look from his locations , absorbs us with the movie's spycraft and uses damon's ability to be focused and sincere . \",\n",
       " \"brings awareness to an issue often overlooked    women's depression . \",\n",
       " \"it's a square , sentimental drama that satisfies , as comfort food often can . \",\n",
       " 'clumsy , obvious , preposterous , the movie will likely set the cause of woman warriors back decades . ',\n",
       " 'whatever about warning kids about the dangers of ouija boards , someone should dispense the same advice to film directors . ',\n",
       " \"i was amused and entertained by the unfolding of bielinsky's cleverly constructed scenario , and greatly impressed by the skill of the actors involved in the enterprise . \",\n",
       " \"hey , at least the title of this film lets you know exactly where it's heading . \",\n",
       " \"while the filmmaking may be a bit disjointed , the subject matter is so fascinating that you won't care . \",\n",
       " \"it's easy to love robin tunney -- she's pretty and she can act -- but it gets harder and harder to understand her choices . \",\n",
       " 'has a solid emotional impact . ',\n",
       " 'a worthy entry into a very difficult genre . ',\n",
       " \"it's definitely not made for kids or their parents , for that matter , and i think even fans of sandler's comic taste may find it uninteresting . \",\n",
       " \"an engaging overview of johnson's eccentric career . \",\n",
       " \"does a good job of establishing a time and place , and of telling a fascinating character's story . \",\n",
       " 'who is the audience for cletis tout ? anybody who enjoys quirky , fun , popcorn movies with a touch of silliness and a little bloodshed . ',\n",
       " 'a terrific date movie , whatever your orientation . ',\n",
       " \"benigni's pinocchio is extremely straight and mind-numbingly stilted , its episodic pacing keeping the film from developing any storytelling flow . \",\n",
       " 'cremaster 3 is at once a tough pill to swallow and a minor miracle of self expression . ',\n",
       " \"[w]hile long on amiable monkeys and worthy environmentalism , jane goodall's wild chimpanzees is short on the thrills the oversize medium demands . \",\n",
       " 'watching queen of the damned is like reading a research paper , with special effects tossed in . ',\n",
       " \"jacquot's rendering of puccini's tale of devotion and double-cross is more than just a filmed opera . in his first stab at the form , jacquot takes a slightly anarchic approach that works only sporadically . \",\n",
       " 'the storytelling may be ordinary , but the cast is one of those all star reunions that fans of gosford park have come to assume is just another day of brit cinema . ',\n",
       " \"the biggest problem with satin rouge is lilia herself . she's a cipher , played by an actress who smiles and frowns but doesn't reveal an inner life . \",\n",
       " 'a terrible movie that some people will nevertheless find moving . ',\n",
       " 'scores a few points for doing what it does with a dedicated and good hearted professionalism . ',\n",
       " \"none of this is meaningful or memorable , but frosting isn't , either , and you wouldn't turn down a big bowl of that , would you ? \",\n",
       " 'energetic and boldly provocative . ',\n",
       " 'this is an egotistical endeavor from the daughter of horror director dario argento ( a producer here ) , but her raw performance and utter fearlessness make it strangely magnetic . ',\n",
       " \"painful to watch , but viewers willing to take a chance will be rewarded with two of the year's most accomplished and riveting film performances . \",\n",
       " \"trying to figure out the rules of the country bear universe -- when are bears bears and when are they like humans , only hairier -- would tax einstein's brain . \",\n",
       " 'a great script brought down by lousy direction . same guy with both hats . big mistake . ',\n",
       " 'those who are only mildly curious , i fear , will be put to sleep or bewildered by the artsy and often pointless visuals . ',\n",
       " 'gaunt , silver haired and leonine , harris brings a tragic dimension and savage full bodied wit and cunning to the aging sandeman . ',\n",
       " 'an utterly charming and hilarious film that reminded me of the best of the disney comedies from the 60s . ',\n",
       " 'a modestly comic , modestly action-oriented world war ii adventure that , in terms of authenticity , is one of those films that requires the enemy to never shoot straight . ',\n",
       " \"while the glass slipper doesn't quite fit , pumpkin is definitely a unique modern fairytale . \",\n",
       " 'if only merchant paid more attention the story . ',\n",
       " 'formulaic to the 51st power , more like . ',\n",
       " 'two hours of junk . ',\n",
       " 'some movies suck you in despite their flaws , and heaven is one such beast . ',\n",
       " \"judith and zaza's extended bedroom sequence . . . is so intimate and sensual and funny and psychologically self revealing that it makes most of what passes for sex in the movies look like cheap hysterics . \",\n",
       " 'this is the kind of subject matter that could so easily have been fumbled by a lesser filmmaker , but ayres makes the right choices at every turn . ',\n",
       " \"bullock's complete lack of focus and ability quickly derails the film\",\n",
       " \"the story's scope and pageantry are mesmerizing , and mr . day lewis roars with leonine power . \",\n",
       " 'eckstraordinarily lame and severely boring . ',\n",
       " 'a cultural wildcard experience : wacky , different , unusual , even nutty . ',\n",
       " 'with so many bad romances out there , this is the kind of movie that deserves a chance to shine . ',\n",
       " \"a disturbing examination of what appears to be the definition of a 'bad' police shooting . \",\n",
       " \"when it comes to the battle of hollywood vs . woo , it looks like woo's a p . o . w . \",\n",
       " 'all the filmmakers are asking of us , is to believe in something that is improbable . ',\n",
       " \"it's hard not to be seduced by witherspoon's charisma , even in this run of the mill vehicle , because this girl knows how to drive it to the max . \",\n",
       " \"to some eyes this will seem like a recycling of cliches , an assassin's greatest hits . to others , it will remind them that hong kong action cinema is still alive and kicking . \",\n",
       " 'the idea is more interesting than the screenplay , which lags badly in the middle and lurches between not-very-funny comedy , unconvincing dramatics and some last-minute action strongly reminiscent of run lola run . ',\n",
       " 'its characters are thinner than cardboard -- or even comic-book paper . ',\n",
       " 'an appealingly juvenile trifle that delivers its share of laughs and smiles . ',\n",
       " \"'it's better to go in knowing full well what's going to happen , but willing to let the earnestness of its execution and skill of its cast take you down a familiar road with a few twists . cynics need not apply . '\",\n",
       " 'problem is , we have no idea what in creation is going on . ',\n",
       " ' . . . a poignant and powerful narrative that reveals that reading writing and arithmetic are not the only subjects to learn in life . ',\n",
       " '4ever has the same sledgehammer appeal as pokemon videos , but it breathes more on the big screen and induces headaches more slowly . ',\n",
       " 'apallingly absurd . . . the chemistry or lack thereof between newton and wahlberg could turn an imax theater into a 9 \" black and white portable tv . ',\n",
       " \"a grand fart coming from a director beginning to resemble someone's crazy french grandfather . \",\n",
       " \"it's the cinematic equivalent of a good page turner , and even if it's nonsense , its claws dig surprisingly deep . \",\n",
       " 'starts as an intense political and psychological thriller but is sabotaged by ticking time bombs and other hollywood-action cliches . ',\n",
       " \"it's a mindless action flick with a twist -- far better suited to video-viewing than the multiplex . \",\n",
       " \"while it has definite weaknesses    like a rather unbelievable love interest and a meandering ending    this '60s caper film is a riveting , brisk delight . \",\n",
       " \"[hell is] looking down at your watch and realizing serving sara isn't even halfway through . \",\n",
       " ' . . . with the gifted pearce on hand to keep things on semi stable ground dramatically , this retooled machine is ultimately effective enough at achieving the modest , crowd pleasing goals it sets for itself . ',\n",
       " \"like these russo guys lookin' for their mamet instead found their sturges . \",\n",
       " 'staggers between flaccid satire and what is supposed to be madcap farce . ',\n",
       " 'that rara avis : the intelligent romantic comedy with actual ideas on its mind . ',\n",
       " 'works hard to establish rounded characters , but then has nothing fresh or particularly interesting to say about them . ',\n",
       " 'chen films the resolutely downbeat smokers only with every indulgent , indie trick in the book . ',\n",
       " \"this movie is so bad , that it's almost worth seeing because it's so bad . \",\n",
       " \"whether or not you buy mr . broomfield's findings , the film acquires an undeniable entertainment value as the slight , pale mr . broomfield continues to force himself on people and into situations that would make lesser men run for cover . \",\n",
       " 'how do you spell clich� ? ',\n",
       " \"as spent screen series go , star trek : nemesis is even more suggestive of a 65th class reunion mixer where only eight surviving members show up -- and there's nothing to drink . \",\n",
       " 'such a bad movie that its luckiest viewers will be seated next to one of those ignorant pinheads who talk throughout the show . ',\n",
       " 'it would work much better as a one-hour tv documentary . ',\n",
       " 'as with too many studio pics , plot mechanics get in the way of what should be the lighter-than-air adventure . ',\n",
       " 'look , this is a terrific flick replete with dazzling camera work , dancing and music . ',\n",
       " 'so faithful to the doldrums of the not-quite-urban , not-quite-suburban milieu as to have viewers recoiling from the reality check . ',\n",
       " \"as hugh grant says repeatedly throughout the movie , 'lovely ! brilliant ! '\",\n",
       " 'the sweetest thing leaves an awful sour taste . ',\n",
       " \"the cast comes through even when the movie doesn't . \",\n",
       " 'so verbally flatfooted and so emotionally predictable or bland that it plays like the standard made-for-tv movie . ',\n",
       " 'the pleasures that it does afford may be enough to keep many moviegoers occupied amidst some of the more serious minded concerns of other year end movies . ',\n",
       " \"when seagal appeared in an orange prison jumpsuit , i wanted to stand up in the theater and shout , 'hey , kool-aid ! '\",\n",
       " \"[lin chung's] voice is rather unexceptional , even irritating ( at least to this western ear ) , making it awfully hard to buy the impetus for the complicated love triangle that develops between the three central characters . \",\n",
       " 'no matter how firmly director john stainton has his tongue in his cheek , the fact remains that a wacky concept does not a movie make . ',\n",
       " \"munch's genuine insight makes the film's occasional overindulgence forgivable . \",\n",
       " 'an unfortunate title for a film that has nothing endearing about it . ',\n",
       " \"[toback's] fondness for fancy split-screen , stuttering editing and pompous references to wittgenstein and kirkegaard . . . blends uneasily with the titillating material . \",\n",
       " \"we haven't seen such hilarity since say it isn't so ! \",\n",
       " 'if \" lilo & stitch \" isn\\'t the most edgy piece of disney animation to hit the silver screen , then this first film to use a watercolor background since \" dumbo \" certainly ranks as the most original in years . ',\n",
       " \"to better understand why this didn't connect with me would require another viewing , and i won't be sitting through this one again . . . that in itself is commentary enough . \",\n",
       " 'lacks heart , depth and , most of all , purpose . ',\n",
       " 'the whole film has this sneaky feel to it � as if the director is trying to dupe the viewer into taking it all as very important simply because the movie is ugly to look at and not a hollywood product . ',\n",
       " 'a fleet footed and pleasingly upbeat family diversion . ',\n",
       " \"it's sweet , harmless , dumb , occasionally funny and about as compelling as a fishing show . \",\n",
       " \"stuffed to the brim with ideas , american instigator michael moore's film is a rambling examination of american gun culture that uses his usual modus operandi of crucifixion through juxtaposition . \",\n",
       " 'appropriately cynical social commentary aside , #9 never quite ignites . ',\n",
       " 'a full world has been presented onscreen , not some series of carefully structured plot points building to a pat resolution . ',\n",
       " \"one of the more intelligent children's movies to hit theaters this year . \",\n",
       " 'the heat of the moment prevails . it cooks conduct in a low , smoky and inviting sizzle . ',\n",
       " \"boldly engineering a collision between tawdry b movie flamboyance and grandiose spiritual anomie , rose's film , true to its source material , provides a tenacious demonstration of death as the great equalizer . \",\n",
       " 'bottom-rung new jack city wannabe . ',\n",
       " 'gaghan . . . has thrown every suspenseful clich� in the book at this nonsensical story . ',\n",
       " 'trades run of the mill revulsion for extreme unease . ',\n",
       " 'a loving little film of considerable appeal . ',\n",
       " 'likely to expertly drum up repressed teenage memories in any viewer . ',\n",
       " \"on the surface a silly comedy , scotland , pa would be forgettable if it weren't such a clever adaptation of the bard's tragic play . \",\n",
       " ' . . . bright , intelligent , and humanly funny film . ',\n",
       " 'without the dark spookiness of crystal lake camp , the horror concept completely loses its creepy menace . ',\n",
       " 'i admired it , particularly that unexpected downer of an ending . ',\n",
       " 'punitively affirmational parable . ',\n",
       " \" . . . built on the premise that middle-class arkansas consists of monster truck-loving good ol' boys and peroxide blond honeys whose worldly knowledge comes from tv reruns and supermarket tabloids . \",\n",
       " 'feels shrill , simple and soapy . ',\n",
       " 'spreads itself too thin , leaving these actors , as well as the members of the commune , short of profound characterizations',\n",
       " 'made for teens and reviewed as such , this is recommended only for those under 20 years of age . . . and then only as a very mild rental . ',\n",
       " 'a monster combat thriller as impersonal in its relentlessness as the videogame series that inspired it . ',\n",
       " 'plods along , minus the twisted humor and eye-popping visuals that have made miike . . . a cult hero . ',\n",
       " 'the cast is uniformly excellent and relaxed . ',\n",
       " 'a strong first quarter , slightly less so second quarter , and average second half . ',\n",
       " 'at its best . . . festival in cannes bubbles with the excitement of the festival in cannes . ',\n",
       " 'the movie is saved from unbearable lightness by the simplicity of the storytelling and the authenticity of the performances . ',\n",
       " 'taken outside the context of the current political climate ( see : terrorists are more evil than ever ! ) , the sum of all fears is simply a well made and satisfying thriller . ',\n",
       " 'in the long , dishonorable history of quickie teen pop exploitation , like mike stands out for its only partly synthetic decency . ',\n",
       " 'it has that rare quality of being able to creep the living hell out of you . . . ',\n",
       " 'a fan film that for the uninitiated plays better on video with the sound turned down . ',\n",
       " 'the jokes are telegraphed so far in advance they must have been lost in the mail . ',\n",
       " 'probes in a light hearted way the romantic problems of individuals for whom the yearning for passion spells discontent . ',\n",
       " \" i admire the closing scenes of the film , which seem to ask whether our civilization offers a cure for vincent's complaint . \",\n",
       " \"it's a great deal of sizzle and very little steak . but what spectacular sizzle it is ! . . . in this incarnation its fizz is infectious . \",\n",
       " \"ms . phoenix is completely lacking in charm and charisma , and is unable to project either esther's initial anomie or her eventual awakening . \",\n",
       " 'for the future , one hopes mr . plympton will find room for one more member of his little band , a professional screenwriter . ',\n",
       " 'flotsam in the sea of moviemaking , not big enough for us to worry about it causing significant harm and not smelly enough to bother despising . ',\n",
       " 'i weep for the future when a good portion of the respected critical community in this country consider blue crush to be an intelligent film about young women . ',\n",
       " 'kudos to the most enchanting film of the year . ',\n",
       " 'one problem with the movie , directed by joel schumacher , is that it jams too many prefabricated story elements into the running time . ',\n",
       " 'jones helps breathe some life into the insubstantial plot , but even he is overwhelmed by predictability . ',\n",
       " \"hoffman notches in the nuances of pain , but his smart , edgy voice and waddling profile ( emphasized here ) accent the humor of wilson's plight , and that saves his pathos from drippiness . \",\n",
       " 'ultimately , in the history of the academy , people may be wondering what all that jazz was about \" chicago \" in 2002 . zellweger\\'s whiny pouty-lipped poof faced and spindly attempt at playing an ingenue makes her nomination as best actress even more of a an a',\n",
       " 'sweet home alabama \" is what it is a nice , harmless date film . . . ',\n",
       " 'art house to the core , read my lips is a genre curling crime story that revives the free wheeling noir spirit of old french cinema . ',\n",
       " \"terrific performances , great to look at , and funny . a little uneven to be the cat's meow , but it's good enough to be the purr . \",\n",
       " \"starts off with a bang , but then fizzles like a wet stick of dynamite at the very end . it's still worth a look . \",\n",
       " \"the film's unhurried pace is actually one of its strengths . entirely appropriately , the tale unfolds like a lazy summer afternoon and concludes with the crisp clarity of a fall dawn . \",\n",
       " \" . . . there's enough cool fun here to warm the hearts of animation enthusiasts of all ages . \",\n",
       " 'a perfectly acceptable , perfectly bland , competently acted but by no means scary horror movie . ',\n",
       " \"what's so fun about this silly , outrageous , ingenious thriller is the director's talent . watching a brian depalma movie is like watching an alfred hitchcock movie after drinking twelve beers . \",\n",
       " 'there is truth here',\n",
       " 'coupling disgracefully written dialogue with flailing bodily movements that substitute for acting , circuit is the awkwardly paced soap opera-ish story . ',\n",
       " \"like a bad improvisation exercise , the superficially written characters ramble on tediously about their lives , loves and the art they're struggling to create . \",\n",
       " 'a wildly inconsistent emotional experience . ',\n",
       " 'compelling revenge thriller , though somewhat weakened by a miscast leading lady . ',\n",
       " \"oops , she's really done it this time . that chirpy songbird britney spears has popped up with more mindless drivel . \",\n",
       " 'really quite funny . ',\n",
       " \"maybe it's just because this past year has seen the release of some of the worst film comedies in decades . . . but honestly , analyze that really isn't all that bad . \",\n",
       " 'this version incarnates the prophetic book in a way even its exacting author might admire . ',\n",
       " 'in moonlight mile , no one gets shut out of the hug cycle . ',\n",
       " 'an artful yet depressing film that makes a melodramatic mountain out of the molehill of a missing bike . ',\n",
       " 'in the end there is one word that best describes this film : honest . ',\n",
       " 'unspools like a highbrow , low-key , 102-minute infomercial , blending entrepreneurial zeal with the testimony of satisfied customers . ',\n",
       " 'elling , portrayed with quiet fastidiousness by per christian ellefsen , is a truly singular character , one whose frailties are only slightly magnified versions of the ones that vex nearly everyone . ',\n",
       " \"a sensitive and expertly acted crowd pleaser that isn't above a little broad comedy and a few unabashedly sentimental tears . \",\n",
       " \"it's all gratuitous before long , as if schwentke were fulfilling a gross-out quota for an anticipated audience demographic instead of shaping the material to fit the story . \",\n",
       " 'reeks of rot and hack work from start to finish . ',\n",
       " \"a moving and weighty depiction of one family's attempts to heal after the death of a child . \",\n",
       " 'as pure over-the-top trash , any john waters movie has it beat by a country mile . ',\n",
       " 'the script boasts some tart tv-insider humor , but the film has not a trace of humanity or empathy . ',\n",
       " 'focuses on joan\\'s raging hormones and sledgehammers the audience with spanish inquisitions about her \" madness \" so much that i became mad that i wasted 123 minutes and $9 . 50 on this 21st century torture device . ',\n",
       " 'devoid of any of the qualities that made the first film so special . ',\n",
       " 'a period story about a catholic boy who tries to help a jewish friend get into heaven by sending the audience straight to hell . ',\n",
       " \"'rare birds' tries to force its quirkiness upon the audience . \",\n",
       " 'a loquacious and dreary piece of business . ',\n",
       " \"a little better than sorcerer's stone . \",\n",
       " \"only an epic documentary could get it all down , and spike lee's jim brown : all american at long last gives its subject a movie worthy of his talents . \",\n",
       " 'secret ballot is too contemplative to be really funny . ',\n",
       " 'to imagine the life of harry potter as a martial arts adventure told by a lobotomized woody allen is to have some idea of the fate that lies in store for moviegoers lured to the mediocrity that is kung pow : enter the fist . ',\n",
       " ' . . . if it had been only half-an-hour long or a tv special , the humor would have been fast and furious-- at ninety minutes , it drags . ',\n",
       " \"ok arthouse . the power of this script , and the performances that come with it , is that the whole damned thing didn't get our moral hackles up . \",\n",
       " 'more maudlin than sharp . ',\n",
       " 'visually striking and viscerally repellent . ',\n",
       " 'precocious smarter than thou wayward teen struggles to rebel against his oppressive , right wing , propriety obsessed family . anyone else seen this before ? ',\n",
       " 'if the title is a jeopardy question , then the answer might be \" how does steven seagal come across these days ? \" or maybe \" how will you feel after an 88-minute rip-off of the rock with action confined to slo-mo gun firing and random glass-shattering ? ',\n",
       " 'with or without ballast tanks , k-19 sinks to a harrison ford low . ',\n",
       " \"smith's approach is never to tease , except gently and in that way that makes us consider our own eccentricities and how they are expressed through our homes . \",\n",
       " 'hoffman waits too long to turn his movie in an unexpected direction , and even then his tone retains a genteel , prep-school quality that feels dusty and leatherbound . ',\n",
       " 'plodding , poorly written , murky and weakly acted , the picture feels as if everyone making it lost their movie mojo . ',\n",
       " 'less-than-compelling documentary of a yiddish theater clan . ',\n",
       " \"part of the film's cheeky charm comes from its vintage schmaltz . \",\n",
       " 'may cause you to bite your tongue to keep from laughing at the ridiculous dialog or the oh-so convenient plot twists . ',\n",
       " 'one of those pictures whose promising , if rather precious , premise is undercut by amateurish execution . ',\n",
       " 'god bless crudup and his aversion to taking the easy hollywood road and cashing in on his movie star gorgeousness . ',\n",
       " 'land , people and narrative flow together in a stark portrait of motherhood deferred and desire explored . ',\n",
       " \"robinson's web of suspense matches the page turning frenzy that clancy creates . \",\n",
       " 'while holm is terrific as both men and hjejle quite appealing , the film fails to make the most out of the intriguing premise . ',\n",
       " \"there's no getting around the fact that this is revenge of the nerds revisited -- again . \",\n",
       " 'amid the clich� and foreshadowing , cage manages a degree of casual realism . . . that is routinely dynamited by blethyn . ',\n",
       " \"could the whole plan here have been to produce something that makes fatal attraction look like a classic by comparison ? that's the only sane rationale i can think of for swimfan's existence . \",\n",
       " 'the comedy is nonexistent . ',\n",
       " 'enough trivializes an important crisis , reduces it to an almost comic embarrassment . ',\n",
       " \"for all the dolorous trim , secretary is a genial romance that maintains a surprisingly buoyant tone throughout , notwithstanding some of the writers' sporadic dips into pop freudianism . \",\n",
       " 'a picture that extols the virtues of comradeship and community in a spunky , spirited fashion . ',\n",
       " 'an uplifting , near masterpiece . ',\n",
       " 'at once a testament to the divine calling of education and a demonstration of the painstaking process of imparting knowledge . ',\n",
       " 'the film is filled with humorous observations about the general absurdity of modern life as seen through the eyes outsiders , but deftly manages to avoid many of the condescending stereotypes that so often plague films dealing with the mentally ill . ',\n",
       " 'very solid , very watchable first feature for director peter sheridan',\n",
       " \"most consumers of lo mein and general tso's chicken barely give a thought to the folks who prepare and deliver it , so , hopefully , this film will attach a human face to all those little steaming cartons . \",\n",
       " 'if only it were , well , funnier . ',\n",
       " 'gives everyone something to shout about . ',\n",
       " 'a refreshing korean film about five female high school friends who face an uphill battle when they try to take their relationships into deeper waters . ',\n",
       " \"if legendary shlockmeister ed wood had ever made a movie about a vampire , it probably would look a lot like this alarming production , adapted from anne rice's novel the vampire chronicles . \",\n",
       " 'reggio and glass put on an intoxicating show . ',\n",
       " 'it desperately wants to be a wacky , screwball comedy , but the most screwy thing here is how so many talented people were convinced to waste their time . ',\n",
       " \"it gives devastating testimony to both people's capacity for evil and their heroic capacity for good . \",\n",
       " \"schnitzler's film has a great hook , some clever bits and well-drawn , if standard issue , characters , but is still only partly satisfying . \",\n",
       " \"it's sweet , funny , charming , and completely delightful . \",\n",
       " 'might best be enjoyed as a daytime soaper . ',\n",
       " \"brown sugar signals director rick famuyiwa's emergence as an articulate , grown up voice in african american cinema . \",\n",
       " 'the film , while not exactly assured in its execution , is notable for its sheer audacity and openness . ',\n",
       " 'animated drivel meant to enhance the self-image of drooling idiots . ',\n",
       " \"the film's heady yet far from impenetrable theory suggests that russians take comfort in their closed off nationalist reality . \",\n",
       " \"the thriller side of this movie is falling flat , as the stalker doesn't do much stalking , and no cop or lawyer grasps the concept of actually investigating the case . \",\n",
       " 'wiseman is patient and uncompromising , letting his camera observe and record the lives of women torn apart by a legacy of abuse . ',\n",
       " 'no matter how much he runs around and acts like a doofus , accepting a 50-year-old in the role is creepy in a michael jackson sort of way . ',\n",
       " 'apart from anything else , this is one of the best sustained ideas i have ever seen on the screen . ',\n",
       " \"broder's screenplay is shallow , offensive and redundant , with pitifully few real laughs . \",\n",
       " 'it asks nothing of the audience other than to sit back and enjoy a couple of great actors hamming it up . ',\n",
       " \"de niro may enjoy the same free ride from critics afforded to clint eastwood in the lazy bloodwork . but like bruce springsteen's gone-to-pot asbury park , new jersey , this sad-sack waste of a movie is a city of ruins . \",\n",
       " 'a very stylish but ultimately extremely silly tale . . . a slick piece of nonsense but nothing more . ',\n",
       " \"it might be tempting to regard mr . andrew and his collaborators as oddballs , but mr . earnhart's quizzical , charming movie allows us to see them , finally , as artists . \",\n",
       " \"spielberg's first real masterpiece , it deserved all the hearts it won    and wins still , 20 years later . \",\n",
       " \"for casual moviegoers who stumble into rules expecting a slice of american pie hijinks starring the kid from dawson's creek , they'll probably run out screaming . \",\n",
       " \"a dream cast of solid female talent who build a seamless ensemble . there isn't a weak or careless performance amongst them . \",\n",
       " \"the piece plays as well as it does thanks in large measure to anspaugh's three lead actresses . \",\n",
       " \"there's no reason to miss interview with the assassin\",\n",
       " ' . . . just a big mess of a movie , full of images and events , but no tension or surprise . ',\n",
       " \"this version moves beyond the original's nostalgia for the communal film experiences of yesteryear to a deeper realization of cinema's inability to stand in for true , lived experience . \",\n",
       " 'a perfectly respectable , perfectly inoffensive , easily forgettable film . ',\n",
       " 'it is a film that will have people walking out halfway through , will encourage others to stand up and applaud , and will , undoubtedly , leave both camps engaged in a ferocious debate for years to come . ',\n",
       " \"it's probably worth catching solely on its visual merits . if only it had the story to match . \",\n",
       " 'boasting some of the most poorly staged and lit action in memory , impostor is as close as you can get to an imitation movie . ',\n",
       " 'a thriller without thrills and a mystery devoid of urgent questions . ',\n",
       " \" . . . it's as comprehensible as any dummies guide , something even non techies can enjoy . \",\n",
       " 'austin powers for the most part is extremely funny , the first part making up for any flaws that come later . ',\n",
       " \"has enough wit , energy and geniality to please not only the fanatical adherents on either side , but also people who know nothing about the subject and think they're not interested . \",\n",
       " 'i found the movie as divided against itself as the dysfunctional family it portrays . ',\n",
       " 'like its bizarre heroine , it irrigates our souls . ',\n",
       " \"the movie is concocted and carried out by folks worthy of scorn , and the nicest thing i can say is that i can't remember a single name responsible for it . \",\n",
       " \"guys say mean things and shoot a lot of bullets . some of the characters die and others don't , and the film pretends that those living have learned some sort of lesson , and , really , nobody in the viewing audience cares . \",\n",
       " \"if there's nothing fresh about wannabes , which was written by mr . demeo , who produced and directed the film with charles a . addessi , much of the time the movie feels authentic . \",\n",
       " \"tries too hard to be funny in a way that's too loud , too goofy and too short of an attention span . \",\n",
       " 'as immaculate as stuart little 2 is , it could be a lot better if it were , well , more adventurous . ',\n",
       " 'a compelling spanish film about the withering effects of jealousy in the life of a young monarch whose sexual passion for her husband becomes an obsession . ',\n",
       " \"it will grip even viewers who aren't interested in rap , as it cuts to the heart of american society in an unnerving way . \",\n",
       " \"parts of the film feel a bit too much like an infomercial for ram dass's latest book aimed at the boomer demographic . but mostly it's a work that , with humor , warmth , and intelligence , captures a life interestingly lived . \",\n",
       " \"it's worth seeing just on the basis of the wisdom , and at times , the startling optimism , of the children . \",\n",
       " 'enormously likable , partly because it is aware of its own grasp of the absurd . ',\n",
       " 'what [frei] gives us . . . is a man who uses the damage of war -- far more often than the warfare itself -- to create the kind of art shots that fill gallery shows . ',\n",
       " \"if disney's cinderella proved that 'a dream is a wish your heart makes , ' then cinderella ii proves that a nightmare is a wish a studio's wallet makes . \",\n",
       " \"if you open yourself up to mr . reggio's theory of this imagery as the movie's set . . . it can impart an almost visceral sense of dislocation and change . \",\n",
       " 'the story bogs down in a mess of purposeless violence . ',\n",
       " ' . . . a confusing drudgery . ',\n",
       " 'the movie should be credited with remembering his victims . ',\n",
       " 'children of the century , though well dressed and well made , ultimately falls prey to the contradiction that afflicts so many movies about writers . ',\n",
       " 'you get the impression that writer and director burr steers knows the territory . . . but his sense of humor has yet to lose the smug self-satisfaction usually associated with the better private schools . ',\n",
       " 'a good piece of work more often than not . ',\n",
       " 'chabrol has taken promising material for a black comedy and turned it instead into a somber chamber drama . ',\n",
       " 'windtalkers celebrates the human spirit and packs an emotional wallop . ',\n",
       " 'a puzzle whose pieces do not fit . some are fascinating and others are not , and in the end , it is almost a good movie . ',\n",
       " 'spy kids 2 also happens to be that rarity among sequels : it actually improves upon the original hit movie . ',\n",
       " \"going to this movie is a little like chewing whale blubber   it's an acquired taste that takes time to enjoy , but it's worth it , even if it does take 3 hours to get through . \",\n",
       " 'p . t . anderson understands the grandness of romance and how love is the great equalizer that can calm us of our daily ills and bring out joys in our lives that we never knew were possible . ',\n",
       " 'since the movie is based on a nicholas sparks best seller , you know death is lurking around the corner , just waiting to spoil things . ',\n",
       " 'formula 51 has dulled your senses faster and deeper than any recreational drug on the market . ',\n",
       " 'beart and berling are both superb , while huppert . . . is magnificent . ',\n",
       " 'ahhhh . . . revenge is sweet ! ',\n",
       " \"moore's complex and important film is also , believe it or not , immensely entertaining , a david and goliath story that's still very much playing itself out . \",\n",
       " \"it works its magic with such exuberance and passion that the film's length becomes a part of its fun . \",\n",
       " 'at once half-baked and overheated . ',\n",
       " 'a dumb movie with dumb characters doing dumb things and you have to be really dumb not to see where this is going . ',\n",
       " \"the film rehashes several old themes and is capped with pointless extremes -- it's insanely violent and very graphic . \",\n",
       " 'director of photography benoit delhomme shot the movie in delicious colors , and the costumes and sets are grand . ',\n",
       " 'a very good film sits in the place where a masterpiece should be . ',\n",
       " 'the way the roundelay of partners functions , and the interplay within partnerships and among partnerships and the general air of gator bashing are consistently delightful . ',\n",
       " 'for the most part , it works beautifully as a movie without sacrificing the integrity of the opera . ',\n",
       " 'attempts by this ensemble film to impart a message are so heavy-handed that they instead pummel the audience . ',\n",
       " \"there are some laughs in this movie , but williams' anarchy gets tiresome , the satire is weak . \",\n",
       " \"i can't say that i liked homeboy ; it'd be more accurate to say that i found it intriguing , bizarre , dogma like in spots   and quite truthful , in its way . \",\n",
       " \"a few hours after you've seen it , you forget you've been to the movies . \",\n",
       " 'the script by vincent r . nebrida . . . tries to cram too many ingredients into one small pot . ',\n",
       " 'although disney follows its standard formula in this animated adventure , it feels more forced than usual . ',\n",
       " 'all the performances are top notch and , once you get through the accents , all or nothing becomes an emotional , though still positive , wrench of a sit . ',\n",
       " \"director brian levant , who never strays far from his sitcom roots , skates blithely from one implausible situation to another , pausing only to tie up loose ends with more bows than you'll find on a french poodle . \",\n",
       " \"oscar wilde's masterpiece , the importance of being earnest , may be the best play of the 19th century . it's so good that its relentless , polished wit can withstand not only inept school productions , but even oliver parker's movie adaptation . \",\n",
       " 'funny , sexy , devastating and incurably romantic . ',\n",
       " 'a very well made , funny and entertaining picture . ',\n",
       " \"it may seem long at 110 minutes if you're not a fan , because it includes segments of 12 songs at a reunion concert . \",\n",
       " \"parris' performance is credible and remarkably mature . \",\n",
       " 'a 75-minute sample of puerile rubbish that is listless , witless , and devoid of anything resembling humor . ',\n",
       " '\\'frailty \" starts out like a typical bible killer story , but it turns out to be significantly different ( and better ) than most films with this theme . ',\n",
       " 'director david jacobson gives dahmer a consideration that the murderer never game his victims . ',\n",
       " 'with minimal imagination , you could restage the whole thing in your bathtub . ',\n",
       " \"never quite transcends jokester status . . . and the punchline doesn't live up to barry's dead-eyed , perfectly chilled delivery . \",\n",
       " 'a lovely film for the holiday season . ',\n",
       " 'a hysterical yet humorless disquisition on the thin line between sucking face and literally sucking face . ',\n",
       " \"'pocas veces es posible ver un elenco tan compenetrado con la historia , donde todos y cada uno de los actores ofrecen actuaciones verdaderamente memorables . '\",\n",
       " \"if steven soderbergh's 'solaris' is a failure it is a glorious failure . \",\n",
       " 'the chateau belongs to rudd , whose portrait of a therapy dependent flakeball spouting french malapropisms . . . is a nonstop hoot . ',\n",
       " 'not only better than its predecessor , it may rate as the most magical and most fun family fare of this or any recent holiday season . ',\n",
       " 'good naturedly cornball sequel . ',\n",
       " 'i felt trapped and with no obvious escape for the entire 100 minutes . ',\n",
       " 'a cleverly crafted but ultimately hollow mockumentary . ',\n",
       " 'exciting documentary . ',\n",
       " 'in the book-on-tape market , the film of \" the kid stays in the picture \" would be an abridged edition',\n",
       " \"the great pity is that those responsible didn't cut their losses � and ours � and retitle it the adventures of direct-to-video nash , and send it to its proper home . \",\n",
       " 'one from the heart . ',\n",
       " \"seemingly a vehicle to showcase the canadian's inane ramblings , stealing harvard is a smorgasbord of soliloquies about nothing delivered by the former mr . drew barrymore . \",\n",
       " \"[i]f you've been to more than one indie flick in your life , chances are you've already seen this kind of thing . \",\n",
       " 'an often unfunny romp . ',\n",
       " \"so brisk is wang's pacing that none of the excellent cast are given air to breathe . \",\n",
       " 'for this sort of thing to work , we need agile performers , but the proficient , dull sorvino has no light touch , and rodan is out of his league . ',\n",
       " 'if routine action and jokes like this are your cup of tea , then pay your $8 and get ready for the big shear . this is one baaaaaaaaad movie . ',\n",
       " \"here's yet another cool crime movie that actually manages to bring something new into the mix . \",\n",
       " \"it's funny and human and really pretty damned wonderful , all at once . \",\n",
       " 'a cumbersome and cliche-ridden movie greased with every emotional device known to man . ',\n",
       " 'burns never really harnesses to full effect the energetic cast . ',\n",
       " \"this may not have the dramatic gut wrenching impact of other holocaust films , but it's a compelling story , mainly because of the way it's told by the people who were there . \",\n",
       " \"even fans of ismail merchant's work , i suspect , would have a hard time sitting through this one . \",\n",
       " 'the powerful success of read my lips with such provocative material shows why , after only three films , director/co writer jacques audiard , though little known in this country , belongs in the very top rank of french filmmakers . ',\n",
       " \"this is wild surreal stuff , but brilliant and the camera just kind of sits there and lets you look at this and its like you're going from one room to the next and none of them have any relation to the other . \",\n",
       " 'barely gets off the ground . ',\n",
       " 'e uma pena que , mais tarde , o proprio filme abandone o tom de parodia e passe a utilizar os mesmos clich�s que havia satirizado . ',\n",
       " 'impresses you with its open endedness and surprises . ',\n",
       " \"it's an unusual , thoughtful bio drama with a rich subject and some fantastic moments and scenes . \",\n",
       " 'suffocated at conception by its munchausen-by-proxy mum . punish the vehicle to adore the star . ',\n",
       " '[two] fairly dull -- contrasting and interlocking stories about miserable scandinavian settlers in 18th-century canada , and yuppie sailboaters in the here and now . ',\n",
       " 'flaccid drama and exasperatingly slow journey . ',\n",
       " \"ramsay succeeds primarily with her typical blend of unsettling atmospherics , delivering a series of abrasive , stylized sequences that burn themselves upon the viewer's memory . \",\n",
       " \"the master of disguise represents adam sandler's latest attempt to dumb down the universe . \",\n",
       " 'the quirky and recessive charms of co stars martin donovan and mary louise parker help overcome the problematic script . ',\n",
       " \"i haven't seen such self-amused trash since freddy got fingered . \",\n",
       " \"huppert's show to steal and she makes a meal of it , channeling kathy baker's creepy turn as the repressed mother on boston public just as much as 8 women's augustine . \",\n",
       " 'visually imaginative , thematically instructive and thoroughly delightful , it takes us on a roller coaster ride from innocence to experience without even a hint of that typical kiddie flick sentimentality . ',\n",
       " 'a spellbinding african film about the modern condition of rootlessness , a state experienced by millions around the globe . ',\n",
       " ' . . . they missed the boat . ',\n",
       " 'exhibits the shallow sensationalism characteristic of soap opera . . . more salacious telenovela than serious drama . ',\n",
       " \"a charming , quirky and leisurely paced scottish comedy    except with an outrageous central gimmick that could have been a reject from monty python's meaning of life . \",\n",
       " 'but even with the two wrongs make a right chemistry between jolie and burns . . . this otherwise appealing picture loses its soul to screenwriting for dummies conformity . ',\n",
       " \"would benigni's italian pinocchio have been any easier to sit through than this hastily dubbed disaster ? \",\n",
       " \"you'd think by now america would have had enough of plucky british eccentrics with hearts of gold . yet the act is still charming here . \",\n",
       " 'a film that is a portrait of grace in an imperfect world . ',\n",
       " 'easily the most thoughtful fictional examination of the root causes of anti semitism ever seen on screen . ',\n",
       " \"it's a technically superb film , shining with all the usual spielberg flair , expertly utilizing the talents of his top notch creative team . \",\n",
       " 'a relentless , bombastic and ultimately empty world war ii action flick . ',\n",
       " \"intriguing documentary which is emotionally diluted by focusing on the story's least interesting subject . \",\n",
       " \"reminiscent of alfred hitchcock's thrillers , most of the scary parts in 'signs' occur while waiting for things to happen . \",\n",
       " 'millions of dollars heaped upon a project of such vast proportions need to reap more rewards than spiffy bluescreen technique and stylish weaponry . ',\n",
       " \"they crush each other under cars , throw each other out windows , electrocute and dismember their victims in full consciousness . and we don't avert our eyes for a moment . \",\n",
       " 'see it now , before the inevitable hollywood remake flattens out all its odd , intriguing wrinkles . ',\n",
       " 'a fiercely clever and subtle film , capturing the precarious balance between the extravagant confidence of the exiled aristocracy and the cruel earnestness of the victorious revolutionaries . ',\n",
       " \"though it's become almost redundant to say so , major kudos go to leigh for actually casting people who look working class . \",\n",
       " 'the film is a confusing melange of tones and styles , one moment a romantic trifle and the next a turgid drama . ',\n",
       " 'as david letterman and the onion have proven , the worst of tragedies can be fertile sources of humor , but lawrence has only a fleeting grasp of how to develop them . ',\n",
       " \"a disoriented but occasionally disarming saga packed with moments out of an alice in wonderland adventure , a stalker thriller , and a condensed season of tv's big brother . \",\n",
       " 'thoughtless , random , superficial humour and a lot of very bad scouse accents',\n",
       " \"for single digits kidlets stuart little 2 is still a no brainer . if you're looking to rekindle the magic of the first film , you'll need a stronger stomach than us . \",\n",
       " \"though it draws several decent laughs , it's low-cal woody at best . \",\n",
       " 'this film is too busy hitting all of its assigned marks to take on any life of its own . ',\n",
       " 'though it flirts with bathos and pathos and the further oprahfication of the world as we know it , it still cuts all the way down to broken bone . ',\n",
       " \"we're left with a story that tries to grab us , only to keep letting go at all the wrong moments . \",\n",
       " 'bon appetit ! just like a splendid meal , red dragon satisfies � from its ripe recipe , inspiring ingredients , certified cuisine and palatable presentation . ',\n",
       " \"i'd be hard pressed to think of a film more cloyingly sappy than evelyn this year . \",\n",
       " 'the drama is played out with such aching beauty and truth that it brings tears to your eyes . ',\n",
       " 'two hours of sepia-tinted heavy metal images and surround sound effects of people moaning . ',\n",
       " 'we may never think of band camp as a geeky or nerdy thing again . ',\n",
       " 'this is a movie so insecure about its capacity to excite that it churns up not one but two flagrantly fake thunderstorms to underscore the action . ',\n",
       " 'the direction , by george hickenlooper , has no snap to it , no wiseacre crackle or hard-bitten cynicism . ',\n",
       " ' \" home movie \" is a sweet treasure and something well worth your time . ',\n",
       " 'fresh and raw like a blown out vein , narc takes a walking dead , cop flick subgenre and beats new life into it . ',\n",
       " 'nice piece of work . ',\n",
       " \"you cannot guess why the cast and crew didn't sign a pact to burn the negative and the script and pretend the whole thing never existed . \",\n",
       " 'the film equivalent of a toy chest whose contents get scattered over the course of 80 minutes . ',\n",
       " 'the 70-year-old godard has become , to judge from in praise of love , the sort of bitter old crank who sits behind his light meter and harangues the supposed injustices of the artistic world-at-large without doing all that much to correct them . ',\n",
       " \"it is most of the things costner movies are known for ; it's sanctimonious , self-righteous and so eager to earn our love that you want to slap it . \",\n",
       " \"parker probably thinks he's shaking up a classic the way kenneth branagh and baz luhrmann have , but this half-hearted messing-about just makes us miss wilde's still-contemporary play . \",\n",
       " 'the stripped down dramatic constructs , austere imagery and abstract characters are equal parts poetry and politics , obvious at times but evocative and heartfelt . ',\n",
       " \"terry is a sort of geriatric dirty harry , which will please eastwood's loyal fans    and suits the story , wherein our hero must ride roughshod over incompetent cops to get his man . \",\n",
       " 'the problems of the people in love in the time of money are hardly specific to their era . they just have problems , which are neither original nor are presented in convincing way . ',\n",
       " 'more likely to have you scratching your head than hiding under your seat . ',\n",
       " 'barry sonnenfeld owes frank the pug big time',\n",
       " \"it's frustrating to see these guys -- who are obviously pretty clever -- waste their talent on parodies of things they probably thought were funniest when they were high . \",\n",
       " \"a densely constructed , highly referential film , and an audacious return to form that can comfortably sit among jean luc godard's finest work . \",\n",
       " 'admirers of director abel ferrara may be relieved that his latest feature , r xmas , marks a modest if encouraging return to form . ',\n",
       " \"i'm not saying that ice age doesn't have some fairly pretty pictures , but there's not enough substance in the story to actually give them life . \",\n",
       " ' . . . hypnotically dull . ',\n",
       " \"it's tough to watch , but it's a fantastic movie . \",\n",
       " 'passably entertaining but also mechanical and joyless . ',\n",
       " 'writer director burger imaginatively fans the embers of a dormant national grief and curiosity that has calcified into chronic cynicism and fear . ',\n",
       " \"unlike trey parker , sandler doesn't understand that the idea of exploiting molestation for laughs is funny , not actually exploiting it yourself . \",\n",
       " 'there are so few films about the plight of american indians in modern america that skins comes as a welcome , if downbeat , missive from a forgotten front . ',\n",
       " 'starts out with tremendous promise , introducing an intriguing and alluring premise , only to fall prey to a boatload of screenwriting cliches that sink it faster than a leaky freighter . ',\n",
       " 'this cloying , voices-from-the-other-side story is hell . ',\n",
       " 'a relative letdown . ',\n",
       " \"its adult themes of familial separation and societal betrayal are head and shoulders above much of the director's previous popcorn work . \",\n",
       " 'an entertaining mix of period drama and flat out farce that should please history fans . ',\n",
       " \"if you're in the right b movie frame of mind , it may just scare the pants off you . \",\n",
       " 'opening with some contrived banter , cliches and some loose ends , the screenplay only comes into its own in the second half . ',\n",
       " 'the bard as black comedy    willie would have loved it . ',\n",
       " 'the structure the film takes may find matt damon and ben affleck once again looking for residuals as this officially completes a good will hunting trilogy that was never planned . ',\n",
       " \"instead of a balanced film that explains the zeitgeist that is the x games , we get a cinematic postcard that's superficial and unrealized . \",\n",
       " 'see clockstoppers if you have nothing better to do with 94 minutes . but be warned , you too may feel time has decided to stand still . or that the battery on your watch has died . ',\n",
       " 'ultimately feels like just one more in the long line of films this year about the business of making movies . ',\n",
       " \"the feature-length stretch . . . strains the show's concept . \",\n",
       " 'other than a mildly engaging central romance , hospital is sickly entertainment at best and mind-destroying cinematic pollution at worst . ',\n",
       " \"mattei's underdeveloped effort here is nothing but a convenient conveyor belt of brooding personalities that parade about as if they were coming back from stock character camp -- a drowsy drama infatuated by its own pretentious self-examination . \",\n",
       " 'only two-fifths of a satisfying movie experience . ',\n",
       " \"an uneven look into a grim future that doesn't come close to the level of intelligence and visual splendour that can be seen in other films based on philip k . dick stories . \",\n",
       " \"cherry orchard is badly edited , often awkwardly directed and suffers from the addition of a wholly unnecessary pre-credit sequence designed to give some of the characters a 'back story . '\",\n",
       " 'its initial excitement settles into a warmed over pastiche . ',\n",
       " 'a movie of technical skill and rare depth of intellect and feeling . ',\n",
       " 'a movie that feels like the pilot episode of a new teen-targeted action tv series . ',\n",
       " 'daring and beautifully made . ',\n",
       " 'while obviously aimed at kids , the country bears . . . should keep parents amused with its low groan to guffaw ratio . ',\n",
       " \"prurient playthings aside , there's little to love about this english trifle . \",\n",
       " 'family portrait of need , neurosis and nervy negativity is a rare treat that shows the promise of digital filmmaking . ',\n",
       " 'not even the hanson brothers can save it',\n",
       " 'a warm but realistic meditation on friendship , family and affection . ',\n",
       " 'the animation is competent , and some of the gags are quite funny , but jonah . . . never shakes the oppressive , morally superior good-for-you quality that almost automatically accompanies didactic entertainment . ',\n",
       " 'a big , loud , bang-the-drum bore . ',\n",
       " 'there is greatness here . ',\n",
       " 'the combination of lightness and strictness in this instance gives italian for beginners an amiable aimlessness that keeps it from seeming predictably formulaic . ',\n",
       " \"mostly martha could have used a little trimming    10 or 15 minutes could be cut and no one would notice    but it's a pleasurable trifle . the only pain you'll feel as the credits roll is your stomach grumbling for some tasty grub . \",\n",
       " \"the delicious trimmings�arrive early and stay late , filling nearly every minute�with a lighthearted glow , some impudent snickers , and a glorious dose of humankind's liberating ability to triumph over a scrooge or two . \",\n",
       " 'watchable up until the point where the situations and the dialogue spin hopelessly out of control -- that is to say , when carol kane appears on the screen . ',\n",
       " 'este � apenas mais um ( longo ) epis�dio do programa da mtv . a �nica diferen�a � que , desta vez , a paramount teve o mau gosto de exibi-lo nos cinemas . ',\n",
       " \"it doesn't quite work , but there's enough here to make us look forward to the russos' next offering . \",\n",
       " 'saddled with an unwieldy cast of characters and angles , but the payoff is powerful and revelatory . ',\n",
       " 'quite simply , a joy to watch and  especially  to listen to . ',\n",
       " \"visually , 'santa clause 2' is wondrously creative . \",\n",
       " \"blue crush is so prolonged and boring it isn't even close to being the barn-burningly bad movie it promised it would be . \",\n",
       " \"zhang yimou delivers warm , genuine characters who lie not through dishonesty , but because they genuinely believe it's the only way to bring happiness to their loved ones . \",\n",
       " \" . . . an airless , prepackaged julia roberts wannabe that stinks so badly of hard-sell image-mongering you'll wonder if lopez's publicist should share screenwriting credit . \",\n",
       " \"kids don't mind crappy movies as much as adults , provided there's lots of cute animals and clumsy people . 'snow dogs' has both . \",\n",
       " 'payne constructs a hilarious ode to middle america and middle age with this unlikely odyssey , featuring a pathetic , endearing hero who is all too human . ',\n",
       " 'the star who helped give a spark to \" chasing amy \" and \" changing lanes \" falls flat as thinking man cia agent jack ryan in this summer\\'s new action film , \" the sum of all fears . \" ',\n",
       " 'morton is , as usual , brilliant . ',\n",
       " 'spiderman rocks',\n",
       " \"muccino seems to be exploring the idea of why human beings long for what they don't have , and how this gets us in trouble . but even while his characters are acting horribly , he is always sympathetic . \",\n",
       " 'it excels because , unlike so many other hollywood movies of its ilk , it offers hope . ',\n",
       " 'asia authors herself as anna battista , an italian superstar and aspiring directress who just happens to be her own worst enemy . ',\n",
       " 'the good girl is a film in which the talent is undeniable but the results are underwhelming . ',\n",
       " 'suffers from a lack of clarity and audacity that a subject as monstrous and pathetic as dahmer demands . ',\n",
       " \"rob schneider's infantile cross-dressing routines fill the hot chick , the latest gimmick from this unimaginative comedian . \",\n",
       " 'os problemas t�m ini cio a partir do momento em que sai mos do cinema e come�amos a pensar sobre o que acabamos de ver . e ent�o que sinais realmente desaponta . ',\n",
       " \"it's got its heart in the right place , but it also wilts after awhile . \",\n",
       " ' \" nicholas nickleby \" is a perfect family film to take everyone to since there\\'s no new \" a christmas carol \" out in the theaters this year . charlie hunnam has the twinkling eyes , repressed smile and determined face needed to carry out a dickensian hero . ',\n",
       " 'a incompet�ncia de marcus adams como roteirista s� � superada por sua p�ssima dire��o . ',\n",
       " ' . . . hudlin is stuck trying to light a fire with soggy leaves . ',\n",
       " 'the obnoxious special effects , the obligatory outbursts of flatulence and the incessant , so-five-minutes-ago pop music on the soundtrack overwhelm what is left of the scruffy , dopey old hanna-barbera charm . ',\n",
       " 'for every articulate player , such as skateboarder tony hawk or bmx rider mat hoffman , are about a half dozen young turks angling to see how many times they can work the words \" radical \" or \" suck \" into a sentence . ',\n",
       " 'the script was reportedly rewritten a dozen times -- either 11 times too many or else too few . ',\n",
       " 'often shocking but ultimately worthwhile exploration of motherhood and desperate mothers . ',\n",
       " 'the new guy does have a heart . now , if it only had a brain . ',\n",
       " \"flaunts its quirky excesses like a new year's eve drunk sporting a paper party hat . \",\n",
       " 'forages for audience sympathy like a temperamental child begging for attention , giving audiences no reason to truly care for its decrepit freaks beyond the promise of a reprieve from their incessant whining . ',\n",
       " 'a true pleasure . ',\n",
       " 'a feeble tootsie knockoff . ',\n",
       " \"it's mildly interesting to ponder the peculiar american style of justice that plays out here , but it's so muddled and derivative that few will bother thinking it all through . \",\n",
       " \"makes for some truly odd , at times confusing , kids entertainment . . . but at least this time there's some centered storytelling to go along with all the weird stuff . \",\n",
       " \"a beyond-lame satire , teddy bears' picnic ranks among the most pitiful directing debuts by an esteemed writer-actor . \",\n",
       " 'the transporter bombards the viewer with so many explosions and side snap kicks that it ends up being surprisingly dull . ',\n",
       " \"the plot of the comeback curlers isn't very interesting actually , but what i like about men with brooms and what is kind of special is how the film knows what's unique and quirky about canadians . \",\n",
       " 'abandons all pretense of creating historical context and waltzes off into a hectic soap about the ups and downs of the heavy breathing between the two artists . ',\n",
       " 'the skirmishes for power waged among victims and predators settle into an undistinguished rhythm of artificial suspense . ',\n",
       " 'most new movies have a bright sheen . some , like ballistic , arrive stillborn . . . looking like the beaten , well-worn video box cover of seven years into the future . ',\n",
       " \"jeff's gorgeous , fluid compositions , underlined by neil finn and edmund mcwilliams's melancholy music , are charged with metaphor , but rarely easy , obvious or self indulgent . \",\n",
       " 'its plot and animation offer daytime tv serviceability , but little more . ',\n",
       " \"lanie's professional success means she must be a failure at life , because she's driven by ambition and doesn't know how to have fun . \",\n",
       " 'while this one gets off with a good natured warning , future lizard endeavors will need to adhere more closely to the laws of laughter',\n",
       " \"a wildly entertaining scan of evans' career . \",\n",
       " 'moving and vibrant . ',\n",
       " \"not a movie but a live-action agitprop cartoon so shameless and coarse , it's almost funny . \",\n",
       " 'this movie is about the worst thing chan has done in the united states . ',\n",
       " 'more sophisticated and literate than such pictures usually are . . . an amusing little catch . ',\n",
       " 'a graceful , contemplative film that gradually and artfully draws us into a world where the personal and the political get fatally intertwined . ',\n",
       " \"confessions may not be a straightforward bio , nor does it offer much in the way of barris' motivations , but the film is an oddly fascinating depiction of an architect of pop culture . \",\n",
       " 'the warm presence of zhao benshan makes the preposterous lying hero into something more than he reasonably should be . ',\n",
       " \"i can't quite recommend it -- it's too patched together -- but i almost can ; it's the kind of movie that makes you want to like it . \",\n",
       " \"it confirms fincher's status as a film maker who artfully bends technical know how to the service of psychological insight . \",\n",
       " 'never again swings between false sentiment and unfunny madcap comedy and , along the way , expects the audience to invest in the central relationship as some kind of marriage of true minds . ',\n",
       " \"the acting is just fine , but there's not enough substance here to sustain interest for the full 90 minutes , especially with the weak payoff . \",\n",
       " 'there are films that try the patience of even the most cinema-besotted critic -- and this was one of them . ',\n",
       " 'the movie takes itself too seriously and , as a result , it makes for only intermittent fun . ',\n",
       " 'the film flat lines when it should peak and is more missed opportunity and trifle than dark , decadent truffle . ',\n",
       " 'can be viewed as pure composition and form    film as music',\n",
       " \"short story quaint , touchingly mending a child's pain for his dead mother via communication with an old woman straight out of eudora welty . \",\n",
       " 'the screenwriters dig themselves in deeper every time they toss logic and science into what is essentially a \" dungeons and dragons \" fantasy with modern military weaponry . . . ',\n",
       " 'a sweet tempered comedy that forgoes the knee jerk misogyny that passes for humor in so many teenage comedies . ',\n",
       " 'is it a comedy ? a drama ? a romance ? a cartoon ? ',\n",
       " \"it's something of the ultimate scorsese film , with all the stomach turning violence , colorful new york gang lore and other hallmarks of his personal cinema painted on their largest ever historical canvas . \",\n",
       " \"hey arnold ! the movie could have been made 40 years ago , and parents' appreciation of it may depend on whether they consider that a good thing . \",\n",
       " \"the fact that the 'best part' of the movie comes from a 60-second homage to one of demme's good films doesn't bode well for the rest of it . \",\n",
       " 'those 24-and-unders looking for their own caddyshack to adopt as a generational signpost may have to keep on looking . ',\n",
       " 'an unremittingly ugly movie to look at , listen to , and think about , it is quite possibly the sturdiest example yet of why the dv revolution has cheapened the artistry of making a film . ',\n",
       " \"a loud , low-budget and tired formula film that arrives cloaked in the euphemism 'urban drama . '\",\n",
       " \"this movie got me grinning . there's a part of us that cannot help be entertained by the sight of someone getting away with something . \",\n",
       " \"yes , it's as good as you remember . in fact , even better . \",\n",
       " \"the talented and clever robert rodriguez perhaps put a little too much heart into his first film and didn't reserve enough for his second . \",\n",
       " \"what better message than 'love thyself' could young women of any size receive ? \",\n",
       " 'with nary a glimmer of self-knowledge , [crane] becomes more specimen than character -- and auto focus remains a chilly , clinical lab report . ',\n",
       " 'the pianist is the film roman polanski may have been born to make . ',\n",
       " 'the plot is romantic comedy boilerplate from start to finish . ',\n",
       " 'lends itself to the narcotizing bland ( sinister , though not nearly so sinister as the biennial disney girl movie ) machinations of the biennial disney boy movie . ',\n",
       " \"anyway , for one reason or another , crush turns into a dire drama partway through . after that , it just gets stupid and maudlin . too bad , but thanks to some lovely comedic moments and several fine performances , it's not a total loss . \",\n",
       " \"here is a vh1 behind the music special that has something a little more special behind it : music that didn't sell many records but helped change a nation . \",\n",
       " 'the major problem with windtalkers is that the bulk of the movie centers on the wrong character . ',\n",
       " 'if this silly little cartoon can inspire a few kids not to grow up to be greedy bastards , more power to it . ',\n",
       " 'the movie is a trove of delights . ',\n",
       " 'suffers from over-familiarity since hit-hungry british filmmakers have strip-mined the monty formula mercilessly since 1997 . ',\n",
       " \"were dylan thomas alive to witness first-time director ethan hawke's strained chelsea walls , he might have been tempted to change his landmark poem to , 'do not go gentle into that good theatre . '\",\n",
       " 'a fascinating glimpse into an insular world that gives the lie to many cliches and showcases a group of dedicated artists . ',\n",
       " \"she's not yet an actress , not quite a singer . . . \",\n",
       " \"helmer devito . . . attempts to do too many things in this story about ethics , payola , vice , murder , kids' tv and revenge . \",\n",
       " 'the execution is so pedestrian that the most positive comment we can make is that rob schneider actually turns in a pretty convincing performance as a prissy teenage girl . ',\n",
       " 'take care of my cat offers a refreshingly different slice of asian cinema . ',\n",
       " 'not since tom cruise in risky business has an actor made such a strong impression in his underwear . ',\n",
       " \"halloween : resurrection isn't exactly quality cinema , but it isn't nearly as terrible as it cold have been . \",\n",
       " 'though clearly well-intentioned , this cross-cultural soap opera is painfully formulaic and stilted . ',\n",
       " 'gloriously goofy ( and gory ) midnight movie stuff . ',\n",
       " \"it's a brave attempt to tap into the heartbeat of the world , a salute to the universal language of rhythm and a zippy sampling of sounds . \",\n",
       " 'at its most basic , this cartoon adventure is that wind in the hair exhilarating . ',\n",
       " ' \" the turntable is now outselling the electric guitar . . . \" ',\n",
       " 'secret ballot is a funny , puzzling movie ambiguous enough to be engaging and oddly moving . ',\n",
       " 'long on twinkly-eyed close-ups and short on shame . ',\n",
       " 'because the genre is well established , what makes the movie fresh is smart writing , skewed characters , and the title performance by kieran culkin . ',\n",
       " 'a synthesis of cliches and absurdities that seems positively decadent in its cinematic flash and emptiness . ',\n",
       " 'no matter how you slice it , mark wahlberg and thandie newton are not hepburn and grant , two cinematic icons with chemistry galore . ',\n",
       " 'an undistinguished attempt to make a classic theater piece cinematic . ',\n",
       " 'an unusually dry eyed , even analytical approach to material that is generally played for maximum moisture . ',\n",
       " \"if shayamalan wanted to tell a story about a man who loses his faith , why didn't he just do it , instead of using bad sci-fi as window dressing ? \",\n",
       " 'fresnadillo has something serious to say about the ways in which extravagant chance can distort our perspective and throw us off the path of good sense . ',\n",
       " 'immersing us in the endlessly inventive , fiercely competitive world of hip hop djs , the project is sensational and revelatory , even if scratching makes you itch . ',\n",
       " \"parker holds true to wilde's own vision of a pure comedy with absolutely no meaning , and no desire to be anything but a polished , sophisticated entertainment that is in love with its own cleverness . \",\n",
       " 'a knowing sense of humor and a lot of warmth ignite son of the bride . ',\n",
       " 'master of disguise runs for only 71 minutes and feels like three hours . ',\n",
       " 'a gift to anyone who loves both dance and cinema',\n",
       " \"i'd rather watch a rerun of the powerpuff girls\",\n",
       " 'the script becomes lifeless and falls apart like a cheap lawn chair . ',\n",
       " 'occasionally funny , always very colorful and enjoyably overblown in the traditional almodovar style . ',\n",
       " \"i'd give real money to see the perpetrators of chicago torn apart by dingoes . \",\n",
       " 'comes off more like a misdemeanor , a flat , unconvincing drama that never catches fire . ',\n",
       " 'graced with the kind of social texture and realism that would be foreign in american teen comedies . ',\n",
       " \"another love story in 2002's remarkable procession of sweeping pictures that have reinvigorated the romance genre . \",\n",
       " 'occasionally funny and consistently odd , and it works reasonably well as a star vehicle for zhao . ',\n",
       " 'handsome and sincere but slightly awkward in its combination of entertainment and evangelical boosterism . ',\n",
       " 'the script manages the rare trick of seeming at once both refreshingly different and reassuringly familiar . ',\n",
       " 'the charms of willful eccentricity , at least as evidenced by this latest cinematic essay , are beginning to wear a bit thin . ',\n",
       " 'the code talkers deserved better than a hollow tribute . ',\n",
       " 'there might be some sort of credible gender-provoking philosophy submerged here , but who the hell cares ? ',\n",
       " 'however sincere it may be , the rising place never quite justifies its own existence . ',\n",
       " 'there are times when a rumor of angels plays like an extended episode of touched by an angel    a little too much dancing , a few too many weeping scenes    but i liked its heart and its spirit . ',\n",
       " \"moore's performance impresses almost as much as her work with haynes in 1995's safe . \",\n",
       " \"a lousy movie that's not merely unwatchable , but also unlistenable . \",\n",
       " 'tsai ming liang has taken his trademark style and refined it to a crystalline point . ',\n",
       " \"the emperor's club is one of those films that possesses all the good intentions in the world , but . . . \",\n",
       " 'a compelling portrait of moral emptiness',\n",
       " 'digital video documentary about stand up comedians is a great glimpse into a very different world . ',\n",
       " 'lathan and diggs carry the film with their charisma , and both exhibit sharp comic timing that makes the more hackneyed elements of the film easier to digest . ',\n",
       " \"it sounds like another clever if pointless excursion into the abyss , and that's more or less how it plays out . \",\n",
       " \"de niro cries . you'll cry for your money back . \",\n",
       " 'it took 19 predecessors to get this ? ',\n",
       " 'totally overwrought , deeply biased , and wholly designed to make you feel guilty about ignoring what the filmmakers clearly believe are the greatest musicians of all time . ',\n",
       " 'a small independent film suffering from a severe case of hollywood-itis . ',\n",
       " 'the film sparkles with the the wisdom and humor of its subjects . ',\n",
       " \"city by the sea is the cinematic equivalent of defensive driving : it's careful , conscientious and makes no major mistakes . but what saves lives on the freeway does not necessarily make for persuasive viewing . \",\n",
       " 'interesting both as a historical study and as a tragic love story . ',\n",
       " 'writer/director david caesar ladles on the local flavour with a hugely enjoyable film about changing times , clashing cultures and the pleasures of a well made pizza . ',\n",
       " 'kapur fails to give his audience a single character worth rooting for ( or worth rooting against , for that matter ) . ',\n",
       " \"what should have been a cutting hollywood satire is instead about as fresh as last week's issue of variety . \",\n",
       " \"it's often faintly amusing , but the problems of the characters never become important to us , and the story never takes hold . \",\n",
       " 'limps along on a squirm-inducing fish-out-of-water formula that goes nowhere and goes there very , very slowly . ',\n",
       " 'a simple , but gritty and well acted ensemble drama that encompasses a potent metaphor for a country still dealing with its fascist past . ',\n",
       " \"the images are usually abbreviated in favor of mushy obviousness and telegraphed pathos , particularly where whitaker's misfit artist is concerned . \",\n",
       " \"it's not a great monster movie . but if you've paid a matinee price and bought a big tub of popcorn , there's guilty fun to be had here . chomp chomp ! \",\n",
       " 'rarely , a movie is more than a movie . go . ',\n",
       " \"it's not thirsty , consuming passion which drives this movie . no , it's the repetition of said behavior , and so children of the century is more mindless love than mad , more grating and boring than anything else . \",\n",
       " 'this one aims for the toilet and scores a direct hit . ',\n",
       " 'a poky and pseudo-serious exercise in sham actor workshops and an affected malaise . ',\n",
       " 'credibility levels are low and character development a non-starter . ',\n",
       " \"one can't shake the feeling that crossroads is nothing more than an hour-and-a-half-long commercial for britney's latest album . \",\n",
       " 'rodriguez . . . was unable to reproduce the special spark between the characters that made the first film such a delight . ',\n",
       " ' \" what really happened ? \" is a question for philosophers , not filmmakers ; all the filmmakers need to do is engage an audience . ',\n",
       " \"hoffman's performance is authentic to the core of his being . \",\n",
       " \"reggio and glass so rhapsodize cynicism , with repetition and languorous slo-mo sequences , that glass's dirgelike score becomes a fang-baring lullaby . \",\n",
       " 'leigh has a true talent for drawing wrenching performances from his actors ( improvised over many months ) and for conveying the way tiny acts of kindness make ordinary life survivable . ',\n",
       " \"with the film's striking ending , one realizes that we have a long way to go before we fully understand all the sexual permutations involved . \",\n",
       " \"you'll laugh at either the obviousness of it all or its stupidity or maybe even its inventiveness , but the point is , you'll laugh . \",\n",
       " \"i didn't laugh at the ongoing efforts of cube , and his skinny buddy mike epps , to make like laurel and hardy 'n the hood . \",\n",
       " 'sharp , lively , funny and ultimately sobering film . ',\n",
       " 'there are few things more frustrating to a film buff than seeing an otherwise good movie marred beyond redemption by a disastrous ending . ',\n",
       " 'a combination of standard , stiff tv-style animation and snazzy-looking digital effects that do little to disguise the fact that the characters barely move . ',\n",
       " \"one of recent memory's most thoughtful films about art , ethics , and the cost of moral compromise . \",\n",
       " \"the overall feel of the film is pretty cheesy , but there's still a real sense that the star trek tradition has been honored as best it can , given the embarrassing script and weak direction . \",\n",
       " \"this isn't exactly profound cinema , but it's good natured and sometimes quite funny . \",\n",
       " 'a journey through memory , a celebration of living , and a sobering rumination on fatality , classism , and ignorance . ',\n",
       " \"it's too harsh to work as a piece of storytelling , but as an intellectual exercise    an unpleasant debate that's been given the drive of a narrative and that's been acted out    the believer is nothing less than a provocative piece of work . \",\n",
       " \"one sloughs one's way through the mire of this alleged psychological thriller in search of purpose or even a plot . \",\n",
       " 'the movie barely makes sense , with its unbelievable na�vet� and arbitrary flashbacks . ',\n",
       " \"the sheer dumbness of the plot ( other than its one good idea ) and the movie's inescapable air of sleaziness get you down . \",\n",
       " \"what emerges is an unsettling picture of childhood innocence combined with indoctrinated prejudice . promises is a compelling piece that demonstrates just how well children can be trained to live out and carry on their parents' anguish . \",\n",
       " '[macdowell] ventures beyond her abilities several times here and reveals how bad an actress she is . ',\n",
       " 'a strong and confident work which works so well for the first 89 minutes , but ends so horrendously confusing in the final two',\n",
       " 'serious movie goers embarking upon this journey will find that the road to perdition leads to a satisfying destination . ',\n",
       " \"it's sweet . it's funny . it wears its heart on the sleeve of its gaudy hawaiian shirt . and , thanks to the presence of 'the king , ' it also rocks . \",\n",
       " 'despite its old hat set up and predictable plot , empire still has enough moments to keep it entertaining . ',\n",
       " 'bella is the picture of health with boundless energy until a few days before she dies . this is absolutely and completely ridiculous and an insult to every family whose mother has suffered through the horrible pains of a death by cancer . ',\n",
       " 'confusion is one of my least favourite emotions , especially when i have to put up with 146 minutes of it . ',\n",
       " 'the most wondrous love story in years , it is a great film . ',\n",
       " 'as a movie , it never seems fresh and vital . it never plays as dramatic even when dramatic things happen to people . it labours as storytelling . ',\n",
       " 'when it\\'s not wallowing in hormonal melodrama , \" real women have curves \" is a sweet , honest , and enjoyable comedy drama about a young woman who wants many things in life , but fears she\\'ll become her mother before she gets to fulfill her dreams . ',\n",
       " 'this action-thriller/dark comedy is one of the most repellent things to pop up in a cinematic year already littered with celluloid garbage . ',\n",
       " \"an odd drama set in the world of lingerie models and bar dancers in the midwest that held my interest precisely because it didn't try to . \",\n",
       " 'a dreary indulgence . ',\n",
       " \"it takes you somewhere you're not likely to have seen before , but beneath the exotic surface ( and exotic dancing ) it's surprisingly old-fashioned . \",\n",
       " 'crackerjack entertainment    nonstop romance , music , suspense and action . ',\n",
       " 'smith examines the intimate , unguarded moments of folks who live in unusual homes    which pop up in nearly every corner of the country . ',\n",
       " \"jarecki and gibney do find enough material to bring kissinger's record into question and explain how the diplomat's tweaked version of statecraft may have cost thousands and possibly millions of lives . \",\n",
       " 'so much facile technique , such cute ideas , so little movie . ',\n",
       " \"how i killed my father would be a rarity in hollywood . it's an actor's showcase that accomplishes its primary goal without the use of special effects , but rather by emphasizing the characters    including the supporting ones . \",\n",
       " 'symbolically , warm water under a red bridge is a celebration of feminine energy , a tribute to the power of women to heal . ',\n",
       " 'journalistically dubious , inept and often lethally dull . ',\n",
       " \"it's a movie    and an album    you won't want to miss . \",\n",
       " 'an intriguing near-miss . ',\n",
       " \"what's really sad is to see two academy award winning actresses ( and one academy award winning actor ) succumb to appearing in this junk that's tv sitcom material at best . \",\n",
       " \"with a tone as variable as the cinematography , schaeffer's film never settles into the light-footed enchantment the material needs , and the characters' quirks and foibles never jell into charm . \",\n",
       " 'one long , numbing action sequence made up mostly of routine stuff yuen has given us before . ',\n",
       " 'k-19 may not hold a lot of water as a submarine epic , but it holds even less when it turns into an elegiacally soggy saving private ryanovich . ',\n",
       " \"death to smoochy is often very funny , but what's even more remarkable is the integrity of devito's misanthropic vision . \",\n",
       " \"the new film of anton chekhov's the cherry orchard puts the 'ick' in 'classic . '\",\n",
       " \"we want the funk   and this movie's got it . \",\n",
       " \"'enigma' is the kind of engaging historical drama that hollywood appears to have given up on in favor of sentimental war movies in the vein of 'we were soldiers . '\",\n",
       " 'another big , dumb action movie in the vein of xxx , the transporter is riddled with plot holes big enough for its titular hero to drive his sleek black bmw through . ',\n",
       " \"was i scared ? only at the prospect of beck's next project . let's see , a haunted house , a haunted ship , what's next . . . ghost blimp ? \",\n",
       " 'call me a wimp , but i cried , not once , but three times in this animated sweet film . ',\n",
       " 'maguire is a surprisingly effective peter/spider man . ',\n",
       " 'could the country bears really be as bad as its trailers ? in a word -- yes . ',\n",
       " \"although very much like the first movie based on j . k . rowling's phenomenal fantasy best sellers , this second go round possesses a quite pleasing , headlong thrust and a likably delinquent attitude . \",\n",
       " \"it's crap on a leash--far too polite to scale the lunatic heights of joe dante's similarly styled gremlins . \",\n",
       " \"it's a piece of handiwork that shows its indie tatters and self conscious seams in places , but has some quietly moving moments and an intelligent subtlety . \",\n",
       " \"though frida is easier to swallow than julie taymor's preposterous titus , the eye candy here lacks considerable brio . \",\n",
       " 'good car chases , great fight scenes , and a distinctive blend of european , american and asian influences . ',\n",
       " \"schindler's list it ain't . \",\n",
       " 'one of the very best movies ever made about the life of moviemaking . ',\n",
       " 'a meditation on faith and madness , frailty is blood curdling stuff . ',\n",
       " 'just the labour involved in creating the layered richness of the imagery in this chiaroscuro of madness and light is astonishing . ',\n",
       " \"it's weird , wonderful , and not necessarily for kids . \",\n",
       " \"[gayton's script] telegraphs every discovery and layers on the gloss of convenience . \",\n",
       " \"it's not original enough . \",\n",
       " 'clever and unflinching in its comic barbs , slap her is a small but rewarding comedy that takes aim at contemporary southern adolescence and never lets up . ',\n",
       " 'this sci fi techno sex thriller starts out bizarre and just keeps getting weirder . ',\n",
       " 'in its treatment of the dehumanizing and ego destroying process of unemployment , time out offers an exploration that is more accurate than anything i have seen in an american film . ',\n",
       " \"a bizarre piece of work , with premise and dialogue at the level of kids' television and plot threads as morose as teen pregnancy , rape and suspected murder\",\n",
       " \"a fine effort , an interesting topic , some intriguing characters and a sad ending . certainly the big finish wasn't something galinsky and hawley could have planned for . . . but part of being a good documentarian is being there when the rope snaps . \",\n",
       " 'even the digressions are funny . ',\n",
       " \"ultimately , the film amounts to being lectured to by tech-geeks , if you're up for that sort of thing . \",\n",
       " \"be forewarned , if you're depressed about anything before watching this film , you may just end up trying to drown yourself in a lake afterwards . \",\n",
       " 'not all of the stories work and the ones that do are thin and scattered , but the film works well enough to make it worth watching . ',\n",
       " 'a movie so bad that it quickly enters the pantheon of wreckage that includes battlefield earth and showgirls . ',\n",
       " 'a solid cast , assured direction and complete lack of modern day irony . ',\n",
       " 'even the hastily and amateurishly drawn animation cannot engage . ',\n",
       " 'the story is a rather simplistic one : grief drives her , love drives him , and a second chance to find love in the most unlikely place   it struck a chord in me . ',\n",
       " \"with a completely predictable plot , you'll swear that you've seen it all before , even if you've never come within a mile of the longest yard . \",\n",
       " \"so we got ten little indians meets friday the 13th by way of clean and sober , filmed on the set of carpenter's the thing and loaded with actors you're most likely to find on the next inevitable incarnation of the love boat . \",\n",
       " 'a loud , brash and mainly unfunny high school comedy . ',\n",
       " ' . . . no charm , no laughs , no fun , no reason to watch . ',\n",
       " \"fred schepisi's film is paced at a speed that is slow to those of us in middle age and deathly slow to any teen . with a cast of a list brit actors , it is worth searching out . \",\n",
       " \"ultimately engages less for its story of actorly existential despair than for its boundary hopping formal innovations and glimpse into another kind of chinese 'cultural revolution . '\",\n",
       " 'this is a superior horror flick . ',\n",
       " 'perfectly pitched between comedy and tragedy , hope and despair , about schmidt instead comes far closer than many movies to expressing the way many of us live    someplace between consuming self absorption and insistently demanding otherness . ',\n",
       " \"a standard police-oriented drama that , were it not for de niro's participation , would have likely wound up a tnt original . \",\n",
       " 'the problem is that the movie has no idea of it is serious or not . ',\n",
       " \"if you want to see a train wreck that you can't look away from , then look no further , because here it is . \",\n",
       " \"the first shocking thing about sorority boys is that it's actually watchable . even more baffling is that it's funny . \",\n",
       " 'it is different from others in its genre in that it is does not rely on dumb gags , anatomical humor , or character cliches ; it primarily relies on character to tell its story . ',\n",
       " 'the editing is chaotic , the photography grainy and badly focused , the writing unintentionally hilarious , the direction unfocused , the performances as wooden . ',\n",
       " 'the sum of all fears is remarkably fuddled about motives and context , which drains it of the dramatic substance that would shake us in our boots ( or cinema seats ) . ',\n",
       " \"a much more successful translation than its most famous previous film adaptation , writer director anthony friedman's similarly updated 1970 british production . \",\n",
       " 'a trashy , exploitative , thoroughly unpleasant experience . ',\n",
       " \"this overlong infomercial , due out on video before month's end , is tepid and tedious . \",\n",
       " 'like showgirls and glitter , the most entertaining moments here are unintentional . ',\n",
       " 'boasts enough funny dialogue and sharp characterizations to be mildly amusing . ',\n",
       " 'comes off like a rejected abc afterschool special , freshened up by the dunce of a screenwriting 101 class . . . . designed to provide a mix of smiles and tears , \" crossroads \" instead provokes a handful of unintentional howlers and numerous yawns . ',\n",
       " 'what \" empire \" lacks in depth it makes up for with its heart . ',\n",
       " 'jaglom offers the none-too-original premise that everyone involved with moviemaking is a con artist and a liar . ',\n",
       " 'would that greengrass had gone a tad less for grit and a lot more for intelligibility . ',\n",
       " \"with its hint of an awkward hitchcockian theme in tact , harmon's daunting narrative promotes a reasonable landscape of conflict and pathos to support the scattershot terrorizing tone\",\n",
       " 'with a cast that includes some of the top actors working in independent film , lovely & amazing involves us because it is so incisive , so bleakly amusing about how we go about our lives . ',\n",
       " 'cold , sterile and lacking any color or warmth . ',\n",
       " 'spy-vs . -spy action flick with antonio banderas and lucy liu never comes together . ',\n",
       " \"once the expectation of laughter has been quashed by whatever obscenity is at hand , even the funniest idea isn't funny . \",\n",
       " 'amid the new populist comedies that underscore the importance of family tradition and familial community , one would be hard pressed to find a movie with a bigger , fatter heart than barbershop . ',\n",
       " 'diverting french comedy in which a husband has to cope with the pesky moods of jealousy . ',\n",
       " \"there's a wickedly subversive bent to the best parts of birthday girl . \",\n",
       " \"when the painted backdrops in a movie are more alive than its characters , you know you're in trouble . \",\n",
       " 'the film runs on equal parts of innocence and wisdom    wisdom that comes with experience . it has fun being grown up . ',\n",
       " 'the setting is so cool that it chills the characters , reducing our emotional stake in the outcome of \" intacto\\'s \" dangerous and seductively stylish game . ',\n",
       " 'certainly beautiful to look at , but its not very informative about its titular character and no more challenging than your average television biopic . ',\n",
       " 'while the isle is both preposterous and thoroughly misogynistic , its vistas are incredibly beautiful to look at . ',\n",
       " 'the characters are complex and quirky , but entirely believable as the remarkable ensemble cast brings them to life . ',\n",
       " 'it offers a glimpse of the solomonic decision facing jewish parents in those turbulent times : to save their children and yet to lose them . ',\n",
       " 'seems like something american and european gay movies were doing 20 years ago . ',\n",
       " '[plays] in broad outline as pandering middle-age buddy-comedy . ',\n",
       " 'it takes a strange kind of laziness to waste the talents of robert forster , anne meara , eugene levy , and reginald veljohnson all in the same movie . ',\n",
       " 'light , silly , photographed with colour and depth , and rather a good time . ',\n",
       " \"this 72-minute film does have some exciting scenes , but it's a tad slow . \",\n",
       " \"it's impossible to indulge the fanciful daydreams of janice beard ( eileen walsh ) when her real-life persona is so charmless and vacant . \",\n",
       " \"the concept behind kung pow : enter the fist is hilarious . it's too bad nothing else is . \",\n",
       " \"it's exactly what you'd expect . \",\n",
       " 'a refreshing change from the usual whoopee cushion effort aimed at the youth market . ',\n",
       " 'at times a bit melodramatic and even a little dated ( depending upon where you live ) , ignorant fairies is still quite good natured and not a bad way to spend an hour or two . ',\n",
       " \"there's surely something wrong with a comedy where the only belly laughs come from the selection of outtakes tacked onto the end credits . \",\n",
       " 'this is a throwaway , junk-food movie whose rap soundtrack was better tended to than the film itself . ',\n",
       " 'shyamalan should stop trying to please his mom . ',\n",
       " \"quitting delivers a sucker punch , and its impact is all the greater beause director zhang's last film , the cuddly shower , was a non threatening multi character piece centered around a public bath house . \",\n",
       " \"the movie's something-borrowed construction feels less the product of loving , well integrated homage and more like a mere excuse for the wan , thinly sketched story . killing time , that's all that's going on here . \",\n",
       " \"whenever you think you've seen the end of the movie , we cut to a new scene , which also appears to be the end . but , no , we get another scene , and then another . you begin to long for the end credits as the desert does for rain . \",\n",
       " \"emerges as something rare , an issue movie that's so honest and keenly observed that it doesn't feel like one . \",\n",
       " 'death might be a release . ',\n",
       " 'visually captivating . ',\n",
       " ...]"
      ]
     },
     "execution_count": 145,
     "metadata": {},
     "output_type": "execute_result"
    }
   ],
   "source": [
    "non_questions_data = data_pos+data_neg\n",
    "random.shuffle(non_questions_data)\n",
    "non_questions_data"
   ]
  },
  {
   "cell_type": "code",
   "execution_count": 146,
   "metadata": {},
   "outputs": [
    {
     "data": {
      "text/plain": [
       "10664"
      ]
     },
     "execution_count": 146,
     "metadata": {},
     "output_type": "execute_result"
    }
   ],
   "source": [
    "len(non_questions_data)"
   ]
  },
  {
   "cell_type": "code",
   "execution_count": 147,
   "metadata": {},
   "outputs": [],
   "source": [
    "questions_data_labels = list(np.ones(len(questions_data)))\n",
    "non_questions_data_labels = list(np.zeros(len(non_questions_data)))"
   ]
  },
  {
   "cell_type": "code",
   "execution_count": 148,
   "metadata": {},
   "outputs": [],
   "source": [
    "X_1 = questions_data + non_questions_data\n",
    "Y_1 = questions_data_labels + non_questions_data_labels\n",
    "\n"
   ]
  },
  {
   "cell_type": "code",
   "execution_count": 149,
   "metadata": {},
   "outputs": [],
   "source": [
    "X,Y = shuffle(X_1,Y_1,random_state=1)\n"
   ]
  },
  {
   "cell_type": "code",
   "execution_count": 150,
   "metadata": {},
   "outputs": [
    {
     "name": "stdout",
     "output_type": "stream",
     "text": [
      "# Train data samples: 19195\n",
      "# Test data samples: 2133\n"
     ]
    }
   ],
   "source": [
    "X = np.array(X)\n",
    "Y = np.array(Y)\n",
    "X_train, X_test, y_train, y_test = train_test_split(X, Y, test_size=0.1, random_state=31)\n",
    "print('# Train data samples:', X_train.shape[0])\n",
    "print('# Test data samples:', X_test.shape[0])\n",
    "assert X_train.shape[0] == y_train.shape[0]\n",
    "assert X_test.shape[0] == y_test.shape[0]"
   ]
  },
  {
   "cell_type": "code",
   "execution_count": 151,
   "metadata": {},
   "outputs": [],
   "source": [
    "X_train1 = X_train\n",
    "X_test1 = X_test\n",
    "y_train1 = y_train\n",
    "y_test1 = y_test"
   ]
  },
  {
   "cell_type": "code",
   "execution_count": 152,
   "metadata": {},
   "outputs": [],
   "source": [
    "\n",
    "\n",
    "#X_test = np.append(X_test,[[[\"I am leaving I'll see you on the other side\"]]])\n",
    "\n",
    "\n",
    "#stopwords_list = stopwords.words('english')\n",
    "\n",
    "\n",
    "#for i in range(len(X_train)):\n",
    "#    l = [word for word in X_train[i].split() if(word not in stopwords_list) and len(word)>1]\n",
    "#    X_train[i] = \" \".join(l)\n",
    "#for i in range(len(X_test)):\n",
    "#    l = [word for word in X_test[i].split() if(word not in stopwords_list) and len(word)>1]\n",
    "#    X_test[i] = \" \".join(l)\n",
    "    \n"
   ]
  },
  {
   "cell_type": "code",
   "execution_count": 153,
   "metadata": {},
   "outputs": [
    {
     "name": "stdout",
     "output_type": "stream",
     "text": [
      "(2133,)\n"
     ]
    }
   ],
   "source": [
    "print(X_test.shape)"
   ]
  },
  {
   "cell_type": "code",
   "execution_count": 154,
   "metadata": {},
   "outputs": [],
   "source": [
    "tk = Tokenizer(num_words=NB_WORDS,\n",
    "               filters='!\"#$%&()*+,-./:;<=>@[\\\\]^_`{|}~\\t\\n',\n",
    "               lower=True,\n",
    "               split=\" \")\n",
    "tk.fit_on_texts(X_train)\n",
    "X_train_seq = tk.texts_to_sequences(X_train)\n",
    "X_test_seq = tk.texts_to_sequences(X_test)\n"
   ]
  },
  {
   "cell_type": "code",
   "execution_count": 155,
   "metadata": {},
   "outputs": [
    {
     "data": {
      "text/plain": [
       "count    19195.000000\n",
       "mean        16.605679\n",
       "std          9.606677\n",
       "min          1.000000\n",
       "25%          9.000000\n",
       "50%         14.000000\n",
       "75%         23.000000\n",
       "max         66.000000\n",
       "dtype: float64"
      ]
     },
     "execution_count": 155,
     "metadata": {},
     "output_type": "execute_result"
    }
   ],
   "source": [
    "seq_lengths = pd.Series(X_train).apply(lambda x: len(x.split(' ')))\n",
    "seq_lengths.describe()"
   ]
  },
  {
   "cell_type": "code",
   "execution_count": 156,
   "metadata": {},
   "outputs": [],
   "source": [
    "X_train_seq_trunc = pad_sequences(X_train_seq, maxlen=MAX_LEN)\n",
    "X_test_seq_trunc = pad_sequences(X_test_seq, maxlen=MAX_LEN)"
   ]
  },
  {
   "cell_type": "code",
   "execution_count": 157,
   "metadata": {},
   "outputs": [
    {
     "data": {
      "text/plain": [
       "array([   0,    0,    0,    0,    0,    0,    0,    0,    0,    0,    0,\n",
       "          0,    0,    0,    0,    0,    0,    0,    0,    2, 5051, 6012,\n",
       "       1133,   47,    6, 3118, 2094, 1285, 7354,   59,   92,   12,  321,\n",
       "          6,   29,   88, 7355,   64,   83,  419,  218, 9519,    6, 7356],\n",
       "      dtype=int32)"
      ]
     },
     "execution_count": 157,
     "metadata": {},
     "output_type": "execute_result"
    }
   ],
   "source": [
    "X_train_seq_trunc[10]  # Example of padded sequence"
   ]
  },
  {
   "cell_type": "code",
   "execution_count": 158,
   "metadata": {},
   "outputs": [
    {
     "name": "stdout",
     "output_type": "stream",
     "text": [
      "[0. 0. 0. ... 0. 1. 1.]\n"
     ]
    }
   ],
   "source": [
    "print(y_train)"
   ]
  },
  {
   "cell_type": "code",
   "execution_count": 159,
   "metadata": {},
   "outputs": [],
   "source": [
    "le = LabelEncoder()\n",
    "y_train_oh = to_categorical(y_train)\n",
    "y_test_oh = to_categorical(y_test)"
   ]
  },
  {
   "cell_type": "code",
   "execution_count": 160,
   "metadata": {},
   "outputs": [
    {
     "name": "stdout",
     "output_type": "stream",
     "text": [
      "Shape of validation set: (1920, 44)\n"
     ]
    }
   ],
   "source": [
    "X_train_emb, X_valid_emb, y_train_emb, y_valid_emb = train_test_split(X_train_seq_trunc, y_train_oh, test_size=0.1, random_state=37)\n",
    "\n",
    "assert X_valid_emb.shape[0] == y_valid_emb.shape[0]\n",
    "assert X_train_emb.shape[0] == y_train_emb.shape[0]\n",
    "\n",
    "print('Shape of validation set:',X_valid_emb.shape)"
   ]
  },
  {
   "cell_type": "markdown",
   "metadata": {},
   "source": [
    "## WITHOUT GLOVE ##"
   ]
  },
  {
   "cell_type": "code",
   "execution_count": 161,
   "metadata": {},
   "outputs": [
    {
     "name": "stdout",
     "output_type": "stream",
     "text": [
      "_________________________________________________________________\n",
      "Layer (type)                 Output Shape              Param #   \n",
      "=================================================================\n",
      "embedding_11 (Embedding)     (None, 44, 100)           1000000   \n",
      "_________________________________________________________________\n",
      "flatten_9 (Flatten)          (None, 4400)              0         \n",
      "_________________________________________________________________\n",
      "dense_6 (Dense)              (None, 2)                 8802      \n",
      "=================================================================\n",
      "Total params: 1,008,802\n",
      "Trainable params: 1,008,802\n",
      "Non-trainable params: 0\n",
      "_________________________________________________________________\n"
     ]
    }
   ],
   "source": [
    "emb_model = models.Sequential()\n",
    "#emb_model.add(layers.Embedding(NB_WORDS, 8, input_length=MAX_LEN))      100d vector works better\n",
    "emb_model.add(layers.Embedding(NB_WORDS, 100, input_length=MAX_LEN))\n",
    "emb_model.add(layers.Flatten())\n",
    "emb_model.add(layers.Dense(2, activation='softmax'))\n",
    "emb_model.summary()"
   ]
  },
  {
   "cell_type": "code",
   "execution_count": 162,
   "metadata": {},
   "outputs": [],
   "source": [
    "def deep_model(model, X_train, y_train, X_valid, y_valid):\n",
    "    '''\n",
    "    Function to train a multi-class model. The number of epochs and \n",
    "    batch_size are set by the constants at the top of the\n",
    "    notebook. \n",
    "    \n",
    "    Parameters:\n",
    "        model : model with the chosen architecture\n",
    "        X_train : training features\n",
    "        y_train : training target\n",
    "        X_valid : validation features\n",
    "        Y_valid : validation target\n",
    "    Output:\n",
    "        model training history\n",
    "    '''\n",
    "    model.compile(optimizer='rmsprop'\n",
    "                  , loss='categorical_crossentropy'\n",
    "                  , metrics=['accuracy'])\n",
    "    \n",
    "    history = model.fit(X_train\n",
    "                       , y_train\n",
    "                       , epochs=NB_START_EPOCHS\n",
    "                       , batch_size=BATCH_SIZE\n",
    "                       , validation_data=(X_valid, y_valid)\n",
    "                       , verbose=0)\n",
    "    return history\n",
    "\n",
    "\n",
    "def eval_metric(history, metric_name):\n",
    "    '''\n",
    "    Function to evaluate a trained model on a chosen metric. \n",
    "    Training and validation metric are plotted in a\n",
    "    line chart for each epoch.\n",
    "    \n",
    "    Parameters:\n",
    "        history : model training history\n",
    "        metric_name : loss or accuracy\n",
    "    Output:\n",
    "        line chart with epochs of x-axis and metric on\n",
    "        y-axis\n",
    "    '''\n",
    "    metric = history.history[metric_name]\n",
    "    val_metric = history.history['val_' + metric_name]\n",
    "\n",
    "    e = range(1, NB_START_EPOCHS + 1)\n",
    "\n",
    "    plt.plot(e, metric, 'bo', label='Train ' + metric_name)\n",
    "    plt.plot(e, val_metric, 'b', label='Validation ' + metric_name)\n",
    "    plt.legend()\n",
    "    plt.show()\n"
   ]
  },
  {
   "cell_type": "code",
   "execution_count": 163,
   "metadata": {},
   "outputs": [
    {
     "data": {
      "text/plain": [
       "0.9983212735166426"
      ]
     },
     "execution_count": 163,
     "metadata": {},
     "output_type": "execute_result"
    }
   ],
   "source": [
    "emb_history = deep_model(emb_model, X_train_emb, y_train_emb, X_valid_emb, y_valid_emb)\n",
    "emb_history.history['acc'][-1]"
   ]
  },
  {
   "cell_type": "code",
   "execution_count": 164,
   "metadata": {},
   "outputs": [
    {
     "data": {
      "image/png": "[encoded data removed]",
      "text/plain": [
       "<Figure size 432x288 with 1 Axes>"
      ]
     },
     "metadata": {
      "needs_background": "light"
     },
     "output_type": "display_data"
    }
   ],
   "source": [
    "eval_metric(emb_history, 'acc')"
   ]
  },
  {
   "cell_type": "code",
   "execution_count": 165,
   "metadata": {},
   "outputs": [
    {
     "data": {
      "image/png": "[encoded data removed]",
      "text/plain": [
       "<Figure size 432x288 with 1 Axes>"
      ]
     },
     "metadata": {
      "needs_background": "light"
     },
     "output_type": "display_data"
    }
   ],
   "source": [
    "eval_metric(emb_history, 'loss')"
   ]
  },
  {
   "cell_type": "code",
   "execution_count": 166,
   "metadata": {},
   "outputs": [],
   "source": [
    "def test_model(model, X_train, y_train, X_test, y_test, epoch_stop):\n",
    "    '''\n",
    "    Function to test the model on new data after training it\n",
    "    on the full training data with the optimal number of epochs.\n",
    "    \n",
    "    Parameters:\n",
    "        model : trained model\n",
    "        X_train : training features\n",
    "        y_train : training target\n",
    "        X_test : test features\n",
    "        y_test : test target\n",
    "        epochs : optimal number of epochs\n",
    "    Output:\n",
    "        test accuracy and test loss\n",
    "    '''\n",
    "    model.fit(X_train\n",
    "              , y_train\n",
    "              , epochs=epoch_stop\n",
    "              , batch_size=BATCH_SIZE\n",
    "              , verbose=0)\n",
    "    results = model.evaluate(X_test, y_test)\n",
    "    \n",
    "    return results\n"
   ]
  },
  {
   "cell_type": "code",
   "execution_count": 167,
   "metadata": {},
   "outputs": [
    {
     "name": "stdout",
     "output_type": "stream",
     "text": [
      "2133/2133 [==============================] - 0s 29us/step\n",
      "/n\n",
      "Test accuracy of word embeddings model: 98.17%\n"
     ]
    }
   ],
   "source": [
    "emb_results = test_model(emb_model, X_train_seq_trunc, y_train_oh, X_test_seq_trunc, y_test_oh, 6)\n",
    "print('/n')\n",
    "print('Test accuracy of word embeddings model: {0:.2f}%'.format(emb_results[1]*100))"
   ]
  },
  {
   "cell_type": "code",
   "execution_count": 168,
   "metadata": {},
   "outputs": [
    {
     "name": "stdout",
     "output_type": "stream",
     "text": [
      "['a fragile framework upon which to hang broad , mildly fleshed-out characters that seem to have been conjured up only 10 minutes prior to filming . '\n",
      " \"the film is saved from aren't kids cute sentimentality by a warmth that isn't faked and a stately sense of composition . \"\n",
      " 'blessed with two fine , nuanced lead performances . '\n",
      " 'What are some thoughts about death?'\n",
      " ' . . . pitiful , slapdash disaster . a doa dud from frame one . '\n",
      " 'What are good methods to study engineering?'\n",
      " \"How is the word 'ubiquitous' used in a sentence?\"\n",
      " 'What is the balanced chemical equation for the formation of soap scum?'\n",
      " 'desperately unfunny when it tries to makes us laugh and desperately unsuspenseful when it tries to make us jump out of our seats . '\n",
      " 'How could we know that we are falling in love?']\n",
      "What are good methods to study engineering?\n"
     ]
    }
   ],
   "source": [
    "#print(X_train_seq_trunc[1])\n",
    "print(X_train1[10:20])\n",
    "print(X_train1[15])"
   ]
  },
  {
   "cell_type": "code",
   "execution_count": 169,
   "metadata": {},
   "outputs": [
    {
     "data": {
      "text/plain": [
       "array([1])"
      ]
     },
     "execution_count": 169,
     "metadata": {},
     "output_type": "execute_result"
    }
   ],
   "source": [
    "emb_model.predict_classes([[X_train_seq_trunc[15]]])"
   ]
  },
  {
   "cell_type": "code",
   "execution_count": 211,
   "metadata": {},
   "outputs": [
    {
     "name": "stdout",
     "output_type": "stream",
     "text": [
      "[[   0    0    0    0    0    0    0    0    0    0    0    0    0    0\n",
      "     0    0    0    0    0    0    0    0    0    0    0    0    0    0\n",
      "     0    0    0    0    0    0    0 2295   19 3712    5    2 2313    5\n",
      "     2  360]]\n"
     ]
    }
   ],
   "source": [
    "#sentence = \"in some text books on microeconomics there is a graph of demand and supply that are based on producer and consumer theory. How do these graphs are interpreted-because they are all over the book\"\n",
    "sentence = \"Model can identify is a sentence is a question\"\n",
    "#sentence_nstop = \" \".join([word for word in sentence.split() if(word not in stopwords_list) and len(word)>1])\n",
    "sentence_nstop = [sentence]\n",
    "sentence_nstop = np.array(sentence_nstop)\n",
    "sentence_seq = tk.texts_to_sequences(sentence_nstop)\n",
    "sentence_seq_trunc = pad_sequences(sentence_seq, maxlen=MAX_LEN)\n",
    "print(sentence_seq_trunc)\n",
    "\n"
   ]
  },
  {
   "cell_type": "code",
   "execution_count": 212,
   "metadata": {},
   "outputs": [
    {
     "name": "stdout",
     "output_type": "stream",
     "text": [
      "[[6.1557516e-06 9.9999380e-01]]\n",
      "0.9999938\n"
     ]
    }
   ],
   "source": [
    "res = emb_model.predict(sentence_seq_trunc)\n",
    "print(res)\n",
    "print(res[0][1])"
   ]
  },
  {
   "cell_type": "code",
   "execution_count": 200,
   "metadata": {},
   "outputs": [],
   "source": [
    "#Works better on long sentences\n",
    "#Some sentences to check:\n",
    "#i) \"This works great. Model runs good\"\n",
    "#ii)\"Yup, it does work better on long sentences\"\n",
    "\n",
    "#Some bad results\n",
    "#i) \"Model can identify if the given sentence is a question\"#DEEEEEP\n",
    "#ii)\"Where there is a will there is a way\"\n",
    "#Try with glove vectors next"
   ]
  },
  {
   "cell_type": "markdown",
   "metadata": {},
   "source": [
    "## USING GLOVE ##"
   ]
  },
  {
   "cell_type": "markdown",
   "metadata": {},
   "source": [
    "Download Link: http://nlp.stanford.edu/data/glove.twitter.27B.zip"
   ]
  },
  {
   "cell_type": "code",
   "execution_count": 202,
   "metadata": {},
   "outputs": [],
   "source": [
    "glove_file = 'glove.twitter.27B.' + str(GLOVE_DIM) + 'd.txt'\n",
    "emb_dict = {}\n",
    "glove = open('glove.twitter.27B/'+ glove_file)\n",
    "for line in glove:\n",
    "    values = line.split()\n",
    "    word = values[0]\n",
    "    vector = np.asarray(values[1:], dtype='float32')\n",
    "    emb_dict[word] = vector\n",
    "glove.close()"
   ]
  },
  {
   "cell_type": "code",
   "execution_count": 204,
   "metadata": {},
   "outputs": [
    {
     "data": {
      "text/plain": [
       "array([ 5.2448e-01,  1.4927e-01,  6.4005e-01,  2.0525e-01, -3.0022e-01,\n",
       "        2.9393e-01,  2.8445e-01, -3.9302e-01,  4.2924e-01,  1.9822e-01,\n",
       "       -2.7205e-01, -4.2461e-01, -5.7456e+00, -4.7719e-03, -9.2842e-02,\n",
       "       -4.7557e-01,  2.5792e-02, -4.9820e-01,  3.8240e-02, -2.4317e-02,\n",
       "        4.3822e-01, -2.4423e-01, -2.3782e-01,  3.9505e-01,  2.8254e-02,\n",
       "        1.3690e-01,  2.7915e-04,  6.2020e-01,  3.6447e-01, -3.9848e-01,\n",
       "       -3.7173e-01, -1.4106e-02, -1.8491e-01,  3.1630e-01, -2.5656e-01,\n",
       "        2.7244e-01, -1.6537e-01,  1.6202e-01, -7.2154e-02, -3.1059e-01,\n",
       "       -6.2878e-01, -5.6730e-02,  4.5687e-01,  4.9870e-01,  1.3140e-01,\n",
       "        1.9770e-01, -1.4396e-01, -1.5598e-01, -1.0978e-01, -1.6734e-01,\n",
       "       -1.9454e-01, -1.0928e-02, -1.2794e-01,  2.7448e-02,  6.0323e-01,\n",
       "        4.6323e-01, -6.7122e-01,  4.2575e-02, -2.5487e-02, -8.2335e-02,\n",
       "        3.6152e-02, -1.2599e-01,  1.5335e-01, -6.2048e-01,  3.4524e-01,\n",
       "        2.2140e-01, -5.0268e-01,  3.5937e-02, -1.0611e-01,  3.0502e-01,\n",
       "       -7.9468e-02,  3.8290e-01,  3.4210e-01, -3.9080e-01,  1.0667e-01,\n",
       "       -2.1436e-01, -4.3584e-02,  2.4846e-01, -1.0940e-01,  3.4482e-02,\n",
       "        1.8971e+00,  4.8150e-01, -4.8146e-01,  4.6397e-02, -3.0786e-02,\n",
       "        1.3327e-01, -1.5196e-02, -4.1182e-01, -3.9965e-01, -3.4387e-01,\n",
       "       -2.4715e-01,  1.5730e-02, -4.2720e-02, -5.9455e-02,  3.8747e-01,\n",
       "       -1.7819e-02, -4.2181e-02,  5.6628e-03,  6.6023e-01,  1.3150e-01],\n",
       "      dtype=float32)"
      ]
     },
     "execution_count": 204,
     "metadata": {},
     "output_type": "execute_result"
    }
   ],
   "source": [
    "emb_dict['how']"
   ]
  },
  {
   "cell_type": "code",
   "execution_count": 205,
   "metadata": {},
   "outputs": [],
   "source": [
    "\n",
    "emb_matrix = np.zeros((NB_WORDS, GLOVE_DIM))\n",
    "\n",
    "for w, i in tk.word_index.items():\n",
    "    # The word_index contains a token for all words of the training data so we need to limit that\n",
    "    if i < NB_WORDS:\n",
    "        vect = emb_dict.get(w)\n",
    "        # Check if the word from the training data occurs in the GloVe word embeddings\n",
    "        # Otherwise the vector is kept with only zeros\n",
    "        if vect is not None:\n",
    "            emb_matrix[i] = vect\n",
    "    else:\n",
    "        break\n"
   ]
  },
  {
   "cell_type": "code",
   "execution_count": 206,
   "metadata": {},
   "outputs": [
    {
     "name": "stderr",
     "output_type": "stream",
     "text": [
      "/home/mayank/anaconda3/lib/python3.7/site-packages/ipykernel_launcher.py:5: UserWarning: Update your `LSTM` call to the Keras 2 API: `LSTM(200, dropout=0.2, recurrent_dropout=0.2)`\n",
      "  \"\"\"\n"
     ]
    },
    {
     "name": "stdout",
     "output_type": "stream",
     "text": [
      "_________________________________________________________________\n",
      "Layer (type)                 Output Shape              Param #   \n",
      "=================================================================\n",
      "embedding_12 (Embedding)     (None, 44, 100)           1000000   \n",
      "_________________________________________________________________\n",
      "lstm_5 (LSTM)                (None, 200)               240800    \n",
      "_________________________________________________________________\n",
      "dense_7 (Dense)              (None, 2)                 402       \n",
      "=================================================================\n",
      "Total params: 1,241,202\n",
      "Trainable params: 1,241,202\n",
      "Non-trainable params: 0\n",
      "_________________________________________________________________\n"
     ]
    }
   ],
   "source": [
    "glove_model = models.Sequential()\n",
    "glove_model.add(layers.Embedding(NB_WORDS, GLOVE_DIM, input_length=MAX_LEN))\n",
    "#glove_model.add(layers.Flatten())\n",
    "#glove_model.add(layers.Dense(1000,activation='tanh'))          #found that hidden layer results in overfitting\n",
    "#glove_model.add(layers.LSTM(200, dropout_U = 0.2, dropout_W = 0.2))\n",
    "glove_model.add(layers.Dense(2, activation='softmax'))\n",
    "glove_model.summary()"
   ]
  },
  {
   "cell_type": "code",
   "execution_count": 207,
   "metadata": {},
   "outputs": [],
   "source": [
    "glove_model.layers[0].set_weights([emb_matrix])\n",
    "glove_model.layers[0].trainable = False"
   ]
  },
  {
   "cell_type": "code",
   "execution_count": 126,
   "metadata": {},
   "outputs": [
    {
     "data": {
      "text/plain": [
       "0.9833863970822777"
      ]
     },
     "execution_count": 126,
     "metadata": {},
     "output_type": "execute_result"
    }
   ],
   "source": [
    "glove_history = deep_model(glove_model, X_train_emb, y_train_emb, X_valid_emb, y_valid_emb)\n",
    "glove_history.history['acc'][-1]"
   ]
  },
  {
   "cell_type": "code",
   "execution_count": 127,
   "metadata": {},
   "outputs": [
    {
     "data": {
      "image/png": "[encoded data removed]",
      "text/plain": [
       "<Figure size 432x288 with 1 Axes>"
      ]
     },
     "metadata": {
      "needs_background": "light"
     },
     "output_type": "display_data"
    }
   ],
   "source": [
    "eval_metric(glove_history, 'loss')"
   ]
  },
  {
   "cell_type": "code",
   "execution_count": 128,
   "metadata": {},
   "outputs": [
    {
     "data": {
      "image/png": "[encoded data removed]",
      "text/plain": [
       "<Figure size 432x288 with 1 Axes>"
      ]
     },
     "metadata": {
      "needs_background": "light"
     },
     "output_type": "display_data"
    }
   ],
   "source": [
    "eval_metric(glove_history, 'acc')\n"
   ]
  },
  {
   "cell_type": "code",
   "execution_count": 129,
   "metadata": {},
   "outputs": [
    {
     "name": "stdout",
     "output_type": "stream",
     "text": [
      "2133/2133 [==============================] - 2s 717us/step\n",
      "/n\n",
      "Test accuracy of word glove model: 98.59%\n"
     ]
    }
   ],
   "source": [
    "\n",
    "glove_results = test_model(glove_model, X_train_seq_trunc, y_train_oh, X_test_seq_trunc, y_test_oh, 3)\n",
    "print('/n')\n",
    "print('Test accuracy of word glove model: {0:.2f}%'.format(glove_results[1]*100))"
   ]
  },
  {
   "cell_type": "code",
   "execution_count": 133,
   "metadata": {},
   "outputs": [],
   "source": [
    "def predict_if_question(sentence):\n",
    "    sentence_nstop = \" \".join([word for word in sentence.split() if(word not in stopwords_list) and len(word)>1])\n",
    "    print(sentence)\n",
    "    sentence_nstop = [sentence_nstop]\n",
    "    sentence_nstop = np.array(sentence_nstop)\n",
    "    print(sentence_nstop)\n",
    "    sentence_seq = tk.texts_to_sequences(sentence_nstop)\n",
    "    print(sentence_seq)\n",
    "    sentence_seq_trunc = pad_sequences(sentence_seq, maxlen=MAX_LEN)\n",
    "    print(sentence_seq_trunc)\n",
    "    return glove_model.predict(sentence_seq_trunc)"
   ]
  },
  {
   "cell_type": "code",
   "execution_count": 134,
   "metadata": {},
   "outputs": [
    {
     "name": "stdout",
     "output_type": "stream",
     "text": [
      "You are going to the park arent you\n",
      "['You going park arent']\n",
      "[[414, 112, 1734]]\n",
      "[[   0    0    0    0    0    0    0    0    0    0    0    0    0    0\n",
      "     0    0    0    0    0    0    0    0    0    0    0    0    0    0\n",
      "     0    0    0    0    0    0    0    0    0    0    0    0    0  414\n",
      "   112 1734]]\n"
     ]
    },
    {
     "data": {
      "text/plain": [
       "array([[0.02369482, 0.9763051 ]], dtype=float32)"
      ]
     },
     "execution_count": 134,
     "metadata": {},
     "output_type": "execute_result"
    }
   ],
   "source": [
    "predict_if_question(\"You are going to the park arent you\")"
   ]
  },
  {
   "cell_type": "code",
   "execution_count": 135,
   "metadata": {},
   "outputs": [
    {
     "name": "stdout",
     "output_type": "stream",
     "text": [
      "what are intangible assets?\n",
      "['intangible assets?']\n",
      "[[]]\n",
      "[[0 0 0 0 0 0 0 0 0 0 0 0 0 0 0 0 0 0 0 0 0 0 0 0 0 0 0 0 0 0 0 0 0 0 0 0\n",
      "  0 0 0 0 0 0 0 0]]\n"
     ]
    },
    {
     "data": {
      "text/plain": [
       "array([[0.5663282 , 0.43367177]], dtype=float32)"
      ]
     },
     "execution_count": 135,
     "metadata": {},
     "output_type": "execute_result"
    }
   ],
   "source": [
    "predict_if_question(\"what are intangible assets?\")"
   ]
  },
  {
   "cell_type": "code",
   "execution_count": null,
   "metadata": {},
   "outputs": [],
   "source": []
  },
  {
   "cell_type": "code",
   "execution_count": null,
   "metadata": {},
   "outputs": [],
   "source": []
  }
 ],
 "metadata": {
  "kernelspec": {
   "display_name": "Python 3",
   "language": "python",
   "name": "python3"
  },
  "language_info": {
   "codemirror_mode": {
    "name": "ipython",
    "version": 3
   },
   "file_extension": ".py",
   "mimetype": "text/x-python",
   "name": "python",
   "nbconvert_exporter": "python",
   "pygments_lexer": "ipython3",
   "version": "3.7.1"
  }
 },
 "nbformat": 4,
 "nbformat_minor": 2
}
