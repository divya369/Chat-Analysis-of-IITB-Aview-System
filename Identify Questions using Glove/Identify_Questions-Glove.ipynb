{
 "cells": [
  {
   "cell_type": "code",
   "execution_count": 1,
   "metadata": {},
   "outputs": [
    {
     "name": "stderr",
     "output_type": "stream",
     "text": [
      "Using Theano backend.\n"
     ]
    }
   ],
   "source": [
    "#Packages for preprocessing\n",
    "import pandas as pd\n",
    "import random\n",
    "import numpy as np\n",
    "from sklearn.utils import shuffle\n",
    "from nltk.corpus import stopwords\n",
    "from sklearn.model_selection import train_test_split\n",
    "from keras.preprocessing.text import Tokenizer\n",
    "from keras.preprocessing.sequence import pad_sequences\n",
    "from sklearn.preprocessing import LabelEncoder\n",
    "from keras.utils.np_utils import to_categorical\n",
    "\n",
    "\n",
    "#Packages for model traning and testing\n",
    "from keras import models\n",
    "from keras import layers\n",
    "from keras import regularizers\n",
    "import matplotlib.pyplot as plt\n",
    "\n"
   ]
  },
  {
   "cell_type": "code",
   "execution_count": 2,
   "metadata": {},
   "outputs": [],
   "source": [
    "with open('final_text.txt','rb') as file:\n",
    "    text = file.read().decode(errors='replace')\n"
   ]
  },
  {
   "cell_type": "code",
   "execution_count": 3,
   "metadata": {},
   "outputs": [],
   "source": [
    "questions_df = pd.read_csv('question-pairs-dataset/questions.csv')     #reading questions from questions.csv\n",
    "questions_data = list(questions_df['question1'])                       #taking only the column of questions\n",
    "questions_data = questions_data[:10664]                                #taking a slice as the other dataset has only 10664 entries"
   ]
  },
  {
   "cell_type": "code",
   "execution_count": 4,
   "metadata": {},
   "outputs": [],
   "source": [
    "with open('positive-and-negative-sentences/positive.txt','rb') as file:\n",
    "    data_pos = file.read().decode(errors='replace')     #positive comments\n",
    "data_pos = data_pos.split('\\n')                         #split based on new line\n",
    "with open('positive-and-negative-sentences/negative.txt','rb') as file:\n",
    "    data_neg = file.read().decode(errors='replace')     #negative comments\n",
    "data_neg = data_neg.split('\\n')                         #split based on new line"
   ]
  },
  {
   "cell_type": "code",
   "execution_count": 5,
   "metadata": {},
   "outputs": [],
   "source": [
    "non_questions_data = data_pos+data_neg                  #combine\n",
    "random.shuffle(non_questions_data)                      #shuffle"
   ]
  },
  {
   "cell_type": "code",
   "execution_count": 6,
   "metadata": {},
   "outputs": [],
   "source": [
    "questions_data_labels = list(np.ones(len(questions_data)))                  #target vectors for question and non question data\n",
    "non_questions_data_labels = list(np.zeros(len(non_questions_data)))"
   ]
  },
  {
   "cell_type": "code",
   "execution_count": 7,
   "metadata": {},
   "outputs": [],
   "source": [
    "X = questions_data + non_questions_data\n",
    "Y = questions_data_labels + non_questions_data_labels\n",
    "X,Y = shuffle(X,Y,random_state=1)                      #shuffling X and Y \n",
    "\n"
   ]
  },
  {
   "cell_type": "code",
   "execution_count": 8,
   "metadata": {},
   "outputs": [
    {
     "name": "stdout",
     "output_type": "stream",
     "text": [
      "# Train data samples: 19195\n",
      "# Test data samples: 2133\n"
     ]
    }
   ],
   "source": [
    "X = np.array(X)\n",
    "Y = np.array(Y)\n",
    "X_train, X_test, y_train, y_test = train_test_split(X, Y, test_size=0.1, random_state=31) #split testing and training set\n",
    "print('# Train data samples:', X_train.shape[0])\n",
    "print('# Test data samples:', X_test.shape[0])\n",
    "assert X_train.shape[0] == y_train.shape[0]\n",
    "assert X_test.shape[0] == y_test.shape[0]"
   ]
  },
  {
   "cell_type": "code",
   "execution_count": 9,
   "metadata": {},
   "outputs": [],
   "source": [
    "NB_WORDS = 10000  # Parameter indicating the number of words we'll put in the dictionary"
   ]
  },
  {
   "cell_type": "code",
   "execution_count": 10,
   "metadata": {},
   "outputs": [],
   "source": [
    "tk = Tokenizer(num_words=NB_WORDS,                            #defining tokenizer which tokenizes sentences into\n",
    "               filters='!\"#$%&()*+,-./:;<=>@[\\\\]^_`{|}~\\t\\n', #words. Note that we do not filter out ''?'.\n",
    "               lower=True,\n",
    "               split=\" \")\n",
    "tk.fit_on_texts(X_train)\n",
    "X_train_seq = tk.texts_to_sequences(X_train)                  #convert texts to sequences(based on incices)\n",
    "X_test_seq = tk.texts_to_sequences(X_test)\n"
   ]
  },
  {
   "cell_type": "code",
   "execution_count": 11,
   "metadata": {},
   "outputs": [
    {
     "data": {
      "text/plain": [
       "count    19195.000000\n",
       "mean        16.556187\n",
       "std          9.591175\n",
       "min          1.000000\n",
       "25%          9.000000\n",
       "50%         14.000000\n",
       "75%         23.000000\n",
       "max         66.000000\n",
       "dtype: float64"
      ]
     },
     "execution_count": 11,
     "metadata": {},
     "output_type": "execute_result"
    }
   ],
   "source": [
    "seq_lengths = pd.Series(X_train).apply(lambda x: len(x.split(' ')))\n",
    "seq_lengths.describe()\n",
    "\n",
    "#We check what is the maximum length of sequence, so that we can pad zeros for the rest sequences, as the input length has to be constant"
   ]
  },
  {
   "cell_type": "code",
   "execution_count": 12,
   "metadata": {},
   "outputs": [],
   "source": [
    "MAX_LEN = 44  # Maximum number of words in a sequence. We truncate if more than this."
   ]
  },
  {
   "cell_type": "code",
   "execution_count": 13,
   "metadata": {},
   "outputs": [],
   "source": [
    "X_train_seq_trunc = pad_sequences(X_train_seq, maxlen=MAX_LEN)   #pad zeros\n",
    "X_test_seq_trunc = pad_sequences(X_test_seq, maxlen=MAX_LEN)"
   ]
  },
  {
   "cell_type": "code",
   "execution_count": 14,
   "metadata": {},
   "outputs": [
    {
     "data": {
      "text/plain": [
       "array([   0,    0,    0,    0,    0,    0,    0,    0,    0,    0,    0,\n",
       "          0,    0,    0,    0,    0,    0,    0,    0,    0,    0,    0,\n",
       "          0,    0,    0,    0,    0,    0,    0,    0,    0,    0,    0,\n",
       "          0, 9461,  341,   17,    1, 7341,   27,    3,    1,  646, 3111],\n",
       "      dtype=int32)"
      ]
     },
     "execution_count": 14,
     "metadata": {},
     "output_type": "execute_result"
    }
   ],
   "source": [
    "X_train_seq_trunc[10]  # Example of padded sequence"
   ]
  },
  {
   "cell_type": "code",
   "execution_count": 15,
   "metadata": {},
   "outputs": [
    {
     "name": "stdout",
     "output_type": "stream",
     "text": [
      "[0. 0. 0. ... 0. 1. 1.]\n"
     ]
    }
   ],
   "source": [
    "print(y_train)   #example of label"
   ]
  },
  {
   "cell_type": "code",
   "execution_count": 16,
   "metadata": {},
   "outputs": [],
   "source": [
    "le = LabelEncoder()\n",
    "y_train_oh = to_categorical(y_train)\n",
    "y_test_oh = to_categorical(y_test)"
   ]
  },
  {
   "cell_type": "code",
   "execution_count": 17,
   "metadata": {},
   "outputs": [
    {
     "name": "stdout",
     "output_type": "stream",
     "text": [
      "[[1. 0.]\n",
      " [1. 0.]\n",
      " [1. 0.]\n",
      " ...\n",
      " [1. 0.]\n",
      " [0. 1.]\n",
      " [0. 1.]]\n"
     ]
    }
   ],
   "source": [
    "print(y_train_oh)   #example of label after one hot encoding"
   ]
  },
  {
   "cell_type": "code",
   "execution_count": 18,
   "metadata": {},
   "outputs": [
    {
     "name": "stdout",
     "output_type": "stream",
     "text": [
      "Shape of validation set: (1920, 44)\n"
     ]
    }
   ],
   "source": [
    "X_train_emb, X_valid_emb, y_train_emb, y_valid_emb = train_test_split(X_train_seq_trunc, y_train_oh, test_size=0.1, random_state=37)\n",
    "\n",
    "#separating validation set from training set\n",
    "\n",
    "assert X_valid_emb.shape[0] == y_valid_emb.shape[0]\n",
    "assert X_train_emb.shape[0] == y_train_emb.shape[0]\n",
    "\n",
    "#checking if dimensions are same for training and testing shape\n",
    "\n",
    "print('Shape of validation set:',X_valid_emb.shape)"
   ]
  },
  {
   "cell_type": "code",
   "execution_count": 19,
   "metadata": {},
   "outputs": [],
   "source": [
    "GLOVE_DIM = 100  # Number of dimensions of the GloVe word embeddings"
   ]
  },
  {
   "cell_type": "code",
   "execution_count": 20,
   "metadata": {},
   "outputs": [],
   "source": [
    "glove_file = 'glove.twitter.27B.' + str(GLOVE_DIM) + 'd.txt'    #glove file containing words and glove vectors\n",
    "emb_dict = {}\n",
    "glove = open('glove.twitter.27B/'+ glove_file)\n",
    "for line in glove:\n",
    "    values = line.split()\n",
    "    word = values[0]\n",
    "    vector = np.asarray(values[1:], dtype='float32')\n",
    "    emb_dict[word] = vector\n",
    "glove.close()\n",
    "\n",
    "#Constructing embedding mastrix\n",
    "\n",
    "emb_matrix = np.zeros((NB_WORDS, GLOVE_DIM))\n",
    "\n",
    "for w, i in tk.word_index.items():\n",
    "    # The word_index contains a token for all words of the training data so we need to limit that\n",
    "    if i < NB_WORDS:\n",
    "        vect = emb_dict.get(w)\n",
    "        # Check if the word from the training data occurs in the GloVe word embeddings\n",
    "        # Otherwise the vector is kept with only zeros\n",
    "        if vect is not None:\n",
    "            emb_matrix[i] = vect\n",
    "    else:\n",
    "        break"
   ]
  },
  {
   "cell_type": "code",
   "execution_count": 21,
   "metadata": {},
   "outputs": [
    {
     "name": "stderr",
     "output_type": "stream",
     "text": [
      "/home/mayank/anaconda3/lib/python3.7/site-packages/ipykernel_launcher.py:3: UserWarning: Update your `LSTM` call to the Keras 2 API: `LSTM(200, dropout=0.2, recurrent_dropout=0.2)`\n",
      "  This is separate from the ipykernel package so we can avoid doing imports until\n",
      "/home/mayank/.local/lib/python3.7/site-packages/keras/layers/recurrent.py:2155: UserWarning: RNN dropout is no longer supported with the Theano backend due to technical limitations. You can either set `dropout` and `recurrent_dropout` to 0, or use the TensorFlow backend.\n",
      "  'RNN dropout is no longer supported with the Theano backend '\n"
     ]
    },
    {
     "name": "stdout",
     "output_type": "stream",
     "text": [
      "_________________________________________________________________\n",
      "Layer (type)                 Output Shape              Param #   \n",
      "=================================================================\n",
      "embedding_1 (Embedding)      (None, 44, 100)           1000000   \n",
      "_________________________________________________________________\n",
      "lstm_1 (LSTM)                (None, 200)               240800    \n",
      "_________________________________________________________________\n",
      "dense_1 (Dense)              (None, 2)                 402       \n",
      "=================================================================\n",
      "Total params: 1,241,202\n",
      "Trainable params: 1,241,202\n",
      "Non-trainable params: 0\n",
      "_________________________________________________________________\n"
     ]
    }
   ],
   "source": [
    "glove_model = models.Sequential()\n",
    "glove_model.add(layers.Embedding(NB_WORDS, GLOVE_DIM, input_length=MAX_LEN))\n",
    "glove_model.add(layers.LSTM(200, dropout_U = 0.2, dropout_W = 0.2))\n",
    "glove_model.add(layers.Dense(2, activation='softmax'))\n",
    "glove_model.summary()"
   ]
  },
  {
   "cell_type": "code",
   "execution_count": 22,
   "metadata": {},
   "outputs": [],
   "source": [
    "glove_model.layers[0].set_weights([emb_matrix])\n",
    "glove_model.layers[0].trainable = False             #we are using pretrained weights. No need to train the initial layer"
   ]
  },
  {
   "cell_type": "code",
   "execution_count": 23,
   "metadata": {},
   "outputs": [],
   "source": [
    "NB_START_EPOCHS = 10  # Number of epochs we usually start to train with\n",
    "BATCH_SIZE = 512  # Size of the batches used in the mini-batch gradient descent\n"
   ]
  },
  {
   "cell_type": "code",
   "execution_count": 24,
   "metadata": {},
   "outputs": [],
   "source": [
    "glove_model.compile(optimizer='rmsprop'                   #defining the model's training configs\n",
    "                  , loss='categorical_crossentropy'\n",
    "                  , metrics=['accuracy'])\n",
    "    "
   ]
  },
  {
   "cell_type": "code",
   "execution_count": 25,
   "metadata": {},
   "outputs": [
    {
     "name": "stdout",
     "output_type": "stream",
     "text": [
      "Train on 17275 samples, validate on 1920 samples\n",
      "Epoch 1/10\n",
      "17275/17275 [==============================] - 28s 2ms/step - loss: 0.2957 - acc: 0.8772 - val_loss: 0.1476 - val_acc: 0.9526\n",
      "Epoch 2/10\n",
      "17275/17275 [==============================] - 29s 2ms/step - loss: 0.1294 - acc: 0.9539 - val_loss: 0.1263 - val_acc: 0.9542\n",
      "Epoch 3/10\n",
      "17275/17275 [==============================] - 28s 2ms/step - loss: 0.0925 - acc: 0.9670 - val_loss: 0.1195 - val_acc: 0.9562\n",
      "Epoch 4/10\n",
      "17275/17275 [==============================] - 29s 2ms/step - loss: 0.0809 - acc: 0.9705 - val_loss: 0.0747 - val_acc: 0.9750\n",
      "Epoch 5/10\n",
      "17275/17275 [==============================] - 30s 2ms/step - loss: 0.0636 - acc: 0.9756 - val_loss: 0.0604 - val_acc: 0.9755\n",
      "Epoch 6/10\n",
      "17275/17275 [==============================] - 33s 2ms/step - loss: 0.0539 - acc: 0.9790 - val_loss: 0.0708 - val_acc: 0.9708\n",
      "Epoch 7/10\n",
      "17275/17275 [==============================] - 35s 2ms/step - loss: 0.0504 - acc: 0.9814 - val_loss: 0.0567 - val_acc: 0.9755\n",
      "Epoch 8/10\n",
      "17275/17275 [==============================] - 34s 2ms/step - loss: 0.0414 - acc: 0.9842 - val_loss: 0.1091 - val_acc: 0.9609\n",
      "Epoch 9/10\n",
      "17275/17275 [==============================] - 33s 2ms/step - loss: 0.0385 - acc: 0.9856 - val_loss: 0.0477 - val_acc: 0.9839\n",
      "Epoch 10/10\n",
      "17275/17275 [==============================] - 34s 2ms/step - loss: 0.0327 - acc: 0.9880 - val_loss: 0.0523 - val_acc: 0.9818\n"
     ]
    },
    {
     "data": {
      "text/plain": [
       "0.9880173656219339"
      ]
     },
     "execution_count": 25,
     "metadata": {},
     "output_type": "execute_result"
    }
   ],
   "source": [
    "\n",
    "glove_history = glove_model.fit(X_train_emb                               #training the model\n",
    "                       , y_train_emb\n",
    "                       , epochs=NB_START_EPOCHS\n",
    "                       , batch_size=BATCH_SIZE\n",
    "                       , validation_data=(X_valid_emb, y_valid_emb)\n",
    "                       , verbose=1)\n",
    "\n",
    "glove_history.history['acc'][-1]"
   ]
  },
  {
   "cell_type": "code",
   "execution_count": 26,
   "metadata": {},
   "outputs": [],
   "source": [
    "def eval_metric(history, metric_name):\n",
    "    '''\n",
    "    Function to evaluate a trained model on a chosen metric. \n",
    "    Training and validation metric are plotted in a\n",
    "    line chart for each epoch.\n",
    "    \n",
    "    Parameters:\n",
    "        history : model training history\n",
    "        metric_name : loss or accuracy\n",
    "    Output:\n",
    "        line chart with epochs of x-axis and metric on\n",
    "        y-axis\n",
    "    '''\n",
    "    metric = history.history[metric_name]\n",
    "    val_metric = history.history['val_' + metric_name]\n",
    "\n",
    "    e = range(1, NB_START_EPOCHS + 1)\n",
    "\n",
    "    plt.plot(e, metric, 'bo', label='Train ' + metric_name)\n",
    "    plt.plot(e, val_metric, 'b', label='Validation ' + metric_name)\n",
    "    plt.legend()\n",
    "    plt.show()\n",
    "\n"
   ]
  },
  {
   "cell_type": "code",
   "execution_count": 27,
   "metadata": {},
   "outputs": [
    {
     "data": {
      "image/png": "[encoded data removed]",
      "text/plain": [
       "<Figure size 432x288 with 1 Axes>"
      ]
     },
     "metadata": {
      "needs_background": "light"
     },
     "output_type": "display_data"
    }
   ],
   "source": [
    "eval_metric(glove_history, 'loss')                    #Loss during traning vs validation"
   ]
  },
  {
   "cell_type": "code",
   "execution_count": 28,
   "metadata": {},
   "outputs": [
    {
     "data": {
      "image/png": "[encoded data removed]",
      "text/plain": [
       "<Figure size 432x288 with 1 Axes>"
      ]
     },
     "metadata": {
      "needs_background": "light"
     },
     "output_type": "display_data"
    }
   ],
   "source": [
    "eval_metric(glove_history, 'acc')                     #Accuracy during traning vs validation\n"
   ]
  },
  {
   "cell_type": "code",
   "execution_count": 29,
   "metadata": {},
   "outputs": [
    {
     "name": "stdout",
     "output_type": "stream",
     "text": [
      "2133/2133 [==============================] - 3s 1ms/step\n",
      "/n\n",
      "Test accuracy of word glove model: 98.59%\n"
     ]
    }
   ],
   "source": [
    "\n",
    "glove_model.fit(X_train_seq_trunc\n",
    "              , y_train_oh\n",
    "              , epochs=3\n",
    "              , batch_size=BATCH_SIZE\n",
    "              , verbose=0)\n",
    "glove_results = glove_model.evaluate(X_test_seq_trunc,y_test_oh)\n",
    "print('/n')\n",
    "print('Test accuracy of word glove model: {0:.2f}%'.format(glove_results[1]*100))"
   ]
  },
  {
   "cell_type": "code",
   "execution_count": 30,
   "metadata": {},
   "outputs": [],
   "source": [
    "def predict_if_question(sentence):\n",
    "    sentence_nstop = [sentence]\n",
    "    sentence_nstop = np.array(sentence_nstop)\n",
    "    sentence_seq = tk.texts_to_sequences(sentence_nstop)\n",
    "    #print(sentence_seq)\n",
    "    sentence_seq_trunc = pad_sequences(sentence_seq, maxlen=MAX_LEN)\n",
    "    return glove_model.predict(sentence_seq_trunc)"
   ]
  },
  {
   "cell_type": "code",
   "execution_count": 31,
   "metadata": {},
   "outputs": [
    {
     "name": "stdout",
     "output_type": "stream",
     "text": [
      "WARNING:tensorflow:From /home/mayank/.local/lib/python3.7/site-packages/tensorflow/python/framework/op_def_library.py:263: colocate_with (from tensorflow.python.framework.ops) is deprecated and will be removed in a future version.\n",
      "Instructions for updating:\n",
      "Colocations handled automatically by placer.\n"
     ]
    },
    {
     "name": "stderr",
     "output_type": "stream",
     "text": [
      "From /home/mayank/.local/lib/python3.7/site-packages/tensorflow/python/framework/op_def_library.py:263: colocate_with (from tensorflow.python.framework.ops) is deprecated and will be removed in a future version.\n",
      "Instructions for updating:\n",
      "Colocations handled automatically by placer.\n"
     ]
    },
    {
     "name": "stdout",
     "output_type": "stream",
     "text": [
      "Using char embeddings\n",
      "\n",
      "WARNING: The TensorFlow contrib module will not be included in TensorFlow 2.0.\n",
      "For more information, please see:\n",
      "  * https://github.com/tensorflow/community/blob/master/rfcs/20180907-contrib-sunset.md\n",
      "  * https://github.com/tensorflow/addons\n",
      "If you depend on functionality not listed there, please file an issue.\n",
      "\n",
      "WARNING:tensorflow:From /home/mayank/.local/lib/python3.7/site-packages/seqtag/ner_model.py:140: LSTMCell.__init__ (from tensorflow.python.ops.rnn_cell_impl) is deprecated and will be removed in a future version.\n",
      "Instructions for updating:\n",
      "This class is equivalent as tf.keras.layers.LSTMCell, and will be replaced by that in Tensorflow 2.0.\n"
     ]
    },
    {
     "name": "stderr",
     "output_type": "stream",
     "text": [
      "From /home/mayank/.local/lib/python3.7/site-packages/seqtag/ner_model.py:140: LSTMCell.__init__ (from tensorflow.python.ops.rnn_cell_impl) is deprecated and will be removed in a future version.\n",
      "Instructions for updating:\n",
      "This class is equivalent as tf.keras.layers.LSTMCell, and will be replaced by that in Tensorflow 2.0.\n"
     ]
    },
    {
     "name": "stdout",
     "output_type": "stream",
     "text": [
      "WARNING:tensorflow:From /home/mayank/.local/lib/python3.7/site-packages/seqtag/ner_model.py:145: bidirectional_dynamic_rnn (from tensorflow.python.ops.rnn) is deprecated and will be removed in a future version.\n",
      "Instructions for updating:\n",
      "Please use `keras.layers.Bidirectional(keras.layers.RNN(cell))`, which is equivalent to this API\n"
     ]
    },
    {
     "name": "stderr",
     "output_type": "stream",
     "text": [
      "From /home/mayank/.local/lib/python3.7/site-packages/seqtag/ner_model.py:145: bidirectional_dynamic_rnn (from tensorflow.python.ops.rnn) is deprecated and will be removed in a future version.\n",
      "Instructions for updating:\n",
      "Please use `keras.layers.Bidirectional(keras.layers.RNN(cell))`, which is equivalent to this API\n"
     ]
    },
    {
     "name": "stdout",
     "output_type": "stream",
     "text": [
      "WARNING:tensorflow:From /home/mayank/.local/lib/python3.7/site-packages/tensorflow/python/ops/rnn.py:443: dynamic_rnn (from tensorflow.python.ops.rnn) is deprecated and will be removed in a future version.\n",
      "Instructions for updating:\n",
      "Please use `keras.layers.RNN(cell)`, which is equivalent to this API\n"
     ]
    },
    {
     "name": "stderr",
     "output_type": "stream",
     "text": [
      "From /home/mayank/.local/lib/python3.7/site-packages/tensorflow/python/ops/rnn.py:443: dynamic_rnn (from tensorflow.python.ops.rnn) is deprecated and will be removed in a future version.\n",
      "Instructions for updating:\n",
      "Please use `keras.layers.RNN(cell)`, which is equivalent to this API\n"
     ]
    },
    {
     "name": "stdout",
     "output_type": "stream",
     "text": [
      "WARNING:tensorflow:From /home/mayank/.local/lib/python3.7/site-packages/tensorflow/python/ops/rnn.py:626: to_int32 (from tensorflow.python.ops.math_ops) is deprecated and will be removed in a future version.\n",
      "Instructions for updating:\n",
      "Use tf.cast instead.\n"
     ]
    },
    {
     "name": "stderr",
     "output_type": "stream",
     "text": [
      "From /home/mayank/.local/lib/python3.7/site-packages/tensorflow/python/ops/rnn.py:626: to_int32 (from tensorflow.python.ops.math_ops) is deprecated and will be removed in a future version.\n",
      "Instructions for updating:\n",
      "Use tf.cast instead.\n"
     ]
    },
    {
     "name": "stdout",
     "output_type": "stream",
     "text": [
      "WARNING:tensorflow:From /home/mayank/.local/lib/python3.7/site-packages/seqtag/ner_model.py:156: calling dropout (from tensorflow.python.ops.nn_ops) with keep_prob is deprecated and will be removed in a future version.\n",
      "Instructions for updating:\n",
      "Please use `rate` instead of `keep_prob`. Rate should be set to `rate = 1 - keep_prob`.\n"
     ]
    },
    {
     "name": "stderr",
     "output_type": "stream",
     "text": [
      "From /home/mayank/.local/lib/python3.7/site-packages/seqtag/ner_model.py:156: calling dropout (from tensorflow.python.ops.nn_ops) with keep_prob is deprecated and will be removed in a future version.\n",
      "Instructions for updating:\n",
      "Please use `rate` instead of `keep_prob`. Rate should be set to `rate = 1 - keep_prob`.\n",
      "/home/mayank/.local/lib/python3.7/site-packages/tensorflow/python/ops/gradients_impl.py:110: UserWarning: Converting sparse IndexedSlices to a dense Tensor of unknown shape. This may consume a large amount of memory.\n",
      "  \"Converting sparse IndexedSlices to a dense Tensor of unknown shape. \"\n",
      "Initializing tf session\n",
      "Reloading the latest trained model...\n"
     ]
    },
    {
     "name": "stdout",
     "output_type": "stream",
     "text": [
      "WARNING:tensorflow:From /home/mayank/.local/lib/python3.7/site-packages/tensorflow/python/training/saver.py:1266: checkpoint_exists (from tensorflow.python.training.checkpoint_management) is deprecated and will be removed in a future version.\n",
      "Instructions for updating:\n",
      "Use standard file APIs to check for files with this prefix.\n"
     ]
    },
    {
     "name": "stderr",
     "output_type": "stream",
     "text": [
      "From /home/mayank/.local/lib/python3.7/site-packages/tensorflow/python/training/saver.py:1266: checkpoint_exists (from tensorflow.python.training.checkpoint_management) is deprecated and will be removed in a future version.\n",
      "Instructions for updating:\n",
      "Use standard file APIs to check for files with this prefix.\n"
     ]
    },
    {
     "name": "stdout",
     "output_type": "stream",
     "text": [
      "INFO:tensorflow:Restoring parameters from deepsegment_eng_v1/deepsegment_eng_v1/model.weights/\n"
     ]
    },
    {
     "name": "stderr",
     "output_type": "stream",
     "text": [
      "Restoring parameters from deepsegment_eng_v1/deepsegment_eng_v1/model.weights/\n"
     ]
    },
    {
     "name": "stdout",
     "output_type": "stream",
     "text": [
      "Completed loading the model\n"
     ]
    },
    {
     "data": {
      "text/plain": [
       "['yeah its small size',\n",
       " 'font people are giving comments about the type of problems anything else smaller frontier',\n",
       " 'i got back and a background',\n",
       " 'color is is horrible right ardiss',\n",
       " 'no contrast correct so somebody is pointing out different things right unable to read so these are two problems',\n",
       " 'how many people find that this position of the logo is also not very correct',\n",
       " 'it is chopped from the top item on the logo should be seen complete and you should be able to read it right then how the people are scared of this a hundred and thirty seven slides like this',\n",
       " 'can you withstand such a presentation for so long',\n",
       " 'its not correct right here',\n",
       " 'somebody from gray mentioned it is not correct therefore we cannot read it as it is horrible so i was joking',\n",
       " 'actually i wanted to show how bad presentation slides can really ruin the content therefore i deliberately started with a bad slide all of you',\n",
       " 'can you read this slide now',\n",
       " 'how is this light so i am going to talk about use of text and graphics in most of the documents well',\n",
       " 'i am not restricting this only presentation what you make in slideshow format or any other format but in general are at the very early stage i would like to acknowledge the contributions in this presentation done by doctor kintaro a he was ahead of microsoft researchers at the time when i met him and i saw this great presentation what he had used in this talk i requested him if i can borrow some of the slides from his presentation which he happily agreed and therefore i am able to use them this is important',\n",
       " 'please note this point',\n",
       " 'its okay to get slides and ideas from people you love too but at the same time dont forget to acknowledge their content',\n",
       " 'this is one way of doing it',\n",
       " 'lets go ahead so whats so much big fuss about the font',\n",
       " 'whats so great about use of what i dont',\n",
       " 'how many people have read this article a year back',\n",
       " 'i think a indian student spoke to the us government and told them that if you change your font your official font of your government is times new roman by the way they said that if you change that font to garamond which is shown down below then you will save four hundred million dollars every year a wise that it is just because the toner required to print the times new roman content versus garum on content is drastically different and you can see the results onscreen ricky the garamond font is thinner and thats why uses less tuna but will you agree to this decision of course used government agree to this decision because simply because of the reason that communication is the primary objective of print',\n",
       " 'why do you want to print you want to print because somebody should be able to read it now',\n",
       " 'you can easily see onscreen that garamond is less readable as compared to times hurom so at the cost of four hundred us dollars if the officials are not able to read what is printed there is no point in saving money therefore importance of font is in its readability what is so important about design for example see this particular slide where research analysis is a comparing two groups',\n",
       " 'i have no doubt in terms of the authenticity of the data data is perfectly fine then whats wrong',\n",
       " 'its hardly communicating anything',\n",
       " 'you cannot make out what is being told but this only the research was prepared',\n",
       " 'this probably will be able to see and explain what is happening otherwise if i send the slide to anyone they would not be able to see anything out of this right now when we see in terms of colour the same logic applies',\n",
       " 'this is the classroom a scenario where slides are used but look at the colors and the contrast',\n",
       " 'can you see this text which is on this gray and white backgrounds',\n",
       " 'you cannot see white text on white so use of background is very important and at times your to take a very clear call about whether you require a background or not that is the thing that week i decided that will focus on these aspects in this small little module about visual communication using text and graphics while i would like to take you back to a smaller but very important component of a presentation which is the process and typically it should start with the planning phase where you plan a presentation',\n",
       " 'i am sure it is nothing to do with your visual graphic sense but planning a presentation is very important',\n",
       " 'after you plan then you can decide',\n",
       " 'how do you want to execute it',\n",
       " 'like what is the outline',\n",
       " 'what are the details of a bullets',\n",
       " 'youre going to add all that and finally you decide on the template which will allow you to change font color add graphics and other things right invariably what people do is follow the reverse process they start with color schemes and typography and i have seen people spending a lot of time on the front slide like what color should be choose',\n",
       " 'what font should reward image should be added there',\n",
       " 'its absolutely unnecessary',\n",
       " 'amount of time is spent on that and later on they go to okay',\n",
       " 'i think my outline is slightly problematics',\n",
       " 'let me change the slide from here to there and then they go finally to the stage where they analyze oh',\n",
       " 'is it really necessary',\n",
       " 'do you want these number of sites here or should i delete them or sticks',\n",
       " 'ideal condition is to start with a planning phase where you analyze and who can actually brainstormed ideas organize them go to execute stage and then finally to the prestige we will very rapidly go through the stages but a let me see if you have more questions i would like to answer them later',\n",
       " 'okay now in the planning phase one of the techniques which i prefer is a about the ideation of the presentations what you want so when you we have seen have taken a popular example of a one of the most celebrated and most talented director india ever produce satyajit rai so for output or of communication what he wanted to create in a film called gary bury the kind of process he had followed was that in order to get here he had put lot of effort in the execute stage where he used to have my new detailed worked out and the planning stage was equally important very fussy his sketches and notes he has prepared on what the character will look like',\n",
       " 'how will that correct behave',\n",
       " 'everything is written in detail',\n",
       " 'even the sideburns will be of this size',\n",
       " 'how will that be looking so all these details are very well documented in the scanning of the documents which we have received right now once you have these things in place then if you put equal amount of effort at the time of execution when the shooting was happening used to go there and see to it that every character makeup is done to perfection and only then the output comes out something like this which is world renowned and acclaimed for the finish of the product so i am saying that if you follow a particular purpose moses with meticulous details then there is a high probability that it will reach out to the audience and communicate the way it is intended to be communicating right so far up typical presentation like whatever presentations you would be doing are now here',\n",
       " 'i am slightly digressing',\n",
       " 'i am not talking about the regular presentations what you make in your class for a particular subject and like forty series of lectures you prepare for that',\n",
       " 'this may not apply to that set of presentations but overall the point is that we all love stories to whatever we do',\n",
       " 'it is very boring',\n",
       " 'if we dont have a story element in anything what we are here we communicate for example when i started with that presentation which had no color and very badly use fonts',\n",
       " 'i suddenly had communication from all of you saying that we cant read it and that has struck my communication right',\n",
       " 'now i am talking to you instead of you sitting there and listening to me and silently you are equally participating in this presentation and that makes my point very easy to communicate now',\n",
       " 'i am communicating am not preaching like one person just saying something and other suggests a passive listening to it',\n",
       " 'thats not the case so in order to achieve that we need a story in every explanation what were trying to make i dont mean that you have to always talk about be king and queen and all that but you need to connect with people with some interesting thing and what is the story typically so if you analyze that a typical film story goes like this we have the boy fitting the girl we have the girl is ignoring a boy and the boys trying to try something new there are some plots by the boy to get the girl and the plot will work and there is happily ever after right below the standard story now if i translate that to what happens actually at the psychological level then it is the setup it is the conflict where a the ignorance happens',\n",
       " 'there is a false climax where we try to see what plots are being worked out by the boy and there is action because the plot is trying to be made active by the boy and finally we have everything working out fine now if i translate this thing into any kind of a seminar presentation how it looked like shed start with introduction where you set up the problem okay this is this is the thing which are happening in the past now there are these observations that these the these are the problems right now around this topic and then there is this related work happening in this area so in between this related work we can see that there is a particular solution which we are proposing and we can show how this thing works by showing the results in proofs and finally we can say that this will work better if we go in this particular direction now this is very much a standard outline of any other presentation what you must have seen heard or made yourself and the wise that because this particular type of communication is typical talk outline which will be a pretty good story for people to listen',\n",
       " 'they love to a start off with introduction because you cant suddenly come into action singer',\n",
       " 'okay here is a problem and here is the solution',\n",
       " 'nobody is interested in getting that therefore you need to follow a particular way of storytelling so that people will appreciate the way you have communicated your thoughts and it is only possible because everyone including students as well as a reviewers whom who are judging you will love stories always that is why we need to see how we can make that outline as interesting as possible so that people would be able to communicate and see whatever is happening and then communicate back to us right so in order to get that position we need to stress upon the plan phase very much and one of the techniques i use most of the time is brain storm now in the brainstorming phase',\n",
       " 'the ideation is very interesting and i dont know whether you have tried but maybe some time or during your next weeks coming weeks',\n",
       " 'if you want you can have a farm a small group and try it out at your own remote centers or within your other peer groups cuz',\n",
       " 'its very interesting to see how ideas can generate at the brainstorming live well',\n",
       " 'i will just give you a couple of guidelines about how to conduct a brainstorming session for that matter so this has to start with anything which comes to your mind so it can start with words concepts ideas',\n",
       " 'whatever you think about the topic you just have to write it down and a you have to just throw them on piece of paper and or a board or a nowadays people are just use post it and keep it there',\n",
       " 'you can just use a plain sheet of paper also you dont have to use a very sophisticated equipment for that and arm you can also ask one of you to volunteer and right on the whiteboard or blackboard whatever is available and just keep throwing ideas but the important point at this stage is that you dont have to be judgmental while doing this so it is very important that you dont decide to discard idea or to keep idea being judgment',\n",
       " 'no idea should be discarded at this phase',\n",
       " 'just keep writing later on when youre done with that time slot of brainstorming you can find the relationship between the topics and there if you find no relationship or a certain point which is written they can discard it but not at the time off when people are suggesting for example there is a room of a having five or six people were brainstorming on a particular idea and theyre saying certain a points to be added the person who is writing he or she should not comment right away by saying oh maybe this is slightly farfetched or maybe this is not connected to this so maybe we should when you should avoid these',\n",
       " 'dont take such a judgmental call at that stage',\n",
       " 'just keep writing them after your done with that and with time we put a time limit so that we dont go endlessly on that and after that just try to find out relationship between the so what are typically the points which will go the introduction what are typical point which is about the problem or related work or the solution a proof something like that then you should be able to generate a flow out of these buckets which you have collected while based on this the interesting idea and one of the tools in order to make this is called my dads so mind maps will help you in categorizing and analyzing the particular topic of throwing up ideas and without any hierarchy so to see why i am saying that is because mindmap doesnt tell you about a hierarchical structure so it is everything is thrown at one point and then you can just decide they are collateral based on the audience',\n",
       " 'you are going to communicate so for example',\n",
       " 'there is the audience which right now when im talking to you all you all being teachers i will re position my presentation in the way which is different than when i will use the same presentation or the topic when i am talking to students so this kind of orientation will change for the same content also sometimes and thats where the structure of the presentation makes a very important a role in doing so let us take an example here if you all are there and ready for typing out something have a look at this slide you can see some alphabets on screen right now in the alphabets if i tell you that after a period of thirty five seconds of forty seconds i am going to switch off the slide unable to ask you tell me number of each of the alphabet are in in this set what i am sure i want how many age where their honey bees see when devan yes and all that how will you try to remember this set and re create it for me',\n",
       " 'what would be the technique',\n",
       " 'can you try out',\n",
       " 'i will keep showing this lights',\n",
       " 'what is the technique you use',\n",
       " 'i dont want you to tell me the numbers right now',\n",
       " 'i just wanted to tell me the technique',\n",
       " 'what will you use in order to remember these alphabets and tell be back fits kind of a memory to suppose',\n",
       " 'how will you do that',\n",
       " 'are there',\n",
       " 'some options ideas take a photo a kid',\n",
       " 'we cant use technology by the way here',\n",
       " 'i want you to give bear a solution which can be used for example if i give you an exam',\n",
       " 'you dont have mobile camera that the time then how will you do this year',\n",
       " 'try to construct a sentence',\n",
       " 'okay create a story link okay',\n",
       " 'how can you create a story out of this weak form words right so a series so you created a world called maggie out of it right okay',\n",
       " 'let me create some words out of it',\n",
       " 'i there is one option that you just count them',\n",
       " 'then there is one a and seeks is to see and all that and then you can also bring it back white',\n",
       " 'there is one option',\n",
       " 'there is another option where you can create some words meaningful words right so this is one couple of words we can create and infact we can also create a sentence out of it what the sentence say a coincedence re merging unspent but tell me frankly hobby people can remember the sentence very difficult right so let me give you another sentence',\n",
       " 'can you remember the sentence a coincedence emergent nursing can remember this well',\n",
       " 'even this is very difficult eye or if i give you computer science and engineering will that would be a pretty easy to remember for most of you because they are associated with this department or acne they see this nameplate outside everywhere so its not a very foreign word for them like emergent nursing so it depends the structure depends on the fact of who is going to consume it you agree with this so it then it becomes pretty easy for anyone to remember now',\n",
       " 'if i tell you tell with alphabets from this set and you will just say right computer science and engineering and tell me that okay all of these are the alphabets right now this is by the way a internet anagram server which helps you in doing this',\n",
       " 'you cant write out some very interesting',\n",
       " 'anagrams can be made out of it another example',\n",
       " 'if i tell you remember this alphabets a mountain comic or account many ome or iconic mom nut very difficult to remember but if i tell you that this all makes into a world called communication',\n",
       " 'thats pretty easy to remember because you know about this word',\n",
       " 'in fact the presentation is all about communication therefore its very easy to remember this the point i am making forget about the anagram part but the point i am making is the structure will always be very pleasing for the users if it comes from their own domain so the moment it comes from their own domain',\n",
       " 'the structure is very well appreciated by everyone who is listening to it seeing it reading it reviewing it whatever theyre doing with the structure makes any persoe you have to be contextual when you create the structure so that the users know what is it going to be for them',\n",
       " 'i now going ahead',\n",
       " 'we should be able to use the brainstormed ideas into various buckets of the presentation and that will give us a sort of chunking stage where our presentation we populated by all these topics which were discussed so this is one a simple solution and this can be done in a using a mindmap are typically when i teach this course in a class we have a full fledged assignment on a mindmap this time i decided not to go ahead with it are simply because of the time factor as well as the a end of our assessment evaluation are issues',\n",
       " 'i heard about okay so we will go ahead and a now we will try to see if we can just know a little bit about mind maps so people who are aware of mindmaps',\n",
       " 'i should just contribute bar by posting something about it but for people who are new to this idea it is a simple explanation using a central idea and a radial a way of explaining things so the subsections are radio like a sun rays he will have everything coming from the scent so later on you can decide the hierarchy by numbering it probably but it is not like a tree where you will have everything one below the other so its a radial design',\n",
       " 'it allows you to express using visual so at times you want to show that is a very important you can put some stars are you can tolerate and all sorts of things are possible but if you add some of the concept my ideas to it for example labeling the lines which are connecting to the bubbles then it will become very informative by the way just as small exercise these are the mind my guidelines and they are written topic ten points here but instead of that',\n",
       " 'if i show you this mind map directly the same guidelines are explained using this and this becomes more user friendly for people to understand so you can use a link you can use color you can emphasize and add images and you can have various dimensions to it',\n",
       " 'you can use keywords and use of apparent over will help in giving importance there can be different styles',\n",
       " 'you can have a personal style can develop from original sin which is available and all sorts of things so this is pretty easy to remember because of the structure itself as compared to this ten bullet slide',\n",
       " 'this becomes very easy even if i have asked this question to lot of people later on and they are able to recollect a lot of these guidelines just looking at this mindmap as compared to the presentation slides right so let us move on but before that i think there was a a question in the last class which had given that what is the difference between the concept map and a mind map so therefore i suggest fertile ad one particular side a concept maps are abs slightly different than my maps not majority of a difference but visible difference is like what you see here so the connector line between the central idea and the subtopic will also be labeled in shipments and it will have some kind of a relationship explanation so this chooses to do this or this reflects on this so you will write that particular arm summary of that action on the connector lie and that will help you in in reading the concept map very fast',\n",
       " 'thats the idea okay so we have this difference between mindmap and concept map but let me just tell you a couple of tools which are freely available',\n",
       " 'some of them are a free some of them are limited in terms of their usage but most of them are free',\n",
       " 'nowadays you have something called free mind and its mine but there is a tool called think bhusan by the way a mugen is the person who invented mind maps and a perfected this technique long time back so the website which he runs is a one of the pioneering effort in this but it is not a completely free but still you can use limited part of it and a okay so we have a certain part of a mind mapping available',\n",
       " 'theyre okay so from plan stage',\n",
       " 'let us go to the execute phase where we want to now that we have the o in ready with us and we have some topics',\n",
       " 'let us see how we can use them in a more interesting way and at this point i discussed about the use of graphics in the presentation and i think i have already seen this',\n",
       " 'i dont want to spend lot of time on the different type of content will require different types of visuals and the types of visuals are essentially not cast in stone but yeah you can still take this as a reference what i did not cover in that particular presentation was how you can convert some of the text to graphics to make it more meaningful and here is one example and a now you all know this is a relational graphic because it will tell you the quantitative difference between whatever is happening so tables are typically used to explain things and table will be a not much communicative instead',\n",
       " 'if you use a graph of that that would tell you visually okay that the product number three has this ratio as compared to port number to which has a better ratio so all these things can be very clear',\n",
       " 'if you use a graph instead of a table however there are problems in the way people use graphs or tables so for example look at this stage',\n",
       " 'this is about the poverty rates and there are some other four counties are shown here and the percentage of poverty shown in the other call well',\n",
       " 'there are some problems in this table',\n",
       " 'can you just take a minute to think about what is the problem and try to put it up a can you all see the table and what is the problem with the stable year',\n",
       " 'county is repeated unnecessarily',\n",
       " 'it is annoying okay',\n",
       " 'decimals are having a prob right and you all are pretty correct because if you show it like this then it will be much more simpler because you have the decibels all aligned properly and then you can do this in fact you can go away with word count and just say abc here that also will be better even percentage there is a sign is not needed if it is there on the top right okay now look at this graph',\n",
       " 'whats the problematic situation',\n",
       " 'your font size access are not clearly visible',\n",
       " 'okay font size is the issue okay but font size can be a scale is not perfect',\n",
       " 'okay on why exists',\n",
       " 'i think a range in why access is a proggier swathing couple of people are coming up very right and if i change the scale i dont actually have to talk about the value of to fifty thousand if nothing at least here in white to show all these values right so i just reduce the why access to ten thousands and now you know what i can actually see a this particular dip here which was not visible in the earlier graph at all the editors dropdown in nineteen fifty below six how did which was not visible at this very simple and very common problem but most of the time people forget to use these techniques in order to explain what they wanted to say',\n",
       " 'i have also covered about color schemes and a typography but i did not cover the visual effects and appeal part so i had lot of questions from other people about a nowadays with so many presentation tools we have these options of visual effects and transitions and other',\n",
       " 'how should we use that site just wanted to touch base on the topic briefly at least before you be a go hide in the final segment of explaining the activity so when you talk about a presentations so we have these a animated text effects and then we have a this kind of a windows server being used or we have a slides having this door open type of transition',\n",
       " 'there are many boat transitions in fact you have something like a blast and very can see things getting to pieces',\n",
       " 'we have something very popular which is the page curl and obscene umpteen number of presentations using this type of a slide transition',\n",
       " 'you have this venetian blinds which is becoming very common',\n",
       " 'nowadays you have',\n",
       " 'this thread is type of things where you can rotate the boxes and all you have a flying screens in fact the range is really crazy',\n",
       " 'you keep going and you will see that the vital really shock you the sum effect of a light coming up and add some color transition',\n",
       " 'oh the range is really crazy',\n",
       " 'which will make you think oh',\n",
       " 'what was the topic of this presentation',\n",
       " 'we will it all started very are just forgotten by the time am showing you all the slides',\n",
       " 'what was the over topic when we were a starting of this presentation so let just unwind a bit what we wanted to tell you was that whenever you are using a presentation transition especially are in impress',\n",
       " 'remember this that you want the audience to take your message',\n",
       " 'what are your time to come',\n",
       " 'he wanted you want them to take away the message but you dont want the audience to be taken away by the message that is what your objective at all therefore the simple impress guidelines are but dont overdo anything office over transitions overcolor over font usage over of everything will create a chaotic situation and that is what i think you can remember and like in my earlier presentations',\n",
       " 'even this slide has a green dot which means that this is the guideline slide and you can use this slide as a guideline slide which you can just compress all by presentation slides to one presentation and keep them handy so that he can utilize it whenever you are in trouble all want to solve something okay so based on this we can just have a look at the very famous debate of form and function what is a form is',\n",
       " 'how do you show the message and what is the function',\n",
       " 'what exact isms so for example',\n",
       " 'i ask you that my message or my product',\n",
       " 'i want to inviscid is a bunch of bristles to clean or apply then what could be the the solution for that',\n",
       " 'what what would be your answer',\n",
       " 'what should be the form of that',\n",
       " 'if the function is of a bunch of bristles to either clean or to apply something what would be the form you would recommend any just type in your answers for the riff',\n",
       " 'i ask this question',\n",
       " 'it can be brush by the way which rush could this be yeah',\n",
       " 'people are the same brush after even after another but yeah can you be more specific',\n",
       " 'you cannot be specific because i have not given you the context and thats why all the answers are ringing in the zone of just a brush because women as a bristles and a cleaning you remember a brush right now depends on the content very correctly said by college of engineering in good to add that it depends on the context',\n",
       " 'i suppose i give your context well so i give your context that i want something for teeth something for face and something for people know what will you use for teeth',\n",
       " 'obviously you will use the toothbrush i and what will use for face that would be be shaving brush and was of the women in the audience used to be the answer that they would use a makeup brush which is also correct a and a fight of our paper or a wall or something then that would be the painting rests also depends on the context that the same product has to be redesigned in order to satisfy the requirement of that particular surface that is how exactly we should take our decision in terms of presentation in terms of graphics in terms of colour everywhere depending on the context we should take a call off what we are going to use therefore its not that one is more important than other both are important but if you give less attention or inadequate attention to either of them then you will not be able to communicate properly on the other hand if you give excess attention then it will lead to a complete chaos and that is what we should avoid always therefore the content and is a very important and thats why it has a green dot the content for the given audience should govern the decision of choosing what visual your going to do use what design are able to follow and what strategy you are going to apply so it also depends on for example the moment i am teaching or am using a view then i should know that strategy should be of using the chat which is available here and then i can interact with you all images so depends on the audience how your going to conduct your communication skills are tested in such condition very much',\n",
       " 'i would like to stop here for this particular topic and i would like to a now tell you about the activity you are going to do today and are in between if there are some questions i would like to take those questions please',\n",
       " 'we wanted you know like i have a downloaded pun people long back',\n",
       " 'i dont know the credit',\n",
       " 'how can i get credit so the question has done okay so i will repeat the person you are saying that you have downloaded some powerpoint slides from internet and you dont know the source of that',\n",
       " 'is it correct',\n",
       " 'so how will you give credit for that presentation the website wherever you have downloaded from is also one of the ways you can referred me back so if you have downloaded from for example slideshare you will come to know that it has been uploaded by ex login name you can refer to that name and that is also good enough because sometimes people will anonymously a put up some content at that time you have to refer to the website but when you refer to it you have to say in bracket as seen on swine so date on this website that is would ideally you should write to the person who has uploaded and ask their permission on an email that i would like to use certain slide from your presentation for this purpose',\n",
       " 'can you approve this usage and if they approve then you can use it that would be nice otherwise you have to re create this and explain it in your own words and then use the content',\n",
       " 'thats what we have today for my slides',\n",
       " 'you are free to use it because i have released the slides in open source under a sea biwi essay so which means that you can use by slides and you can but you have to further release the slides also in the similar licence and give attribute to the person who has created that is me but also relieves the slides in the similar license model so that the the flow continues of open source content creation and we are anyway going to talk about',\n",
       " 'we are in the in the same sessions so this is one way of doing it polymer college of engineering our cushion up would be about a presentation being made pond puppet like michael very more and more',\n",
       " 'can he plot or either mathematics probability',\n",
       " 'is that what we are to take while making the presently hell yeah i have understood',\n",
       " 'the question like this are the question',\n",
       " 'the gentleman is asking is that you have showed me the presentation about communication skills so that is okay but what with if i have a presentation to make on microprocessor or something on algorithms or some biotechnology subject where there is lot of technical content involved and there is no liberty of like what you were using various colors and fonts and all that we dont have that choice so precisely sir what you have ares is very correct and a the the thumb rule still goes in the same manner if you look at the video which had a posted on moodle it shows that use of minimum number of fonts and minimum number of colors and using the grid lines in order to have a well designed layout of the slides adds to a clearer communication any which way whatever the content in arm in the store so i would like to give you another example',\n",
       " 'if you read a novel especially english novels then you can see that they are all printed in black and white there is no color there are no images there is hardly any sketch there but still you can read that infact lot of people tell me that they love to read the novel but they hate the movie when it is made so imagine the situation from that novel they upgraded the very nice looking movie which all special effects and color and acting and voice and sound and everything but you still enjoy the blackandwhite novel which can read and you are free to visualize or get the message across so nicely so it depends on the clarity of your presentation rather than clutter of the content so no one thumb rule is that keep it simple keep minimum number of fonts minimum number of colors and have a eye pleasing layout so that the the slides look easy',\n",
       " 'we have another question from a vidya pakistan bhanumati',\n",
       " 'i suppose netanyahu information holiday question whenever i am designing and presentation wisely you are google material design reconfigured google material designed to where they are mentioned clearly which collar knitwear dick around with plan be at be different and along with that the given the proper transition what type of border punitive what type of node we need to be google material designed to the medic one open for the designer accidentally tour website and app development kit that can be useful for the apprehension now',\n",
       " 'thank you very much for sharing this resource',\n",
       " 'i think its not a question but its a suggestions while repeat for the benefit of other participants were listening to this gentleman from avandia',\n",
       " 'pratishthan has come up with a suggestion of using google material design so like i was telling in the moodle video which have uploaded that nowadays with the availability of templates',\n",
       " 'most of the things are already very eased out however i see that most of the faculty members dont use the templates and thats where things go wrong or start going wrong so my sincere request is that use a template and copy your entire contents because the biggest problem what faculty members have ease of transporting the content from one presentation to oligopolies',\n",
       " 'can you tell me something which can be done in the same presentation',\n",
       " 'theyre very happy to use it',\n",
       " 'if i tell them that okay transport your presentation to this one which has a better template better layout better color better fonts then thats a lot of extra work to be done but i feel that it is important to do that because that will only help you in removing the clutter and are using the the well researched guidelines offer presentation and like what you said these tools are created using these guidelines already',\n",
       " 'we dont have to really worry about is the font size correct or add it has to be changed or something they will automatically get you the font sizes according whether it is the second level point third level point fourth well point it will allow you to use it automatically so that is a good suggestion thank you they will be a content and will be defended at two things in southern fiction so my infact voiles you that you concentrate on content creation at some point and later on whenever you are done you can so for example people who are well versed with latech they will agree to these vicadin latic',\n",
       " 'you are completely free from are the design part you just have to keep doing the content and if you use the appropriate tags the presentation will automatically show up in that format refit the heading it will always show the heading in a particular font and all that thats a beautiful way of planning things thanks we have marathwada institute of technology but machine each a menu will be water the different hes newer view that ops wouldnt from lousy soil repeat the question for the benefit of the rest of the participants who are listening to this',\n",
       " 'the question is that what are the different things which will stop students from learning so first and foremost is the a the boredom which accumulates over time so i like i said if your presentation lacks the engagement pointers in between so like if you see every presentation should have a point where the students feel connected to it in somewhere the other and that will only come through participation so if you are going to create a representation which has a monologue like you speak continuously on one side and dont bother whether people are sleeping on the other side when it is definitely stop people from derby it is observed and well researched fact that a students learn or anybody learns by participating so your presentation should have ample opportunity of participation and that will definitely connect them with this and they will never stop learning as you said so that is one sure shot way and the second wave in connection to what our presentation i just give is because of the a the kind of visual what you see on screen also creates the boredom at times for example',\n",
       " 'if you see something very interesting then students dont feel like we are not part of it so every time you show something if it is a catching their eyes in terms of what heading your giving what all font sizes your used if it is too small people cant read it then they give up and theyll say its a very boring lecture and i do want to listen to it',\n",
       " 'i would rather skip the slick so in order to avoid that method you have to make sure that you attract their attention to the topic youre discussing and then are you can ensure that it stays the same way by introducing participation in every presentation what your making the ride like to know that no there is lot of research happening based on the learning styles',\n",
       " 'i thinker your showing us',\n",
       " 'how the visual content is there any particular research done',\n",
       " 'we ake a method like a model journal',\n",
       " 'sagittarian can stick so no in general in india are near any girl across the country which kind of learners and more even though it is blended learning kenny or throw some light on this week a modern learning learning styles specialist okay so i will repeat the question for the benefit of others or what are the learning styles typically found in india is part of the question and i think specifically you asked about the vehicular be ah i am are really sorry but i am not very sure about the vehicle running part but with water experience i have a in teaching in the classroom as well as adapting to this side of a blended learning which we are right now doing so i am talking to a large crowd simultaneously and the books style of teaching where we dont even talk to people at all so the only way communication happens is through discussion forums so i have actually a just completed a course on a thready animation and which i am going to do a formal announcement in tomorrows session but just because the topic came up right now i tried these three teaching styles in the short span of one year a last one year ive been doing this activity as a full time research and to see the pros and cons of all these things and one thing i realize is that without a personal interaction with learner it is very difficult to communicate or to establish a engagement level with anybody so i wondered how many bullets we should have ideally in one slides how many words it should contain the question was is there a standard about how many bullets should be there in one slide',\n",
       " 'i so i had answered this briefly',\n",
       " 'in a one of the r slides oh use the six by six route or the other should be more than six points on a slide and they should not be more than six words in each point of these things are more than six words makes it very verbose and people are not able to remember it right',\n",
       " 'this is what a very crude level of guideline can be used although they can be slides were occasionally',\n",
       " 'you are forced to use some seven points probably if your topic talks about seven important issues related to something when you may have to add seventh point but that should be a rare according to a researcher which is given at the bottom ah they say that a human cannot remember more than six points if they are bombarded on today so therefore avoid more than six points on a slide and within the site also it should not be having more than six words at that time write',\n",
       " 'thank you very much have good lunch and activity after this',\n",
       " 'i see you tomorrow at nine thirty air',\n",
       " 'yeah its small size',\n",
       " 'font people are giving comments about the type of problems anything else smaller frontier',\n",
       " 'i got back and a background',\n",
       " 'color is is horrible right ardiss',\n",
       " 'no contrast correct so somebody is pointing out different things right unable to read so these are two problems',\n",
       " 'how many people find that this position of the logo is also not very correct',\n",
       " 'it is chopped from the top item on the logo should be seen complete and you should be able to read it right then how the people are scared of this a hundred and thirty seven slides like this',\n",
       " 'can you withstand such a presentation for so long',\n",
       " 'its not correct right here somebody from gray mentioned it is not correct therefore we cannot read it as it is horrible so i was joking',\n",
       " 'actually i wanted to show how bad presentation slides can really ruin the content therefore i deliberately started with a bad slide all of you',\n",
       " 'can you read this slide now',\n",
       " 'how is this light so i am going to talk about use of text and graphics in most of the documents well',\n",
       " 'i am not restricting this only presentation what you make in slideshow format or any other format but in general are at the very early stage i would like to acknowledge the contributions in this presentation done by doctor kintaro a he was ahead of microsoft researchers at the time when i met him and i saw this great presentation what he had used in this talk i requested him if i can borrow some of the slides from his presentation which he happily agreed and therefore i am able to use them this is important',\n",
       " 'please note this point',\n",
       " 'its okay to get slides and ideas from people you love too but at the same time dont forget to acknowledge their content',\n",
       " 'this is one way of doing it',\n",
       " 'lets go ahead so whats so much big fuss about the font',\n",
       " 'whats so great about use of what i dont',\n",
       " 'how many people have read this article a year back',\n",
       " 'i think a indian student spoke to the us government and told them that if you change your font your official font of your government is times new roman by the way they said that if you change that font to garamond which is shown down below then you will save four hundred million dollars every year a wise that it is just because the toner required to print the times new roman content versus garum on content is drastically different and you can see the results onscreen ricky the garamond font is thinner and thats why uses less tuna but will you agree to this decision of course used government agree to this decision because simply because of the reason that communication is the primary objective of print',\n",
       " 'why do you want to print you want to print because somebody should be able to read it now',\n",
       " 'you can easily see onscreen that garamond is less readable as compared to times hurom so at the cost of four hundred us dollars if the officials are not able to read what is printed there is no point in saving money therefore importance of font is in its readability what is so important about design for example see this particular slide where research analysis is a comparing two groups',\n",
       " 'i have no doubt in terms of the authenticity of the data data is perfectly fine then whats wrong',\n",
       " 'its hardly communicating anything',\n",
       " 'you cannot make out what is being told but this only the research was prepared',\n",
       " 'this probably will be able to see and explain what is happening otherwise if i send the slide to anyone they would not be able to see anything out of this right now when we see in terms of colour the same logic applies',\n",
       " 'this is the classroom a scenario where slides are used but look at the colors and the contrast',\n",
       " 'can you see this text which is on this gray and white backgrounds',\n",
       " 'you cannot see white text on white so use of background is very important and at times your to take a very clear call about whether you require a background or not that is the thing that week i decided that will focus on these aspects in this small little module about visual communication using text and graphics while i would like to take you back to a smaller but very important component of a presentation which is the process and typically it should start with the planning phase where you plan a presentation',\n",
       " 'i am sure it is nothing to do with your visual graphic sense but planning a presentation is very important',\n",
       " 'after you plan then you can decide',\n",
       " 'how do you want to execute it',\n",
       " 'like what is the outline',\n",
       " 'what are the details of a bullets',\n",
       " 'youre going to add all that and finally you decide on the template which will allow you to change font color add graphics and other things right invariably what people do is follow the reverse process they start with color schemes and typography and i have seen people spending a lot of time on the front slide like what color should be choose',\n",
       " 'what font should reward image should be added there',\n",
       " 'its absolutely unnecessary',\n",
       " 'amount of time is spent on that and later on they go to okay',\n",
       " 'i think my outline is slightly problematics',\n",
       " 'let me change the slide from here to there and then they go finally to the stage where they analyze oh',\n",
       " 'is it really necessary',\n",
       " 'do you want these number of sites here or should i delete them or sticks',\n",
       " 'ideal condition is to start with a planning phase where you analyze and who can actually brainstormed ideas organize them go to execute stage and then finally to the prestige we will very rapidly go through the stages but a let me see if you have more questions i would like to answer them later',\n",
       " 'okay now in the planning phase one of the techniques which i prefer is a about the ideation of the presentations what you want so when you we have seen have taken a popular example of a one of the most celebrated and most talented director india ever produce satyajit rai so for output or of communication what he wanted to create in a film called gary bury the kind of process he had followed was that in order to get here he had put lot of effort in the execute stage where he used to have my new detailed worked out and the planning stage was equally important very fussy his sketches and notes he has prepared on what the character will look like',\n",
       " 'how will that correct behave',\n",
       " 'everything is written in detail',\n",
       " 'even the sideburns will be of this size',\n",
       " 'how will that be looking so all these details are very well documented in the scanning of the documents which we have received right now once you have these things in place then if you put equal amount of effort at the time of execution when the shooting was happening used to go there and see to it that every character makeup is done to perfection and only then the output comes out something like this which is world renowned and acclaimed for the finish of the product so i am saying that if you follow a particular purpose moses with meticulous details then there is a high probability that it will reach out to the audience and communicate the way it is intended to be communicating right so far up typical presentation like whatever presentations you would be doing are now here',\n",
       " 'i am slightly digressing',\n",
       " 'i am not talking about the regular presentations what you make in your class for a particular subject and like forty series of lectures you prepare for that',\n",
       " 'this may not apply to that set of presentations but overall the point is that we all love stories to whatever we do',\n",
       " 'it is very boring',\n",
       " 'if we dont have a story element in anything what we are here we communicate for example when i started with that presentation which had no color and very badly use fonts',\n",
       " 'i suddenly had communication from all of you saying that we cant read it and that has struck my communication right',\n",
       " 'now i am talking to you instead of you sitting there and listening to me and silently you are equally participating in this presentation and that makes my point very easy to communicate now',\n",
       " 'i am communicating am not preaching like one person just saying something and other suggests a passive listening to it',\n",
       " 'thats not the case so in order to achieve that we need a story in every explanation what were trying to make i dont mean that you have to always talk about be king and queen and all that but you need to connect with people with some interesting thing and what is the story typically so if you analyze that a typical film story goes like this we have the boy fitting the girl we have the girl is ignoring a boy and the boys trying to try something new there are some plots by the boy to get the girl and the plot will work and there is happily ever after right below the standard story now if i translate that to what happens actually at the psychological level then it is the setup it is the conflict where a the ignorance happens',\n",
       " 'there is a false climax where we try to see what plots are being worked out by the boy and there is action because the plot is trying to be made active by the boy and finally we have everything working out fine now if i translate this thing into any kind of a seminar presentation how it looked like shed start with introduction where you set up the problem okay this is this is the thing which are happening in the past now there are these observations that these the these are the problems right now around this topic and then there is this related work happening in this area so in between this related work we can see that there is a particular solution which we are proposing and we can show how this thing works by showing the results in proofs and finally we can say that this will work better if we go in this particular direction now this is very much a standard outline of any other presentation what you must have seen heard or made yourself and the wise that because this particular type of communication is typical talk outline which will be a pretty good story for people to listen',\n",
       " 'they love to a start off with introduction because you cant suddenly come into action singer',\n",
       " 'okay here is a problem and here is the solution',\n",
       " 'nobody is interested in getting that therefore you need to follow a particular way of storytelling so that people will appreciate the way you have communicated your thoughts and it is only possible because everyone including students as well as a reviewers whom who are judging you will love stories always that is why we need to see how we can make that outline as interesting as possible so that people would be able to communicate and see whatever is happening and then communicate back to us right so in order to get that position we need to stress upon the plan phase very much and one of the techniques i use most of the time is brain storm now in the brainstorming phase',\n",
       " 'the ideation is very interesting and i dont know whether you have tried but maybe some time or during your next weeks coming weeks',\n",
       " 'if you want you can have a farm a small group and try it out at your own remote centers or within your other peer groups cuz',\n",
       " 'its very interesting to see how ideas can generate at the brainstorming live well',\n",
       " 'i will just give you a couple of guidelines about how to conduct a brainstorming session for that matter so this has to start with anything which comes to your mind so it can start with words concepts ideas',\n",
       " 'whatever you think about the topic you just have to write it down and a you have to just throw them on piece of paper and or a board or a nowadays people are just use post it and keep it there',\n",
       " 'you can just use a plain sheet of paper also you dont have to use a very sophisticated equipment for that and arm you can also ask one of you to volunteer and right on the whiteboard or blackboard whatever is available and just keep throwing ideas but the important point at this stage is that you dont have to be judgmental while doing this so it is very important that you dont decide to discard idea or to keep idea being judgment',\n",
       " 'no idea should be discarded at this phase',\n",
       " 'just keep writing later on when youre done with that time slot of brainstorming you can find the relationship between the topics and there if you find no relationship or a certain point which is written they can discard it but not at the time off when people are suggesting for example there is a room of a having five or six people were brainstorming on a particular idea and theyre saying certain a points to be added the person who is writing he or she should not comment right away by saying oh maybe this is slightly farfetched or maybe this is not connected to this so maybe we should when you should avoid these',\n",
       " 'dont take such a judgmental call at that stage',\n",
       " 'just keep writing them after your done with that and with time we put a time limit so that we dont go endlessly on that and after that just try to find out relationship between the so what are typically the points which will go the introduction what are typical point which is about the problem or related work or the solution a proof something like that then you should be able to generate a flow out of these buckets which you have collected while based on this the interesting idea and one of the tools in order to make this is called my dads so mind maps will help you in categorizing and analyzing the particular topic of throwing up ideas and without any hierarchy so to see why i am saying that is because mindmap doesnt tell you about a hierarchical structure so it is everything is thrown at one point and then you can just decide they are collateral based on the audience',\n",
       " 'you are going to communicate so for example',\n",
       " 'there is the audience which right now when im talking to you all you all being teachers i will re position my presentation in the way which is different than when i will use the same presentation or the topic when i am talking to students so this kind of orientation will change for the same content also sometimes and thats where the structure of the presentation makes a very important a role in doing so let us take an example here if you all are there and ready for typing out something have a look at this slide you can see some alphabets on screen right now in the alphabets if i tell you that after a period of thirty five seconds of forty seconds i am going to switch off the slide unable to ask you tell me number of each of the alphabet are in in this set what i am sure i want how many age where their honey bees see when devan yes and all that how will you try to remember this set and re create it for me',\n",
       " 'what would be the technique',\n",
       " 'can you try out',\n",
       " 'i will keep showing this lights',\n",
       " 'what is the technique you use',\n",
       " 'i dont want you to tell me the numbers right now',\n",
       " 'i just wanted to tell me the technique',\n",
       " 'what will you use in order to remember these alphabets and tell be back fits kind of a memory to suppose',\n",
       " 'how will you do that',\n",
       " 'are there',\n",
       " 'some options ideas take a photo a kid',\n",
       " 'we cant use technology by the way here',\n",
       " 'i want you to give bear a solution which can be used for example if i give you an exam',\n",
       " 'you dont have mobile camera that the time then how will you do this year',\n",
       " 'try to construct a sentence',\n",
       " 'okay create a story link okay',\n",
       " 'how can you create a story out of this weak form words right so a series so you created a world called maggie out of it right okay',\n",
       " 'let me create some words out of it',\n",
       " 'i there is one option that you just count them',\n",
       " 'then there is one a and seeks is to see and all that and then you can also bring it back white',\n",
       " 'there is one option',\n",
       " 'there is another option where you can create some words meaningful words right so this is one couple of words we can create and infact we can also create a sentence out of it what the sentence say a coincedence re merging unspent but tell me frankly hobby people can remember the sentence very difficult right so let me give you another sentence',\n",
       " 'can you remember the sentence a coincedence emergent nursing can remember this well',\n",
       " 'even this is very difficult eye or if i give you computer science and engineering will that would be a pretty easy to remember for most of you because they are associated with this department or acne they see this nameplate outside everywhere so its not a very foreign word for them like emergent nursing so it depends the structure depends on the fact of who is going to consume it you agree with this so it then it becomes pretty easy for anyone to remember now',\n",
       " 'if i tell you tell with alphabets from this set and you will just say right computer science and engineering and tell me that okay all of these are the alphabets right now this is by the way a internet anagram server which helps you in doing this',\n",
       " 'you cant write out some very interesting',\n",
       " 'anagrams can be made out of it another example',\n",
       " 'if i tell you remember this alphabets a mountain comic or account many ome or iconic mom nut very difficult to remember but if i tell you that this all makes into a world called communication',\n",
       " 'thats pretty easy to remember because you know about this word',\n",
       " 'in fact the presentation is all about communication therefore its very easy to remember this the point i am making forget about the anagram part but the point i am making is the structure will always be very pleasing for the users if it comes from their own domain so the moment it comes from their own domain',\n",
       " 'the structure is very well appreciated by everyone who is listening to it seeing it reading it reviewing it whatever theyre doing with the structure makes any persoe you have to be contextual when you create the structure so that the users know what is it going to be for them',\n",
       " 'i now going ahead',\n",
       " 'we should be able to use the brainstormed ideas into various buckets of the presentation and that will give us a sort of chunking stage where our presentation we populated by all these topics which were discussed so this is one a simple solution and this can be done in a using a mindmap are typically when i teach this course in a class we have a full fledged assignment on a mindmap this time i decided not to go ahead with it are simply because of the time factor as well as the a end of our assessment evaluation are issues',\n",
       " 'i heard about okay so we will go ahead and a now we will try to see if we can just know a little bit about mind maps so people who are aware of mindmaps',\n",
       " 'i should just contribute bar by posting something about it but for people who are new to this idea it is a simple explanation using a central idea and a radial a way of explaining things so the subsections are radio like a sun rays he will have everything coming from the scent so later on you can decide the hierarchy by numbering it probably but it is not like a tree where you will have everything one below the other so its a radial design',\n",
       " 'it allows you to express using visual so at times you want to show that is a very important you can put some stars are you can tolerate and all sorts of things are possible but if you add some of the concept my ideas to it for example labeling the lines which are connecting to the bubbles then it will become very informative by the way just as small exercise these are the mind my guidelines and they are written topic ten points here but instead of that',\n",
       " 'if i show you this mind map directly the same guidelines are explained using this and this becomes more user friendly for people to understand so you can use a link you can use color you can emphasize and add images and you can have various dimensions to it',\n",
       " 'you can use keywords and use of apparent over will help in giving importance there can be different styles',\n",
       " 'you can have a personal style can develop from original sin which is available and all sorts of things so this is pretty easy to remember because of the structure itself as compared to this ten bullet slide',\n",
       " 'this becomes very easy even if i have asked this question to lot of people later on and they are able to recollect a lot of these guidelines just looking at this mindmap as compared to the presentation slides right so let us move on but before that i think there was a a question in the last class which had given that what is the difference between the concept map and a mind map so therefore i suggest fertile ad one particular side a concept maps are abs slightly different than my maps not majority of a difference but visible difference is like what you see here so the connector line between the central idea and the subtopic will also be labeled in shipments and it will have some kind of a relationship explanation so this chooses to do this or this reflects on this so you will write that particular arm summary of that action on the connector lie and that will help you in in reading the concept map very fast',\n",
       " 'thats the idea okay so we have this difference between mindmap and concept map but let me just tell you a couple of tools which are freely available',\n",
       " 'some of them are a free some of them are limited in terms of their usage but most of them are free',\n",
       " 'nowadays you have something called free mind and its mine but there is a tool called think bhusan by the way a mugen is the person who invented mind maps and a perfected this technique long time back so the website which he runs is a one of the pioneering effort in this but it is not a completely free but still you can use limited part of it and a okay so we have a certain part of a mind mapping available',\n",
       " 'theyre okay so from plan stage',\n",
       " 'let us go to the execute phase where we want to now that we have the o in ready with us and we have some topics',\n",
       " 'let us see how we can use them in a more interesting way and at this point i discussed about the use of graphics in the presentation and i think i have already seen this',\n",
       " 'i dont want to spend lot of time on the different type of content will require different types of visuals and the types of visuals are essentially not cast in stone but yeah you can still take this as a reference what i did not cover in that particular presentation was how you can convert some of the text to graphics to make it more meaningful and here is one example and a now you all know this is a relational graphic because it will tell you the quantitative difference between whatever is happening so tables are typically used to explain things and table will be a not much communicative instead',\n",
       " 'if you use a graph of that that would tell you visually okay that the product number three has this ratio as compared to port number to which has a better ratio so all these things can be very clear',\n",
       " 'if you use a graph instead of a table however there are problems in the way people use graphs or tables so for example look at this stage',\n",
       " 'this is about the poverty rates and there are some other four counties are shown here and the percentage of poverty shown in the other call well',\n",
       " 'there are some problems in this table',\n",
       " 'can you just take a minute to think about what is the problem and try to put it up a can you all see the table and what is the problem with the stable year',\n",
       " 'county is repeated unnecessarily',\n",
       " 'it is annoying okay',\n",
       " 'decimals are having a prob right and you all are pretty correct because if you show it like this then it will be much more simpler because you have the decibels all aligned properly and then you can do this in fact you can go away with word count and just say abc here that also will be better even percentage there is a sign is not needed if it is there on the top right okay now look at this graph',\n",
       " 'whats the problematic situation',\n",
       " 'your font size access are not clearly visible',\n",
       " 'okay font size is the issue okay but font size can be a scale is not perfect',\n",
       " 'okay on why exists',\n",
       " 'i think a range in why access is a proggier swathing couple of people are coming up very right and if i change the scale i dont actually have to talk about the value of to fifty thousand if nothing at least here in white to show all these values right so i just reduce the why access to ten thousands and now you know what i can actually see a this particular dip here which was not visible in the earlier graph at all the editors dropdown in nineteen fifty below six how did which was not visible at this very simple and very common problem but most of the time people forget to use these techniques in order to explain what they wanted to say',\n",
       " 'i have also covered about color schemes and a typography but i did not cover the visual effects and appeal part so i had lot of questions from other people about a nowadays with so many presentation tools we have these options of visual effects and transitions and other',\n",
       " 'how should we use that site just wanted to touch base on the topic briefly at least before you be a go hide in the final segment of explaining the activity so when you talk about a presentations so we have these a animated text effects and then we have a this kind of a windows server being used or we have a slides having this door open type of transition',\n",
       " 'there are many boat transitions in fact you have something like a blast and very can see things getting to pieces',\n",
       " 'we have something very popular which is the page curl and obscene umpteen number of presentations using this type of a slide transition',\n",
       " 'you have this venetian blinds which is becoming very common',\n",
       " 'nowadays you have',\n",
       " 'this thread is type of things where you can rotate the boxes and all you have a flying screens in fact the range is really crazy',\n",
       " 'you keep going and you will see that the vital really shock you the sum effect of a light coming up and add some color transition',\n",
       " 'oh the range is really crazy',\n",
       " 'which will make you think oh',\n",
       " 'what was the topic of this presentation',\n",
       " 'we will it all started very are just forgotten by the time am showing you all the slides',\n",
       " 'what was the over topic when we were a starting of this presentation so let just unwind a bit what we wanted to tell you was that whenever you are using a presentation transition especially are in impress',\n",
       " 'remember this that you want the audience to take your message',\n",
       " 'what are your time to come',\n",
       " 'he wanted you want them to take away the message but you dont want the audience to be taken away by the message that is what your objective at all therefore the simple impress guidelines are but dont overdo anything office over transitions overcolor over font usage over of everything will create a chaotic situation and that is what i think you can remember and like in my earlier presentations',\n",
       " 'even this slide has a green dot which means that this is the guideline slide and you can use this slide as a guideline slide which you can just compress all by presentation slides to one presentation and keep them handy so that he can utilize it whenever you are in trouble all want to solve something okay so based on this we can just have a look at the very famous debate of form and function what is a form is',\n",
       " 'how do you show the message and what is the function',\n",
       " 'what exact isms so for example',\n",
       " 'i ask you that my message or my product',\n",
       " 'i want to inviscid is a bunch of bristles to clean or apply then what could be the the solution for that',\n",
       " 'what what would be your answer',\n",
       " 'what should be the form of that',\n",
       " 'if the function is of a bunch of bristles to either clean or to apply something what would be the form you would recommend any just type in your answers for the riff',\n",
       " 'i ask this question',\n",
       " 'it can be brush by the way which rush could this be yeah',\n",
       " 'people are the same brush after even after another but yeah can you be more specific',\n",
       " 'you cannot be specific because i have not given you the context and thats why all the answers are ringing in the zone of just a brush because women as a bristles and a cleaning you remember a brush right now depends on the content very correctly said by college of engineering in good to add that it depends on the context',\n",
       " 'i suppose i give your context well so i give your context that i want something for teeth something for face and something for people know what will you use for teeth',\n",
       " 'obviously you will use the toothbrush i and what will use for face that would be be shaving brush and was of the women in the audience used to be the answer that they would use a makeup brush which is also correct a and a fight of our paper or a wall or something then that would be the painting rests also depends on the context that the same product has to be redesigned in order to satisfy the requirement of that particular surface that is how exactly we should take our decision in terms of presentation in terms of graphics in terms of colour everywhere depending on the context we should take a call off what we are going to use therefore its not that one is more important than other both are important but if you give less attention or inadequate attention to either of them then you will not be able to communicate properly on the other hand if you give excess attention then it will lead to a complete chaos and that is what we should avoid always therefore the content and is a very important and thats why it has a green dot the content for the given audience should govern the decision of choosing what visual your going to do use what design are able to follow and what strategy you are going to apply so it also depends on for example the moment i am teaching or am using a view then i should know that strategy should be of using the chat which is available here and then i can interact with you all images so depends on the audience how your going to conduct your communication skills are tested in such condition very much',\n",
       " 'i would like to stop here for this particular topic and i would like to a now tell you about the activity you are going to do today and are in between if there are some questions i would like to take those questions please',\n",
       " 'we wanted you know like i have a downloaded pun people long back',\n",
       " 'i dont know the credit',\n",
       " 'how can i get credit so the question has done okay so i will repeat the person you are saying that you have downloaded some powerpoint slides from internet and you dont know the source of that',\n",
       " 'is it correct',\n",
       " 'so how will you give credit for that presentation the website wherever you have downloaded from is also one of the ways you can referred me back so if you have downloaded from for example slideshare you will come to know that it has been uploaded by ex login name you can refer to that name and that is also good enough because sometimes people will anonymously a put up some content at that time you have to refer to the website but when you refer to it you have to say in bracket as seen on swine so date on this website that is would ideally you should write to the person who has uploaded and ask their permission on an email that i would like to use certain slide from your presentation for this purpose',\n",
       " 'can you approve this usage and if they approve then you can use it that would be nice otherwise you have to re create this and explain it in your own words and then use the content',\n",
       " 'thats what we have today for my slides',\n",
       " 'you are free to use it because i have released the slides in open source under a sea biwi essay so which means that you can use by slides and you can but you have to further release the slides also in the similar licence and give attribute to the person who has created that is me but also relieves the slides in the similar license model so that the the flow continues of open source content creation and we are anyway going to talk about',\n",
       " 'we are in the in the same sessions so this is one way of doing it polymer college of engineering our cushion up would be about a presentation being made pond puppet like michael very more and more',\n",
       " 'can he plot or either mathematics probability',\n",
       " 'is that what we are to take while making the presently hell yeah i have understood',\n",
       " 'the question like this are the question',\n",
       " 'the gentleman is asking is that you have showed me the presentation about communication skills so that is okay but what with if i have a presentation to make on microprocessor or something on algorithms or some biotechnology subject where there is lot of technical content involved and there is no liberty of like what you were using various colors and fonts and all that we dont have that choice so precisely sir what you have ares is very correct and a the the thumb rule still goes in the same manner if you look at the video which had a posted on moodle it shows that use of minimum number of fonts and minimum number of colors and using the grid lines in order to have a well designed layout of the slides adds to a clearer communication any which way whatever the content in arm in the store so i would like to give you another example',\n",
       " 'if you read a novel especially english novels then you can see that they are all printed in black and white there is no color there are no images there is hardly any sketch there but still you can read that infact lot of people tell me that they love to read the novel but they hate the movie when it is made so imagine the situation from that novel they upgraded the very nice looking movie which all special effects and color and acting and voice and sound and everything but you still enjoy the blackandwhite novel which can read and you are free to visualize or get the message across so nicely so it depends on the clarity of your presentation rather than clutter of the content so no one thumb rule is that keep it simple keep minimum number of fonts minimum number of colors and have a eye pleasing layout so that the the slides look easy',\n",
       " 'we have another question from a vidya pakistan bhanumati',\n",
       " 'i suppose netanyahu information holiday question whenever i am designing and presentation wisely you are google material design reconfigured google material designed to where they are mentioned clearly which collar knitwear dick around with plan be at be different and along with that the given the proper transition what type of border punitive what type of node we need to be google material designed to the medic one open for the designer accidentally tour website and app development kit that can be useful for the apprehension now',\n",
       " 'thank you very much for sharing this resource',\n",
       " 'i think its not a question but its a suggestions while repeat for the benefit of other participants were listening to this gentleman from avandia',\n",
       " 'pratishthan has come up with a suggestion of using google material design so like i was telling in the moodle video which have uploaded that nowadays with the availability of templates',\n",
       " 'most of the things are already very eased out however i see that most of the faculty members dont use the templates and thats where things go wrong or start going wrong so my sincere request is that use a template and copy your entire contents because the biggest problem what faculty members have ease of transporting the content from one presentation to oligopolies',\n",
       " 'can you tell me something which can be done in the same presentation',\n",
       " 'theyre very happy to use it',\n",
       " 'if i tell them that okay transport your presentation to this one which has a better template better layout better color better fonts then thats a lot of extra work to be done but i feel that it is important to do that because that will only help you in removing the clutter and are using the the well researched guidelines offer presentation and like what you said these tools are created using these guidelines already',\n",
       " 'we dont have to really worry about is the font size correct or add it has to be changed or something they will automatically get you the font sizes according whether it is the second level point third level point fourth well point it will allow you to use it automatically so that is a good suggestion thank you they will be a content and will be defended at two things in southern fiction so my infact voiles you that you concentrate on content creation at some point and later on whenever you are done you can so for example people who are well versed with latech they will agree to these vicadin latic',\n",
       " 'you are completely free from are the design part you just have to keep doing the content and if you use the appropriate tags the presentation will automatically show up in that format refit the heading it will always show the heading in a particular font and all that thats a beautiful way of planning things thanks we have marathwada institute of technology but machine each a menu will be water the different hes newer view that ops wouldnt from lousy soil repeat the question for the benefit of the rest of the participants who are listening to this',\n",
       " 'the question is that what are the different things which will stop students from learning so first and foremost is the a the boredom which accumulates over time so i like i said if your presentation lacks the engagement pointers in between so like if you see every presentation should have a point where the students feel connected to it in somewhere the other and that will only come through participation so if you are going to create a representation which has a monologue like you speak continuously on one side and dont bother whether people are sleeping on the other side when it is definitely stop people from derby it is observed and well researched fact that a students learn or anybody learns by participating so your presentation should have ample opportunity of participation and that will definitely connect them with this and they will never stop learning as you said so that is one sure shot way and the second wave in connection to what our presentation i just give is because of the a the kind of visual what you see on screen also creates the boredom at times for example',\n",
       " 'if you see something very interesting then students dont feel like we are not part of it so every time you show something if it is a catching their eyes in terms of what heading your giving what all font sizes your used if it is too small people cant read it then they give up and theyll say its a very boring lecture and i do want to listen to it',\n",
       " 'i would rather skip the slick so in order to avoid that method you have to make sure that you attract their attention to the topic youre discussing and then are you can ensure that it stays the same way by introducing participation in every presentation what your making the ride like to know that no there is lot of research happening based on the learning styles',\n",
       " 'i thinker your showing us',\n",
       " 'how the visual content is there any particular research done',\n",
       " 'we ake a method like a model journal',\n",
       " 'sagittarian can stick so no in general in india are near any girl across the country which kind of learners and more even though it is blended learning kenny or throw some light on this week a modern learning learning styles specialist okay so i will repeat the question for the benefit of others or what are the learning styles typically found in india is part of the question and i think specifically you asked about the vehicular be ah i am are really sorry but i am not very sure about the vehicle running part but with water experience i have a in teaching in the classroom as well as adapting to this side of a blended learning which we are right now doing so i am talking to a large crowd simultaneously and the books style of teaching where we dont even talk to people at all so the only way communication happens is through discussion forums so i have actually a just completed a course on a thready animation and which i am going to do a formal announcement in tomorrows session but just because the topic came up right now i tried these three teaching styles in the short span of one year a last one year ive been doing this activity as a full time research and to see the pros and cons of all these things and one thing i realize is that without a personal interaction with learner it is very difficult to communicate or to establish a engagement level with anybody so i wondered how many bullets we should have ideally in one slides how many words it should contain the question was is there a standard about how many bullets should be there in one slide',\n",
       " 'i so i had answered this briefly',\n",
       " 'in a one of the r slides oh use the six by six route or the other should be more than six points on a slide and they should not be more than six words in each point of these things are more than six words makes it very verbose and people are not able to remember it right',\n",
       " 'this is what a very crude level of guideline can be used although they can be slides were occasionally',\n",
       " 'you are forced to use some seven points probably if your topic talks about seven important issues related to something when you may have to add seventh point but that should be a rare according to a researcher which is given at the bottom ah they say that a human cannot remember more than six points if they are bombarded on today so therefore avoid more than six points on a slide and within the site also it should not be having more than six words at that time write',\n",
       " 'thank you very much have good lunch and activity after this',\n",
       " 'i see you tomorrow at nine thirty air']"
      ]
     },
     "execution_count": 31,
     "metadata": {},
     "output_type": "execute_result"
    }
   ],
   "source": [
    "import segment\n",
    "res = segment.get_list()\n",
    "res"
   ]
  },
  {
   "cell_type": "code",
   "execution_count": 37,
   "metadata": {},
   "outputs": [],
   "source": [
    "file_5 = open(\"questions_0.5.txt\",\"w\")\n",
    "file_6 = open(\"questions_0.6.txt\",\"w\")\n",
    "file_7 = open(\"questions_0.7.txt\",\"w\")\n",
    "file_8 = open(\"questions_0.8.txt\",\"w\")\n",
    "file_9 = open(\"questions_0.9.txt\",\"w\")\n",
    "file_95 = open(\"questions_0.95.txt\",\"w\")"
   ]
  },
  {
   "cell_type": "code",
   "execution_count": 38,
   "metadata": {},
   "outputs": [
    {
     "name": "stdout",
     "output_type": "stream",
     "text": [
      "yeah its small size : [[0.80583197 0.19416805]]\n",
      "font people are giving comments about the type of problems anything else smaller frontier : [[0.2929825 0.7070175]]\n",
      "i got back and a background : [[0.71215415 0.28784582]]\n",
      "color is is horrible right ardiss : [[5.7616584e-05 9.9994236e-01]]\n",
      "no contrast correct so somebody is pointing out different things right unable to read so these are two problems : [[0.8835189  0.11648111]]\n",
      "how many people find that this position of the logo is also not very correct : [[0.00863819 0.9913618 ]]\n",
      "it is chopped from the top item on the logo should be seen complete and you should be able to read it right then how the people are scared of this a hundred and thirty seven slides like this : [[9.9998134e-01 1.8683346e-05]]\n",
      "can you withstand such a presentation for so long : [[0.0242185 0.9757815]]\n",
      "its not correct right here : [[0.98590475 0.01409527]]\n",
      "somebody from gray mentioned it is not correct therefore we cannot read it as it is horrible so i was joking : [[0.99616575 0.00383422]]\n",
      "actually i wanted to show how bad presentation slides can really ruin the content therefore i deliberately started with a bad slide all of you : [[0.97371083 0.02628919]]\n",
      "can you read this slide now : [[0.3726077 0.6273923]]\n",
      "how is this light so i am going to talk about use of text and graphics in most of the documents well : [[9.6721906e-04 9.9903280e-01]]\n",
      "i am not restricting this only presentation what you make in slideshow format or any other format but in general are at the very early stage i would like to acknowledge the contributions in this presentation done by doctor kintaro a he was ahead of microsoft researchers at the time when i met him and i saw this great presentation what he had used in this talk i requested him if i can borrow some of the slides from his presentation which he happily agreed and therefore i am able to use them this is important : [[0.24118301 0.758817  ]]\n",
      "please note this point : [[0.99051005 0.00948995]]\n",
      "its okay to get slides and ideas from people you love too but at the same time dont forget to acknowledge their content : [[0.99789596 0.00210405]]\n",
      "this is one way of doing it : [[0.9973861 0.0026139]]\n",
      "lets go ahead so whats so much big fuss about the font : [[9.992504e-01 7.495850e-04]]\n",
      "whats so great about use of what i dont : [[0.38725105 0.6127489 ]]\n",
      "how many people have read this article a year back : [[5.2995508e-04 9.9947006e-01]]\n",
      "i think a indian student spoke to the us government and told them that if you change your font your official font of your government is times new roman by the way they said that if you change that font to garamond which is shown down below then you will save four hundred million dollars every year a wise that it is just because the toner required to print the times new roman content versus garum on content is drastically different and you can see the results onscreen ricky the garamond font is thinner and thats why uses less tuna but will you agree to this decision of course used government agree to this decision because simply because of the reason that communication is the primary objective of print : [[0.827293   0.17270704]]\n",
      "why do you want to print you want to print because somebody should be able to read it now : [[9.9456555e-04 9.9900544e-01]]\n",
      "you can easily see onscreen that garamond is less readable as compared to times hurom so at the cost of four hundred us dollars if the officials are not able to read what is printed there is no point in saving money therefore importance of font is in its readability what is so important about design for example see this particular slide where research analysis is a comparing two groups : [[0.3714254 0.6285746]]\n",
      "i have no doubt in terms of the authenticity of the data data is perfectly fine then whats wrong : [[0.9180074  0.08199265]]\n",
      "its hardly communicating anything : [[0.9989515  0.00104849]]\n",
      "you cannot make out what is being told but this only the research was prepared : [[0.7764953  0.22350472]]\n",
      "this probably will be able to see and explain what is happening otherwise if i send the slide to anyone they would not be able to see anything out of this right now when we see in terms of colour the same logic applies : [[0.9849541  0.01504587]]\n",
      "this is the classroom a scenario where slides are used but look at the colors and the contrast : [[9.9940354e-01 5.9646380e-04]]\n",
      "can you see this text which is on this gray and white backgrounds : [[0.01356348 0.98643655]]\n",
      "you cannot see white text on white so use of background is very important and at times your to take a very clear call about whether you require a background or not that is the thing that week i decided that will focus on these aspects in this small little module about visual communication using text and graphics while i would like to take you back to a smaller but very important component of a presentation which is the process and typically it should start with the planning phase where you plan a presentation : [[0.02299772 0.97700226]]\n",
      "i am sure it is nothing to do with your visual graphic sense but planning a presentation is very important : [[0.99307555 0.00692448]]\n",
      "after you plan then you can decide : [[0.7955358  0.20446418]]\n",
      "how do you want to execute it : [[3.2423736e-04 9.9967575e-01]]\n",
      "like what is the outline : [[0.03172405 0.96827596]]\n",
      "what are the details of a bullets : [[3.7432947e-06 9.9999624e-01]]\n",
      "youre going to add all that and finally you decide on the template which will allow you to change font color add graphics and other things right invariably what people do is follow the reverse process they start with color schemes and typography and i have seen people spending a lot of time on the front slide like what color should be choose : [[0.00966695 0.990333  ]]\n",
      "what font should reward image should be added there : [[0.00121083 0.9987892 ]]\n",
      "its absolutely unnecessary : [[9.999646e-01 3.542348e-05]]\n",
      "amount of time is spent on that and later on they go to okay : [[0.9780871  0.02191287]]\n",
      "i think my outline is slightly problematics : [[0.83305126 0.1669487 ]]\n",
      "let me change the slide from here to there and then they go finally to the stage where they analyze oh : [[0.33580545 0.6641946 ]]\n",
      "is it really necessary : [[0.1210411 0.8789589]]\n",
      "do you want these number of sites here or should i delete them or sticks : [[1.5457105e-04 9.9984545e-01]]\n",
      "ideal condition is to start with a planning phase where you analyze and who can actually brainstormed ideas organize them go to execute stage and then finally to the prestige we will very rapidly go through the stages but a let me see if you have more questions i would like to answer them later : [[0.9573884  0.04261163]]\n",
      "okay now in the planning phase one of the techniques which i prefer is a about the ideation of the presentations what you want so when you we have seen have taken a popular example of a one of the most celebrated and most talented director india ever produce satyajit rai so for output or of communication what he wanted to create in a film called gary bury the kind of process he had followed was that in order to get here he had put lot of effort in the execute stage where he used to have my new detailed worked out and the planning stage was equally important very fussy his sketches and notes he has prepared on what the character will look like : [[0.99714553 0.00285449]]\n",
      "how will that correct behave : [[6.3338166e-04 9.9936664e-01]]\n",
      "everything is written in detail : [[0.9862237  0.01377632]]\n",
      "even the sideburns will be of this size : [[0.42195892 0.5780411 ]]\n",
      "how will that be looking so all these details are very well documented in the scanning of the documents which we have received right now once you have these things in place then if you put equal amount of effort at the time of execution when the shooting was happening used to go there and see to it that every character makeup is done to perfection and only then the output comes out something like this which is world renowned and acclaimed for the finish of the product so i am saying that if you follow a particular purpose moses with meticulous details then there is a high probability that it will reach out to the audience and communicate the way it is intended to be communicating right so far up typical presentation like whatever presentations you would be doing are now here : [[0.99791145 0.00208855]]\n",
      "i am slightly digressing : [[0.96400446 0.03599556]]\n",
      "i am not talking about the regular presentations what you make in your class for a particular subject and like forty series of lectures you prepare for that : [[0.63793683 0.36206314]]\n",
      "this may not apply to that set of presentations but overall the point is that we all love stories to whatever we do : [[0.9983724  0.00162763]]\n",
      "it is very boring : [[0.99785274 0.00214728]]\n"
     ]
    },
    {
     "name": "stdout",
     "output_type": "stream",
     "text": [
      "if we dont have a story element in anything what we are here we communicate for example when i started with that presentation which had no color and very badly use fonts : [[0.9845482 0.0154518]]\n",
      "i suddenly had communication from all of you saying that we cant read it and that has struck my communication right : [[0.9938936  0.00610639]]\n",
      "now i am talking to you instead of you sitting there and listening to me and silently you are equally participating in this presentation and that makes my point very easy to communicate now : [[0.90911525 0.09088472]]\n",
      "i am communicating am not preaching like one person just saying something and other suggests a passive listening to it : [[0.75127167 0.24872836]]\n",
      "thats not the case so in order to achieve that we need a story in every explanation what were trying to make i dont mean that you have to always talk about be king and queen and all that but you need to connect with people with some interesting thing and what is the story typically so if you analyze that a typical film story goes like this we have the boy fitting the girl we have the girl is ignoring a boy and the boys trying to try something new there are some plots by the boy to get the girl and the plot will work and there is happily ever after right below the standard story now if i translate that to what happens actually at the psychological level then it is the setup it is the conflict where a the ignorance happens : [[9.9998790e-01 1.2120519e-05]]\n",
      "there is a false climax where we try to see what plots are being worked out by the boy and there is action because the plot is trying to be made active by the boy and finally we have everything working out fine now if i translate this thing into any kind of a seminar presentation how it looked like shed start with introduction where you set up the problem okay this is this is the thing which are happening in the past now there are these observations that these the these are the problems right now around this topic and then there is this related work happening in this area so in between this related work we can see that there is a particular solution which we are proposing and we can show how this thing works by showing the results in proofs and finally we can say that this will work better if we go in this particular direction now this is very much a standard outline of any other presentation what you must have seen heard or made yourself and the wise that because this particular type of communication is typical talk outline which will be a pretty good story for people to listen : [[9.9959594e-01 4.0408762e-04]]\n",
      "they love to a start off with introduction because you cant suddenly come into action singer : [[0.943901   0.05609902]]\n",
      "okay here is a problem and here is the solution : [[0.9843337  0.01566628]]\n",
      "nobody is interested in getting that therefore you need to follow a particular way of storytelling so that people will appreciate the way you have communicated your thoughts and it is only possible because everyone including students as well as a reviewers whom who are judging you will love stories always that is why we need to see how we can make that outline as interesting as possible so that people would be able to communicate and see whatever is happening and then communicate back to us right so in order to get that position we need to stress upon the plan phase very much and one of the techniques i use most of the time is brain storm now in the brainstorming phase : [[0.04658033 0.9534197 ]]\n",
      "the ideation is very interesting and i dont know whether you have tried but maybe some time or during your next weeks coming weeks : [[0.99889386 0.00110614]]\n",
      "if you want you can have a farm a small group and try it out at your own remote centers or within your other peer groups cuz : [[0.02348911 0.9765109 ]]\n",
      "its very interesting to see how ideas can generate at the brainstorming live well : [[9.9940616e-01 5.9384288e-04]]\n",
      "i will just give you a couple of guidelines about how to conduct a brainstorming session for that matter so this has to start with anything which comes to your mind so it can start with words concepts ideas : [[0.39677224 0.60322773]]\n",
      "whatever you think about the topic you just have to write it down and a you have to just throw them on piece of paper and or a board or a nowadays people are just use post it and keep it there : [[0.98965675 0.01034324]]\n",
      "you can just use a plain sheet of paper also you dont have to use a very sophisticated equipment for that and arm you can also ask one of you to volunteer and right on the whiteboard or blackboard whatever is available and just keep throwing ideas but the important point at this stage is that you dont have to be judgmental while doing this so it is very important that you dont decide to discard idea or to keep idea being judgment : [[0.9988678 0.0011322]]\n",
      "no idea should be discarded at this phase : [[0.98672074 0.01327925]]\n",
      "just keep writing later on when youre done with that time slot of brainstorming you can find the relationship between the topics and there if you find no relationship or a certain point which is written they can discard it but not at the time off when people are suggesting for example there is a room of a having five or six people were brainstorming on a particular idea and theyre saying certain a points to be added the person who is writing he or she should not comment right away by saying oh maybe this is slightly farfetched or maybe this is not connected to this so maybe we should when you should avoid these : [[0.55267245 0.44732752]]\n",
      "dont take such a judgmental call at that stage : [[0.90553415 0.09446585]]\n",
      "just keep writing them after your done with that and with time we put a time limit so that we dont go endlessly on that and after that just try to find out relationship between the so what are typically the points which will go the introduction what are typical point which is about the problem or related work or the solution a proof something like that then you should be able to generate a flow out of these buckets which you have collected while based on this the interesting idea and one of the tools in order to make this is called my dads so mind maps will help you in categorizing and analyzing the particular topic of throwing up ideas and without any hierarchy so to see why i am saying that is because mindmap doesnt tell you about a hierarchical structure so it is everything is thrown at one point and then you can just decide they are collateral based on the audience : [[0.9722675  0.02773246]]\n",
      "you are going to communicate so for example : [[0.22304523 0.77695477]]\n",
      "there is the audience which right now when im talking to you all you all being teachers i will re position my presentation in the way which is different than when i will use the same presentation or the topic when i am talking to students so this kind of orientation will change for the same content also sometimes and thats where the structure of the presentation makes a very important a role in doing so let us take an example here if you all are there and ready for typing out something have a look at this slide you can see some alphabets on screen right now in the alphabets if i tell you that after a period of thirty five seconds of forty seconds i am going to switch off the slide unable to ask you tell me number of each of the alphabet are in in this set what i am sure i want how many age where their honey bees see when devan yes and all that how will you try to remember this set and re create it for me : [[0.10272102 0.89727896]]\n",
      "what would be the technique : [[4.3358625e-04 9.9956644e-01]]\n",
      "can you try out : [[0.03011383 0.9698862 ]]\n",
      "i will keep showing this lights : [[0.9296869  0.07031307]]\n",
      "what is the technique you use : [[1.7121489e-06 9.9999827e-01]]\n",
      "i dont want you to tell me the numbers right now : [[0.5709567 0.4290433]]\n",
      "i just wanted to tell me the technique : [[0.68349916 0.3165008 ]]\n",
      "what will you use in order to remember these alphabets and tell be back fits kind of a memory to suppose : [[0.0012606 0.9987394]]\n",
      "how will you do that : [[3.1328927e-05 9.9996865e-01]]\n",
      "are there : [[0.17221412 0.82778585]]\n",
      "some options ideas take a photo a kid : [[0.9626154  0.03738466]]\n",
      "we cant use technology by the way here : [[0.09973685 0.90026313]]\n",
      "i want you to give bear a solution which can be used for example if i give you an exam : [[0.00345672 0.9965433 ]]\n",
      "you dont have mobile camera that the time then how will you do this year : [[0.04096851 0.95903146]]\n",
      "try to construct a sentence : [[0.5857383 0.4142617]]\n",
      "okay create a story link okay : [[0.9675803  0.03241968]]\n",
      "how can you create a story out of this weak form words right so a series so you created a world called maggie out of it right okay : [[0.3611689  0.63883114]]\n",
      "let me create some words out of it : [[0.99772435 0.00227564]]\n",
      "i there is one option that you just count them : [[0.88203    0.11796997]]\n",
      "then there is one a and seeks is to see and all that and then you can also bring it back white : [[0.99753803 0.00246198]]\n",
      "there is one option : [[0.68990594 0.31009403]]\n",
      "there is another option where you can create some words meaningful words right so this is one couple of words we can create and infact we can also create a sentence out of it what the sentence say a coincedence re merging unspent but tell me frankly hobby people can remember the sentence very difficult right so let me give you another sentence : [[9.9977231e-01 2.2769328e-04]]\n",
      "can you remember the sentence a coincedence emergent nursing can remember this well : [[0.500714   0.49928597]]\n",
      "even this is very difficult eye or if i give you computer science and engineering will that would be a pretty easy to remember for most of you because they are associated with this department or acne they see this nameplate outside everywhere so its not a very foreign word for them like emergent nursing so it depends the structure depends on the fact of who is going to consume it you agree with this so it then it becomes pretty easy for anyone to remember now : [[9.9971730e-01 2.8272677e-04]]\n",
      "if i tell you tell with alphabets from this set and you will just say right computer science and engineering and tell me that okay all of these are the alphabets right now this is by the way a internet anagram server which helps you in doing this : [[0.00531162 0.9946884 ]]\n",
      "you cant write out some very interesting : [[9.9976027e-01 2.3971018e-04]]\n",
      "anagrams can be made out of it another example : [[0.58587956 0.4141204 ]]\n",
      "if i tell you remember this alphabets a mountain comic or account many ome or iconic mom nut very difficult to remember but if i tell you that this all makes into a world called communication : [[0.99487233 0.00512769]]\n",
      "thats pretty easy to remember because you know about this word : [[0.9974316  0.00256845]]\n",
      "in fact the presentation is all about communication therefore its very easy to remember this the point i am making forget about the anagram part but the point i am making is the structure will always be very pleasing for the users if it comes from their own domain so the moment it comes from their own domain : [[9.9999642e-01 3.5607286e-06]]\n",
      "the structure is very well appreciated by everyone who is listening to it seeing it reading it reviewing it whatever theyre doing with the structure makes any persoe you have to be contextual when you create the structure so that the users know what is it going to be for them : [[9.9958986e-01 4.1016802e-04]]\n",
      "i now going ahead : [[0.9657666  0.03423339]]\n",
      "we should be able to use the brainstormed ideas into various buckets of the presentation and that will give us a sort of chunking stage where our presentation we populated by all these topics which were discussed so this is one a simple solution and this can be done in a using a mindmap are typically when i teach this course in a class we have a full fledged assignment on a mindmap this time i decided not to go ahead with it are simply because of the time factor as well as the a end of our assessment evaluation are issues : [[0.597527   0.40247297]]\n",
      "i heard about okay so we will go ahead and a now we will try to see if we can just know a little bit about mind maps so people who are aware of mindmaps : [[0.9927526  0.00724736]]\n",
      "i should just contribute bar by posting something about it but for people who are new to this idea it is a simple explanation using a central idea and a radial a way of explaining things so the subsections are radio like a sun rays he will have everything coming from the scent so later on you can decide the hierarchy by numbering it probably but it is not like a tree where you will have everything one below the other so its a radial design : [[0.98585594 0.01414409]]\n",
      "it allows you to express using visual so at times you want to show that is a very important you can put some stars are you can tolerate and all sorts of things are possible but if you add some of the concept my ideas to it for example labeling the lines which are connecting to the bubbles then it will become very informative by the way just as small exercise these are the mind my guidelines and they are written topic ten points here but instead of that : [[9.9999648e-01 3.5235503e-06]]\n"
     ]
    },
    {
     "name": "stdout",
     "output_type": "stream",
     "text": [
      "if i show you this mind map directly the same guidelines are explained using this and this becomes more user friendly for people to understand so you can use a link you can use color you can emphasize and add images and you can have various dimensions to it : [[0.00568218 0.9943178 ]]\n",
      "you can use keywords and use of apparent over will help in giving importance there can be different styles : [[4.1343836e-05 9.9995863e-01]]\n",
      "you can have a personal style can develop from original sin which is available and all sorts of things so this is pretty easy to remember because of the structure itself as compared to this ten bullet slide : [[9.9995321e-01 4.6764795e-05]]\n",
      "this becomes very easy even if i have asked this question to lot of people later on and they are able to recollect a lot of these guidelines just looking at this mindmap as compared to the presentation slides right so let us move on but before that i think there was a a question in the last class which had given that what is the difference between the concept map and a mind map so therefore i suggest fertile ad one particular side a concept maps are abs slightly different than my maps not majority of a difference but visible difference is like what you see here so the connector line between the central idea and the subtopic will also be labeled in shipments and it will have some kind of a relationship explanation so this chooses to do this or this reflects on this so you will write that particular arm summary of that action on the connector lie and that will help you in in reading the concept map very fast : [[9.9964571e-01 3.5426574e-04]]\n",
      "thats the idea okay so we have this difference between mindmap and concept map but let me just tell you a couple of tools which are freely available : [[0.95332974 0.04667028]]\n",
      "some of them are a free some of them are limited in terms of their usage but most of them are free : [[0.98989576 0.01010426]]\n",
      "nowadays you have something called free mind and its mine but there is a tool called think bhusan by the way a mugen is the person who invented mind maps and a perfected this technique long time back so the website which he runs is a one of the pioneering effort in this but it is not a completely free but still you can use limited part of it and a okay so we have a certain part of a mind mapping available : [[0.9825067  0.01749331]]\n",
      "theyre okay so from plan stage : [[0.95510066 0.04489934]]\n",
      "let us go to the execute phase where we want to now that we have the o in ready with us and we have some topics : [[9.9924499e-01 7.5504003e-04]]\n",
      "let us see how we can use them in a more interesting way and at this point i discussed about the use of graphics in the presentation and i think i have already seen this : [[9.9959028e-01 4.0973208e-04]]\n",
      "i dont want to spend lot of time on the different type of content will require different types of visuals and the types of visuals are essentially not cast in stone but yeah you can still take this as a reference what i did not cover in that particular presentation was how you can convert some of the text to graphics to make it more meaningful and here is one example and a now you all know this is a relational graphic because it will tell you the quantitative difference between whatever is happening so tables are typically used to explain things and table will be a not much communicative instead : [[0.9934047  0.00659531]]\n",
      "if you use a graph of that that would tell you visually okay that the product number three has this ratio as compared to port number to which has a better ratio so all these things can be very clear : [[0.944478   0.05552201]]\n",
      "if you use a graph instead of a table however there are problems in the way people use graphs or tables so for example look at this stage : [[0.07772748 0.9222725 ]]\n",
      "this is about the poverty rates and there are some other four counties are shown here and the percentage of poverty shown in the other call well : [[9.9960548e-01 3.9452148e-04]]\n",
      "there are some problems in this table : [[0.1429427  0.85705733]]\n",
      "can you just take a minute to think about what is the problem and try to put it up a can you all see the table and what is the problem with the stable year : [[0.06921452 0.9307855 ]]\n",
      "county is repeated unnecessarily : [[0.764615 0.235385]]\n",
      "it is annoying okay : [[0.94061655 0.05938346]]\n",
      "decimals are having a prob right and you all are pretty correct because if you show it like this then it will be much more simpler because you have the decibels all aligned properly and then you can do this in fact you can go away with word count and just say abc here that also will be better even percentage there is a sign is not needed if it is there on the top right okay now look at this graph : [[0.08041628 0.91958374]]\n",
      "whats the problematic situation : [[0.98057467 0.01942536]]\n",
      "your font size access are not clearly visible : [[0.00164266 0.99835736]]\n",
      "okay font size is the issue okay but font size can be a scale is not perfect : [[0.16780014 0.8321999 ]]\n",
      "okay on why exists : [[0.72559416 0.27440584]]\n",
      "i think a range in why access is a proggier swathing couple of people are coming up very right and if i change the scale i dont actually have to talk about the value of to fifty thousand if nothing at least here in white to show all these values right so i just reduce the why access to ten thousands and now you know what i can actually see a this particular dip here which was not visible in the earlier graph at all the editors dropdown in nineteen fifty below six how did which was not visible at this very simple and very common problem but most of the time people forget to use these techniques in order to explain what they wanted to say : [[0.01675183 0.9832482 ]]\n",
      "i have also covered about color schemes and a typography but i did not cover the visual effects and appeal part so i had lot of questions from other people about a nowadays with so many presentation tools we have these options of visual effects and transitions and other : [[0.90584624 0.09415376]]\n",
      "how should we use that site just wanted to touch base on the topic briefly at least before you be a go hide in the final segment of explaining the activity so when you talk about a presentations so we have these a animated text effects and then we have a this kind of a windows server being used or we have a slides having this door open type of transition : [[9.9910283e-01 8.9714362e-04]]\n",
      "there are many boat transitions in fact you have something like a blast and very can see things getting to pieces : [[0.9986542  0.00134579]]\n",
      "we have something very popular which is the page curl and obscene umpteen number of presentations using this type of a slide transition : [[0.94303006 0.05696991]]\n",
      "you have this venetian blinds which is becoming very common : [[0.50892985 0.49107015]]\n",
      "nowadays you have : [[0.2247111 0.7752889]]\n",
      "this thread is type of things where you can rotate the boxes and all you have a flying screens in fact the range is really crazy : [[0.995405   0.00459496]]\n",
      "you keep going and you will see that the vital really shock you the sum effect of a light coming up and add some color transition : [[9.9989682e-01 1.0316919e-04]]\n",
      "oh the range is really crazy : [[0.97289956 0.02710046]]\n",
      "which will make you think oh : [[3.6777058e-04 9.9963224e-01]]\n",
      "what was the topic of this presentation : [[0.00182639 0.9981736 ]]\n",
      "we will it all started very are just forgotten by the time am showing you all the slides : [[0.9956593  0.00434069]]\n",
      "what was the over topic when we were a starting of this presentation so let just unwind a bit what we wanted to tell you was that whenever you are using a presentation transition especially are in impress : [[0.02033501 0.979665  ]]\n",
      "remember this that you want the audience to take your message : [[0.97543836 0.02456163]]\n",
      "what are your time to come : [[6.7161316e-05 9.9993283e-01]]\n",
      "he wanted you want them to take away the message but you dont want the audience to be taken away by the message that is what your objective at all therefore the simple impress guidelines are but dont overdo anything office over transitions overcolor over font usage over of everything will create a chaotic situation and that is what i think you can remember and like in my earlier presentations : [[9.9993217e-01 6.7832778e-05]]\n",
      "even this slide has a green dot which means that this is the guideline slide and you can use this slide as a guideline slide which you can just compress all by presentation slides to one presentation and keep them handy so that he can utilize it whenever you are in trouble all want to solve something okay so based on this we can just have a look at the very famous debate of form and function what is a form is : [[0.03151377 0.96848625]]\n",
      "how do you show the message and what is the function : [[5.0178165e-05 9.9994981e-01]]\n",
      "what exact isms so for example : [[0.00433537 0.99566466]]\n",
      "i ask you that my message or my product : [[0.08482339 0.91517663]]\n",
      "i want to inviscid is a bunch of bristles to clean or apply then what could be the the solution for that : [[0.00802863 0.9919714 ]]\n",
      "what what would be your answer : [[3.8102703e-04 9.9961895e-01]]\n",
      "what should be the form of that : [[6.2962528e-05 9.9993706e-01]]\n",
      "if the function is of a bunch of bristles to either clean or to apply something what would be the form you would recommend any just type in your answers for the riff : [[0.01150474 0.98849523]]\n",
      "i ask this question : [[0.47592804 0.52407193]]\n",
      "it can be brush by the way which rush could this be yeah : [[0.6562328 0.3437672]]\n",
      "people are the same brush after even after another but yeah can you be more specific : [[0.15438673 0.8456133 ]]\n",
      "you cannot be specific because i have not given you the context and thats why all the answers are ringing in the zone of just a brush because women as a bristles and a cleaning you remember a brush right now depends on the content very correctly said by college of engineering in good to add that it depends on the context : [[0.96393025 0.03606975]]\n",
      "i suppose i give your context well so i give your context that i want something for teeth something for face and something for people know what will you use for teeth : [[5.6442776e-04 9.9943554e-01]]\n",
      "obviously you will use the toothbrush i and what will use for face that would be be shaving brush and was of the women in the audience used to be the answer that they would use a makeup brush which is also correct a and a fight of our paper or a wall or something then that would be the painting rests also depends on the context that the same product has to be redesigned in order to satisfy the requirement of that particular surface that is how exactly we should take our decision in terms of presentation in terms of graphics in terms of colour everywhere depending on the context we should take a call off what we are going to use therefore its not that one is more important than other both are important but if you give less attention or inadequate attention to either of them then you will not be able to communicate properly on the other hand if you give excess attention then it will lead to a complete chaos and that is what we should avoid always therefore the content and is a very important and thats why it has a green dot the content for the given audience should govern the decision of choosing what visual your going to do use what design are able to follow and what strategy you are going to apply so it also depends on for example the moment i am teaching or am using a view then i should know that strategy should be of using the chat which is available here and then i can interact with you all images so depends on the audience how your going to conduct your communication skills are tested in such condition very much : [[0.99243987 0.00756015]]\n"
     ]
    },
    {
     "name": "stdout",
     "output_type": "stream",
     "text": [
      "i would like to stop here for this particular topic and i would like to a now tell you about the activity you are going to do today and are in between if there are some questions i would like to take those questions please : [[7.5430865e-04 9.9924570e-01]]\n",
      "we wanted you know like i have a downloaded pun people long back : [[0.84989965 0.15010037]]\n",
      "i dont know the credit : [[0.49103227 0.5089677 ]]\n",
      "how can i get credit so the question has done okay so i will repeat the person you are saying that you have downloaded some powerpoint slides from internet and you dont know the source of that : [[9.271243e-05 9.999073e-01]]\n",
      "is it correct : [[0.10690461 0.8930954 ]]\n",
      "so how will you give credit for that presentation the website wherever you have downloaded from is also one of the ways you can referred me back so if you have downloaded from for example slideshare you will come to know that it has been uploaded by ex login name you can refer to that name and that is also good enough because sometimes people will anonymously a put up some content at that time you have to refer to the website but when you refer to it you have to say in bracket as seen on swine so date on this website that is would ideally you should write to the person who has uploaded and ask their permission on an email that i would like to use certain slide from your presentation for this purpose : [[0.00689847 0.99310154]]\n",
      "can you approve this usage and if they approve then you can use it that would be nice otherwise you have to re create this and explain it in your own words and then use the content : [[0.9204019  0.07959814]]\n",
      "thats what we have today for my slides : [[0.00150969 0.99849033]]\n",
      "you are free to use it because i have released the slides in open source under a sea biwi essay so which means that you can use by slides and you can but you have to further release the slides also in the similar licence and give attribute to the person who has created that is me but also relieves the slides in the similar license model so that the the flow continues of open source content creation and we are anyway going to talk about : [[9.9927527e-01 7.2472147e-04]]\n",
      "we are in the in the same sessions so this is one way of doing it polymer college of engineering our cushion up would be about a presentation being made pond puppet like michael very more and more : [[9.990033e-01 9.966941e-04]]\n",
      "can he plot or either mathematics probability : [[0.01866722 0.9813328 ]]\n",
      "is that what we are to take while making the presently hell yeah i have understood : [[0.00778726 0.9922127 ]]\n",
      "the question like this are the question : [[0.5416088  0.45839122]]\n",
      "the gentleman is asking is that you have showed me the presentation about communication skills so that is okay but what with if i have a presentation to make on microprocessor or something on algorithms or some biotechnology subject where there is lot of technical content involved and there is no liberty of like what you were using various colors and fonts and all that we dont have that choice so precisely sir what you have ares is very correct and a the the thumb rule still goes in the same manner if you look at the video which had a posted on moodle it shows that use of minimum number of fonts and minimum number of colors and using the grid lines in order to have a well designed layout of the slides adds to a clearer communication any which way whatever the content in arm in the store so i would like to give you another example : [[0.00963286 0.9903671 ]]\n",
      "if you read a novel especially english novels then you can see that they are all printed in black and white there is no color there are no images there is hardly any sketch there but still you can read that infact lot of people tell me that they love to read the novel but they hate the movie when it is made so imagine the situation from that novel they upgraded the very nice looking movie which all special effects and color and acting and voice and sound and everything but you still enjoy the blackandwhite novel which can read and you are free to visualize or get the message across so nicely so it depends on the clarity of your presentation rather than clutter of the content so no one thumb rule is that keep it simple keep minimum number of fonts minimum number of colors and have a eye pleasing layout so that the the slides look easy : [[9.9982065e-01 1.7933072e-04]]\n",
      "we have another question from a vidya pakistan bhanumati : [[0.00137572 0.99862427]]\n",
      "i suppose netanyahu information holiday question whenever i am designing and presentation wisely you are google material design reconfigured google material designed to where they are mentioned clearly which collar knitwear dick around with plan be at be different and along with that the given the proper transition what type of border punitive what type of node we need to be google material designed to the medic one open for the designer accidentally tour website and app development kit that can be useful for the apprehension now : [[0.60786265 0.39213732]]\n",
      "thank you very much for sharing this resource : [[9.996559e-01 3.440772e-04]]\n",
      "i think its not a question but its a suggestions while repeat for the benefit of other participants were listening to this gentleman from avandia : [[0.6947233 0.3052767]]\n",
      "pratishthan has come up with a suggestion of using google material design so like i was telling in the moodle video which have uploaded that nowadays with the availability of templates : [[0.00452229 0.99547774]]\n",
      "most of the things are already very eased out however i see that most of the faculty members dont use the templates and thats where things go wrong or start going wrong so my sincere request is that use a template and copy your entire contents because the biggest problem what faculty members have ease of transporting the content from one presentation to oligopolies : [[0.9568027  0.04319729]]\n",
      "can you tell me something which can be done in the same presentation : [[0.7011735  0.29882652]]\n",
      "theyre very happy to use it : [[0.9980715  0.00192853]]\n",
      "if i tell them that okay transport your presentation to this one which has a better template better layout better color better fonts then thats a lot of extra work to be done but i feel that it is important to do that because that will only help you in removing the clutter and are using the the well researched guidelines offer presentation and like what you said these tools are created using these guidelines already : [[0.04615326 0.95384675]]\n",
      "we dont have to really worry about is the font size correct or add it has to be changed or something they will automatically get you the font sizes according whether it is the second level point third level point fourth well point it will allow you to use it automatically so that is a good suggestion thank you they will be a content and will be defended at two things in southern fiction so my infact voiles you that you concentrate on content creation at some point and later on whenever you are done you can so for example people who are well versed with latech they will agree to these vicadin latic : [[9.9984574e-01 1.5424067e-04]]\n",
      "you are completely free from are the design part you just have to keep doing the content and if you use the appropriate tags the presentation will automatically show up in that format refit the heading it will always show the heading in a particular font and all that thats a beautiful way of planning things thanks we have marathwada institute of technology but machine each a menu will be water the different hes newer view that ops wouldnt from lousy soil repeat the question for the benefit of the rest of the participants who are listening to this : [[0.9968813  0.00311871]]\n",
      "the question is that what are the different things which will stop students from learning so first and foremost is the a the boredom which accumulates over time so i like i said if your presentation lacks the engagement pointers in between so like if you see every presentation should have a point where the students feel connected to it in somewhere the other and that will only come through participation so if you are going to create a representation which has a monologue like you speak continuously on one side and dont bother whether people are sleeping on the other side when it is definitely stop people from derby it is observed and well researched fact that a students learn or anybody learns by participating so your presentation should have ample opportunity of participation and that will definitely connect them with this and they will never stop learning as you said so that is one sure shot way and the second wave in connection to what our presentation i just give is because of the a the kind of visual what you see on screen also creates the boredom at times for example : [[9.9907774e-01 9.2226104e-04]]\n",
      "if you see something very interesting then students dont feel like we are not part of it so every time you show something if it is a catching their eyes in terms of what heading your giving what all font sizes your used if it is too small people cant read it then they give up and theyll say its a very boring lecture and i do want to listen to it : [[0.9963036  0.00369641]]\n",
      "i would rather skip the slick so in order to avoid that method you have to make sure that you attract their attention to the topic youre discussing and then are you can ensure that it stays the same way by introducing participation in every presentation what your making the ride like to know that no there is lot of research happening based on the learning styles : [[0.93896955 0.06103046]]\n",
      "i thinker your showing us : [[0.24505132 0.7549487 ]]\n",
      "how the visual content is there any particular research done : [[1.940338e-04 9.998060e-01]]\n",
      "we ake a method like a model journal : [[0.88123995 0.11876006]]\n",
      "sagittarian can stick so no in general in india are near any girl across the country which kind of learners and more even though it is blended learning kenny or throw some light on this week a modern learning learning styles specialist okay so i will repeat the question for the benefit of others or what are the learning styles typically found in india is part of the question and i think specifically you asked about the vehicular be ah i am are really sorry but i am not very sure about the vehicle running part but with water experience i have a in teaching in the classroom as well as adapting to this side of a blended learning which we are right now doing so i am talking to a large crowd simultaneously and the books style of teaching where we dont even talk to people at all so the only way communication happens is through discussion forums so i have actually a just completed a course on a thready animation and which i am going to do a formal announcement in tomorrows session but just because the topic came up right now i tried these three teaching styles in the short span of one year a last one year ive been doing this activity as a full time research and to see the pros and cons of all these things and one thing i realize is that without a personal interaction with learner it is very difficult to communicate or to establish a engagement level with anybody so i wondered how many bullets we should have ideally in one slides how many words it should contain the question was is there a standard about how many bullets should be there in one slide : [[0.06166301 0.93833697]]\n",
      "i so i had answered this briefly : [[0.45301208 0.54698795]]\n",
      "in a one of the r slides oh use the six by six route or the other should be more than six points on a slide and they should not be more than six words in each point of these things are more than six words makes it very verbose and people are not able to remember it right : [[9.9997640e-01 2.3610077e-05]]\n",
      "this is what a very crude level of guideline can be used although they can be slides were occasionally : [[0.8228669  0.17713308]]\n",
      "you are forced to use some seven points probably if your topic talks about seven important issues related to something when you may have to add seventh point but that should be a rare according to a researcher which is given at the bottom ah they say that a human cannot remember more than six points if they are bombarded on today so therefore avoid more than six points on a slide and within the site also it should not be having more than six words at that time write : [[0.99823964 0.00176036]]\n",
      "thank you very much have good lunch and activity after this : [[9.997603e-01 2.396567e-04]]\n",
      "i see you tomorrow at nine thirty air : [[0.94114125 0.05885877]]\n",
      "yeah its small size : [[0.80583197 0.19416805]]\n",
      "font people are giving comments about the type of problems anything else smaller frontier : [[0.2929825 0.7070175]]\n",
      "i got back and a background : [[0.71215415 0.28784582]]\n",
      "color is is horrible right ardiss : [[5.7616584e-05 9.9994236e-01]]\n",
      "no contrast correct so somebody is pointing out different things right unable to read so these are two problems : [[0.8835189  0.11648111]]\n",
      "how many people find that this position of the logo is also not very correct : [[0.00863819 0.9913618 ]]\n",
      "it is chopped from the top item on the logo should be seen complete and you should be able to read it right then how the people are scared of this a hundred and thirty seven slides like this : [[9.9998134e-01 1.8683346e-05]]\n",
      "can you withstand such a presentation for so long : [[0.0242185 0.9757815]]\n",
      "its not correct right here somebody from gray mentioned it is not correct therefore we cannot read it as it is horrible so i was joking : [[0.95768195 0.04231806]]\n",
      "actually i wanted to show how bad presentation slides can really ruin the content therefore i deliberately started with a bad slide all of you : [[0.97371083 0.02628919]]\n",
      "can you read this slide now : [[0.3726077 0.6273923]]\n",
      "how is this light so i am going to talk about use of text and graphics in most of the documents well : [[9.6721906e-04 9.9903280e-01]]\n",
      "i am not restricting this only presentation what you make in slideshow format or any other format but in general are at the very early stage i would like to acknowledge the contributions in this presentation done by doctor kintaro a he was ahead of microsoft researchers at the time when i met him and i saw this great presentation what he had used in this talk i requested him if i can borrow some of the slides from his presentation which he happily agreed and therefore i am able to use them this is important : [[0.24118301 0.758817  ]]\n",
      "please note this point : [[0.99051005 0.00948995]]\n",
      "its okay to get slides and ideas from people you love too but at the same time dont forget to acknowledge their content : [[0.99789596 0.00210405]]\n",
      "this is one way of doing it : [[0.9973861 0.0026139]]\n",
      "lets go ahead so whats so much big fuss about the font : [[9.992504e-01 7.495850e-04]]\n",
      "whats so great about use of what i dont : [[0.38725105 0.6127489 ]]\n",
      "how many people have read this article a year back : [[5.2995508e-04 9.9947006e-01]]\n",
      "i think a indian student spoke to the us government and told them that if you change your font your official font of your government is times new roman by the way they said that if you change that font to garamond which is shown down below then you will save four hundred million dollars every year a wise that it is just because the toner required to print the times new roman content versus garum on content is drastically different and you can see the results onscreen ricky the garamond font is thinner and thats why uses less tuna but will you agree to this decision of course used government agree to this decision because simply because of the reason that communication is the primary objective of print : [[0.827293   0.17270704]]\n",
      "why do you want to print you want to print because somebody should be able to read it now : [[9.9456555e-04 9.9900544e-01]]\n",
      "you can easily see onscreen that garamond is less readable as compared to times hurom so at the cost of four hundred us dollars if the officials are not able to read what is printed there is no point in saving money therefore importance of font is in its readability what is so important about design for example see this particular slide where research analysis is a comparing two groups : [[0.3714254 0.6285746]]\n",
      "i have no doubt in terms of the authenticity of the data data is perfectly fine then whats wrong : [[0.9180074  0.08199265]]\n",
      "its hardly communicating anything : [[0.9989515  0.00104849]]\n",
      "you cannot make out what is being told but this only the research was prepared : [[0.7764953  0.22350472]]\n",
      "this probably will be able to see and explain what is happening otherwise if i send the slide to anyone they would not be able to see anything out of this right now when we see in terms of colour the same logic applies : [[0.9849541  0.01504587]]\n",
      "this is the classroom a scenario where slides are used but look at the colors and the contrast : [[9.9940354e-01 5.9646380e-04]]\n",
      "can you see this text which is on this gray and white backgrounds : [[0.01356348 0.98643655]]\n"
     ]
    },
    {
     "name": "stdout",
     "output_type": "stream",
     "text": [
      "you cannot see white text on white so use of background is very important and at times your to take a very clear call about whether you require a background or not that is the thing that week i decided that will focus on these aspects in this small little module about visual communication using text and graphics while i would like to take you back to a smaller but very important component of a presentation which is the process and typically it should start with the planning phase where you plan a presentation : [[0.02299772 0.97700226]]\n",
      "i am sure it is nothing to do with your visual graphic sense but planning a presentation is very important : [[0.99307555 0.00692448]]\n",
      "after you plan then you can decide : [[0.7955358  0.20446418]]\n",
      "how do you want to execute it : [[3.2423736e-04 9.9967575e-01]]\n",
      "like what is the outline : [[0.03172405 0.96827596]]\n",
      "what are the details of a bullets : [[3.7432947e-06 9.9999624e-01]]\n",
      "youre going to add all that and finally you decide on the template which will allow you to change font color add graphics and other things right invariably what people do is follow the reverse process they start with color schemes and typography and i have seen people spending a lot of time on the front slide like what color should be choose : [[0.00966695 0.990333  ]]\n",
      "what font should reward image should be added there : [[0.00121083 0.9987892 ]]\n",
      "its absolutely unnecessary : [[9.999646e-01 3.542348e-05]]\n",
      "amount of time is spent on that and later on they go to okay : [[0.9780871  0.02191287]]\n",
      "i think my outline is slightly problematics : [[0.83305126 0.1669487 ]]\n",
      "let me change the slide from here to there and then they go finally to the stage where they analyze oh : [[0.33580545 0.6641946 ]]\n",
      "is it really necessary : [[0.1210411 0.8789589]]\n",
      "do you want these number of sites here or should i delete them or sticks : [[1.5457105e-04 9.9984545e-01]]\n",
      "ideal condition is to start with a planning phase where you analyze and who can actually brainstormed ideas organize them go to execute stage and then finally to the prestige we will very rapidly go through the stages but a let me see if you have more questions i would like to answer them later : [[0.9573884  0.04261163]]\n",
      "okay now in the planning phase one of the techniques which i prefer is a about the ideation of the presentations what you want so when you we have seen have taken a popular example of a one of the most celebrated and most talented director india ever produce satyajit rai so for output or of communication what he wanted to create in a film called gary bury the kind of process he had followed was that in order to get here he had put lot of effort in the execute stage where he used to have my new detailed worked out and the planning stage was equally important very fussy his sketches and notes he has prepared on what the character will look like : [[0.99714553 0.00285449]]\n",
      "how will that correct behave : [[6.3338166e-04 9.9936664e-01]]\n",
      "everything is written in detail : [[0.9862237  0.01377632]]\n",
      "even the sideburns will be of this size : [[0.42195892 0.5780411 ]]\n",
      "how will that be looking so all these details are very well documented in the scanning of the documents which we have received right now once you have these things in place then if you put equal amount of effort at the time of execution when the shooting was happening used to go there and see to it that every character makeup is done to perfection and only then the output comes out something like this which is world renowned and acclaimed for the finish of the product so i am saying that if you follow a particular purpose moses with meticulous details then there is a high probability that it will reach out to the audience and communicate the way it is intended to be communicating right so far up typical presentation like whatever presentations you would be doing are now here : [[0.99791145 0.00208855]]\n",
      "i am slightly digressing : [[0.96400446 0.03599556]]\n",
      "i am not talking about the regular presentations what you make in your class for a particular subject and like forty series of lectures you prepare for that : [[0.63793683 0.36206314]]\n",
      "this may not apply to that set of presentations but overall the point is that we all love stories to whatever we do : [[0.9983724  0.00162763]]\n",
      "it is very boring : [[0.99785274 0.00214728]]\n",
      "if we dont have a story element in anything what we are here we communicate for example when i started with that presentation which had no color and very badly use fonts : [[0.9845482 0.0154518]]\n",
      "i suddenly had communication from all of you saying that we cant read it and that has struck my communication right : [[0.9938936  0.00610639]]\n",
      "now i am talking to you instead of you sitting there and listening to me and silently you are equally participating in this presentation and that makes my point very easy to communicate now : [[0.90911525 0.09088472]]\n",
      "i am communicating am not preaching like one person just saying something and other suggests a passive listening to it : [[0.75127167 0.24872836]]\n",
      "thats not the case so in order to achieve that we need a story in every explanation what were trying to make i dont mean that you have to always talk about be king and queen and all that but you need to connect with people with some interesting thing and what is the story typically so if you analyze that a typical film story goes like this we have the boy fitting the girl we have the girl is ignoring a boy and the boys trying to try something new there are some plots by the boy to get the girl and the plot will work and there is happily ever after right below the standard story now if i translate that to what happens actually at the psychological level then it is the setup it is the conflict where a the ignorance happens : [[9.9998790e-01 1.2120519e-05]]\n",
      "there is a false climax where we try to see what plots are being worked out by the boy and there is action because the plot is trying to be made active by the boy and finally we have everything working out fine now if i translate this thing into any kind of a seminar presentation how it looked like shed start with introduction where you set up the problem okay this is this is the thing which are happening in the past now there are these observations that these the these are the problems right now around this topic and then there is this related work happening in this area so in between this related work we can see that there is a particular solution which we are proposing and we can show how this thing works by showing the results in proofs and finally we can say that this will work better if we go in this particular direction now this is very much a standard outline of any other presentation what you must have seen heard or made yourself and the wise that because this particular type of communication is typical talk outline which will be a pretty good story for people to listen : [[9.9959594e-01 4.0408762e-04]]\n",
      "they love to a start off with introduction because you cant suddenly come into action singer : [[0.943901   0.05609902]]\n",
      "okay here is a problem and here is the solution : [[0.9843337  0.01566628]]\n",
      "nobody is interested in getting that therefore you need to follow a particular way of storytelling so that people will appreciate the way you have communicated your thoughts and it is only possible because everyone including students as well as a reviewers whom who are judging you will love stories always that is why we need to see how we can make that outline as interesting as possible so that people would be able to communicate and see whatever is happening and then communicate back to us right so in order to get that position we need to stress upon the plan phase very much and one of the techniques i use most of the time is brain storm now in the brainstorming phase : [[0.04658033 0.9534197 ]]\n",
      "the ideation is very interesting and i dont know whether you have tried but maybe some time or during your next weeks coming weeks : [[0.99889386 0.00110614]]\n",
      "if you want you can have a farm a small group and try it out at your own remote centers or within your other peer groups cuz : [[0.02348911 0.9765109 ]]\n",
      "its very interesting to see how ideas can generate at the brainstorming live well : [[9.9940616e-01 5.9384288e-04]]\n",
      "i will just give you a couple of guidelines about how to conduct a brainstorming session for that matter so this has to start with anything which comes to your mind so it can start with words concepts ideas : [[0.39677224 0.60322773]]\n",
      "whatever you think about the topic you just have to write it down and a you have to just throw them on piece of paper and or a board or a nowadays people are just use post it and keep it there : [[0.98965675 0.01034324]]\n",
      "you can just use a plain sheet of paper also you dont have to use a very sophisticated equipment for that and arm you can also ask one of you to volunteer and right on the whiteboard or blackboard whatever is available and just keep throwing ideas but the important point at this stage is that you dont have to be judgmental while doing this so it is very important that you dont decide to discard idea or to keep idea being judgment : [[0.9988678 0.0011322]]\n",
      "no idea should be discarded at this phase : [[0.98672074 0.01327925]]\n",
      "just keep writing later on when youre done with that time slot of brainstorming you can find the relationship between the topics and there if you find no relationship or a certain point which is written they can discard it but not at the time off when people are suggesting for example there is a room of a having five or six people were brainstorming on a particular idea and theyre saying certain a points to be added the person who is writing he or she should not comment right away by saying oh maybe this is slightly farfetched or maybe this is not connected to this so maybe we should when you should avoid these : [[0.55267245 0.44732752]]\n",
      "dont take such a judgmental call at that stage : [[0.90553415 0.09446585]]\n",
      "just keep writing them after your done with that and with time we put a time limit so that we dont go endlessly on that and after that just try to find out relationship between the so what are typically the points which will go the introduction what are typical point which is about the problem or related work or the solution a proof something like that then you should be able to generate a flow out of these buckets which you have collected while based on this the interesting idea and one of the tools in order to make this is called my dads so mind maps will help you in categorizing and analyzing the particular topic of throwing up ideas and without any hierarchy so to see why i am saying that is because mindmap doesnt tell you about a hierarchical structure so it is everything is thrown at one point and then you can just decide they are collateral based on the audience : [[0.9722675  0.02773246]]\n",
      "you are going to communicate so for example : [[0.22304523 0.77695477]]\n",
      "there is the audience which right now when im talking to you all you all being teachers i will re position my presentation in the way which is different than when i will use the same presentation or the topic when i am talking to students so this kind of orientation will change for the same content also sometimes and thats where the structure of the presentation makes a very important a role in doing so let us take an example here if you all are there and ready for typing out something have a look at this slide you can see some alphabets on screen right now in the alphabets if i tell you that after a period of thirty five seconds of forty seconds i am going to switch off the slide unable to ask you tell me number of each of the alphabet are in in this set what i am sure i want how many age where their honey bees see when devan yes and all that how will you try to remember this set and re create it for me : [[0.10272102 0.89727896]]\n",
      "what would be the technique : [[4.3358625e-04 9.9956644e-01]]\n",
      "can you try out : [[0.03011383 0.9698862 ]]\n",
      "i will keep showing this lights : [[0.9296869  0.07031307]]\n",
      "what is the technique you use : [[1.7121489e-06 9.9999827e-01]]\n",
      "i dont want you to tell me the numbers right now : [[0.5709567 0.4290433]]\n",
      "i just wanted to tell me the technique : [[0.68349916 0.3165008 ]]\n",
      "what will you use in order to remember these alphabets and tell be back fits kind of a memory to suppose : [[0.0012606 0.9987394]]\n",
      "how will you do that : [[3.1328927e-05 9.9996865e-01]]\n",
      "are there : [[0.17221412 0.82778585]]\n",
      "some options ideas take a photo a kid : [[0.9626154  0.03738466]]\n",
      "we cant use technology by the way here : [[0.09973685 0.90026313]]\n",
      "i want you to give bear a solution which can be used for example if i give you an exam : [[0.00345672 0.9965433 ]]\n",
      "you dont have mobile camera that the time then how will you do this year : [[0.04096851 0.95903146]]\n",
      "try to construct a sentence : [[0.5857383 0.4142617]]\n",
      "okay create a story link okay : [[0.9675803  0.03241968]]\n",
      "how can you create a story out of this weak form words right so a series so you created a world called maggie out of it right okay : [[0.3611689  0.63883114]]\n",
      "let me create some words out of it : [[0.99772435 0.00227564]]\n"
     ]
    },
    {
     "name": "stdout",
     "output_type": "stream",
     "text": [
      "i there is one option that you just count them : [[0.88203    0.11796997]]\n",
      "then there is one a and seeks is to see and all that and then you can also bring it back white : [[0.99753803 0.00246198]]\n",
      "there is one option : [[0.68990594 0.31009403]]\n",
      "there is another option where you can create some words meaningful words right so this is one couple of words we can create and infact we can also create a sentence out of it what the sentence say a coincedence re merging unspent but tell me frankly hobby people can remember the sentence very difficult right so let me give you another sentence : [[9.9977231e-01 2.2769328e-04]]\n",
      "can you remember the sentence a coincedence emergent nursing can remember this well : [[0.500714   0.49928597]]\n",
      "even this is very difficult eye or if i give you computer science and engineering will that would be a pretty easy to remember for most of you because they are associated with this department or acne they see this nameplate outside everywhere so its not a very foreign word for them like emergent nursing so it depends the structure depends on the fact of who is going to consume it you agree with this so it then it becomes pretty easy for anyone to remember now : [[9.9971730e-01 2.8272677e-04]]\n",
      "if i tell you tell with alphabets from this set and you will just say right computer science and engineering and tell me that okay all of these are the alphabets right now this is by the way a internet anagram server which helps you in doing this : [[0.00531162 0.9946884 ]]\n",
      "you cant write out some very interesting : [[9.9976027e-01 2.3971018e-04]]\n",
      "anagrams can be made out of it another example : [[0.58587956 0.4141204 ]]\n",
      "if i tell you remember this alphabets a mountain comic or account many ome or iconic mom nut very difficult to remember but if i tell you that this all makes into a world called communication : [[0.99487233 0.00512769]]\n",
      "thats pretty easy to remember because you know about this word : [[0.9974316  0.00256845]]\n",
      "in fact the presentation is all about communication therefore its very easy to remember this the point i am making forget about the anagram part but the point i am making is the structure will always be very pleasing for the users if it comes from their own domain so the moment it comes from their own domain : [[9.9999642e-01 3.5607286e-06]]\n",
      "the structure is very well appreciated by everyone who is listening to it seeing it reading it reviewing it whatever theyre doing with the structure makes any persoe you have to be contextual when you create the structure so that the users know what is it going to be for them : [[9.9958986e-01 4.1016802e-04]]\n",
      "i now going ahead : [[0.9657666  0.03423339]]\n",
      "we should be able to use the brainstormed ideas into various buckets of the presentation and that will give us a sort of chunking stage where our presentation we populated by all these topics which were discussed so this is one a simple solution and this can be done in a using a mindmap are typically when i teach this course in a class we have a full fledged assignment on a mindmap this time i decided not to go ahead with it are simply because of the time factor as well as the a end of our assessment evaluation are issues : [[0.597527   0.40247297]]\n",
      "i heard about okay so we will go ahead and a now we will try to see if we can just know a little bit about mind maps so people who are aware of mindmaps : [[0.9927526  0.00724736]]\n",
      "i should just contribute bar by posting something about it but for people who are new to this idea it is a simple explanation using a central idea and a radial a way of explaining things so the subsections are radio like a sun rays he will have everything coming from the scent so later on you can decide the hierarchy by numbering it probably but it is not like a tree where you will have everything one below the other so its a radial design : [[0.98585594 0.01414409]]\n",
      "it allows you to express using visual so at times you want to show that is a very important you can put some stars are you can tolerate and all sorts of things are possible but if you add some of the concept my ideas to it for example labeling the lines which are connecting to the bubbles then it will become very informative by the way just as small exercise these are the mind my guidelines and they are written topic ten points here but instead of that : [[9.9999648e-01 3.5235503e-06]]\n",
      "if i show you this mind map directly the same guidelines are explained using this and this becomes more user friendly for people to understand so you can use a link you can use color you can emphasize and add images and you can have various dimensions to it : [[0.00568218 0.9943178 ]]\n",
      "you can use keywords and use of apparent over will help in giving importance there can be different styles : [[4.1343836e-05 9.9995863e-01]]\n",
      "you can have a personal style can develop from original sin which is available and all sorts of things so this is pretty easy to remember because of the structure itself as compared to this ten bullet slide : [[9.9995321e-01 4.6764795e-05]]\n",
      "this becomes very easy even if i have asked this question to lot of people later on and they are able to recollect a lot of these guidelines just looking at this mindmap as compared to the presentation slides right so let us move on but before that i think there was a a question in the last class which had given that what is the difference between the concept map and a mind map so therefore i suggest fertile ad one particular side a concept maps are abs slightly different than my maps not majority of a difference but visible difference is like what you see here so the connector line between the central idea and the subtopic will also be labeled in shipments and it will have some kind of a relationship explanation so this chooses to do this or this reflects on this so you will write that particular arm summary of that action on the connector lie and that will help you in in reading the concept map very fast : [[9.9964571e-01 3.5426574e-04]]\n",
      "thats the idea okay so we have this difference between mindmap and concept map but let me just tell you a couple of tools which are freely available : [[0.95332974 0.04667028]]\n",
      "some of them are a free some of them are limited in terms of their usage but most of them are free : [[0.98989576 0.01010426]]\n",
      "nowadays you have something called free mind and its mine but there is a tool called think bhusan by the way a mugen is the person who invented mind maps and a perfected this technique long time back so the website which he runs is a one of the pioneering effort in this but it is not a completely free but still you can use limited part of it and a okay so we have a certain part of a mind mapping available : [[0.9825067  0.01749331]]\n",
      "theyre okay so from plan stage : [[0.95510066 0.04489934]]\n",
      "let us go to the execute phase where we want to now that we have the o in ready with us and we have some topics : [[9.9924499e-01 7.5504003e-04]]\n",
      "let us see how we can use them in a more interesting way and at this point i discussed about the use of graphics in the presentation and i think i have already seen this : [[9.9959028e-01 4.0973208e-04]]\n",
      "i dont want to spend lot of time on the different type of content will require different types of visuals and the types of visuals are essentially not cast in stone but yeah you can still take this as a reference what i did not cover in that particular presentation was how you can convert some of the text to graphics to make it more meaningful and here is one example and a now you all know this is a relational graphic because it will tell you the quantitative difference between whatever is happening so tables are typically used to explain things and table will be a not much communicative instead : [[0.9934047  0.00659531]]\n",
      "if you use a graph of that that would tell you visually okay that the product number three has this ratio as compared to port number to which has a better ratio so all these things can be very clear : [[0.944478   0.05552201]]\n",
      "if you use a graph instead of a table however there are problems in the way people use graphs or tables so for example look at this stage : [[0.07772748 0.9222725 ]]\n",
      "this is about the poverty rates and there are some other four counties are shown here and the percentage of poverty shown in the other call well : [[9.9960548e-01 3.9452148e-04]]\n",
      "there are some problems in this table : [[0.1429427  0.85705733]]\n",
      "can you just take a minute to think about what is the problem and try to put it up a can you all see the table and what is the problem with the stable year : [[0.06921452 0.9307855 ]]\n",
      "county is repeated unnecessarily : [[0.764615 0.235385]]\n",
      "it is annoying okay : [[0.94061655 0.05938346]]\n",
      "decimals are having a prob right and you all are pretty correct because if you show it like this then it will be much more simpler because you have the decibels all aligned properly and then you can do this in fact you can go away with word count and just say abc here that also will be better even percentage there is a sign is not needed if it is there on the top right okay now look at this graph : [[0.08041628 0.91958374]]\n",
      "whats the problematic situation : [[0.98057467 0.01942536]]\n",
      "your font size access are not clearly visible : [[0.00164266 0.99835736]]\n",
      "okay font size is the issue okay but font size can be a scale is not perfect : [[0.16780014 0.8321999 ]]\n",
      "okay on why exists : [[0.72559416 0.27440584]]\n",
      "i think a range in why access is a proggier swathing couple of people are coming up very right and if i change the scale i dont actually have to talk about the value of to fifty thousand if nothing at least here in white to show all these values right so i just reduce the why access to ten thousands and now you know what i can actually see a this particular dip here which was not visible in the earlier graph at all the editors dropdown in nineteen fifty below six how did which was not visible at this very simple and very common problem but most of the time people forget to use these techniques in order to explain what they wanted to say : [[0.01675183 0.9832482 ]]\n",
      "i have also covered about color schemes and a typography but i did not cover the visual effects and appeal part so i had lot of questions from other people about a nowadays with so many presentation tools we have these options of visual effects and transitions and other : [[0.90584624 0.09415376]]\n",
      "how should we use that site just wanted to touch base on the topic briefly at least before you be a go hide in the final segment of explaining the activity so when you talk about a presentations so we have these a animated text effects and then we have a this kind of a windows server being used or we have a slides having this door open type of transition : [[9.9910283e-01 8.9714362e-04]]\n",
      "there are many boat transitions in fact you have something like a blast and very can see things getting to pieces : [[0.9986542  0.00134579]]\n",
      "we have something very popular which is the page curl and obscene umpteen number of presentations using this type of a slide transition : [[0.94303006 0.05696991]]\n",
      "you have this venetian blinds which is becoming very common : [[0.50892985 0.49107015]]\n",
      "nowadays you have : [[0.2247111 0.7752889]]\n",
      "this thread is type of things where you can rotate the boxes and all you have a flying screens in fact the range is really crazy : [[0.995405   0.00459496]]\n",
      "you keep going and you will see that the vital really shock you the sum effect of a light coming up and add some color transition : [[9.9989682e-01 1.0316919e-04]]\n",
      "oh the range is really crazy : [[0.97289956 0.02710046]]\n",
      "which will make you think oh : [[3.6777058e-04 9.9963224e-01]]\n",
      "what was the topic of this presentation : [[0.00182639 0.9981736 ]]\n",
      "we will it all started very are just forgotten by the time am showing you all the slides : [[0.9956593  0.00434069]]\n",
      "what was the over topic when we were a starting of this presentation so let just unwind a bit what we wanted to tell you was that whenever you are using a presentation transition especially are in impress : [[0.02033501 0.979665  ]]\n",
      "remember this that you want the audience to take your message : [[0.97543836 0.02456163]]\n",
      "what are your time to come : [[6.7161316e-05 9.9993283e-01]]\n",
      "he wanted you want them to take away the message but you dont want the audience to be taken away by the message that is what your objective at all therefore the simple impress guidelines are but dont overdo anything office over transitions overcolor over font usage over of everything will create a chaotic situation and that is what i think you can remember and like in my earlier presentations : [[9.9993217e-01 6.7832778e-05]]\n",
      "even this slide has a green dot which means that this is the guideline slide and you can use this slide as a guideline slide which you can just compress all by presentation slides to one presentation and keep them handy so that he can utilize it whenever you are in trouble all want to solve something okay so based on this we can just have a look at the very famous debate of form and function what is a form is : [[0.03151377 0.96848625]]\n",
      "how do you show the message and what is the function : [[5.0178165e-05 9.9994981e-01]]\n",
      "what exact isms so for example : [[0.00433537 0.99566466]]\n",
      "i ask you that my message or my product : [[0.08482339 0.91517663]]\n",
      "i want to inviscid is a bunch of bristles to clean or apply then what could be the the solution for that : [[0.00802863 0.9919714 ]]\n",
      "what what would be your answer : [[3.8102703e-04 9.9961895e-01]]\n",
      "what should be the form of that : [[6.2962528e-05 9.9993706e-01]]\n",
      "if the function is of a bunch of bristles to either clean or to apply something what would be the form you would recommend any just type in your answers for the riff : [[0.01150474 0.98849523]]\n",
      "i ask this question : [[0.47592804 0.52407193]]\n",
      "it can be brush by the way which rush could this be yeah : [[0.6562328 0.3437672]]\n"
     ]
    },
    {
     "name": "stdout",
     "output_type": "stream",
     "text": [
      "people are the same brush after even after another but yeah can you be more specific : [[0.15438673 0.8456133 ]]\n",
      "you cannot be specific because i have not given you the context and thats why all the answers are ringing in the zone of just a brush because women as a bristles and a cleaning you remember a brush right now depends on the content very correctly said by college of engineering in good to add that it depends on the context : [[0.96393025 0.03606975]]\n",
      "i suppose i give your context well so i give your context that i want something for teeth something for face and something for people know what will you use for teeth : [[5.6442776e-04 9.9943554e-01]]\n",
      "obviously you will use the toothbrush i and what will use for face that would be be shaving brush and was of the women in the audience used to be the answer that they would use a makeup brush which is also correct a and a fight of our paper or a wall or something then that would be the painting rests also depends on the context that the same product has to be redesigned in order to satisfy the requirement of that particular surface that is how exactly we should take our decision in terms of presentation in terms of graphics in terms of colour everywhere depending on the context we should take a call off what we are going to use therefore its not that one is more important than other both are important but if you give less attention or inadequate attention to either of them then you will not be able to communicate properly on the other hand if you give excess attention then it will lead to a complete chaos and that is what we should avoid always therefore the content and is a very important and thats why it has a green dot the content for the given audience should govern the decision of choosing what visual your going to do use what design are able to follow and what strategy you are going to apply so it also depends on for example the moment i am teaching or am using a view then i should know that strategy should be of using the chat which is available here and then i can interact with you all images so depends on the audience how your going to conduct your communication skills are tested in such condition very much : [[0.99243987 0.00756015]]\n",
      "i would like to stop here for this particular topic and i would like to a now tell you about the activity you are going to do today and are in between if there are some questions i would like to take those questions please : [[7.5430865e-04 9.9924570e-01]]\n",
      "we wanted you know like i have a downloaded pun people long back : [[0.84989965 0.15010037]]\n",
      "i dont know the credit : [[0.49103227 0.5089677 ]]\n",
      "how can i get credit so the question has done okay so i will repeat the person you are saying that you have downloaded some powerpoint slides from internet and you dont know the source of that : [[9.271243e-05 9.999073e-01]]\n",
      "is it correct : [[0.10690461 0.8930954 ]]\n",
      "so how will you give credit for that presentation the website wherever you have downloaded from is also one of the ways you can referred me back so if you have downloaded from for example slideshare you will come to know that it has been uploaded by ex login name you can refer to that name and that is also good enough because sometimes people will anonymously a put up some content at that time you have to refer to the website but when you refer to it you have to say in bracket as seen on swine so date on this website that is would ideally you should write to the person who has uploaded and ask their permission on an email that i would like to use certain slide from your presentation for this purpose : [[0.00689847 0.99310154]]\n",
      "can you approve this usage and if they approve then you can use it that would be nice otherwise you have to re create this and explain it in your own words and then use the content : [[0.9204019  0.07959814]]\n",
      "thats what we have today for my slides : [[0.00150969 0.99849033]]\n",
      "you are free to use it because i have released the slides in open source under a sea biwi essay so which means that you can use by slides and you can but you have to further release the slides also in the similar licence and give attribute to the person who has created that is me but also relieves the slides in the similar license model so that the the flow continues of open source content creation and we are anyway going to talk about : [[9.9927527e-01 7.2472147e-04]]\n",
      "we are in the in the same sessions so this is one way of doing it polymer college of engineering our cushion up would be about a presentation being made pond puppet like michael very more and more : [[9.990033e-01 9.966941e-04]]\n",
      "can he plot or either mathematics probability : [[0.01866722 0.9813328 ]]\n",
      "is that what we are to take while making the presently hell yeah i have understood : [[0.00778726 0.9922127 ]]\n",
      "the question like this are the question : [[0.5416088  0.45839122]]\n",
      "the gentleman is asking is that you have showed me the presentation about communication skills so that is okay but what with if i have a presentation to make on microprocessor or something on algorithms or some biotechnology subject where there is lot of technical content involved and there is no liberty of like what you were using various colors and fonts and all that we dont have that choice so precisely sir what you have ares is very correct and a the the thumb rule still goes in the same manner if you look at the video which had a posted on moodle it shows that use of minimum number of fonts and minimum number of colors and using the grid lines in order to have a well designed layout of the slides adds to a clearer communication any which way whatever the content in arm in the store so i would like to give you another example : [[0.00963286 0.9903671 ]]\n",
      "if you read a novel especially english novels then you can see that they are all printed in black and white there is no color there are no images there is hardly any sketch there but still you can read that infact lot of people tell me that they love to read the novel but they hate the movie when it is made so imagine the situation from that novel they upgraded the very nice looking movie which all special effects and color and acting and voice and sound and everything but you still enjoy the blackandwhite novel which can read and you are free to visualize or get the message across so nicely so it depends on the clarity of your presentation rather than clutter of the content so no one thumb rule is that keep it simple keep minimum number of fonts minimum number of colors and have a eye pleasing layout so that the the slides look easy : [[9.9982065e-01 1.7933072e-04]]\n",
      "we have another question from a vidya pakistan bhanumati : [[0.00137572 0.99862427]]\n",
      "i suppose netanyahu information holiday question whenever i am designing and presentation wisely you are google material design reconfigured google material designed to where they are mentioned clearly which collar knitwear dick around with plan be at be different and along with that the given the proper transition what type of border punitive what type of node we need to be google material designed to the medic one open for the designer accidentally tour website and app development kit that can be useful for the apprehension now : [[0.60786265 0.39213732]]\n",
      "thank you very much for sharing this resource : [[9.996559e-01 3.440772e-04]]\n",
      "i think its not a question but its a suggestions while repeat for the benefit of other participants were listening to this gentleman from avandia : [[0.6947233 0.3052767]]\n",
      "pratishthan has come up with a suggestion of using google material design so like i was telling in the moodle video which have uploaded that nowadays with the availability of templates : [[0.00452229 0.99547774]]\n",
      "most of the things are already very eased out however i see that most of the faculty members dont use the templates and thats where things go wrong or start going wrong so my sincere request is that use a template and copy your entire contents because the biggest problem what faculty members have ease of transporting the content from one presentation to oligopolies : [[0.9568027  0.04319729]]\n",
      "can you tell me something which can be done in the same presentation : [[0.7011735  0.29882652]]\n",
      "theyre very happy to use it : [[0.9980715  0.00192853]]\n",
      "if i tell them that okay transport your presentation to this one which has a better template better layout better color better fonts then thats a lot of extra work to be done but i feel that it is important to do that because that will only help you in removing the clutter and are using the the well researched guidelines offer presentation and like what you said these tools are created using these guidelines already : [[0.04615326 0.95384675]]\n",
      "we dont have to really worry about is the font size correct or add it has to be changed or something they will automatically get you the font sizes according whether it is the second level point third level point fourth well point it will allow you to use it automatically so that is a good suggestion thank you they will be a content and will be defended at two things in southern fiction so my infact voiles you that you concentrate on content creation at some point and later on whenever you are done you can so for example people who are well versed with latech they will agree to these vicadin latic : [[9.9984574e-01 1.5424067e-04]]\n",
      "you are completely free from are the design part you just have to keep doing the content and if you use the appropriate tags the presentation will automatically show up in that format refit the heading it will always show the heading in a particular font and all that thats a beautiful way of planning things thanks we have marathwada institute of technology but machine each a menu will be water the different hes newer view that ops wouldnt from lousy soil repeat the question for the benefit of the rest of the participants who are listening to this : [[0.9968813  0.00311871]]\n",
      "the question is that what are the different things which will stop students from learning so first and foremost is the a the boredom which accumulates over time so i like i said if your presentation lacks the engagement pointers in between so like if you see every presentation should have a point where the students feel connected to it in somewhere the other and that will only come through participation so if you are going to create a representation which has a monologue like you speak continuously on one side and dont bother whether people are sleeping on the other side when it is definitely stop people from derby it is observed and well researched fact that a students learn or anybody learns by participating so your presentation should have ample opportunity of participation and that will definitely connect them with this and they will never stop learning as you said so that is one sure shot way and the second wave in connection to what our presentation i just give is because of the a the kind of visual what you see on screen also creates the boredom at times for example : [[9.9907774e-01 9.2226104e-04]]\n",
      "if you see something very interesting then students dont feel like we are not part of it so every time you show something if it is a catching their eyes in terms of what heading your giving what all font sizes your used if it is too small people cant read it then they give up and theyll say its a very boring lecture and i do want to listen to it : [[0.9963036  0.00369641]]\n",
      "i would rather skip the slick so in order to avoid that method you have to make sure that you attract their attention to the topic youre discussing and then are you can ensure that it stays the same way by introducing participation in every presentation what your making the ride like to know that no there is lot of research happening based on the learning styles : [[0.93896955 0.06103046]]\n",
      "i thinker your showing us : [[0.24505132 0.7549487 ]]\n",
      "how the visual content is there any particular research done : [[1.940338e-04 9.998060e-01]]\n",
      "we ake a method like a model journal : [[0.88123995 0.11876006]]\n",
      "sagittarian can stick so no in general in india are near any girl across the country which kind of learners and more even though it is blended learning kenny or throw some light on this week a modern learning learning styles specialist okay so i will repeat the question for the benefit of others or what are the learning styles typically found in india is part of the question and i think specifically you asked about the vehicular be ah i am are really sorry but i am not very sure about the vehicle running part but with water experience i have a in teaching in the classroom as well as adapting to this side of a blended learning which we are right now doing so i am talking to a large crowd simultaneously and the books style of teaching where we dont even talk to people at all so the only way communication happens is through discussion forums so i have actually a just completed a course on a thready animation and which i am going to do a formal announcement in tomorrows session but just because the topic came up right now i tried these three teaching styles in the short span of one year a last one year ive been doing this activity as a full time research and to see the pros and cons of all these things and one thing i realize is that without a personal interaction with learner it is very difficult to communicate or to establish a engagement level with anybody so i wondered how many bullets we should have ideally in one slides how many words it should contain the question was is there a standard about how many bullets should be there in one slide : [[0.06166301 0.93833697]]\n",
      "i so i had answered this briefly : [[0.45301208 0.54698795]]\n",
      "in a one of the r slides oh use the six by six route or the other should be more than six points on a slide and they should not be more than six words in each point of these things are more than six words makes it very verbose and people are not able to remember it right : [[9.9997640e-01 2.3610077e-05]]\n",
      "this is what a very crude level of guideline can be used although they can be slides were occasionally : [[0.8228669  0.17713308]]\n",
      "you are forced to use some seven points probably if your topic talks about seven important issues related to something when you may have to add seventh point but that should be a rare according to a researcher which is given at the bottom ah they say that a human cannot remember more than six points if they are bombarded on today so therefore avoid more than six points on a slide and within the site also it should not be having more than six words at that time write : [[0.99823964 0.00176036]]\n",
      "thank you very much have good lunch and activity after this : [[9.997603e-01 2.396567e-04]]\n",
      "i see you tomorrow at nine thirty air : [[0.94114125 0.05885877]]\n"
     ]
    }
   ],
   "source": [
    "\n",
    "for i in res:\n",
    "    acc = predict_if_question(i)\n",
    "    print(i,\":\",acc)\n",
    "    if(acc[0][1]>0.5):\n",
    "        file_5.write(i+\"\\n\")\n",
    "    if(acc[0][1]>0.6):\n",
    "        file_6.write(i+\"\\n\")\n",
    "    if(acc[0][1]>0.7):\n",
    "        file_7.write(i+\"\\n\")\n",
    "    if(acc[0][1]>0.8):\n",
    "        file_8.write(i+\"\\n\")\n",
    "    if(acc[0][1]>0.9):\n",
    "        file_9.write(i+\"\\n\")\n",
    "    if(acc[0][1]>0.95):\n",
    "        file_95.write(i+\"\\n\")\n",
    "    \n"
   ]
  },
  {
   "cell_type": "code",
   "execution_count": 39,
   "metadata": {},
   "outputs": [],
   "source": [
    "file_5.close()\n",
    "file_6.close()\n",
    "file_7.close()\n",
    "file_8.close()\n",
    "file_9.close()\n",
    "file_95.close()"
   ]
  },
  {
   "cell_type": "code",
   "execution_count": 37,
   "metadata": {},
   "outputs": [
    {
     "data": {
      "text/plain": [
       "array([[0.04552053, 0.95447946]], dtype=float32)"
      ]
     },
     "execution_count": 37,
     "metadata": {},
     "output_type": "execute_result"
    }
   ],
   "source": [
    "predict_if_question(\"Do you?\")"
   ]
  },
  {
   "cell_type": "code",
   "execution_count": 38,
   "metadata": {},
   "outputs": [
    {
     "data": {
      "text/plain": [
       "array([[0.15338263, 0.84661734]], dtype=float32)"
      ]
     },
     "execution_count": 38,
     "metadata": {},
     "output_type": "execute_result"
    }
   ],
   "source": [
    "predict_if_question(\"You are going to the park arent you\")"
   ]
  },
  {
   "cell_type": "code",
   "execution_count": 39,
   "metadata": {},
   "outputs": [
    {
     "data": {
      "text/plain": [
       "array([[0.04552053, 0.95447946]], dtype=float32)"
      ]
     },
     "execution_count": 39,
     "metadata": {},
     "output_type": "execute_result"
    }
   ],
   "source": [
    "predict_if_question(\"Do you?\")"
   ]
  },
  {
   "cell_type": "code",
   "execution_count": 43,
   "metadata": {},
   "outputs": [
    {
     "data": {
      "text/plain": [
       "array([[0.58534485, 0.41465515]], dtype=float32)"
      ]
     },
     "execution_count": 43,
     "metadata": {},
     "output_type": "execute_result"
    }
   ],
   "source": [
    "predict_if_question(\"explain about telecom industry\")"
   ]
  },
  {
   "cell_type": "code",
   "execution_count": 42,
   "metadata": {},
   "outputs": [
    {
     "data": {
      "text/plain": [
       "array([[0.81078756, 0.18921246]], dtype=float32)"
      ]
     },
     "execution_count": 42,
     "metadata": {},
     "output_type": "execute_result"
    }
   ],
   "source": [
    "predict_if_question(\"i was explaining about telecom industry\")"
   ]
  },
  {
   "cell_type": "code",
   "execution_count": null,
   "metadata": {},
   "outputs": [],
   "source": []
  }
 ],
 "metadata": {
  "kernelspec": {
   "display_name": "Python 3",
   "language": "python",
   "name": "python3"
  },
  "language_info": {
   "codemirror_mode": {
    "name": "ipython",
    "version": 3
   },
   "file_extension": ".py",
   "mimetype": "text/x-python",
   "name": "python",
   "nbconvert_exporter": "python",
   "pygments_lexer": "ipython3",
   "version": "3.7.1"
  }
 },
 "nbformat": 4,
 "nbformat_minor": 2
}
