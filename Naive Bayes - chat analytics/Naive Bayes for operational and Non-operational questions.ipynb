{
 "cells": [
  {
   "cell_type": "code",
   "execution_count": 3,
   "metadata": {},
   "outputs": [
    {
     "data": {
      "text/html": [
       "<div>\n",
       "<style scoped>\n",
       "    .dataframe tbody tr th:only-of-type {\n",
       "        vertical-align: middle;\n",
       "    }\n",
       "\n",
       "    .dataframe tbody tr th {\n",
       "        vertical-align: top;\n",
       "    }\n",
       "\n",
       "    .dataframe thead th {\n",
       "        text-align: right;\n",
       "    }\n",
       "</style>\n",
       "<table border=\"1\" class=\"dataframe\">\n",
       "  <thead>\n",
       "    <tr style=\"text-align: right;\">\n",
       "      <th></th>\n",
       "      <th>sentence</th>\n",
       "      <th>label</th>\n",
       "      <th>chat_session_id</th>\n",
       "      <th>created_by_user_id</th>\n",
       "      <th>modified_by_user_id</th>\n",
       "      <th>status_id</th>\n",
       "    </tr>\n",
       "  </thead>\n",
       "  <tbody>\n",
       "    <tr>\n",
       "      <th>0</th>\n",
       "      <td>NO</td>\n",
       "      <td>N</td>\n",
       "      <td>2</td>\n",
       "      <td>10167</td>\n",
       "      <td>10167</td>\n",
       "      <td>1</td>\n",
       "    </tr>\n",
       "    <tr>\n",
       "      <th>1</th>\n",
       "      <td>HELLO SIR</td>\n",
       "      <td>N</td>\n",
       "      <td>2</td>\n",
       "      <td>10167</td>\n",
       "      <td>10167</td>\n",
       "      <td>1</td>\n",
       "    </tr>\n",
       "    <tr>\n",
       "      <th>2</th>\n",
       "      <td>NO</td>\n",
       "      <td>N</td>\n",
       "      <td>2</td>\n",
       "      <td>10167</td>\n",
       "      <td>10167</td>\n",
       "      <td>1</td>\n",
       "    </tr>\n",
       "    <tr>\n",
       "      <th>3</th>\n",
       "      <td>NO</td>\n",
       "      <td>N</td>\n",
       "      <td>2</td>\n",
       "      <td>10167</td>\n",
       "      <td>10167</td>\n",
       "      <td>1</td>\n",
       "    </tr>\n",
       "    <tr>\n",
       "      <th>4</th>\n",
       "      <td>iam connecting your through teamviewr again</td>\n",
       "      <td>O</td>\n",
       "      <td>2</td>\n",
       "      <td>10014</td>\n",
       "      <td>10014</td>\n",
       "      <td>1</td>\n",
       "    </tr>\n",
       "  </tbody>\n",
       "</table>\n",
       "</div>"
      ],
      "text/plain": [
       "                                      sentence label  chat_session_id  \\\n",
       "0                                           NO     N                2   \n",
       "1                                    HELLO SIR     N                2   \n",
       "2                                           NO     N                2   \n",
       "3                                           NO     N                2   \n",
       "4  iam connecting your through teamviewr again     O                2   \n",
       "\n",
       "   created_by_user_id  modified_by_user_id  status_id  \n",
       "0               10167                10167          1  \n",
       "1               10167                10167          1  \n",
       "2               10167                10167          1  \n",
       "3               10167                10167          1  \n",
       "4               10014                10014          1  "
      ]
     },
     "execution_count": 3,
     "metadata": {},
     "output_type": "execute_result"
    }
   ],
   "source": [
    "import pandas as pd\n",
    "import numpy as np\n",
    "\n",
    "df = pd.read_csv(\"chats.csv\", header = None)\n",
    "df.head()\n",
    "df[2].fillna('N', inplace = True) \n",
    "df.sort_values(by = [0])\n",
    "df.reset_index(inplace =True)\n",
    "df.drop(columns = ['index', 0, 5, 7], inplace = True)\n",
    "df.columns = ['sentence', 'label', 'chat_session_id', 'created_by_user_id', 'modified_by_user_id', 'status_id']\n",
    "df.head()"
   ]
  },
  {
   "cell_type": "code",
   "execution_count": 4,
   "metadata": {},
   "outputs": [],
   "source": [
    "from sklearn.model_selection import train_test_split\n",
    "\n",
    "X_tr, X_te, y_train, y_test = train_test_split(df['sentence'], df['label'], random_state=100)"
   ]
  },
  {
   "cell_type": "code",
   "execution_count": 5,
   "metadata": {},
   "outputs": [
    {
     "data": {
      "text/plain": [
       "(2482, 1626)"
      ]
     },
     "execution_count": 5,
     "metadata": {},
     "output_type": "execute_result"
    }
   ],
   "source": [
    "from sklearn.feature_extraction.text import CountVectorizer, TfidfTransformer\n",
    "\n",
    "vector = CountVectorizer(stop_words = 'english')\n",
    "X_train_cv = vector.fit_transform(X_tr)\n",
    "tfidf_transformer = TfidfTransformer()\n",
    "X_train = tfidf_transformer.fit_transform(X_train_cv)\n",
    "X_train.shape"
   ]
  },
  {
   "cell_type": "code",
   "execution_count": 6,
   "metadata": {},
   "outputs": [
    {
     "data": {
      "text/plain": [
       "0.8683574879227053"
      ]
     },
     "execution_count": 6,
     "metadata": {},
     "output_type": "execute_result"
    }
   ],
   "source": [
    "from sklearn.naive_bayes import MultinomialNB\n",
    "\n",
    "clf = MultinomialNB().fit(X_train, y_train)\n",
    "X_test_cv = vector.transform(X_te)\n",
    "X_test = tfidf_transformer.transform(X_test_cv)\n",
    "clf.score(X_test, y_test)"
   ]
  },
  {
   "cell_type": "code",
   "execution_count": 11,
   "metadata": {},
   "outputs": [],
   "source": [
    "array = [\"I can't hear you\", \"Audio Problem\", \"We are facing communication Issue\", \"I am unable to connect\", \"Why is Mayank so Tipsy\"]\n",
    "tst = vector.transform(array)\n",
    "values = tfidf_transformer.transform(tst)\n",
    "y_pred = clf.predict(X_test)"
   ]
  },
  {
   "cell_type": "code",
   "execution_count": 15,
   "metadata": {},
   "outputs": [
    {
     "data": {
      "text/plain": [
       "array([[430,  47],\n",
       "       [ 62, 289]])"
      ]
     },
     "execution_count": 15,
     "metadata": {},
     "output_type": "execute_result"
    }
   ],
   "source": [
    "from sklearn.metrics import confusion_matrix\n",
    "\n",
    "cm = confusion_matrix(y_test, y_pred)\n",
    "cm"
   ]
  },
  {
   "cell_type": "code",
   "execution_count": 37,
   "metadata": {
    "scrolled": true
   },
   "outputs": [
    {
     "data": {
      "text/plain": [
       "<matplotlib.axes._subplots.AxesSubplot at 0x12f994f98>"
      ]
     },
     "execution_count": 37,
     "metadata": {},
     "output_type": "execute_result"
    },
    {
     "data": {
      "image/png": "[encoded data removed]",
      "text/plain": [
       "<Figure size 720x504 with 2 Axes>"
      ]
     },
     "metadata": {},
     "output_type": "display_data"
    }
   ],
   "source": [
    "import seaborn as sn\n",
    "import pandas as pd\n",
    "import matplotlib.pyplot as plt\n",
    "\n",
    "array = cm\n",
    "\n",
    "df_cm = pd.DataFrame(array)\n",
    "plt.figure(figsize = (10,7))\n",
    "sn.heatmap(df_cm, annot=True)"
   ]
  },
  {
   "cell_type": "code",
   "execution_count": 38,
   "metadata": {},
   "outputs": [
    {
     "name": "stdout",
     "output_type": "stream",
     "text": [
      "                 precision    recall  f1-score   support\n",
      "\n",
      "    Operational       0.87      0.90      0.89       477\n",
      "Non-Oporational       0.86      0.82      0.84       351\n",
      "\n",
      "       accuracy                           0.87       828\n",
      "      macro avg       0.87      0.86      0.86       828\n",
      "   weighted avg       0.87      0.87      0.87       828\n",
      "\n"
     ]
    }
   ],
   "source": [
    "from sklearn.metrics import classification_report\n",
    "target_names = ['Operational','Non-Oporational']\n",
    "print(classification_report(y_test, y_pred, target_names=target_names))"
   ]
  },
  {
   "cell_type": "markdown",
   "metadata": {},
   "source": [
    "## Classification of YouTube live Chats"
   ]
  },
  {
   "cell_type": "code",
   "execution_count": 6,
   "metadata": {},
   "outputs": [
    {
     "data": {
      "text/plain": [
       "['sir will you plz explain..what should be the monopoly criteria that one can have in order to set up any type of business?',\n",
       " 'what is current market cenerio?',\n",
       " 'So pure monopoly will bring high profit right?',\n",
       " 'if repo rates are completely influenced by central bank then is it not very unfair situation for normal banks(in case a reverse repo takes place)????',\n",
       " 'how the current market structure influence Automobile Industry ?',\n",
       " 'what is oligopoly?',\n",
       " 'how degree of elasticity affect the market structure',\n",
       " 'Sir, Internet warm first major worldwide computer. or software malicious.',\n",
       " 'define financial system.',\n",
       " 'why the corporate bond do not pay coupons?',\n",
       " 'sir Comparing opportunity costs of production is called what?',\n",
       " 'How macroeconomics deals with fiscal and Monterey policy?',\n",
       " 'how can I improve my financial literacy?',\n",
       " 'how the current market structure influence Automobile Industry ?',\n",
       " 'Sir, There is request ,Regarding financial literacy, what are the pre-requsites to be completed, so that i can understand lectures easily?',\n",
       " 'Why do we need Competition Commission?',\n",
       " 'what is the advantages of this type of certificate.........',\n",
       " 'Companies like KFC produce there own unique item.so we can say it as pure monopoly?',\n",
       " 'What are the effects of Economies of Scale in the long run',\n",
       " 'can you explain expansionary monitary policy.',\n",
       " 'what is the difference between US model and UK model?',\n",
       " 'How is the financial instruments are integral parts of the financial system?',\n",
       " 'what are the instruments of money market',\n",
       " 'what is the levered institutions',\n",
       " 'what is pure monopoly?',\n",
       " 'why do we need regulated industries?',\n",
       " 'what are the effect of economies of scale in short run?',\n",
       " 'what are the basis of deciding repo rate ????',\n",
       " 'what is imperfect competition',\n",
       " \"Sir, pure monopoly who firm's profits will be highest under?\",\n",
       " 'how GDP can be increased by lowering tax?',\n",
       " 'sir, can you explain expansionary monitary policy...',\n",
       " 'what are the basic principles of microeconomics..??',\n",
       " 'How to break the cartel?',\n",
       " 'what is monospony???????',\n",
       " 'what is coupon and what is ts significance?',\n",
       " 'why do we need regulated industries?',\n",
       " 'explain fiscal policy??',\n",
       " 'what are the basis of deciding repo rate',\n",
       " 'what is the need to make cartel?',\n",
       " 'How can we regulate any industry?',\n",
       " 'sir, how cartel can be broken in the sectors like telecome bz we cannot apply the lowering of import duty concept ?',\n",
       " 'in some text books on microeconomics there is graph of demand and supply that are based on producer and consumer theory. how do these graphs are interpreted-because they are all over the book.',\n",
       " 'who pay the coupons?',\n",
       " 'sir u told in the beggening that ...we need to understand economy coz decision making will be easier then.....but which type of decision do we common people make....',\n",
       " 'describe about telecom industry',\n",
       " 'how elasticity of demand affect market structure',\n",
       " 'sir will u please ellaborate the angle of incidence under marginal cost???',\n",
       " 'how banks are levered institution?',\n",
       " 'sir please explain about stock exchange',\n",
       " '']"
      ]
     },
     "execution_count": 6,
     "metadata": {},
     "output_type": "execute_result"
    }
   ],
   "source": [
    "with open(\"ytchats.txt\") as file:\n",
    "    lines = file.read()\n",
    "lines = lines.split('\\n')\n",
    "lines"
   ]
  },
  {
   "cell_type": "code",
   "execution_count": 7,
   "metadata": {},
   "outputs": [
    {
     "data": {
      "text/plain": [
       "array(['N', 'N', 'O', 'N', 'N', 'N', 'N', 'N', 'N', 'N', 'N', 'O', 'O',\n",
       "       'N', 'N', 'O', 'N', 'N', 'N', 'O', 'O', 'N', 'N', 'N', 'N', 'O',\n",
       "       'N', 'N', 'N', 'N', 'N', 'N', 'N', 'O', 'N', 'N', 'O', 'O', 'N',\n",
       "       'O', 'N', 'N', 'N', 'N', 'N', 'N', 'N', 'N', 'N', 'N', 'N'],\n",
       "      dtype='<U2')"
      ]
     },
     "execution_count": 7,
     "metadata": {},
     "output_type": "execute_result"
    }
   ],
   "source": [
    "predict_cv = vector.transform(lines)\n",
    "predict_idf = tfidf_transformer.transform(predict_cv)\n",
    "clf.predict(predict_idf)"
   ]
  },
  {
   "cell_type": "code",
   "execution_count": 9,
   "metadata": {},
   "outputs": [
    {
     "data": {
      "text/plain": [
       "[['explain ..',\n",
       "  'type',\n",
       "  'sir',\n",
       "  'set',\n",
       "  'plz',\n",
       "  'order',\n",
       "  'one',\n",
       "  'monopoly',\n",
       "  'criteria',\n",
       "  'business'],\n",
       " ['market', 'current', 'cenerio'],\n",
       " ['right', 'pure', 'profit', 'monopoly', 'high', 'bring'],\n",
       " ['place )????',\n",
       "  'unfair',\n",
       "  'takes',\n",
       "  'situation',\n",
       "  'reverse',\n",
       "  'repo',\n",
       "  'rates',\n",
       "  'normal',\n",
       "  'influenced',\n",
       "  'completely',\n",
       "  'central',\n",
       "  'case',\n",
       "  'banks',\n",
       "  'bank'],\n",
       " ['structure', 'market', 'influence', 'industry', 'current', 'automobile'],\n",
       " ['oligopoly'],\n",
       " ['structure', 'market', 'elasticity', 'degree', 'affect'],\n",
       " ['worldwide',\n",
       "  'warm',\n",
       "  'software',\n",
       "  'sir',\n",
       "  'malicious',\n",
       "  'major',\n",
       "  'internet',\n",
       "  'first',\n",
       "  'computer'],\n",
       " ['system', 'financial', 'define'],\n",
       " ['pay', 'coupons', 'corporate', 'bond'],\n",
       " ['sir', 'production', 'opportunity', 'costs', 'comparing', 'called'],\n",
       " ['policy', 'monterey', 'macroeconomics', 'fiscal', 'deals'],\n",
       " ['literacy', 'improve', 'financial'],\n",
       " ['structure', 'market', 'influence', 'industry', 'current', 'automobile'],\n",
       " ['understand',\n",
       "  'sir',\n",
       "  'requsites',\n",
       "  'request',\n",
       "  'regarding',\n",
       "  'pre',\n",
       "  'literacy',\n",
       "  'lectures',\n",
       "  'financial',\n",
       "  'easily',\n",
       "  'completed'],\n",
       " ['need', 'competition', 'commission'],\n",
       " ['certificate .........', 'type', 'advantages'],\n",
       " ['unique',\n",
       "  'say',\n",
       "  'pure',\n",
       "  'produce',\n",
       "  'monopoly',\n",
       "  'like',\n",
       "  'kfc',\n",
       "  'item',\n",
       "  'companies'],\n",
       " ['scale', 'run', 'long', 'effects', 'economies'],\n",
       " ['policy', 'monitary', 'explain', 'expansionary'],\n",
       " ['us', 'uk', 'model', 'difference'],\n",
       " ['system', 'parts', 'integral', 'instruments', 'financial'],\n",
       " ['money', 'market', 'instruments'],\n",
       " ['levered', 'institutions'],\n",
       " ['pure', 'monopoly'],\n",
       " ['regulated', 'need', 'industries'],\n",
       " ['short', 'scale', 'run', 'effect', 'economies'],\n",
       " ['repo', 'rate', 'deciding', 'basis', '????'],\n",
       " ['imperfect', 'competition'],\n",
       " ['sir', 'pure', 'profits', 'monopoly', 'highest', 'firm'],\n",
       " ['tax', 'lowering', 'increased', 'gdp'],\n",
       " ['policy ...', 'sir', 'monitary', 'explain', 'expansionary'],\n",
       " ['microeconomics ..??', 'principles', 'basic'],\n",
       " ['cartel', 'break'],\n",
       " ['monospony ???????'],\n",
       " ['ts', 'significance', 'coupon'],\n",
       " ['regulated', 'need', 'industries'],\n",
       " ['policy ??', 'fiscal', 'explain'],\n",
       " ['repo', 'rate', 'deciding', 'basis'],\n",
       " ['need', 'make', 'cartel'],\n",
       " ['regulate', 'industry'],\n",
       " ['telecome',\n",
       "  'sir',\n",
       "  'sectors',\n",
       "  'lowering',\n",
       "  'like',\n",
       "  'import',\n",
       "  'duty',\n",
       "  'concept',\n",
       "  'cartel',\n",
       "  'cannot',\n",
       "  'bz',\n",
       "  'broken',\n",
       "  'apply'],\n",
       " ['theory',\n",
       "  'text',\n",
       "  'supply',\n",
       "  'producer',\n",
       "  'microeconomics',\n",
       "  'interpreted',\n",
       "  'graphs',\n",
       "  'graph',\n",
       "  'demand',\n",
       "  'consumer',\n",
       "  'books',\n",
       "  'book',\n",
       "  'based'],\n",
       " ['pay', 'coupons'],\n",
       " ['make ....',\n",
       "  'understand',\n",
       "  'u',\n",
       "  'type',\n",
       "  'told',\n",
       "  'sir',\n",
       "  'people',\n",
       "  'need',\n",
       "  'making',\n",
       "  'economy',\n",
       "  'easier',\n",
       "  'decision',\n",
       "  'coz',\n",
       "  'common',\n",
       "  'beggening',\n",
       "  '.....',\n",
       "  '...'],\n",
       " ['telecom', 'industry', 'describe'],\n",
       " ['structure', 'market', 'elasticity', 'demand', 'affect'],\n",
       " ['cost ???',\n",
       "  'u',\n",
       "  'sir',\n",
       "  'please',\n",
       "  'marginal',\n",
       "  'incidence',\n",
       "  'ellaborate',\n",
       "  'angle'],\n",
       " ['levered', 'institution', 'banks'],\n",
       " ['stock', 'sir', 'please', 'explain', 'exchange'],\n",
       " []]"
      ]
     },
     "execution_count": 9,
     "metadata": {},
     "output_type": "execute_result"
    }
   ],
   "source": [
    "from rake_nltk import Rake\n",
    "r = Rake()\n",
    "prominent_list = []\n",
    "for i in lines:\n",
    "  r.extract_keywords_from_sentences(i.split(\" \"))\n",
    "#   r.get_ranked_phrases_with_scores()\n",
    "  prominent_list.append(r.get_ranked_phrases())\n",
    "prominent_list"
   ]
  }
 ],
 "metadata": {
  "kernelspec": {
   "display_name": "Python 3",
   "language": "python",
   "name": "python3"
  },
  "language_info": {
   "codemirror_mode": {
    "name": "ipython",
    "version": 3
   },
   "file_extension": ".py",
   "mimetype": "text/x-python",
   "name": "python",
   "nbconvert_exporter": "python",
   "pygments_lexer": "ipython3",
   "version": "3.7.3"
  }
 },
 "nbformat": 4,
 "nbformat_minor": 2
}
